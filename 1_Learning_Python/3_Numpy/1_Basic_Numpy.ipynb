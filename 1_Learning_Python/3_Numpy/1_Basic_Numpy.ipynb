{
 "cells": [
  {
   "metadata": {},
   "cell_type": "markdown",
   "source": "# 1. Create numpy",
   "id": "813a311c3b087f3e"
  },
  {
   "metadata": {
    "ExecuteTime": {
     "end_time": "2025-04-12T14:17:40.309558Z",
     "start_time": "2025-04-12T14:17:40.304713Z"
    }
   },
   "cell_type": "code",
   "source": [
    "import numpy as np\n",
    "\n",
    "#1D\n",
    "a = np.array([1,2,3,4])\n",
    "\n",
    "#2D\n",
    "b = np.array([[1,2,3],[4,5,6]])\n",
    "\n",
    "#3D\n",
    "c = np.array(\n",
    "[ [[1,2,3],[4,5,6]],\n",
    "    [[7,8,9],[10,11,12]]]\n",
    ")"
   ],
   "id": "de9ac3f6905e3206",
   "outputs": [],
   "execution_count": 121
  },
  {
   "metadata": {
    "ExecuteTime": {
     "end_time": "2025-04-12T14:17:40.591130Z",
     "start_time": "2025-04-12T14:17:40.584756Z"
    }
   },
   "cell_type": "code",
   "source": [
    "# dtype set\n",
    "np.array([1,2,3],dtype=np.float32)"
   ],
   "id": "15e18bb7b4ab8090",
   "outputs": [
    {
     "data": {
      "text/plain": [
       "array([1., 2., 3.], dtype=float32)"
      ]
     },
     "execution_count": 122,
     "metadata": {},
     "output_type": "execute_result"
    }
   ],
   "execution_count": 122
  },
  {
   "metadata": {
    "ExecuteTime": {
     "end_time": "2025-04-12T14:17:40.619189Z",
     "start_time": "2025-04-12T14:17:40.615139Z"
    }
   },
   "cell_type": "code",
   "source": [
    "# range \n",
    "np.arange(1, 11, 2)"
   ],
   "id": "57629785a12eebab",
   "outputs": [
    {
     "data": {
      "text/plain": [
       "array([1, 3, 5, 7, 9])"
      ]
     },
     "execution_count": 123,
     "metadata": {},
     "output_type": "execute_result"
    }
   ],
   "execution_count": 123
  },
  {
   "metadata": {
    "ExecuteTime": {
     "end_time": "2025-04-12T14:17:40.656576Z",
     "start_time": "2025-04-12T14:17:40.649909Z"
    }
   },
   "cell_type": "code",
   "source": "np.arange(11)",
   "id": "d9e706f21dd9b4d6",
   "outputs": [
    {
     "data": {
      "text/plain": [
       "array([ 0,  1,  2,  3,  4,  5,  6,  7,  8,  9, 10])"
      ]
     },
     "execution_count": 124,
     "metadata": {},
     "output_type": "execute_result"
    }
   ],
   "execution_count": 124
  },
  {
   "metadata": {},
   "cell_type": "markdown",
   "source": "# Shape change",
   "id": "24ebcec9a3465289"
  },
  {
   "metadata": {
    "ExecuteTime": {
     "end_time": "2025-04-12T14:17:40.702307Z",
     "start_time": "2025-04-12T14:17:40.697555Z"
    }
   },
   "cell_type": "code",
   "source": "a",
   "id": "62f215ce707c36f2",
   "outputs": [
    {
     "data": {
      "text/plain": [
       "array([1, 2, 3, 4])"
      ]
     },
     "execution_count": 125,
     "metadata": {},
     "output_type": "execute_result"
    }
   ],
   "execution_count": 125
  },
  {
   "metadata": {
    "ExecuteTime": {
     "end_time": "2025-04-12T14:17:40.742246Z",
     "start_time": "2025-04-12T14:17:40.734715Z"
    }
   },
   "cell_type": "code",
   "source": "a.reshape(2,2)",
   "id": "4ce872b6852cf079",
   "outputs": [
    {
     "data": {
      "text/plain": [
       "array([[1, 2],\n",
       "       [3, 4]])"
      ]
     },
     "execution_count": 126,
     "metadata": {},
     "output_type": "execute_result"
    }
   ],
   "execution_count": 126
  },
  {
   "metadata": {},
   "cell_type": "markdown",
   "source": "# one and zeros and random\n",
   "id": "e681980dda0dd292"
  },
  {
   "metadata": {
    "ExecuteTime": {
     "end_time": "2025-04-12T14:17:40.776350Z",
     "start_time": "2025-04-12T14:17:40.770588Z"
    }
   },
   "cell_type": "code",
   "source": "np.zeros((4,3))",
   "id": "886551b3baf8c87e",
   "outputs": [
    {
     "data": {
      "text/plain": [
       "array([[0., 0., 0.],\n",
       "       [0., 0., 0.],\n",
       "       [0., 0., 0.],\n",
       "       [0., 0., 0.]])"
      ]
     },
     "execution_count": 127,
     "metadata": {},
     "output_type": "execute_result"
    }
   ],
   "execution_count": 127
  },
  {
   "metadata": {
    "ExecuteTime": {
     "end_time": "2025-04-12T14:17:40.820446Z",
     "start_time": "2025-04-12T14:17:40.814851Z"
    }
   },
   "cell_type": "code",
   "source": "np.ones((4,3))",
   "id": "36311cedd6aba90",
   "outputs": [
    {
     "data": {
      "text/plain": [
       "array([[1., 1., 1.],\n",
       "       [1., 1., 1.],\n",
       "       [1., 1., 1.],\n",
       "       [1., 1., 1.]])"
      ]
     },
     "execution_count": 128,
     "metadata": {},
     "output_type": "execute_result"
    }
   ],
   "execution_count": 128
  },
  {
   "metadata": {
    "ExecuteTime": {
     "end_time": "2025-04-12T14:17:40.856648Z",
     "start_time": "2025-04-12T14:17:40.850952Z"
    }
   },
   "cell_type": "code",
   "source": "np.random.random((4,2))",
   "id": "efc407c42341c6a7",
   "outputs": [
    {
     "data": {
      "text/plain": [
       "array([[0.66383774, 0.58573026],\n",
       "       [0.87946178, 0.78688692],\n",
       "       [0.02247016, 0.93574503],\n",
       "       [0.51023219, 0.4183328 ]])"
      ]
     },
     "execution_count": 129,
     "metadata": {},
     "output_type": "execute_result"
    }
   ],
   "execution_count": 129
  },
  {
   "metadata": {},
   "cell_type": "markdown",
   "source": "# Linespace",
   "id": "9a81c14a07f0ca83"
  },
  {
   "metadata": {
    "ExecuteTime": {
     "end_time": "2025-04-12T14:17:40.895867Z",
     "start_time": "2025-04-12T14:17:40.889992Z"
    }
   },
   "cell_type": "code",
   "source": "np.linspace(-10,10,10)",
   "id": "2211ee2a4776a064",
   "outputs": [
    {
     "data": {
      "text/plain": [
       "array([-10.        ,  -7.77777778,  -5.55555556,  -3.33333333,\n",
       "        -1.11111111,   1.11111111,   3.33333333,   5.55555556,\n",
       "         7.77777778,  10.        ])"
      ]
     },
     "execution_count": 130,
     "metadata": {},
     "output_type": "execute_result"
    }
   ],
   "execution_count": 130
  },
  {
   "metadata": {
    "ExecuteTime": {
     "end_time": "2025-04-12T14:17:40.919775Z",
     "start_time": "2025-04-12T14:17:40.914963Z"
    }
   },
   "cell_type": "code",
   "source": "np.linspace(-10,10,10, dtype=int)",
   "id": "69372cc20093b0da",
   "outputs": [
    {
     "data": {
      "text/plain": [
       "array([-10,  -8,  -6,  -4,  -2,   1,   3,   5,   7,  10])"
      ]
     },
     "execution_count": 131,
     "metadata": {},
     "output_type": "execute_result"
    }
   ],
   "execution_count": 131
  },
  {
   "metadata": {},
   "cell_type": "markdown",
   "source": "# identity mat",
   "id": "877b327b8ee078f8"
  },
  {
   "metadata": {
    "ExecuteTime": {
     "end_time": "2025-04-12T14:17:40.947952Z",
     "start_time": "2025-04-12T14:17:40.940028Z"
    }
   },
   "cell_type": "code",
   "source": "np.identity(3)",
   "id": "442f5c881c2a6f8a",
   "outputs": [
    {
     "data": {
      "text/plain": [
       "array([[1., 0., 0.],\n",
       "       [0., 1., 0.],\n",
       "       [0., 0., 1.]])"
      ]
     },
     "execution_count": 132,
     "metadata": {},
     "output_type": "execute_result"
    }
   ],
   "execution_count": 132
  },
  {
   "metadata": {},
   "cell_type": "markdown",
   "source": "# array attribute",
   "id": "6aa013945176e3bd"
  },
  {
   "metadata": {
    "ExecuteTime": {
     "end_time": "2025-04-12T14:17:40.987737Z",
     "start_time": "2025-04-12T14:17:40.979332Z"
    }
   },
   "cell_type": "code",
   "source": "np.arange(4, dtype=np.int32)",
   "id": "2479238b272b577a",
   "outputs": [
    {
     "data": {
      "text/plain": [
       "array([0, 1, 2, 3])"
      ]
     },
     "execution_count": 133,
     "metadata": {},
     "output_type": "execute_result"
    }
   ],
   "execution_count": 133
  },
  {
   "metadata": {
    "ExecuteTime": {
     "end_time": "2025-04-12T14:17:41.016201Z",
     "start_time": "2025-04-12T14:17:41.010546Z"
    }
   },
   "cell_type": "code",
   "source": "np.arange(6, dtype=np.float32).reshape(3,2)",
   "id": "778bebfff32be3eb",
   "outputs": [
    {
     "data": {
      "text/plain": [
       "array([[0., 1.],\n",
       "       [2., 3.],\n",
       "       [4., 5.]], dtype=float32)"
      ]
     },
     "execution_count": 134,
     "metadata": {},
     "output_type": "execute_result"
    }
   ],
   "execution_count": 134
  },
  {
   "metadata": {
    "ExecuteTime": {
     "end_time": "2025-04-12T14:17:41.069652Z",
     "start_time": "2025-04-12T14:17:41.064866Z"
    }
   },
   "cell_type": "code",
   "source": [
    "x = np.arange(8,dtype=np.int32).reshape(2,2,2)\n",
    "x"
   ],
   "id": "641868b8f14ed8ee",
   "outputs": [
    {
     "data": {
      "text/plain": [
       "array([[[0, 1],\n",
       "        [2, 3]],\n",
       "\n",
       "       [[4, 5],\n",
       "        [6, 7]]])"
      ]
     },
     "execution_count": 135,
     "metadata": {},
     "output_type": "execute_result"
    }
   ],
   "execution_count": 135
  },
  {
   "metadata": {
    "ExecuteTime": {
     "end_time": "2025-04-12T14:17:41.093612Z",
     "start_time": "2025-04-12T14:17:41.084914Z"
    }
   },
   "cell_type": "code",
   "source": [
    "# shape\n",
    "x.shape"
   ],
   "id": "c4d86a018d38753d",
   "outputs": [
    {
     "data": {
      "text/plain": [
       "(2, 2, 2)"
      ]
     },
     "execution_count": 136,
     "metadata": {},
     "output_type": "execute_result"
    }
   ],
   "execution_count": 136
  },
  {
   "metadata": {
    "ExecuteTime": {
     "end_time": "2025-04-12T14:17:41.111563Z",
     "start_time": "2025-04-12T14:17:41.105129Z"
    }
   },
   "cell_type": "code",
   "source": [
    "# dimension\n",
    "x.ndim"
   ],
   "id": "c956d601fec51bc",
   "outputs": [
    {
     "data": {
      "text/plain": [
       "3"
      ]
     },
     "execution_count": 137,
     "metadata": {},
     "output_type": "execute_result"
    }
   ],
   "execution_count": 137
  },
  {
   "metadata": {
    "ExecuteTime": {
     "end_time": "2025-04-12T14:17:41.178384Z",
     "start_time": "2025-04-12T14:17:41.168960Z"
    }
   },
   "cell_type": "code",
   "source": [
    "# size\n",
    "x.size"
   ],
   "id": "c2e99f621e569be1",
   "outputs": [
    {
     "data": {
      "text/plain": [
       "8"
      ]
     },
     "execution_count": 138,
     "metadata": {},
     "output_type": "execute_result"
    }
   ],
   "execution_count": 138
  },
  {
   "metadata": {
    "ExecuteTime": {
     "end_time": "2025-04-12T14:17:41.226132Z",
     "start_time": "2025-04-12T14:17:41.221393Z"
    }
   },
   "cell_type": "code",
   "source": [
    "# type\n",
    "x.dtype"
   ],
   "id": "874038179a312e7f",
   "outputs": [
    {
     "data": {
      "text/plain": [
       "dtype('int32')"
      ]
     },
     "execution_count": 139,
     "metadata": {},
     "output_type": "execute_result"
    }
   ],
   "execution_count": 139
  },
  {
   "metadata": {
    "ExecuteTime": {
     "end_time": "2025-04-12T14:17:41.257171Z",
     "start_time": "2025-04-12T14:17:41.253158Z"
    }
   },
   "cell_type": "code",
   "source": [
    "# change type\n",
    "x.astype(np.float32)"
   ],
   "id": "2c5e93640c6b66b8",
   "outputs": [
    {
     "data": {
      "text/plain": [
       "array([[[0., 1.],\n",
       "        [2., 3.]],\n",
       "\n",
       "       [[4., 5.],\n",
       "        [6., 7.]]], dtype=float32)"
      ]
     },
     "execution_count": 140,
     "metadata": {},
     "output_type": "execute_result"
    }
   ],
   "execution_count": 140
  },
  {
   "metadata": {
    "ExecuteTime": {
     "end_time": "2025-04-12T14:17:41.276520Z",
     "start_time": "2025-04-12T14:17:41.269134Z"
    }
   },
   "cell_type": "code",
   "source": [
    "b1 = np.arange(12,18,dtype=np.float32).reshape(2,3)\n",
    "b1"
   ],
   "id": "90b5f7a53254a38",
   "outputs": [
    {
     "data": {
      "text/plain": [
       "array([[12., 13., 14.],\n",
       "       [15., 16., 17.]], dtype=float32)"
      ]
     },
     "execution_count": 141,
     "metadata": {},
     "output_type": "execute_result"
    }
   ],
   "execution_count": 141
  },
  {
   "metadata": {
    "ExecuteTime": {
     "end_time": "2025-04-12T14:17:41.306265Z",
     "start_time": "2025-04-12T14:17:41.300797Z"
    }
   },
   "cell_type": "code",
   "source": "b",
   "id": "3addab2c1eb978f1",
   "outputs": [
    {
     "data": {
      "text/plain": [
       "array([[1, 2, 3],\n",
       "       [4, 5, 6]])"
      ]
     },
     "execution_count": 142,
     "metadata": {},
     "output_type": "execute_result"
    }
   ],
   "execution_count": 142
  },
  {
   "metadata": {},
   "cell_type": "markdown",
   "source": "# Matrix Operation",
   "id": "e3e32f6cd78f393f"
  },
  {
   "metadata": {
    "ExecuteTime": {
     "end_time": "2025-04-12T14:17:41.338958Z",
     "start_time": "2025-04-12T14:17:41.335141Z"
    }
   },
   "cell_type": "code",
   "source": [
    "# scalar multiplication\n",
    "b * 2"
   ],
   "id": "ac107ac1428fed11",
   "outputs": [
    {
     "data": {
      "text/plain": [
       "array([[ 2,  4,  6],\n",
       "       [ 8, 10, 12]])"
      ]
     },
     "execution_count": 143,
     "metadata": {},
     "output_type": "execute_result"
    }
   ],
   "execution_count": 143
  },
  {
   "metadata": {
    "ExecuteTime": {
     "end_time": "2025-04-12T14:17:41.390585Z",
     "start_time": "2025-04-12T14:17:41.384789Z"
    }
   },
   "cell_type": "code",
   "source": [
    "# element wise power\n",
    "b ** 2"
   ],
   "id": "e645f418229fa183",
   "outputs": [
    {
     "data": {
      "text/plain": [
       "array([[ 1,  4,  9],\n",
       "       [16, 25, 36]])"
      ]
     },
     "execution_count": 144,
     "metadata": {},
     "output_type": "execute_result"
    }
   ],
   "execution_count": 144
  },
  {
   "metadata": {
    "ExecuteTime": {
     "end_time": "2025-04-12T14:17:41.407547Z",
     "start_time": "2025-04-12T14:17:41.396814Z"
    }
   },
   "cell_type": "code",
   "source": [
    "# element wise check\n",
    "b == 5"
   ],
   "id": "ab03ac807e48251",
   "outputs": [
    {
     "data": {
      "text/plain": [
       "array([[False, False, False],\n",
       "       [False,  True, False]])"
      ]
     },
     "execution_count": 145,
     "metadata": {},
     "output_type": "execute_result"
    }
   ],
   "execution_count": 145
  },
  {
   "metadata": {
    "ExecuteTime": {
     "end_time": "2025-04-12T14:17:41.425554Z",
     "start_time": "2025-04-12T14:17:41.419711Z"
    }
   },
   "cell_type": "code",
   "source": [
    "# element wise multiplication\n",
    "b * b1"
   ],
   "id": "cc782e8b9633fbf8",
   "outputs": [
    {
     "data": {
      "text/plain": [
       "array([[ 12.,  26.,  42.],\n",
       "       [ 60.,  80., 102.]])"
      ]
     },
     "execution_count": 146,
     "metadata": {},
     "output_type": "execute_result"
    }
   ],
   "execution_count": 146
  },
  {
   "metadata": {},
   "cell_type": "markdown",
   "source": "# Array function",
   "id": "3b27522949bcc39b"
  },
  {
   "metadata": {
    "ExecuteTime": {
     "end_time": "2025-04-12T14:17:41.473604Z",
     "start_time": "2025-04-12T14:17:41.468970Z"
    }
   },
   "cell_type": "code",
   "source": [
    "arr = (np.random.random(6).reshape(2,3)) * 25\n",
    "arr"
   ],
   "id": "96f5c988b5677fd5",
   "outputs": [
    {
     "data": {
      "text/plain": [
       "array([[24.61382059, 19.03448012, 15.09896238],\n",
       "       [19.337943  , 20.63688168, 19.64099772]])"
      ]
     },
     "execution_count": 147,
     "metadata": {},
     "output_type": "execute_result"
    }
   ],
   "execution_count": 147
  },
  {
   "metadata": {
    "ExecuteTime": {
     "end_time": "2025-04-12T14:17:41.488979Z",
     "start_time": "2025-04-12T14:17:41.484764Z"
    }
   },
   "cell_type": "code",
   "source": "np.round(arr)",
   "id": "cc147c2314f19377",
   "outputs": [
    {
     "data": {
      "text/plain": [
       "array([[25., 19., 15.],\n",
       "       [19., 21., 20.]])"
      ]
     },
     "execution_count": 148,
     "metadata": {},
     "output_type": "execute_result"
    }
   ],
   "execution_count": 148
  },
  {
   "metadata": {
    "ExecuteTime": {
     "end_time": "2025-04-12T14:17:41.506435Z",
     "start_time": "2025-04-12T14:17:41.500781Z"
    }
   },
   "cell_type": "code",
   "source": "np.ceil(arr)",
   "id": "48ceb009ed01a6d3",
   "outputs": [
    {
     "data": {
      "text/plain": [
       "array([[25., 20., 16.],\n",
       "       [20., 21., 20.]])"
      ]
     },
     "execution_count": 149,
     "metadata": {},
     "output_type": "execute_result"
    }
   ],
   "execution_count": 149
  },
  {
   "metadata": {
    "ExecuteTime": {
     "end_time": "2025-04-12T14:17:41.549108Z",
     "start_time": "2025-04-12T14:17:41.537829Z"
    }
   },
   "cell_type": "code",
   "source": "np.floor(arr)",
   "id": "59d5b4f0db60f8cc",
   "outputs": [
    {
     "data": {
      "text/plain": [
       "array([[24., 19., 15.],\n",
       "       [19., 20., 19.]])"
      ]
     },
     "execution_count": 150,
     "metadata": {},
     "output_type": "execute_result"
    }
   ],
   "execution_count": 150
  },
  {
   "metadata": {
    "ExecuteTime": {
     "end_time": "2025-04-12T14:17:41.577945Z",
     "start_time": "2025-04-12T14:17:41.572285Z"
    }
   },
   "cell_type": "code",
   "source": "np.min(arr)",
   "id": "5dd77f2f71b14363",
   "outputs": [
    {
     "data": {
      "text/plain": [
       "15.098962384712111"
      ]
     },
     "execution_count": 151,
     "metadata": {},
     "output_type": "execute_result"
    }
   ],
   "execution_count": 151
  },
  {
   "metadata": {
    "ExecuteTime": {
     "end_time": "2025-04-12T14:17:41.618298Z",
     "start_time": "2025-04-12T14:17:41.607634Z"
    }
   },
   "cell_type": "code",
   "source": "np.max(arr)",
   "id": "b625366a094b8e76",
   "outputs": [
    {
     "data": {
      "text/plain": [
       "24.613820594085674"
      ]
     },
     "execution_count": 152,
     "metadata": {},
     "output_type": "execute_result"
    }
   ],
   "execution_count": 152
  },
  {
   "metadata": {
    "ExecuteTime": {
     "end_time": "2025-04-12T14:17:41.648934Z",
     "start_time": "2025-04-12T14:17:41.639463Z"
    }
   },
   "cell_type": "code",
   "source": "np.sum(arr)",
   "id": "c4c8dc5ba0182c6b",
   "outputs": [
    {
     "data": {
      "text/plain": [
       "118.36308549952959"
      ]
     },
     "execution_count": 153,
     "metadata": {},
     "output_type": "execute_result"
    }
   ],
   "execution_count": 153
  },
  {
   "metadata": {
    "ExecuteTime": {
     "end_time": "2025-04-12T14:17:41.697186Z",
     "start_time": "2025-04-12T14:17:41.691301Z"
    }
   },
   "cell_type": "code",
   "source": "np.prod(arr)",
   "id": "97c5dbd955e70e3c",
   "outputs": [
    {
     "data": {
      "text/plain": [
       "55447893.131509736"
      ]
     },
     "execution_count": 154,
     "metadata": {},
     "output_type": "execute_result"
    }
   ],
   "execution_count": 154
  },
  {
   "metadata": {
    "ExecuteTime": {
     "end_time": "2025-04-12T14:17:41.728775Z",
     "start_time": "2025-04-12T14:17:41.724889Z"
    }
   },
   "cell_type": "code",
   "source": "arr",
   "id": "fc6ff5f5c3d48117",
   "outputs": [
    {
     "data": {
      "text/plain": [
       "array([[24.61382059, 19.03448012, 15.09896238],\n",
       "       [19.337943  , 20.63688168, 19.64099772]])"
      ]
     },
     "execution_count": 155,
     "metadata": {},
     "output_type": "execute_result"
    }
   ],
   "execution_count": 155
  },
  {
   "metadata": {},
   "cell_type": "markdown",
   "source": "# Column wise (axis = 0)",
   "id": "242ba215fed02f8c"
  },
  {
   "metadata": {
    "ExecuteTime": {
     "end_time": "2025-04-12T14:17:41.792563Z",
     "start_time": "2025-04-12T14:17:41.786674Z"
    }
   },
   "cell_type": "code",
   "source": "np.max(arr , axis=0)",
   "id": "5aec14f7850ba233",
   "outputs": [
    {
     "data": {
      "text/plain": [
       "array([24.61382059, 20.63688168, 19.64099772])"
      ]
     },
     "execution_count": 156,
     "metadata": {},
     "output_type": "execute_result"
    }
   ],
   "execution_count": 156
  },
  {
   "metadata": {},
   "cell_type": "markdown",
   "source": "# Row wise (axis = 1)",
   "id": "a25d84500e64f986"
  },
  {
   "metadata": {
    "ExecuteTime": {
     "end_time": "2025-04-12T14:17:41.821676Z",
     "start_time": "2025-04-12T14:17:41.815118Z"
    }
   },
   "cell_type": "code",
   "source": "np.max(arr, axis=1)",
   "id": "7cdefdc53c8faeab",
   "outputs": [
    {
     "data": {
      "text/plain": [
       "array([24.61382059, 20.63688168])"
      ]
     },
     "execution_count": 157,
     "metadata": {},
     "output_type": "execute_result"
    }
   ],
   "execution_count": 157
  },
  {
   "metadata": {},
   "cell_type": "markdown",
   "source": "# Statistical function",
   "id": "d83a1a204c04a7d4"
  },
  {
   "metadata": {
    "ExecuteTime": {
     "end_time": "2025-04-12T14:17:41.835767Z",
     "start_time": "2025-04-12T14:17:41.824894Z"
    }
   },
   "cell_type": "code",
   "source": "np.mean(arr, axis=0)",
   "id": "5d155a2aab6f379",
   "outputs": [
    {
     "data": {
      "text/plain": [
       "array([21.9758818 , 19.8356809 , 17.36998005])"
      ]
     },
     "execution_count": 158,
     "metadata": {},
     "output_type": "execute_result"
    }
   ],
   "execution_count": 158
  },
  {
   "metadata": {
    "ExecuteTime": {
     "end_time": "2025-04-12T14:17:41.899906Z",
     "start_time": "2025-04-12T14:17:41.894930Z"
    }
   },
   "cell_type": "code",
   "source": "np.median(arr, axis=0)",
   "id": "ff7c4f399568e1bf",
   "outputs": [
    {
     "data": {
      "text/plain": [
       "array([21.9758818 , 19.8356809 , 17.36998005])"
      ]
     },
     "execution_count": 159,
     "metadata": {},
     "output_type": "execute_result"
    }
   ],
   "execution_count": 159
  },
  {
   "metadata": {
    "ExecuteTime": {
     "end_time": "2025-04-12T14:17:41.935436Z",
     "start_time": "2025-04-12T14:17:41.928646Z"
    }
   },
   "cell_type": "code",
   "source": "np.std(arr, axis=1)",
   "id": "b0c23a3489d79d39",
   "outputs": [
    {
     "data": {
      "text/plain": [
       "array([3.90370005, 0.55486422])"
      ]
     },
     "execution_count": 160,
     "metadata": {},
     "output_type": "execute_result"
    }
   ],
   "execution_count": 160
  },
  {
   "metadata": {
    "ExecuteTime": {
     "end_time": "2025-04-12T14:17:41.973731Z",
     "start_time": "2025-04-12T14:17:41.969809Z"
    }
   },
   "cell_type": "code",
   "source": "np.var(arr, axis=0)",
   "id": "b8d9dbdcbaeeb687",
   "outputs": [
    {
     "data": {
      "text/plain": [
       "array([6.9587211 , 0.64192269, 5.15752126])"
      ]
     },
     "execution_count": 161,
     "metadata": {},
     "output_type": "execute_result"
    }
   ],
   "execution_count": 161
  },
  {
   "metadata": {},
   "cell_type": "markdown",
   "source": "# math function",
   "id": "55cda53f668cbc72"
  },
  {
   "metadata": {
    "ExecuteTime": {
     "end_time": "2025-04-12T14:17:42.003353Z",
     "start_time": "2025-04-12T14:17:41.994900Z"
    }
   },
   "cell_type": "code",
   "source": "arr",
   "id": "ed0e754235956f3b",
   "outputs": [
    {
     "data": {
      "text/plain": [
       "array([[24.61382059, 19.03448012, 15.09896238],\n",
       "       [19.337943  , 20.63688168, 19.64099772]])"
      ]
     },
     "execution_count": 162,
     "metadata": {},
     "output_type": "execute_result"
    }
   ],
   "execution_count": 162
  },
  {
   "metadata": {
    "ExecuteTime": {
     "end_time": "2025-04-12T14:17:42.040286Z",
     "start_time": "2025-04-12T14:17:42.034881Z"
    }
   },
   "cell_type": "code",
   "source": "np.sin(arr)",
   "id": "ea72ff4992de76c7",
   "outputs": [
    {
     "data": {
      "text/plain": [
       "array([[-0.49594315,  0.18387203,  0.57204825],\n",
       "       [ 0.46920214,  0.97664895,  0.71136734]])"
      ]
     },
     "execution_count": 163,
     "metadata": {},
     "output_type": "execute_result"
    }
   ],
   "execution_count": 163
  },
  {
   "metadata": {
    "ExecuteTime": {
     "end_time": "2025-04-12T14:17:42.068381Z",
     "start_time": "2025-04-12T14:17:42.060036Z"
    }
   },
   "cell_type": "code",
   "source": "np.log(arr)",
   "id": "e214911baefc3fda",
   "outputs": [
    {
     "data": {
      "text/plain": [
       "array([[3.2033081 , 2.94625208, 2.71462603],\n",
       "       [2.96206912, 3.02707985, 2.9776191 ]])"
      ]
     },
     "execution_count": 164,
     "metadata": {},
     "output_type": "execute_result"
    }
   ],
   "execution_count": 164
  },
  {
   "metadata": {},
   "cell_type": "markdown",
   "source": "# matrix dot product",
   "id": "273fb86ea73807da"
  },
  {
   "metadata": {
    "ExecuteTime": {
     "end_time": "2025-04-12T14:18:10.884974Z",
     "start_time": "2025-04-12T14:18:10.880051Z"
    }
   },
   "cell_type": "code",
   "source": [
    "arr2 = (np.random.random(12).reshape(3,4)) * 25\n",
    "arr2"
   ],
   "id": "466c43a610866b5c",
   "outputs": [
    {
     "data": {
      "text/plain": [
       "array([[12.13225966, 23.11011323, 13.22535506, 12.96431409],\n",
       "       [ 5.55385713,  7.49257445, 15.079931  , 23.33120129],\n",
       "       [18.12527429, 20.88632114, 22.77234863, 22.21813569]])"
      ]
     },
     "execution_count": 185,
     "metadata": {},
     "output_type": "execute_result"
    }
   ],
   "execution_count": 185
  },
  {
   "metadata": {
    "ExecuteTime": {
     "end_time": "2025-04-12T14:17:42.130343Z",
     "start_time": "2025-04-12T14:17:42.124883Z"
    }
   },
   "cell_type": "code",
   "source": "np.dot(arr, arr2)",
   "id": "79f8a27539770bb0",
   "outputs": [
    {
     "data": {
      "text/plain": [
       "array([[ 643.23210743, 1165.12106958,  532.29251843,  975.4394894 ],\n",
       "       [ 726.99754397, 1237.13354341,  534.45479267,  992.10671843]])"
      ]
     },
     "execution_count": 166,
     "metadata": {},
     "output_type": "execute_result"
    }
   ],
   "execution_count": 166
  },
  {
   "metadata": {},
   "cell_type": "markdown",
   "source": "# Indexing",
   "id": "c1089e18a1983d04"
  },
  {
   "metadata": {
    "ExecuteTime": {
     "end_time": "2025-04-12T14:17:42.149994Z",
     "start_time": "2025-04-12T14:17:42.144968Z"
    }
   },
   "cell_type": "code",
   "source": [
    "# 1D\n",
    "a"
   ],
   "id": "c0dfac7afa1da244",
   "outputs": [
    {
     "data": {
      "text/plain": [
       "array([1, 2, 3, 4])"
      ]
     },
     "execution_count": 167,
     "metadata": {},
     "output_type": "execute_result"
    }
   ],
   "execution_count": 167
  },
  {
   "metadata": {
    "ExecuteTime": {
     "end_time": "2025-04-12T14:17:42.229370Z",
     "start_time": "2025-04-12T14:17:42.225009Z"
    }
   },
   "cell_type": "code",
   "source": "a[2]",
   "id": "5b62b54fa1349a15",
   "outputs": [
    {
     "data": {
      "text/plain": [
       "3"
      ]
     },
     "execution_count": 168,
     "metadata": {},
     "output_type": "execute_result"
    }
   ],
   "execution_count": 168
  },
  {
   "metadata": {
    "ExecuteTime": {
     "end_time": "2025-04-12T14:17:42.250256Z",
     "start_time": "2025-04-12T14:17:42.245093Z"
    }
   },
   "cell_type": "code",
   "source": [
    "# 2D\n",
    "arr2"
   ],
   "id": "80bc4aab0f27bff2",
   "outputs": [
    {
     "data": {
      "text/plain": [
       "array([[ 3.58753195, 14.31282357,  6.97910752, 16.04135433],\n",
       "       [15.57890538, 23.52071068, 16.84600127, 17.78957846],\n",
       "       [17.11328688, 24.18201257,  2.63959474, 16.02660422]])"
      ]
     },
     "execution_count": 169,
     "metadata": {},
     "output_type": "execute_result"
    }
   ],
   "execution_count": 169
  },
  {
   "metadata": {
    "ExecuteTime": {
     "end_time": "2025-04-12T14:17:42.276129Z",
     "start_time": "2025-04-12T14:17:42.269963Z"
    }
   },
   "cell_type": "code",
   "source": "arr2[2,3]",
   "id": "a6544b00ba6efec8",
   "outputs": [
    {
     "data": {
      "text/plain": [
       "16.02660422092958"
      ]
     },
     "execution_count": 170,
     "metadata": {},
     "output_type": "execute_result"
    }
   ],
   "execution_count": 170
  },
  {
   "metadata": {
    "ExecuteTime": {
     "end_time": "2025-04-12T14:17:42.330317Z",
     "start_time": "2025-04-12T14:17:42.324938Z"
    }
   },
   "cell_type": "code",
   "source": [
    "# 3D\n",
    "c"
   ],
   "id": "6306bfdd741adcf",
   "outputs": [
    {
     "data": {
      "text/plain": [
       "array([[[ 1,  2,  3],\n",
       "        [ 4,  5,  6]],\n",
       "\n",
       "       [[ 7,  8,  9],\n",
       "        [10, 11, 12]]])"
      ]
     },
     "execution_count": 171,
     "metadata": {},
     "output_type": "execute_result"
    }
   ],
   "execution_count": 171
  },
  {
   "metadata": {
    "ExecuteTime": {
     "end_time": "2025-04-12T14:17:42.350102Z",
     "start_time": "2025-04-12T14:17:42.344985Z"
    }
   },
   "cell_type": "code",
   "source": "c[1,1,0]",
   "id": "23e9254001ae5131",
   "outputs": [
    {
     "data": {
      "text/plain": [
       "10"
      ]
     },
     "execution_count": 172,
     "metadata": {},
     "output_type": "execute_result"
    }
   ],
   "execution_count": 172
  },
  {
   "metadata": {},
   "cell_type": "markdown",
   "source": "# Slicing",
   "id": "cda45162aa7904a2"
  },
  {
   "metadata": {
    "ExecuteTime": {
     "end_time": "2025-04-12T14:17:42.370520Z",
     "start_time": "2025-04-12T14:17:42.364976Z"
    }
   },
   "cell_type": "code",
   "source": "a[1:3]",
   "id": "1df6c6389b0590e3",
   "outputs": [
    {
     "data": {
      "text/plain": [
       "array([2, 3])"
      ]
     },
     "execution_count": 173,
     "metadata": {},
     "output_type": "execute_result"
    }
   ],
   "execution_count": 173
  },
  {
   "metadata": {
    "ExecuteTime": {
     "end_time": "2025-04-12T14:18:19.252234Z",
     "start_time": "2025-04-12T14:18:19.246686Z"
    }
   },
   "cell_type": "code",
   "source": "arr2",
   "id": "2ff9e30be30e5020",
   "outputs": [
    {
     "data": {
      "text/plain": [
       "array([[12.13225966, 23.11011323, 13.22535506, 12.96431409],\n",
       "       [ 5.55385713,  7.49257445, 15.079931  , 23.33120129],\n",
       "       [18.12527429, 20.88632114, 22.77234863, 22.21813569]])"
      ]
     },
     "execution_count": 186,
     "metadata": {},
     "output_type": "execute_result"
    }
   ],
   "execution_count": 186
  },
  {
   "metadata": {
    "ExecuteTime": {
     "end_time": "2025-04-12T14:19:23.027866Z",
     "start_time": "2025-04-12T14:19:23.023821Z"
    }
   },
   "cell_type": "code",
   "source": "arr2[1:3 , 2:4]",
   "id": "a22c916c22a7d0ca",
   "outputs": [
    {
     "data": {
      "text/plain": [
       "array([[15.079931  , 23.33120129],\n",
       "       [22.77234863, 22.21813569]])"
      ]
     },
     "execution_count": 187,
     "metadata": {},
     "output_type": "execute_result"
    }
   ],
   "execution_count": 187
  },
  {
   "metadata": {
    "ExecuteTime": {
     "end_time": "2025-04-12T14:22:26.895889Z",
     "start_time": "2025-04-12T14:22:26.891809Z"
    }
   },
   "cell_type": "code",
   "source": "arr2[[1,2]]   # arr2[[1,2], :]",
   "id": "69993be19a50563e",
   "outputs": [
    {
     "data": {
      "text/plain": [
       "array([[ 5.55385713,  7.49257445, 15.079931  , 23.33120129],\n",
       "       [18.12527429, 20.88632114, 22.77234863, 22.21813569]])"
      ]
     },
     "execution_count": 191,
     "metadata": {},
     "output_type": "execute_result"
    }
   ],
   "execution_count": 191
  },
  {
   "metadata": {
    "ExecuteTime": {
     "end_time": "2025-04-12T14:17:42.487214Z",
     "start_time": "2025-04-12T14:17:42.479824Z"
    }
   },
   "cell_type": "code",
   "source": "c[0:1, 1:3, 0:2]",
   "id": "398040df83a7a78e",
   "outputs": [
    {
     "data": {
      "text/plain": [
       "array([[[4, 5]]])"
      ]
     },
     "execution_count": 176,
     "metadata": {},
     "output_type": "execute_result"
    }
   ],
   "execution_count": 176
  },
  {
   "metadata": {},
   "cell_type": "markdown",
   "source": " # Transpose",
   "id": "4f212649da7df18b"
  },
  {
   "metadata": {
    "ExecuteTime": {
     "end_time": "2025-04-12T14:17:42.507554Z",
     "start_time": "2025-04-12T14:17:42.499686Z"
    }
   },
   "cell_type": "code",
   "source": "arr2.T",
   "id": "58bba14dcb1103ea",
   "outputs": [
    {
     "data": {
      "text/plain": [
       "array([[ 3.58753195, 15.57890538, 17.11328688],\n",
       "       [14.31282357, 23.52071068, 24.18201257],\n",
       "       [ 6.97910752, 16.84600127,  2.63959474],\n",
       "       [16.04135433, 17.78957846, 16.02660422]])"
      ]
     },
     "execution_count": 177,
     "metadata": {},
     "output_type": "execute_result"
    }
   ],
   "execution_count": 177
  },
  {
   "metadata": {},
   "cell_type": "markdown",
   "source": "# 1D Convert",
   "id": "42be45390ef8ad3a"
  },
  {
   "metadata": {
    "ExecuteTime": {
     "end_time": "2025-04-12T14:17:42.526136Z",
     "start_time": "2025-04-12T14:17:42.520123Z"
    }
   },
   "cell_type": "code",
   "source": "arr2.ravel()",
   "id": "e181112ae51c2075",
   "outputs": [
    {
     "data": {
      "text/plain": [
       "array([ 3.58753195, 14.31282357,  6.97910752, 16.04135433, 15.57890538,\n",
       "       23.52071068, 16.84600127, 17.78957846, 17.11328688, 24.18201257,\n",
       "        2.63959474, 16.02660422])"
      ]
     },
     "execution_count": 178,
     "metadata": {},
     "output_type": "execute_result"
    }
   ],
   "execution_count": 178
  },
  {
   "metadata": {},
   "cell_type": "markdown",
   "source": "# hstack",
   "id": "f68edc0c6e3b7ed6"
  },
  {
   "metadata": {
    "ExecuteTime": {
     "end_time": "2025-04-12T14:17:42.579913Z",
     "start_time": "2025-04-12T14:17:42.575118Z"
    }
   },
   "cell_type": "code",
   "source": [
    "arr1 = (np.random.random(6).reshape(3,2)) * 25\n",
    "arr1"
   ],
   "id": "d001e71c28bf5c4b",
   "outputs": [
    {
     "data": {
      "text/plain": [
       "array([[ 0.60724322, 23.63773119],\n",
       "       [ 0.60970509, 15.05263437],\n",
       "       [14.42780696,  6.09005961]])"
      ]
     },
     "execution_count": 179,
     "metadata": {},
     "output_type": "execute_result"
    }
   ],
   "execution_count": 179
  },
  {
   "metadata": {
    "ExecuteTime": {
     "end_time": "2025-04-12T14:17:42.631647Z",
     "start_time": "2025-04-12T14:17:42.624731Z"
    }
   },
   "cell_type": "code",
   "source": [
    "arr2 = (np.random.random(6).reshape(3,2)) * 25\n",
    "arr2"
   ],
   "id": "65bc1c3edc71204f",
   "outputs": [
    {
     "data": {
      "text/plain": [
       "array([[24.92792414,  7.65303811],\n",
       "       [11.29373214, 19.66937464],\n",
       "       [ 6.34494788,  5.0924186 ]])"
      ]
     },
     "execution_count": 180,
     "metadata": {},
     "output_type": "execute_result"
    }
   ],
   "execution_count": 180
  },
  {
   "metadata": {
    "ExecuteTime": {
     "end_time": "2025-04-12T14:17:42.646943Z",
     "start_time": "2025-04-12T14:17:42.642996Z"
    }
   },
   "cell_type": "code",
   "source": [
    "new_arr = np.hstack((arr1, arr2))\n",
    "new_arr"
   ],
   "id": "bdd99aec73a0e63f",
   "outputs": [
    {
     "data": {
      "text/plain": [
       "array([[ 0.60724322, 23.63773119, 24.92792414,  7.65303811],\n",
       "       [ 0.60970509, 15.05263437, 11.29373214, 19.66937464],\n",
       "       [14.42780696,  6.09005961,  6.34494788,  5.0924186 ]])"
      ]
     },
     "execution_count": 181,
     "metadata": {},
     "output_type": "execute_result"
    }
   ],
   "execution_count": 181
  },
  {
   "metadata": {},
   "cell_type": "markdown",
   "source": "# hsplit",
   "id": "501bc9868b562cb0"
  },
  {
   "metadata": {
    "ExecuteTime": {
     "end_time": "2025-04-12T14:17:42.668259Z",
     "start_time": "2025-04-12T14:17:42.654791Z"
    }
   },
   "cell_type": "code",
   "source": "np.hsplit(new_arr, 2)",
   "id": "4b446a4b38ca8e8c",
   "outputs": [
    {
     "data": {
      "text/plain": [
       "[array([[ 0.60724322, 23.63773119],\n",
       "        [ 0.60970509, 15.05263437],\n",
       "        [14.42780696,  6.09005961]]),\n",
       " array([[24.92792414,  7.65303811],\n",
       "        [11.29373214, 19.66937464],\n",
       "        [ 6.34494788,  5.0924186 ]])]"
      ]
     },
     "execution_count": 182,
     "metadata": {},
     "output_type": "execute_result"
    }
   ],
   "execution_count": 182
  },
  {
   "metadata": {},
   "cell_type": "markdown",
   "source": "# vstack",
   "id": "ddd40e60a7510d10"
  },
  {
   "metadata": {
    "ExecuteTime": {
     "end_time": "2025-04-12T14:17:42.721273Z",
     "start_time": "2025-04-12T14:17:42.716854Z"
    }
   },
   "cell_type": "code",
   "source": [
    "new_arr = np.vstack((arr1, arr2))\n",
    "new_arr"
   ],
   "id": "3dae53fbd96390b4",
   "outputs": [
    {
     "data": {
      "text/plain": [
       "array([[ 0.60724322, 23.63773119],\n",
       "       [ 0.60970509, 15.05263437],\n",
       "       [14.42780696,  6.09005961],\n",
       "       [24.92792414,  7.65303811],\n",
       "       [11.29373214, 19.66937464],\n",
       "       [ 6.34494788,  5.0924186 ]])"
      ]
     },
     "execution_count": 183,
     "metadata": {},
     "output_type": "execute_result"
    }
   ],
   "execution_count": 183
  },
  {
   "metadata": {},
   "cell_type": "markdown",
   "source": "# vsplit",
   "id": "8d3cf8edeb985c70"
  },
  {
   "metadata": {
    "ExecuteTime": {
     "end_time": "2025-04-12T14:17:42.736188Z",
     "start_time": "2025-04-12T14:17:42.730990Z"
    }
   },
   "cell_type": "code",
   "source": "np.vsplit(new_arr, 3)",
   "id": "22d8c58607a7d8f4",
   "outputs": [
    {
     "data": {
      "text/plain": [
       "[array([[ 0.60724322, 23.63773119],\n",
       "        [ 0.60970509, 15.05263437]]),\n",
       " array([[14.42780696,  6.09005961],\n",
       "        [24.92792414,  7.65303811]]),\n",
       " array([[11.29373214, 19.66937464],\n",
       "        [ 6.34494788,  5.0924186 ]])]"
      ]
     },
     "execution_count": 184,
     "metadata": {},
     "output_type": "execute_result"
    }
   ],
   "execution_count": 184
  },
  {
   "metadata": {
    "ExecuteTime": {
     "end_time": "2025-04-12T14:17:42.776237Z",
     "start_time": "2025-04-12T14:17:42.765012Z"
    }
   },
   "cell_type": "code",
   "source": "",
   "id": "9ab3e5da9aabb8d5",
   "outputs": [],
   "execution_count": 184
  }
 ],
 "metadata": {
  "kernelspec": {
   "display_name": "Python 3",
   "language": "python",
   "name": "python3"
  },
  "language_info": {
   "codemirror_mode": {
    "name": "ipython",
    "version": 2
   },
   "file_extension": ".py",
   "mimetype": "text/x-python",
   "name": "python",
   "nbconvert_exporter": "python",
   "pygments_lexer": "ipython2",
   "version": "2.7.6"
  }
 },
 "nbformat": 4,
 "nbformat_minor": 5
}
