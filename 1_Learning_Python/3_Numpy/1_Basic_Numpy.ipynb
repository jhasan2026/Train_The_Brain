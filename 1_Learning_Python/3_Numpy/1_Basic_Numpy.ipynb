{
 "cells": [
  {
   "metadata": {},
   "cell_type": "markdown",
   "source": "# 1. Create numpy",
   "id": "813a311c3b087f3e"
  },
  {
   "metadata": {
    "ExecuteTime": {
     "end_time": "2025-06-02T06:29:51.361156Z",
     "start_time": "2025-06-02T06:29:50.510855Z"
    }
   },
   "cell_type": "code",
   "source": [
    "import numpy as np\n",
    "\n",
    "#1D\n",
    "a = np.array([1,2,3,4])\n",
    "\n",
    "#2D\n",
    "b = np.array([[1,2,3],[4,5,6]])\n",
    "\n",
    "#3D\n",
    "c = np.array(\n",
    "[ [[1,2,3],[4,5,6]],\n",
    "    [[7,8,9],[10,11,12]]]\n",
    ")"
   ],
   "id": "de9ac3f6905e3206",
   "outputs": [],
   "execution_count": 1
  },
  {
   "metadata": {
    "ExecuteTime": {
     "end_time": "2025-06-02T06:29:51.369746Z",
     "start_time": "2025-06-02T06:29:51.362167Z"
    }
   },
   "cell_type": "code",
   "source": [
    "# dtype set\n",
    "np.array([1,2,3],dtype=np.float32)"
   ],
   "id": "15e18bb7b4ab8090",
   "outputs": [
    {
     "data": {
      "text/plain": [
       "array([1., 2., 3.], dtype=float32)"
      ]
     },
     "execution_count": 2,
     "metadata": {},
     "output_type": "execute_result"
    }
   ],
   "execution_count": 2
  },
  {
   "metadata": {
    "ExecuteTime": {
     "end_time": "2025-06-02T06:29:51.375331Z",
     "start_time": "2025-06-02T06:29:51.370753Z"
    }
   },
   "cell_type": "code",
   "source": [
    "# range \n",
    "np.arange(1, 11, 2)"
   ],
   "id": "57629785a12eebab",
   "outputs": [
    {
     "data": {
      "text/plain": [
       "array([1, 3, 5, 7, 9])"
      ]
     },
     "execution_count": 3,
     "metadata": {},
     "output_type": "execute_result"
    }
   ],
   "execution_count": 3
  },
  {
   "metadata": {
    "ExecuteTime": {
     "end_time": "2025-06-02T06:29:51.380739Z",
     "start_time": "2025-06-02T06:29:51.376338Z"
    }
   },
   "cell_type": "code",
   "source": "np.arange(11)",
   "id": "d9e706f21dd9b4d6",
   "outputs": [
    {
     "data": {
      "text/plain": [
       "array([ 0,  1,  2,  3,  4,  5,  6,  7,  8,  9, 10])"
      ]
     },
     "execution_count": 4,
     "metadata": {},
     "output_type": "execute_result"
    }
   ],
   "execution_count": 4
  },
  {
   "metadata": {},
   "cell_type": "markdown",
   "source": "# Shape change",
   "id": "24ebcec9a3465289"
  },
  {
   "metadata": {
    "ExecuteTime": {
     "end_time": "2025-06-02T06:29:51.386704Z",
     "start_time": "2025-06-02T06:29:51.381746Z"
    }
   },
   "cell_type": "code",
   "source": "a",
   "id": "62f215ce707c36f2",
   "outputs": [
    {
     "data": {
      "text/plain": [
       "array([1, 2, 3, 4])"
      ]
     },
     "execution_count": 5,
     "metadata": {},
     "output_type": "execute_result"
    }
   ],
   "execution_count": 5
  },
  {
   "metadata": {
    "ExecuteTime": {
     "end_time": "2025-06-02T06:29:51.392349Z",
     "start_time": "2025-06-02T06:29:51.387711Z"
    }
   },
   "cell_type": "code",
   "source": "a.reshape(2,2)",
   "id": "4ce872b6852cf079",
   "outputs": [
    {
     "data": {
      "text/plain": [
       "array([[1, 2],\n",
       "       [3, 4]])"
      ]
     },
     "execution_count": 6,
     "metadata": {},
     "output_type": "execute_result"
    }
   ],
   "execution_count": 6
  },
  {
   "metadata": {},
   "cell_type": "markdown",
   "source": "# one and zeros and random\n",
   "id": "e681980dda0dd292"
  },
  {
   "metadata": {
    "ExecuteTime": {
     "end_time": "2025-06-02T06:29:51.398086Z",
     "start_time": "2025-06-02T06:29:51.393357Z"
    }
   },
   "cell_type": "code",
   "source": "np.zeros((4,3))",
   "id": "886551b3baf8c87e",
   "outputs": [
    {
     "data": {
      "text/plain": [
       "array([[0., 0., 0.],\n",
       "       [0., 0., 0.],\n",
       "       [0., 0., 0.],\n",
       "       [0., 0., 0.]])"
      ]
     },
     "execution_count": 7,
     "metadata": {},
     "output_type": "execute_result"
    }
   ],
   "execution_count": 7
  },
  {
   "metadata": {
    "ExecuteTime": {
     "end_time": "2025-06-02T06:29:51.404714Z",
     "start_time": "2025-06-02T06:29:51.399095Z"
    }
   },
   "cell_type": "code",
   "source": "np.ones((4,3))",
   "id": "36311cedd6aba90",
   "outputs": [
    {
     "data": {
      "text/plain": [
       "array([[1., 1., 1.],\n",
       "       [1., 1., 1.],\n",
       "       [1., 1., 1.],\n",
       "       [1., 1., 1.]])"
      ]
     },
     "execution_count": 8,
     "metadata": {},
     "output_type": "execute_result"
    }
   ],
   "execution_count": 8
  },
  {
   "metadata": {
    "ExecuteTime": {
     "end_time": "2025-06-02T06:29:51.820209Z",
     "start_time": "2025-06-02T06:29:51.406054Z"
    }
   },
   "cell_type": "code",
   "source": "np.random.random((4,2))",
   "id": "efc407c42341c6a7",
   "outputs": [
    {
     "data": {
      "text/plain": [
       "array([[0.08306055, 0.53420755],\n",
       "       [0.62848028, 0.57485838],\n",
       "       [0.65343512, 0.49554639],\n",
       "       [0.95606441, 0.98792377]])"
      ]
     },
     "execution_count": 9,
     "metadata": {},
     "output_type": "execute_result"
    }
   ],
   "execution_count": 9
  },
  {
   "metadata": {},
   "cell_type": "markdown",
   "source": "# Linespace",
   "id": "9a81c14a07f0ca83"
  },
  {
   "metadata": {
    "ExecuteTime": {
     "end_time": "2025-06-02T06:29:51.826399Z",
     "start_time": "2025-06-02T06:29:51.822279Z"
    }
   },
   "cell_type": "code",
   "source": "np.linspace(-10,10,10)",
   "id": "2211ee2a4776a064",
   "outputs": [
    {
     "data": {
      "text/plain": [
       "array([-10.        ,  -7.77777778,  -5.55555556,  -3.33333333,\n",
       "        -1.11111111,   1.11111111,   3.33333333,   5.55555556,\n",
       "         7.77777778,  10.        ])"
      ]
     },
     "execution_count": 10,
     "metadata": {},
     "output_type": "execute_result"
    }
   ],
   "execution_count": 10
  },
  {
   "metadata": {
    "ExecuteTime": {
     "end_time": "2025-06-02T06:29:51.833509Z",
     "start_time": "2025-06-02T06:29:51.826399Z"
    }
   },
   "cell_type": "code",
   "source": "np.linspace(-10,10,10, dtype=int)",
   "id": "69372cc20093b0da",
   "outputs": [
    {
     "data": {
      "text/plain": [
       "array([-10,  -8,  -6,  -4,  -2,   1,   3,   5,   7,  10])"
      ]
     },
     "execution_count": 11,
     "metadata": {},
     "output_type": "execute_result"
    }
   ],
   "execution_count": 11
  },
  {
   "metadata": {},
   "cell_type": "markdown",
   "source": "# identity mat",
   "id": "877b327b8ee078f8"
  },
  {
   "metadata": {
    "ExecuteTime": {
     "end_time": "2025-06-02T06:29:51.849317Z",
     "start_time": "2025-06-02T06:29:51.835025Z"
    }
   },
   "cell_type": "code",
   "source": "np.identity(3)",
   "id": "442f5c881c2a6f8a",
   "outputs": [
    {
     "data": {
      "text/plain": [
       "array([[1., 0., 0.],\n",
       "       [0., 1., 0.],\n",
       "       [0., 0., 1.]])"
      ]
     },
     "execution_count": 12,
     "metadata": {},
     "output_type": "execute_result"
    }
   ],
   "execution_count": 12
  },
  {
   "metadata": {},
   "cell_type": "markdown",
   "source": "# array attribute",
   "id": "6aa013945176e3bd"
  },
  {
   "metadata": {
    "ExecuteTime": {
     "end_time": "2025-06-02T06:29:51.859093Z",
     "start_time": "2025-06-02T06:29:51.850704Z"
    }
   },
   "cell_type": "code",
   "source": "np.arange(4, dtype=np.int32)",
   "id": "2479238b272b577a",
   "outputs": [
    {
     "data": {
      "text/plain": [
       "array([0, 1, 2, 3], dtype=int32)"
      ]
     },
     "execution_count": 13,
     "metadata": {},
     "output_type": "execute_result"
    }
   ],
   "execution_count": 13
  },
  {
   "metadata": {
    "ExecuteTime": {
     "end_time": "2025-06-02T06:29:51.865218Z",
     "start_time": "2025-06-02T06:29:51.860452Z"
    }
   },
   "cell_type": "code",
   "source": "np.arange(6, dtype=np.float32).reshape(3,2)",
   "id": "778bebfff32be3eb",
   "outputs": [
    {
     "data": {
      "text/plain": [
       "array([[0., 1.],\n",
       "       [2., 3.],\n",
       "       [4., 5.]], dtype=float32)"
      ]
     },
     "execution_count": 14,
     "metadata": {},
     "output_type": "execute_result"
    }
   ],
   "execution_count": 14
  },
  {
   "metadata": {
    "ExecuteTime": {
     "end_time": "2025-06-02T06:29:51.871760Z",
     "start_time": "2025-06-02T06:29:51.866227Z"
    }
   },
   "cell_type": "code",
   "source": [
    "x = np.arange(8,dtype=np.int32).reshape(2,2,2)\n",
    "x"
   ],
   "id": "641868b8f14ed8ee",
   "outputs": [
    {
     "data": {
      "text/plain": [
       "array([[[0, 1],\n",
       "        [2, 3]],\n",
       "\n",
       "       [[4, 5],\n",
       "        [6, 7]]], dtype=int32)"
      ]
     },
     "execution_count": 15,
     "metadata": {},
     "output_type": "execute_result"
    }
   ],
   "execution_count": 15
  },
  {
   "metadata": {
    "ExecuteTime": {
     "end_time": "2025-06-02T06:29:51.877146Z",
     "start_time": "2025-06-02T06:29:51.872878Z"
    }
   },
   "cell_type": "code",
   "source": [
    "# shape\n",
    "x.shape"
   ],
   "id": "c4d86a018d38753d",
   "outputs": [
    {
     "data": {
      "text/plain": [
       "(2, 2, 2)"
      ]
     },
     "execution_count": 16,
     "metadata": {},
     "output_type": "execute_result"
    }
   ],
   "execution_count": 16
  },
  {
   "metadata": {
    "ExecuteTime": {
     "end_time": "2025-06-02T06:29:51.888862Z",
     "start_time": "2025-06-02T06:29:51.878219Z"
    }
   },
   "cell_type": "code",
   "source": [
    "# dimension\n",
    "x.ndim"
   ],
   "id": "c956d601fec51bc",
   "outputs": [
    {
     "data": {
      "text/plain": [
       "3"
      ]
     },
     "execution_count": 17,
     "metadata": {},
     "output_type": "execute_result"
    }
   ],
   "execution_count": 17
  },
  {
   "metadata": {
    "ExecuteTime": {
     "end_time": "2025-06-02T06:29:51.895911Z",
     "start_time": "2025-06-02T06:29:51.889909Z"
    }
   },
   "cell_type": "code",
   "source": [
    "# size\n",
    "x.size"
   ],
   "id": "c2e99f621e569be1",
   "outputs": [
    {
     "data": {
      "text/plain": [
       "8"
      ]
     },
     "execution_count": 18,
     "metadata": {},
     "output_type": "execute_result"
    }
   ],
   "execution_count": 18
  },
  {
   "metadata": {
    "ExecuteTime": {
     "end_time": "2025-06-02T06:29:51.902046Z",
     "start_time": "2025-06-02T06:29:51.897466Z"
    }
   },
   "cell_type": "code",
   "source": [
    "# type\n",
    "x.dtype"
   ],
   "id": "874038179a312e7f",
   "outputs": [
    {
     "data": {
      "text/plain": [
       "dtype('int32')"
      ]
     },
     "execution_count": 19,
     "metadata": {},
     "output_type": "execute_result"
    }
   ],
   "execution_count": 19
  },
  {
   "metadata": {
    "ExecuteTime": {
     "end_time": "2025-06-02T06:29:51.908661Z",
     "start_time": "2025-06-02T06:29:51.903048Z"
    }
   },
   "cell_type": "code",
   "source": [
    "# change type\n",
    "x.astype(np.float32)"
   ],
   "id": "2c5e93640c6b66b8",
   "outputs": [
    {
     "data": {
      "text/plain": [
       "array([[[0., 1.],\n",
       "        [2., 3.]],\n",
       "\n",
       "       [[4., 5.],\n",
       "        [6., 7.]]], dtype=float32)"
      ]
     },
     "execution_count": 20,
     "metadata": {},
     "output_type": "execute_result"
    }
   ],
   "execution_count": 20
  },
  {
   "metadata": {
    "ExecuteTime": {
     "end_time": "2025-06-02T06:29:51.914596Z",
     "start_time": "2025-06-02T06:29:51.909737Z"
    }
   },
   "cell_type": "code",
   "source": [
    "b1 = np.arange(12,18,dtype=np.float32).reshape(2,3)\n",
    "b1"
   ],
   "id": "90b5f7a53254a38",
   "outputs": [
    {
     "data": {
      "text/plain": [
       "array([[12., 13., 14.],\n",
       "       [15., 16., 17.]], dtype=float32)"
      ]
     },
     "execution_count": 21,
     "metadata": {},
     "output_type": "execute_result"
    }
   ],
   "execution_count": 21
  },
  {
   "metadata": {
    "ExecuteTime": {
     "end_time": "2025-06-02T06:30:36.296816Z",
     "start_time": "2025-06-02T06:30:36.291120Z"
    }
   },
   "cell_type": "code",
   "source": [
    "b2 = np.arange(12,42,dtype=np.float32).reshape(6,5)\n",
    "b2"
   ],
   "id": "1a2e3ce2ac73b6f9",
   "outputs": [
    {
     "data": {
      "text/plain": [
       "array([[12., 13., 14., 15., 16.],\n",
       "       [17., 18., 19., 20., 21.],\n",
       "       [22., 23., 24., 25., 26.],\n",
       "       [27., 28., 29., 30., 31.],\n",
       "       [32., 33., 34., 35., 36.],\n",
       "       [37., 38., 39., 40., 41.]], dtype=float32)"
      ]
     },
     "execution_count": 67,
     "metadata": {},
     "output_type": "execute_result"
    }
   ],
   "execution_count": 67
  },
  {
   "metadata": {},
   "cell_type": "markdown",
   "source": "# Matrix Operation",
   "id": "e3e32f6cd78f393f"
  },
  {
   "metadata": {},
   "cell_type": "code",
   "outputs": [
    {
     "data": {
      "text/plain": [
       "array([[1, 2, 3],\n",
       "       [4, 5, 6]])"
      ]
     },
     "execution_count": 22,
     "metadata": {},
     "output_type": "execute_result"
    }
   ],
   "execution_count": 22,
   "source": "b",
   "id": "3addab2c1eb978f1"
  },
  {
   "metadata": {
    "ExecuteTime": {
     "end_time": "2025-06-02T06:29:51.930117Z",
     "start_time": "2025-06-02T06:29:51.921290Z"
    }
   },
   "cell_type": "code",
   "source": [
    "# scalar multiplication\n",
    "b * 2"
   ],
   "id": "ac107ac1428fed11",
   "outputs": [
    {
     "data": {
      "text/plain": [
       "array([[ 2,  4,  6],\n",
       "       [ 8, 10, 12]])"
      ]
     },
     "execution_count": 23,
     "metadata": {},
     "output_type": "execute_result"
    }
   ],
   "execution_count": 23
  },
  {
   "metadata": {
    "ExecuteTime": {
     "end_time": "2025-06-02T06:29:51.938547Z",
     "start_time": "2025-06-02T06:29:51.932121Z"
    }
   },
   "cell_type": "code",
   "source": [
    "# element wise power\n",
    "b ** 2"
   ],
   "id": "e645f418229fa183",
   "outputs": [
    {
     "data": {
      "text/plain": [
       "array([[ 1,  4,  9],\n",
       "       [16, 25, 36]])"
      ]
     },
     "execution_count": 24,
     "metadata": {},
     "output_type": "execute_result"
    }
   ],
   "execution_count": 24
  },
  {
   "metadata": {
    "ExecuteTime": {
     "end_time": "2025-06-02T06:29:51.944429Z",
     "start_time": "2025-06-02T06:29:51.939703Z"
    }
   },
   "cell_type": "code",
   "source": [
    "# element wise check\n",
    "b == 5"
   ],
   "id": "ab03ac807e48251",
   "outputs": [
    {
     "data": {
      "text/plain": [
       "array([[False, False, False],\n",
       "       [False,  True, False]])"
      ]
     },
     "execution_count": 25,
     "metadata": {},
     "output_type": "execute_result"
    }
   ],
   "execution_count": 25
  },
  {
   "metadata": {
    "ExecuteTime": {
     "end_time": "2025-06-02T06:29:51.950729Z",
     "start_time": "2025-06-02T06:29:51.945437Z"
    }
   },
   "cell_type": "code",
   "source": [
    "# element wise multiplication\n",
    "b * b1"
   ],
   "id": "cc782e8b9633fbf8",
   "outputs": [
    {
     "data": {
      "text/plain": [
       "array([[ 12.,  26.,  42.],\n",
       "       [ 60.,  80., 102.]])"
      ]
     },
     "execution_count": 26,
     "metadata": {},
     "output_type": "execute_result"
    }
   ],
   "execution_count": 26
  },
  {
   "metadata": {},
   "cell_type": "markdown",
   "source": "# Array function",
   "id": "3b27522949bcc39b"
  },
  {
   "metadata": {
    "ExecuteTime": {
     "end_time": "2025-06-02T06:29:51.956945Z",
     "start_time": "2025-06-02T06:29:51.951831Z"
    }
   },
   "cell_type": "code",
   "source": [
    "arr = (np.random.random(6).reshape(2,3)) * 25\n",
    "arr"
   ],
   "id": "96f5c988b5677fd5",
   "outputs": [
    {
     "data": {
      "text/plain": [
       "array([[15.58542233,  7.72088471, 10.71081361],\n",
       "       [16.65453436, 11.93949571, 21.10261945]])"
      ]
     },
     "execution_count": 27,
     "metadata": {},
     "output_type": "execute_result"
    }
   ],
   "execution_count": 27
  },
  {
   "metadata": {
    "ExecuteTime": {
     "end_time": "2025-06-02T06:29:51.967198Z",
     "start_time": "2025-06-02T06:29:51.961149Z"
    }
   },
   "cell_type": "code",
   "source": "np.round(arr)",
   "id": "cc147c2314f19377",
   "outputs": [
    {
     "data": {
      "text/plain": [
       "array([[16.,  8., 11.],\n",
       "       [17., 12., 21.]])"
      ]
     },
     "execution_count": 28,
     "metadata": {},
     "output_type": "execute_result"
    }
   ],
   "execution_count": 28
  },
  {
   "metadata": {
    "ExecuteTime": {
     "end_time": "2025-06-02T06:29:51.974201Z",
     "start_time": "2025-06-02T06:29:51.968201Z"
    }
   },
   "cell_type": "code",
   "source": "np.ceil(arr)",
   "id": "48ceb009ed01a6d3",
   "outputs": [
    {
     "data": {
      "text/plain": [
       "array([[16.,  8., 11.],\n",
       "       [17., 12., 22.]])"
      ]
     },
     "execution_count": 29,
     "metadata": {},
     "output_type": "execute_result"
    }
   ],
   "execution_count": 29
  },
  {
   "metadata": {
    "ExecuteTime": {
     "end_time": "2025-06-02T06:29:51.980621Z",
     "start_time": "2025-06-02T06:29:51.975707Z"
    }
   },
   "cell_type": "code",
   "source": "np.floor(arr)",
   "id": "59d5b4f0db60f8cc",
   "outputs": [
    {
     "data": {
      "text/plain": [
       "array([[15.,  7., 10.],\n",
       "       [16., 11., 21.]])"
      ]
     },
     "execution_count": 30,
     "metadata": {},
     "output_type": "execute_result"
    }
   ],
   "execution_count": 30
  },
  {
   "metadata": {
    "ExecuteTime": {
     "end_time": "2025-06-02T06:29:51.986968Z",
     "start_time": "2025-06-02T06:29:51.981816Z"
    }
   },
   "cell_type": "code",
   "source": "np.min(arr)",
   "id": "5dd77f2f71b14363",
   "outputs": [
    {
     "data": {
      "text/plain": [
       "np.float64(7.720884708368059)"
      ]
     },
     "execution_count": 31,
     "metadata": {},
     "output_type": "execute_result"
    }
   ],
   "execution_count": 31
  },
  {
   "metadata": {
    "ExecuteTime": {
     "end_time": "2025-06-02T06:29:51.992776Z",
     "start_time": "2025-06-02T06:29:51.988475Z"
    }
   },
   "cell_type": "code",
   "source": "np.max(arr)",
   "id": "b625366a094b8e76",
   "outputs": [
    {
     "data": {
      "text/plain": [
       "np.float64(21.102619449980505)"
      ]
     },
     "execution_count": 32,
     "metadata": {},
     "output_type": "execute_result"
    }
   ],
   "execution_count": 32
  },
  {
   "metadata": {
    "ExecuteTime": {
     "end_time": "2025-06-02T06:29:51.999002Z",
     "start_time": "2025-06-02T06:29:51.993780Z"
    }
   },
   "cell_type": "code",
   "source": "np.sum(arr)",
   "id": "c4c8dc5ba0182c6b",
   "outputs": [
    {
     "data": {
      "text/plain": [
       "np.float64(83.71377016835203)"
      ]
     },
     "execution_count": 33,
     "metadata": {},
     "output_type": "execute_result"
    }
   ],
   "execution_count": 33
  },
  {
   "metadata": {
    "ExecuteTime": {
     "end_time": "2025-06-02T06:29:52.005220Z",
     "start_time": "2025-06-02T06:29:52.000004Z"
    }
   },
   "cell_type": "code",
   "source": "np.prod(arr)",
   "id": "97c5dbd955e70e3c",
   "outputs": [
    {
     "data": {
      "text/plain": [
       "np.float64(5408327.101500674)"
      ]
     },
     "execution_count": 34,
     "metadata": {},
     "output_type": "execute_result"
    }
   ],
   "execution_count": 34
  },
  {
   "metadata": {
    "ExecuteTime": {
     "end_time": "2025-06-02T06:29:52.012225Z",
     "start_time": "2025-06-02T06:29:52.006223Z"
    }
   },
   "cell_type": "code",
   "source": "arr",
   "id": "fc6ff5f5c3d48117",
   "outputs": [
    {
     "data": {
      "text/plain": [
       "array([[15.58542233,  7.72088471, 10.71081361],\n",
       "       [16.65453436, 11.93949571, 21.10261945]])"
      ]
     },
     "execution_count": 35,
     "metadata": {},
     "output_type": "execute_result"
    }
   ],
   "execution_count": 35
  },
  {
   "metadata": {},
   "cell_type": "markdown",
   "source": "# Column wise (axis = 0)",
   "id": "242ba215fed02f8c"
  },
  {
   "metadata": {
    "ExecuteTime": {
     "end_time": "2025-06-02T06:29:52.019115Z",
     "start_time": "2025-06-02T06:29:52.013732Z"
    }
   },
   "cell_type": "code",
   "source": "np.max(arr , axis=0)",
   "id": "5aec14f7850ba233",
   "outputs": [
    {
     "data": {
      "text/plain": [
       "array([16.65453436, 11.93949571, 21.10261945])"
      ]
     },
     "execution_count": 36,
     "metadata": {},
     "output_type": "execute_result"
    }
   ],
   "execution_count": 36
  },
  {
   "metadata": {},
   "cell_type": "markdown",
   "source": "# Row wise (axis = 1)",
   "id": "a25d84500e64f986"
  },
  {
   "metadata": {
    "ExecuteTime": {
     "end_time": "2025-06-02T06:29:52.026475Z",
     "start_time": "2025-06-02T06:29:52.020493Z"
    }
   },
   "cell_type": "code",
   "source": "np.max(arr, axis=1)",
   "id": "7cdefdc53c8faeab",
   "outputs": [
    {
     "data": {
      "text/plain": [
       "array([15.58542233, 21.10261945])"
      ]
     },
     "execution_count": 37,
     "metadata": {},
     "output_type": "execute_result"
    }
   ],
   "execution_count": 37
  },
  {
   "metadata": {},
   "cell_type": "markdown",
   "source": "# Statistical function",
   "id": "d83a1a204c04a7d4"
  },
  {
   "metadata": {
    "ExecuteTime": {
     "end_time": "2025-06-02T06:29:52.033983Z",
     "start_time": "2025-06-02T06:29:52.027552Z"
    }
   },
   "cell_type": "code",
   "source": "np.mean(arr, axis=0)",
   "id": "5d155a2aab6f379",
   "outputs": [
    {
     "data": {
      "text/plain": [
       "array([16.11997834,  9.83019021, 15.90671653])"
      ]
     },
     "execution_count": 38,
     "metadata": {},
     "output_type": "execute_result"
    }
   ],
   "execution_count": 38
  },
  {
   "metadata": {
    "ExecuteTime": {
     "end_time": "2025-06-02T06:29:52.079337Z",
     "start_time": "2025-06-02T06:29:52.036135Z"
    }
   },
   "cell_type": "code",
   "source": "np.median(arr, axis=0)",
   "id": "ff7c4f399568e1bf",
   "outputs": [
    {
     "data": {
      "text/plain": [
       "array([16.11997834,  9.83019021, 15.90671653])"
      ]
     },
     "execution_count": 39,
     "metadata": {},
     "output_type": "execute_result"
    }
   ],
   "execution_count": 39
  },
  {
   "metadata": {
    "ExecuteTime": {
     "end_time": "2025-06-02T06:29:52.086457Z",
     "start_time": "2025-06-02T06:29:52.080366Z"
    }
   },
   "cell_type": "code",
   "source": "np.std(arr, axis=1)",
   "id": "b0c23a3489d79d39",
   "outputs": [
    {
     "data": {
      "text/plain": [
       "array([3.24126925, 3.74135874])"
      ]
     },
     "execution_count": 40,
     "metadata": {},
     "output_type": "execute_result"
    }
   ],
   "execution_count": 40
  },
  {
   "metadata": {
    "ExecuteTime": {
     "end_time": "2025-06-02T06:29:52.092982Z",
     "start_time": "2025-06-02T06:29:52.087459Z"
    }
   },
   "cell_type": "code",
   "source": "np.var(arr, axis=0)",
   "id": "b8d9dbdcbaeeb687",
   "outputs": [
    {
     "data": {
      "text/plain": [
       "array([ 0.28575013,  4.44916969, 26.99740713])"
      ]
     },
     "execution_count": 41,
     "metadata": {},
     "output_type": "execute_result"
    }
   ],
   "execution_count": 41
  },
  {
   "metadata": {},
   "cell_type": "markdown",
   "source": "# math function",
   "id": "55cda53f668cbc72"
  },
  {
   "metadata": {
    "ExecuteTime": {
     "end_time": "2025-06-02T06:29:52.098810Z",
     "start_time": "2025-06-02T06:29:52.093488Z"
    }
   },
   "cell_type": "code",
   "source": "arr",
   "id": "ed0e754235956f3b",
   "outputs": [
    {
     "data": {
      "text/plain": [
       "array([[15.58542233,  7.72088471, 10.71081361],\n",
       "       [16.65453436, 11.93949571, 21.10261945]])"
      ]
     },
     "execution_count": 42,
     "metadata": {},
     "output_type": "execute_result"
    }
   ],
   "execution_count": 42
  },
  {
   "metadata": {
    "ExecuteTime": {
     "end_time": "2025-06-02T06:29:52.105672Z",
     "start_time": "2025-06-02T06:29:52.099919Z"
    }
   },
   "cell_type": "code",
   "source": "np.sin(arr)",
   "id": "ea72ff4992de76c7",
   "outputs": [
    {
     "data": {
      "text/plain": [
       "array([[ 0.12223448,  0.99115567, -0.95972891],\n",
       "       [-0.81141619, -0.58661673,  0.77614512]])"
      ]
     },
     "execution_count": 43,
     "metadata": {},
     "output_type": "execute_result"
    }
   ],
   "execution_count": 43
  },
  {
   "metadata": {
    "ExecuteTime": {
     "end_time": "2025-06-02T06:29:52.112176Z",
     "start_time": "2025-06-02T06:29:52.106689Z"
    }
   },
   "cell_type": "code",
   "source": "np.log(arr)",
   "id": "e214911baefc3fda",
   "outputs": [
    {
     "data": {
      "text/plain": [
       "array([[2.74633601, 2.04392896, 2.37125385],\n",
       "       [2.81268251, 2.47985187, 3.04939718]])"
      ]
     },
     "execution_count": 44,
     "metadata": {},
     "output_type": "execute_result"
    }
   ],
   "execution_count": 44
  },
  {
   "metadata": {},
   "cell_type": "markdown",
   "source": "# matrix dot product",
   "id": "273fb86ea73807da"
  },
  {
   "metadata": {
    "ExecuteTime": {
     "end_time": "2025-06-02T06:29:52.118048Z",
     "start_time": "2025-06-02T06:29:52.112680Z"
    }
   },
   "cell_type": "code",
   "source": [
    "arr2 = (np.random.random(12).reshape(3,4)) * 25\n",
    "arr2"
   ],
   "id": "466c43a610866b5c",
   "outputs": [
    {
     "data": {
      "text/plain": [
       "array([[19.96065439, 17.56840023, 24.3355061 ,  1.01436537],\n",
       "       [ 3.11400637, 21.78101828,  9.04733226,  8.45099791],\n",
       "       [20.92768488, 11.75659199, 13.48041337, 24.5948081 ]])"
      ]
     },
     "execution_count": 45,
     "metadata": {},
     "output_type": "execute_result"
    }
   ],
   "execution_count": 45
  },
  {
   "metadata": {
    "ExecuteTime": {
     "end_time": "2025-06-02T06:29:52.135043Z",
     "start_time": "2025-06-02T06:29:52.120051Z"
    }
   },
   "cell_type": "code",
   "source": "np.dot(arr, arr2)",
   "id": "79f8a27539770bb0",
   "outputs": [
    {
     "data": {
      "text/plain": [
       "array([[559.290645  , 567.90233382, 593.51874452, 344.48889854],\n",
       "       [811.24404018, 800.74278642, 797.78914065, 636.80931177]])"
      ]
     },
     "execution_count": 46,
     "metadata": {},
     "output_type": "execute_result"
    }
   ],
   "execution_count": 46
  },
  {
   "metadata": {},
   "cell_type": "markdown",
   "source": "# Indexing",
   "id": "c1089e18a1983d04"
  },
  {
   "metadata": {
    "ExecuteTime": {
     "end_time": "2025-06-02T06:29:52.142282Z",
     "start_time": "2025-06-02T06:29:52.136334Z"
    }
   },
   "cell_type": "code",
   "source": [
    "# 1D\n",
    "a"
   ],
   "id": "c0dfac7afa1da244",
   "outputs": [
    {
     "data": {
      "text/plain": [
       "array([1, 2, 3, 4])"
      ]
     },
     "execution_count": 47,
     "metadata": {},
     "output_type": "execute_result"
    }
   ],
   "execution_count": 47
  },
  {
   "metadata": {
    "ExecuteTime": {
     "end_time": "2025-06-02T06:29:52.148941Z",
     "start_time": "2025-06-02T06:29:52.144644Z"
    }
   },
   "cell_type": "code",
   "source": "a[2]",
   "id": "5b62b54fa1349a15",
   "outputs": [
    {
     "data": {
      "text/plain": [
       "np.int64(3)"
      ]
     },
     "execution_count": 48,
     "metadata": {},
     "output_type": "execute_result"
    }
   ],
   "execution_count": 48
  },
  {
   "metadata": {
    "ExecuteTime": {
     "end_time": "2025-06-02T06:29:52.155093Z",
     "start_time": "2025-06-02T06:29:52.150013Z"
    }
   },
   "cell_type": "code",
   "source": [
    "# 2D\n",
    "arr2"
   ],
   "id": "80bc4aab0f27bff2",
   "outputs": [
    {
     "data": {
      "text/plain": [
       "array([[19.96065439, 17.56840023, 24.3355061 ,  1.01436537],\n",
       "       [ 3.11400637, 21.78101828,  9.04733226,  8.45099791],\n",
       "       [20.92768488, 11.75659199, 13.48041337, 24.5948081 ]])"
      ]
     },
     "execution_count": 49,
     "metadata": {},
     "output_type": "execute_result"
    }
   ],
   "execution_count": 49
  },
  {
   "metadata": {
    "ExecuteTime": {
     "end_time": "2025-06-02T06:29:52.162204Z",
     "start_time": "2025-06-02T06:29:52.156095Z"
    }
   },
   "cell_type": "code",
   "source": "arr2[2,3]",
   "id": "a6544b00ba6efec8",
   "outputs": [
    {
     "data": {
      "text/plain": [
       "np.float64(24.594808097502916)"
      ]
     },
     "execution_count": 50,
     "metadata": {},
     "output_type": "execute_result"
    }
   ],
   "execution_count": 50
  },
  {
   "metadata": {
    "ExecuteTime": {
     "end_time": "2025-06-02T06:29:52.168190Z",
     "start_time": "2025-06-02T06:29:52.163208Z"
    }
   },
   "cell_type": "code",
   "source": [
    "# 3D\n",
    "c"
   ],
   "id": "6306bfdd741adcf",
   "outputs": [
    {
     "data": {
      "text/plain": [
       "array([[[ 1,  2,  3],\n",
       "        [ 4,  5,  6]],\n",
       "\n",
       "       [[ 7,  8,  9],\n",
       "        [10, 11, 12]]])"
      ]
     },
     "execution_count": 51,
     "metadata": {},
     "output_type": "execute_result"
    }
   ],
   "execution_count": 51
  },
  {
   "metadata": {
    "ExecuteTime": {
     "end_time": "2025-06-02T06:29:52.179537Z",
     "start_time": "2025-06-02T06:29:52.169193Z"
    }
   },
   "cell_type": "code",
   "source": "c[1,1,0]",
   "id": "23e9254001ae5131",
   "outputs": [
    {
     "data": {
      "text/plain": [
       "np.int64(10)"
      ]
     },
     "execution_count": 52,
     "metadata": {},
     "output_type": "execute_result"
    }
   ],
   "execution_count": 52
  },
  {
   "metadata": {},
   "cell_type": "markdown",
   "source": "# Slicing",
   "id": "cda45162aa7904a2"
  },
  {
   "metadata": {
    "ExecuteTime": {
     "end_time": "2025-06-02T06:29:52.185612Z",
     "start_time": "2025-06-02T06:29:52.180538Z"
    }
   },
   "cell_type": "code",
   "source": [
    "# 1D\n",
    "a[1:3]"
   ],
   "id": "1df6c6389b0590e3",
   "outputs": [
    {
     "data": {
      "text/plain": [
       "array([2, 3])"
      ]
     },
     "execution_count": 53,
     "metadata": {},
     "output_type": "execute_result"
    }
   ],
   "execution_count": 53
  },
  {
   "metadata": {
    "ExecuteTime": {
     "end_time": "2025-06-02T06:29:52.192373Z",
     "start_time": "2025-06-02T06:29:52.186811Z"
    }
   },
   "cell_type": "code",
   "source": [
    "# 2D\n",
    "arr2"
   ],
   "id": "2ff9e30be30e5020",
   "outputs": [
    {
     "data": {
      "text/plain": [
       "array([[19.96065439, 17.56840023, 24.3355061 ,  1.01436537],\n",
       "       [ 3.11400637, 21.78101828,  9.04733226,  8.45099791],\n",
       "       [20.92768488, 11.75659199, 13.48041337, 24.5948081 ]])"
      ]
     },
     "execution_count": 54,
     "metadata": {},
     "output_type": "execute_result"
    }
   ],
   "execution_count": 54
  },
  {
   "metadata": {
    "ExecuteTime": {
     "end_time": "2025-06-02T06:29:52.198390Z",
     "start_time": "2025-06-02T06:29:52.193379Z"
    }
   },
   "cell_type": "code",
   "source": "arr2[1:3 , 2:4]",
   "id": "a22c916c22a7d0ca",
   "outputs": [
    {
     "data": {
      "text/plain": [
       "array([[ 9.04733226,  8.45099791],\n",
       "       [13.48041337, 24.5948081 ]])"
      ]
     },
     "execution_count": 55,
     "metadata": {},
     "output_type": "execute_result"
    }
   ],
   "execution_count": 55
  },
  {
   "metadata": {
    "ExecuteTime": {
     "end_time": "2025-06-02T06:29:52.204134Z",
     "start_time": "2025-06-02T06:29:52.199392Z"
    }
   },
   "cell_type": "code",
   "source": "arr2[[1,2]]   # arr2[[1,2], :]",
   "id": "69993be19a50563e",
   "outputs": [
    {
     "data": {
      "text/plain": [
       "array([[ 3.11400637, 21.78101828,  9.04733226,  8.45099791],\n",
       "       [20.92768488, 11.75659199, 13.48041337, 24.5948081 ]])"
      ]
     },
     "execution_count": 56,
     "metadata": {},
     "output_type": "execute_result"
    }
   ],
   "execution_count": 56
  },
  {
   "metadata": {
    "ExecuteTime": {
     "end_time": "2025-06-02T06:29:52.209439Z",
     "start_time": "2025-06-02T06:29:52.205140Z"
    }
   },
   "cell_type": "code",
   "source": "c[0:1, 1:3, 0:2]",
   "id": "398040df83a7a78e",
   "outputs": [
    {
     "data": {
      "text/plain": [
       "array([[[4, 5]]])"
      ]
     },
     "execution_count": 57,
     "metadata": {},
     "output_type": "execute_result"
    }
   ],
   "execution_count": 57
  },
  {
   "metadata": {},
   "cell_type": "markdown",
   "source": " # Transpose",
   "id": "4f212649da7df18b"
  },
  {
   "metadata": {
    "ExecuteTime": {
     "end_time": "2025-06-02T06:29:52.214874Z",
     "start_time": "2025-06-02T06:29:52.210458Z"
    }
   },
   "cell_type": "code",
   "source": "arr2.T",
   "id": "58bba14dcb1103ea",
   "outputs": [
    {
     "data": {
      "text/plain": [
       "array([[19.96065439,  3.11400637, 20.92768488],\n",
       "       [17.56840023, 21.78101828, 11.75659199],\n",
       "       [24.3355061 ,  9.04733226, 13.48041337],\n",
       "       [ 1.01436537,  8.45099791, 24.5948081 ]])"
      ]
     },
     "execution_count": 58,
     "metadata": {},
     "output_type": "execute_result"
    }
   ],
   "execution_count": 58
  },
  {
   "metadata": {},
   "cell_type": "markdown",
   "source": "# 1D Convert",
   "id": "42be45390ef8ad3a"
  },
  {
   "metadata": {
    "ExecuteTime": {
     "end_time": "2025-06-02T06:29:52.220050Z",
     "start_time": "2025-06-02T06:29:52.215880Z"
    }
   },
   "cell_type": "code",
   "source": "arr2.ravel()",
   "id": "e181112ae51c2075",
   "outputs": [
    {
     "data": {
      "text/plain": [
       "array([19.96065439, 17.56840023, 24.3355061 ,  1.01436537,  3.11400637,\n",
       "       21.78101828,  9.04733226,  8.45099791, 20.92768488, 11.75659199,\n",
       "       13.48041337, 24.5948081 ])"
      ]
     },
     "execution_count": 59,
     "metadata": {},
     "output_type": "execute_result"
    }
   ],
   "execution_count": 59
  },
  {
   "metadata": {},
   "cell_type": "markdown",
   "source": "# hstack",
   "id": "f68edc0c6e3b7ed6"
  },
  {
   "metadata": {
    "ExecuteTime": {
     "end_time": "2025-06-02T06:29:52.225468Z",
     "start_time": "2025-06-02T06:29:52.221086Z"
    }
   },
   "cell_type": "code",
   "source": [
    "arr1 = (np.random.random(6).reshape(3,2)) * 25\n",
    "arr1"
   ],
   "id": "d001e71c28bf5c4b",
   "outputs": [
    {
     "data": {
      "text/plain": [
       "array([[21.7517993 , 14.2824449 ],\n",
       "       [ 1.12002726,  3.71221047],\n",
       "       [ 0.22092178,  2.35648868]])"
      ]
     },
     "execution_count": 60,
     "metadata": {},
     "output_type": "execute_result"
    }
   ],
   "execution_count": 60
  },
  {
   "metadata": {
    "ExecuteTime": {
     "end_time": "2025-06-02T06:29:52.231782Z",
     "start_time": "2025-06-02T06:29:52.226815Z"
    }
   },
   "cell_type": "code",
   "source": [
    "arr2 = (np.random.random(6).reshape(3,2)) * 25\n",
    "arr2"
   ],
   "id": "65bc1c3edc71204f",
   "outputs": [
    {
     "data": {
      "text/plain": [
       "array([[21.67955198, 24.59305725],\n",
       "       [ 2.88262322,  0.61517501],\n",
       "       [23.33134424, 11.97203467]])"
      ]
     },
     "execution_count": 61,
     "metadata": {},
     "output_type": "execute_result"
    }
   ],
   "execution_count": 61
  },
  {
   "metadata": {
    "ExecuteTime": {
     "end_time": "2025-06-02T06:29:52.237359Z",
     "start_time": "2025-06-02T06:29:52.232788Z"
    }
   },
   "cell_type": "code",
   "source": [
    "new_arr = np.hstack((arr1, arr2))\n",
    "new_arr"
   ],
   "id": "bdd99aec73a0e63f",
   "outputs": [
    {
     "data": {
      "text/plain": [
       "array([[21.7517993 , 14.2824449 , 21.67955198, 24.59305725],\n",
       "       [ 1.12002726,  3.71221047,  2.88262322,  0.61517501],\n",
       "       [ 0.22092178,  2.35648868, 23.33134424, 11.97203467]])"
      ]
     },
     "execution_count": 62,
     "metadata": {},
     "output_type": "execute_result"
    }
   ],
   "execution_count": 62
  },
  {
   "metadata": {},
   "cell_type": "markdown",
   "source": "# hsplit",
   "id": "501bc9868b562cb0"
  },
  {
   "metadata": {
    "ExecuteTime": {
     "end_time": "2025-06-02T06:29:52.243617Z",
     "start_time": "2025-06-02T06:29:52.238363Z"
    }
   },
   "cell_type": "code",
   "source": "np.hsplit(new_arr, 2)",
   "id": "4b446a4b38ca8e8c",
   "outputs": [
    {
     "data": {
      "text/plain": [
       "[array([[21.7517993 , 14.2824449 ],\n",
       "        [ 1.12002726,  3.71221047],\n",
       "        [ 0.22092178,  2.35648868]]),\n",
       " array([[21.67955198, 24.59305725],\n",
       "        [ 2.88262322,  0.61517501],\n",
       "        [23.33134424, 11.97203467]])]"
      ]
     },
     "execution_count": 63,
     "metadata": {},
     "output_type": "execute_result"
    }
   ],
   "execution_count": 63
  },
  {
   "metadata": {},
   "cell_type": "markdown",
   "source": "# vstack",
   "id": "ddd40e60a7510d10"
  },
  {
   "metadata": {
    "ExecuteTime": {
     "end_time": "2025-06-02T06:29:52.248813Z",
     "start_time": "2025-06-02T06:29:52.244625Z"
    }
   },
   "cell_type": "code",
   "source": [
    "new_arr = np.vstack((arr1, arr2))\n",
    "new_arr"
   ],
   "id": "3dae53fbd96390b4",
   "outputs": [
    {
     "data": {
      "text/plain": [
       "array([[21.7517993 , 14.2824449 ],\n",
       "       [ 1.12002726,  3.71221047],\n",
       "       [ 0.22092178,  2.35648868],\n",
       "       [21.67955198, 24.59305725],\n",
       "       [ 2.88262322,  0.61517501],\n",
       "       [23.33134424, 11.97203467]])"
      ]
     },
     "execution_count": 64,
     "metadata": {},
     "output_type": "execute_result"
    }
   ],
   "execution_count": 64
  },
  {
   "metadata": {},
   "cell_type": "markdown",
   "source": "# vsplit",
   "id": "8d3cf8edeb985c70"
  },
  {
   "metadata": {
    "ExecuteTime": {
     "end_time": "2025-06-02T06:29:52.255231Z",
     "start_time": "2025-06-02T06:29:52.249819Z"
    }
   },
   "cell_type": "code",
   "source": "np.vsplit(new_arr, 3)",
   "id": "22d8c58607a7d8f4",
   "outputs": [
    {
     "data": {
      "text/plain": [
       "[array([[21.7517993 , 14.2824449 ],\n",
       "        [ 1.12002726,  3.71221047]]),\n",
       " array([[ 0.22092178,  2.35648868],\n",
       "        [21.67955198, 24.59305725]]),\n",
       " array([[ 2.88262322,  0.61517501],\n",
       "        [23.33134424, 11.97203467]])]"
      ]
     },
     "execution_count": 65,
     "metadata": {},
     "output_type": "execute_result"
    }
   ],
   "execution_count": 65
  },
  {
   "metadata": {
    "ExecuteTime": {
     "end_time": "2025-06-02T06:29:52.258198Z",
     "start_time": "2025-06-02T06:29:52.256261Z"
    }
   },
   "cell_type": "code",
   "source": "",
   "id": "9ab3e5da9aabb8d5",
   "outputs": [],
   "execution_count": 65
  }
 ],
 "metadata": {
  "kernelspec": {
   "display_name": "Python 3",
   "language": "python",
   "name": "python3"
  },
  "language_info": {
   "codemirror_mode": {
    "name": "ipython",
    "version": 2
   },
   "file_extension": ".py",
   "mimetype": "text/x-python",
   "name": "python",
   "nbconvert_exporter": "python",
   "pygments_lexer": "ipython2",
   "version": "2.7.6"
  }
 },
 "nbformat": 4,
 "nbformat_minor": 5
}
