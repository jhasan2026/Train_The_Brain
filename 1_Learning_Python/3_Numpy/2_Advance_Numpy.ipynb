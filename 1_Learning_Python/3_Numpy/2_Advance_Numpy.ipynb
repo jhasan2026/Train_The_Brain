{
 "cells": [
  {
   "cell_type": "code",
   "id": "initial_id",
   "metadata": {
    "collapsed": true,
    "ExecuteTime": {
     "end_time": "2025-04-12T15:00:36.906735Z",
     "start_time": "2025-04-12T15:00:36.901794Z"
    }
   },
   "source": "import numpy as np",
   "outputs": [],
   "execution_count": 39
  },
  {
   "metadata": {
    "ExecuteTime": {
     "end_time": "2025-04-12T15:00:36.939308Z",
     "start_time": "2025-04-12T15:00:36.933323Z"
    }
   },
   "cell_type": "code",
   "source": [
    "arr = (np.random.random(24) * 25).reshape(4,6)\n",
    "arr"
   ],
   "id": "2296a8d92127383d",
   "outputs": [
    {
     "data": {
      "text/plain": [
       "array([[15.26333792, 17.21707399, 12.4752108 , 23.05756855, 23.14315921,\n",
       "        10.59486843],\n",
       "       [ 8.08780817, 16.90820646, 10.26721885,  3.52200865, 23.09249228,\n",
       "        11.09007278],\n",
       "       [12.51084288, 20.51112317, 24.24581682, 15.53991684, 12.92790427,\n",
       "        15.10289522],\n",
       "       [10.16865866,  3.84846425, 23.66906902, 14.54459946, 14.85377956,\n",
       "        24.43539696]])"
      ]
     },
     "execution_count": 40,
     "metadata": {},
     "output_type": "execute_result"
    }
   ],
   "execution_count": 40
  },
  {
   "metadata": {},
   "cell_type": "markdown",
   "source": "##### 1.Extract the first row",
   "id": "7b2b9a3993609823"
  },
  {
   "metadata": {
    "ExecuteTime": {
     "end_time": "2025-04-12T15:00:36.965131Z",
     "start_time": "2025-04-12T15:00:36.949012Z"
    }
   },
   "cell_type": "code",
   "source": "arr[0,:]",
   "id": "3243fed2a7580d6b",
   "outputs": [
    {
     "data": {
      "text/plain": [
       "array([15.26333792, 17.21707399, 12.4752108 , 23.05756855, 23.14315921,\n",
       "       10.59486843])"
      ]
     },
     "execution_count": 41,
     "metadata": {},
     "output_type": "execute_result"
    }
   ],
   "execution_count": 41
  },
  {
   "metadata": {},
   "cell_type": "markdown",
   "source": "##### 2.Extract the first column",
   "id": "c2cd22e500a0dd0f"
  },
  {
   "metadata": {
    "ExecuteTime": {
     "end_time": "2025-04-12T15:00:36.970458Z",
     "start_time": "2025-04-12T15:00:36.965131Z"
    }
   },
   "cell_type": "code",
   "source": "arr[:,0]",
   "id": "e3f5bc48d5d4854b",
   "outputs": [
    {
     "data": {
      "text/plain": [
       "array([15.26333792,  8.08780817, 12.51084288, 10.16865866])"
      ]
     },
     "execution_count": 42,
     "metadata": {},
     "output_type": "execute_result"
    }
   ],
   "execution_count": 42
  },
  {
   "metadata": {},
   "cell_type": "markdown",
   "source": "##### 3.Extract the last row",
   "id": "730080d12f57fa9a"
  },
  {
   "metadata": {
    "ExecuteTime": {
     "end_time": "2025-04-12T15:00:36.980935Z",
     "start_time": "2025-04-12T15:00:36.970458Z"
    }
   },
   "cell_type": "code",
   "source": "arr[-1,:]",
   "id": "759ed67ca8da2901",
   "outputs": [
    {
     "data": {
      "text/plain": [
       "array([10.16865866,  3.84846425, 23.66906902, 14.54459946, 14.85377956,\n",
       "       24.43539696])"
      ]
     },
     "execution_count": 43,
     "metadata": {},
     "output_type": "execute_result"
    }
   ],
   "execution_count": 43
  },
  {
   "metadata": {},
   "cell_type": "markdown",
   "source": "##### 4.Extract the last column",
   "id": "c1efb0c676688417"
  },
  {
   "metadata": {
    "ExecuteTime": {
     "end_time": "2025-04-12T15:00:36.985899Z",
     "start_time": "2025-04-12T15:00:36.980935Z"
    }
   },
   "cell_type": "code",
   "source": "arr[:, -1]",
   "id": "c7db1615f48520bd",
   "outputs": [
    {
     "data": {
      "text/plain": [
       "array([10.59486843, 11.09007278, 15.10289522, 24.43539696])"
      ]
     },
     "execution_count": 44,
     "metadata": {},
     "output_type": "execute_result"
    }
   ],
   "execution_count": 44
  },
  {
   "metadata": {},
   "cell_type": "markdown",
   "source": "##### 5.Extract a submatrix (first 2 rows and 3 columns)",
   "id": "4ad1e6df7961fe83"
  },
  {
   "metadata": {
    "ExecuteTime": {
     "end_time": "2025-04-12T15:00:36.994741Z",
     "start_time": "2025-04-12T15:00:36.985899Z"
    }
   },
   "cell_type": "code",
   "source": "arr[:2,:3]",
   "id": "9fa3287c07f1e314",
   "outputs": [
    {
     "data": {
      "text/plain": [
       "array([[15.26333792, 17.21707399, 12.4752108 ],\n",
       "       [ 8.08780817, 16.90820646, 10.26721885]])"
      ]
     },
     "execution_count": 45,
     "metadata": {},
     "output_type": "execute_result"
    }
   ],
   "execution_count": 45
  },
  {
   "metadata": {},
   "cell_type": "markdown",
   "source": "##### 6. Reverse the rows of a 2D array",
   "id": "f4004ae1d552391b"
  },
  {
   "metadata": {
    "ExecuteTime": {
     "end_time": "2025-04-12T15:00:37.019105Z",
     "start_time": "2025-04-12T15:00:37.008891Z"
    }
   },
   "cell_type": "code",
   "source": "arr[::-1, :]",
   "id": "4ce294cb27b26c18",
   "outputs": [
    {
     "data": {
      "text/plain": [
       "array([[10.16865866,  3.84846425, 23.66906902, 14.54459946, 14.85377956,\n",
       "        24.43539696],\n",
       "       [12.51084288, 20.51112317, 24.24581682, 15.53991684, 12.92790427,\n",
       "        15.10289522],\n",
       "       [ 8.08780817, 16.90820646, 10.26721885,  3.52200865, 23.09249228,\n",
       "        11.09007278],\n",
       "       [15.26333792, 17.21707399, 12.4752108 , 23.05756855, 23.14315921,\n",
       "        10.59486843]])"
      ]
     },
     "execution_count": 46,
     "metadata": {},
     "output_type": "execute_result"
    }
   ],
   "execution_count": 46
  },
  {
   "metadata": {},
   "cell_type": "markdown",
   "source": "# Boolean Indexing",
   "id": "989e192315d1804d"
  },
  {
   "metadata": {
    "ExecuteTime": {
     "end_time": "2025-04-12T15:00:37.042249Z",
     "start_time": "2025-04-12T15:00:37.036621Z"
    }
   },
   "cell_type": "code",
   "source": "arr > 10",
   "id": "cdf18328e8675fb8",
   "outputs": [
    {
     "data": {
      "text/plain": [
       "array([[ True,  True,  True,  True,  True,  True],\n",
       "       [False,  True,  True, False,  True,  True],\n",
       "       [ True,  True,  True,  True,  True,  True],\n",
       "       [ True, False,  True,  True,  True,  True]])"
      ]
     },
     "execution_count": 47,
     "metadata": {},
     "output_type": "execute_result"
    }
   ],
   "execution_count": 47
  },
  {
   "metadata": {
    "ExecuteTime": {
     "end_time": "2025-04-12T15:00:37.079616Z",
     "start_time": "2025-04-12T15:00:37.075719Z"
    }
   },
   "cell_type": "code",
   "source": "arr[ arr > 10 ]",
   "id": "1083eb1c520bbc98",
   "outputs": [
    {
     "data": {
      "text/plain": [
       "array([15.26333792, 17.21707399, 12.4752108 , 23.05756855, 23.14315921,\n",
       "       10.59486843, 16.90820646, 10.26721885, 23.09249228, 11.09007278,\n",
       "       12.51084288, 20.51112317, 24.24581682, 15.53991684, 12.92790427,\n",
       "       15.10289522, 10.16865866, 23.66906902, 14.54459946, 14.85377956,\n",
       "       24.43539696])"
      ]
     },
     "execution_count": 48,
     "metadata": {},
     "output_type": "execute_result"
    }
   ],
   "execution_count": 48
  },
  {
   "metadata": {
    "ExecuteTime": {
     "end_time": "2025-04-12T15:13:23.839992Z",
     "start_time": "2025-04-12T15:13:23.830130Z"
    }
   },
   "cell_type": "code",
   "source": [
    "arr2 = np.random.randint(1,25, (4,6))\n",
    "arr2"
   ],
   "id": "687aefe1530aac00",
   "outputs": [
    {
     "data": {
      "text/plain": [
       "array([[ 3,  7,  1, 20, 15,  9],\n",
       "       [12, 22, 24, 15, 22,  1],\n",
       "       [21, 16,  6, 20, 20, 18],\n",
       "       [22, 12,  9, 12, 10, 17]])"
      ]
     },
     "execution_count": 65,
     "metadata": {},
     "output_type": "execute_result"
    }
   ],
   "execution_count": 65
  },
  {
   "metadata": {
    "ExecuteTime": {
     "end_time": "2025-04-12T15:13:25.026806Z",
     "start_time": "2025-04-12T15:13:25.007181Z"
    }
   },
   "cell_type": "code",
   "source": "arr2 % 2 == 0",
   "id": "4551b87b2f9a2cce",
   "outputs": [
    {
     "data": {
      "text/plain": [
       "array([[False, False, False,  True, False, False],\n",
       "       [ True,  True,  True, False,  True, False],\n",
       "       [False,  True,  True,  True,  True,  True],\n",
       "       [ True,  True, False,  True,  True, False]])"
      ]
     },
     "execution_count": 66,
     "metadata": {},
     "output_type": "execute_result"
    }
   ],
   "execution_count": 66
  },
  {
   "metadata": {
    "ExecuteTime": {
     "end_time": "2025-04-12T15:13:25.351714Z",
     "start_time": "2025-04-12T15:13:25.343232Z"
    }
   },
   "cell_type": "code",
   "source": "(arr2 % 2 == 0) & (arr2 > 10)",
   "id": "3e44f9a52644356b",
   "outputs": [
    {
     "data": {
      "text/plain": [
       "array([[False, False, False,  True, False, False],\n",
       "       [ True,  True,  True, False,  True, False],\n",
       "       [False,  True, False,  True,  True,  True],\n",
       "       [ True,  True, False,  True, False, False]])"
      ]
     },
     "execution_count": 67,
     "metadata": {},
     "output_type": "execute_result"
    }
   ],
   "execution_count": 67
  },
  {
   "metadata": {
    "ExecuteTime": {
     "end_time": "2025-04-12T15:13:25.543455Z",
     "start_time": "2025-04-12T15:13:25.538162Z"
    }
   },
   "cell_type": "code",
   "source": "arr2[ arr2 % 2 == 0 ]",
   "id": "1a676936b4a73c53",
   "outputs": [
    {
     "data": {
      "text/plain": [
       "array([20, 12, 22, 24, 22, 16,  6, 20, 20, 18, 22, 12, 12, 10])"
      ]
     },
     "execution_count": 68,
     "metadata": {},
     "output_type": "execute_result"
    }
   ],
   "execution_count": 68
  },
  {
   "metadata": {
    "ExecuteTime": {
     "end_time": "2025-04-12T15:13:25.764426Z",
     "start_time": "2025-04-12T15:13:25.755046Z"
    }
   },
   "cell_type": "code",
   "source": "arr2[ (arr2 % 2 == 0) & (arr2 > 10) ]",
   "id": "e546cd658dbb83f",
   "outputs": [
    {
     "data": {
      "text/plain": [
       "array([20, 12, 22, 24, 22, 16, 20, 20, 18, 22, 12, 12])"
      ]
     },
     "execution_count": 69,
     "metadata": {},
     "output_type": "execute_result"
    }
   ],
   "execution_count": 69
  },
  {
   "metadata": {},
   "cell_type": "markdown",
   "source": "# Missing Value Check",
   "id": "2a857f6b1140436e"
  },
  {
   "metadata": {
    "ExecuteTime": {
     "end_time": "2025-04-12T15:28:14.403079Z",
     "start_time": "2025-04-12T15:28:14.391567Z"
    }
   },
   "cell_type": "code",
   "source": [
    "misArr = np.array([[1,np.nan],[3,4]])\n",
    "misArr"
   ],
   "id": "6ea4f08fe960ce32",
   "outputs": [
    {
     "data": {
      "text/plain": [
       "array([[ 1., nan],\n",
       "       [ 3.,  4.]])"
      ]
     },
     "execution_count": 72,
     "metadata": {},
     "output_type": "execute_result"
    }
   ],
   "execution_count": 72
  },
  {
   "metadata": {
    "ExecuteTime": {
     "end_time": "2025-04-12T15:28:31.620878Z",
     "start_time": "2025-04-12T15:28:31.611603Z"
    }
   },
   "cell_type": "code",
   "source": "np.isnan(misArr)",
   "id": "67037b8147b10899",
   "outputs": [
    {
     "data": {
      "text/plain": [
       "array([[False,  True],\n",
       "       [False, False]])"
      ]
     },
     "execution_count": 73,
     "metadata": {},
     "output_type": "execute_result"
    }
   ],
   "execution_count": 73
  },
  {
   "metadata": {
    "ExecuteTime": {
     "end_time": "2025-04-12T15:28:47.726580Z",
     "start_time": "2025-04-12T15:28:47.719709Z"
    }
   },
   "cell_type": "code",
   "source": "misArr[ np.isnan(misArr) ]",
   "id": "274dc32dec7baa97",
   "outputs": [
    {
     "data": {
      "text/plain": [
       "array([nan])"
      ]
     },
     "execution_count": 74,
     "metadata": {},
     "output_type": "execute_result"
    }
   ],
   "execution_count": 74
  },
  {
   "metadata": {
    "ExecuteTime": {
     "end_time": "2025-04-12T15:29:03.617376Z",
     "start_time": "2025-04-12T15:29:03.609701Z"
    }
   },
   "cell_type": "code",
   "source": "misArr[ ~ np.isnan(misArr) ]",
   "id": "77cdc68be1d7d090",
   "outputs": [
    {
     "data": {
      "text/plain": [
       "array([1., 3., 4.])"
      ]
     },
     "execution_count": 75,
     "metadata": {},
     "output_type": "execute_result"
    }
   ],
   "execution_count": 75
  },
  {
   "metadata": {},
   "cell_type": "markdown",
   "source": "# Random Number",
   "id": "d6c78e4902288b2d"
  },
  {
   "metadata": {
    "ExecuteTime": {
     "end_time": "2025-04-12T15:13:26.206449Z",
     "start_time": "2025-04-12T15:13:26.197820Z"
    }
   },
   "cell_type": "code",
   "source": "np.random.rand(2,3)",
   "id": "1126f157ac3bae1e",
   "outputs": [
    {
     "data": {
      "text/plain": [
       "array([[0.69092982, 0.33564443, 0.01790185],\n",
       "       [0.66584058, 0.04633107, 0.49155411]])"
      ]
     },
     "execution_count": 70,
     "metadata": {},
     "output_type": "execute_result"
    }
   ],
   "execution_count": 70
  },
  {
   "metadata": {
    "ExecuteTime": {
     "end_time": "2025-04-12T15:13:26.927606Z",
     "start_time": "2025-04-12T15:13:26.918657Z"
    }
   },
   "cell_type": "code",
   "source": "np.random.randint(1,10 , (2,3))",
   "id": "cf54143b3cf7afd4",
   "outputs": [
    {
     "data": {
      "text/plain": [
       "array([[7, 1, 2],\n",
       "       [8, 5, 2]])"
      ]
     },
     "execution_count": 71,
     "metadata": {},
     "output_type": "execute_result"
    }
   ],
   "execution_count": 71
  },
  {
   "metadata": {
    "ExecuteTime": {
     "end_time": "2025-04-12T15:12:08.486903Z",
     "start_time": "2025-04-12T15:12:08.438636Z"
    }
   },
   "cell_type": "code",
   "source": "np.random.randn(3,3)",
   "id": "2c59e17003a9d05a",
   "outputs": [
    {
     "data": {
      "text/plain": [
       "array([[ 0.51395313, -1.15195171,  0.29816171],\n",
       "       [-2.52133179,  0.87689032, -0.72541254],\n",
       "       [-0.81686152,  0.30670051,  0.22476576]])"
      ]
     },
     "execution_count": 62,
     "metadata": {},
     "output_type": "execute_result"
    }
   ],
   "execution_count": 62
  },
  {
   "metadata": {
    "ExecuteTime": {
     "end_time": "2025-04-12T15:12:42.590138Z",
     "start_time": "2025-04-12T15:12:42.579040Z"
    }
   },
   "cell_type": "code",
   "source": "np.random.uniform(1, 5, (2,2))",
   "id": "3087914533fb371e",
   "outputs": [
    {
     "data": {
      "text/plain": [
       "array([[1.61106884, 1.98788207],\n",
       "       [3.49922804, 3.67902836]])"
      ]
     },
     "execution_count": 64,
     "metadata": {},
     "output_type": "execute_result"
    }
   ],
   "execution_count": 64
  },
  {
   "metadata": {},
   "cell_type": "markdown",
   "source": "# Broadcasting",
   "id": "64e5c6395a9d18e2"
  },
  {
   "metadata": {},
   "cell_type": "markdown",
   "source": [
    "#### Broadcasting Rules\n",
    "\n",
    "**1. Make the two arrays have the same number of dimensions.**<br>\n",
    "- If the numbers of dimensions of the two arrays are different, add new dimensions with size 1 to the head of the array with the smaller dimension.<br>\n",
    "\n",
    "**2. Make each dimension of the two arrays the same size.**<br>\n",
    "- If the sizes of each dimension of the two arrays do not match, dimensions with size 1 are stretched to the size of the other array.\n",
    "- If there is a dimension whose size is not 1 in either of the two arrays, it cannot be broadcasted, and an error is raised.\n",
    "\n",
    "<img src = \"https://jakevdp.github.io/PythonDataScienceHandbook/figures/02.05-broadcasting.png\">"
   ],
   "id": "1a937c6eab190bda"
  },
  {
   "metadata": {
    "ExecuteTime": {
     "end_time": "2025-04-12T15:31:34.696650Z",
     "start_time": "2025-04-12T15:31:34.691778Z"
    }
   },
   "cell_type": "code",
   "source": [
    "arr1 = np.random.randint(1,20, (3,4))\n",
    "arr2 = np.random.randint(1,20, (4))\n",
    "arr1 + arr2"
   ],
   "id": "828de212ebeaa6e6",
   "outputs": [
    {
     "data": {
      "text/plain": [
       "array([[ 9,  7, 19,  6],\n",
       "       [16,  7,  7, 15],\n",
       "       [15, 25, 20,  3]])"
      ]
     },
     "execution_count": 78,
     "metadata": {},
     "output_type": "execute_result"
    }
   ],
   "execution_count": 78
  },
  {
   "metadata": {
    "ExecuteTime": {
     "end_time": "2025-04-12T15:32:07.414902Z",
     "start_time": "2025-04-12T15:32:07.402272Z"
    }
   },
   "cell_type": "code",
   "source": [
    "arr1 = np.random.randint(1,20, (3,4))\n",
    "arr2 = np.random.randint(1,20, (3))\n",
    "arr1 + arr2"
   ],
   "id": "57710454c5dec681",
   "outputs": [
    {
     "ename": "ValueError",
     "evalue": "operands could not be broadcast together with shapes (3,4) (3,) ",
     "output_type": "error",
     "traceback": [
      "\u001B[1;31m---------------------------------------------------------------------------\u001B[0m",
      "\u001B[1;31mValueError\u001B[0m                                Traceback (most recent call last)",
      "Cell \u001B[1;32mIn[79], line 3\u001B[0m\n\u001B[0;32m      1\u001B[0m arr1 \u001B[38;5;241m=\u001B[39m np\u001B[38;5;241m.\u001B[39mrandom\u001B[38;5;241m.\u001B[39mrandint(\u001B[38;5;241m1\u001B[39m,\u001B[38;5;241m20\u001B[39m, (\u001B[38;5;241m3\u001B[39m,\u001B[38;5;241m4\u001B[39m))\n\u001B[0;32m      2\u001B[0m arr2 \u001B[38;5;241m=\u001B[39m np\u001B[38;5;241m.\u001B[39mrandom\u001B[38;5;241m.\u001B[39mrandint(\u001B[38;5;241m1\u001B[39m,\u001B[38;5;241m20\u001B[39m, (\u001B[38;5;241m3\u001B[39m))\n\u001B[1;32m----> 3\u001B[0m arr1 \u001B[38;5;241m+\u001B[39m arr2\n",
      "\u001B[1;31mValueError\u001B[0m: operands could not be broadcast together with shapes (3,4) (3,) "
     ]
    }
   ],
   "execution_count": 79
  },
  {
   "metadata": {
    "ExecuteTime": {
     "end_time": "2025-04-12T15:32:25.592Z",
     "start_time": "2025-04-12T15:32:25.587257Z"
    }
   },
   "cell_type": "code",
   "source": [
    "arr1 = np.random.randint(1,20, (1,3))\n",
    "arr2 = np.random.randint(1,20, (4,3))\n",
    "arr1 + arr2"
   ],
   "id": "82f2ec21e07aeb37",
   "outputs": [
    {
     "data": {
      "text/plain": [
       "array([[ 6, 34, 21],\n",
       "       [18, 29, 18],\n",
       "       [16, 36, 18],\n",
       "       [10, 19, 16]])"
      ]
     },
     "execution_count": 80,
     "metadata": {},
     "output_type": "execute_result"
    }
   ],
   "execution_count": 80
  },
  {
   "metadata": {
    "ExecuteTime": {
     "end_time": "2025-04-12T15:32:40.119862Z",
     "start_time": "2025-04-12T15:32:40.115209Z"
    }
   },
   "cell_type": "code",
   "source": [
    "arr1 = np.random.randint(1,20, (1))\n",
    "arr2 = np.random.randint(1,20, (2,2))\n",
    "arr1 + arr2"
   ],
   "id": "5ee27c9cc0913b80",
   "outputs": [
    {
     "data": {
      "text/plain": [
       "array([[37, 23],\n",
       "       [36, 29]])"
      ]
     },
     "execution_count": 81,
     "metadata": {},
     "output_type": "execute_result"
    }
   ],
   "execution_count": 81
  },
  {
   "metadata": {
    "ExecuteTime": {
     "end_time": "2025-04-12T15:32:55.184001Z",
     "start_time": "2025-04-12T15:32:55.171365Z"
    }
   },
   "cell_type": "code",
   "source": [
    "arr1 = np.random.randint(1,20, (3,4))\n",
    "arr2 = np.random.randint(1,20, (4,3))\n",
    "arr1 + arr2"
   ],
   "id": "ea5f5c271b5d2160",
   "outputs": [
    {
     "ename": "ValueError",
     "evalue": "operands could not be broadcast together with shapes (3,4) (4,3) ",
     "output_type": "error",
     "traceback": [
      "\u001B[1;31m---------------------------------------------------------------------------\u001B[0m",
      "\u001B[1;31mValueError\u001B[0m                                Traceback (most recent call last)",
      "Cell \u001B[1;32mIn[82], line 3\u001B[0m\n\u001B[0;32m      1\u001B[0m arr1 \u001B[38;5;241m=\u001B[39m np\u001B[38;5;241m.\u001B[39mrandom\u001B[38;5;241m.\u001B[39mrandint(\u001B[38;5;241m1\u001B[39m,\u001B[38;5;241m20\u001B[39m, (\u001B[38;5;241m3\u001B[39m,\u001B[38;5;241m4\u001B[39m))\n\u001B[0;32m      2\u001B[0m arr2 \u001B[38;5;241m=\u001B[39m np\u001B[38;5;241m.\u001B[39mrandom\u001B[38;5;241m.\u001B[39mrandint(\u001B[38;5;241m1\u001B[39m,\u001B[38;5;241m20\u001B[39m, (\u001B[38;5;241m4\u001B[39m,\u001B[38;5;241m3\u001B[39m))\n\u001B[1;32m----> 3\u001B[0m arr1 \u001B[38;5;241m+\u001B[39m arr2\n",
      "\u001B[1;31mValueError\u001B[0m: operands could not be broadcast together with shapes (3,4) (4,3) "
     ]
    }
   ],
   "execution_count": 82
  },
  {
   "metadata": {
    "ExecuteTime": {
     "end_time": "2025-04-12T15:33:03.528168Z",
     "start_time": "2025-04-12T15:33:03.514859Z"
    }
   },
   "cell_type": "code",
   "source": [
    "arr1 = np.random.randint(1,20, (4,4))\n",
    "arr2 = np.random.randint(1,20, (2,2))\n",
    "arr1 + arr2"
   ],
   "id": "c6bb133493daaea2",
   "outputs": [
    {
     "ename": "ValueError",
     "evalue": "operands could not be broadcast together with shapes (4,4) (2,2) ",
     "output_type": "error",
     "traceback": [
      "\u001B[1;31m---------------------------------------------------------------------------\u001B[0m",
      "\u001B[1;31mValueError\u001B[0m                                Traceback (most recent call last)",
      "Cell \u001B[1;32mIn[83], line 3\u001B[0m\n\u001B[0;32m      1\u001B[0m arr1 \u001B[38;5;241m=\u001B[39m np\u001B[38;5;241m.\u001B[39mrandom\u001B[38;5;241m.\u001B[39mrandint(\u001B[38;5;241m1\u001B[39m,\u001B[38;5;241m20\u001B[39m, (\u001B[38;5;241m4\u001B[39m,\u001B[38;5;241m4\u001B[39m))\n\u001B[0;32m      2\u001B[0m arr2 \u001B[38;5;241m=\u001B[39m np\u001B[38;5;241m.\u001B[39mrandom\u001B[38;5;241m.\u001B[39mrandint(\u001B[38;5;241m1\u001B[39m,\u001B[38;5;241m20\u001B[39m, (\u001B[38;5;241m2\u001B[39m,\u001B[38;5;241m2\u001B[39m))\n\u001B[1;32m----> 3\u001B[0m arr1 \u001B[38;5;241m+\u001B[39m arr2\n",
      "\u001B[1;31mValueError\u001B[0m: operands could not be broadcast together with shapes (4,4) (2,2) "
     ]
    }
   ],
   "execution_count": 83
  },
  {
   "metadata": {},
   "cell_type": "code",
   "outputs": [],
   "execution_count": null,
   "source": "",
   "id": "d82975c02ef72bc6"
  }
 ],
 "metadata": {
  "kernelspec": {
   "display_name": "Python 3",
   "language": "python",
   "name": "python3"
  },
  "language_info": {
   "codemirror_mode": {
    "name": "ipython",
    "version": 2
   },
   "file_extension": ".py",
   "mimetype": "text/x-python",
   "name": "python",
   "nbconvert_exporter": "python",
   "pygments_lexer": "ipython2",
   "version": "2.7.6"
  }
 },
 "nbformat": 4,
 "nbformat_minor": 5
}
