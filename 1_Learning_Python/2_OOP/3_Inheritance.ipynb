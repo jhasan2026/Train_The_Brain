{
 "cells": [
  {
   "metadata": {},
   "cell_type": "markdown",
   "source": "# 1. Single Inheritance",
   "id": "41efbfefa5796373"
  },
  {
   "metadata": {
    "ExecuteTime": {
     "end_time": "2025-04-12T07:41:29.774456Z",
     "start_time": "2025-04-12T07:41:29.768781Z"
    }
   },
   "cell_type": "code",
   "source": [
    "class Phone:\n",
    "    def __init__(self,price, brand, camera):\n",
    "        self.price = price\n",
    "        self.brand = brand\n",
    "        self.camera = camera\n",
    "        \n",
    "class SmartPhone(Phone):\n",
    "    def __init__(self,price, brand, camera,os, ram):\n",
    "        super().__init__(price,brand,camera)\n",
    "        self.os = os\n",
    "        self.ram = ram   "
   ],
   "id": "2d1b7f13825ec3d6",
   "outputs": [],
   "execution_count": 5
  },
  {
   "metadata": {
    "ExecuteTime": {
     "end_time": "2025-04-12T07:41:29.787579Z",
     "start_time": "2025-04-12T07:41:29.780025Z"
    }
   },
   "cell_type": "code",
   "source": "s = SmartPhone(1200,'MI',24,\"Android\",8)",
   "id": "c3c10d0e923bfa72",
   "outputs": [],
   "execution_count": 6
  },
  {
   "metadata": {},
   "cell_type": "markdown",
   "source": "# 2. Multi Level Inheritance",
   "id": "99e311977abb376b"
  },
  {
   "metadata": {
    "ExecuteTime": {
     "end_time": "2025-04-12T07:43:31.994174Z",
     "start_time": "2025-04-12T07:43:31.978636Z"
    }
   },
   "cell_type": "code",
   "source": [
    "class Phone:\n",
    "    def __init__(self,price, brand, camera):\n",
    "        self.price = price\n",
    "        self.brand = brand\n",
    "        self.camera = camera\n",
    "        \n",
    "class SmartPhone(Phone):\n",
    "    def __init__(self,price, brand, camera,os, ram):\n",
    "        super().__init__(price,brand,camera)\n",
    "        self.os = os\n",
    "        self.ram = ram\n",
    "        \n",
    "class Tab(SmartPhone):\n",
    "    def __init__(self,price, brand, camera,os, ram,processor):\n",
    "        super().__init__(price,brand,camera,os,ram)\n",
    "        self.processor = processor"
   ],
   "id": "f9f8176ba1ff2fa8",
   "outputs": [],
   "execution_count": 7
  },
  {
   "metadata": {
    "ExecuteTime": {
     "end_time": "2025-04-12T07:44:39.291916Z",
     "start_time": "2025-04-12T07:44:39.286476Z"
    }
   },
   "cell_type": "code",
   "source": "t =Tab(1200,\"IPad\",3,\"ios\",4,\"i5\")",
   "id": "659d5dcdb3e13517",
   "outputs": [],
   "execution_count": 9
  },
  {
   "metadata": {},
   "cell_type": "markdown",
   "source": "# 3. Hirarchical Inheritance",
   "id": "e56708ba008c91be"
  },
  {
   "metadata": {
    "ExecuteTime": {
     "end_time": "2025-04-12T07:47:32.263249Z",
     "start_time": "2025-04-12T07:47:32.246286Z"
    }
   },
   "cell_type": "code",
   "source": [
    "class Phone:\n",
    "    def __init__(self,price, brand, camera):\n",
    "        self.price = price\n",
    "        self.brand = brand\n",
    "        self.camera = camera\n",
    "        \n",
    "class SmartPhone(Phone):\n",
    "    def __init__(self,price, brand, camera,os, ram):\n",
    "        super().__init__(price,brand,camera)\n",
    "        self.os = os\n",
    "        self.ram = ram\n",
    "        \n",
    "class LandPhone(Phone):\n",
    "    def __init__(self,price, brand, camera,cable_len):\n",
    "        super().__init__(price,brand,camera)\n",
    "        self.cable_len = cable_len"
   ],
   "id": "129f6ad9ec9ab84a",
   "outputs": [],
   "execution_count": 10
  },
  {
   "metadata": {
    "ExecuteTime": {
     "end_time": "2025-04-12T07:48:57.035402Z",
     "start_time": "2025-04-12T07:48:57.027967Z"
    }
   },
   "cell_type": "code",
   "source": [
    "sp = SmartPhone(1200,'MI',24,\"Android\",8)\n",
    "lp = LandPhone(800,'TNT',0,800)"
   ],
   "id": "4a131539567cddad",
   "outputs": [],
   "execution_count": 11
  },
  {
   "metadata": {},
   "cell_type": "markdown",
   "source": "# 4. Multiple",
   "id": "dd6f931eeca9e418"
  },
  {
   "metadata": {
    "ExecuteTime": {
     "end_time": "2025-04-12T07:53:27.732284Z",
     "start_time": "2025-04-12T07:53:27.722238Z"
    }
   },
   "cell_type": "code",
   "source": [
    "class Phone:\n",
    "    def __init__(self,price, brand, camera):\n",
    "        self.price = price\n",
    "        self.brand = brand\n",
    "        self.camera = camera\n",
    "\n",
    "class PC:\n",
    "    def __init__(self,monitor):\n",
    "        self.monitor = monitor\n",
    "        \n",
    "class Laptop(Phone, PC):\n",
    "    def __init__(self,price, brand, camera,monitor,charge_time):\n",
    "        Phone.__init__(self,price,brand,camera)\n",
    "        PC.__init__(self,monitor)\n",
    "        self.charge_time = charge_time"
   ],
   "id": "f7f4bc9b242bb69f",
   "outputs": [],
   "execution_count": 14
  },
  {
   "metadata": {
    "ExecuteTime": {
     "end_time": "2025-04-12T07:53:28.220363Z",
     "start_time": "2025-04-12T07:53:28.202651Z"
    }
   },
   "cell_type": "code",
   "source": "hp = Laptop(1230,\"HP\",5,22,1)",
   "id": "d4087e5fe1c3970",
   "outputs": [],
   "execution_count": 15
  },
  {
   "metadata": {},
   "cell_type": "code",
   "outputs": [],
   "execution_count": null,
   "source": "",
   "id": "22d3fcdfcc69ff4f"
  }
 ],
 "metadata": {
  "kernelspec": {
   "display_name": "Python 3",
   "language": "python",
   "name": "python3"
  },
  "language_info": {
   "codemirror_mode": {
    "name": "ipython",
    "version": 2
   },
   "file_extension": ".py",
   "mimetype": "text/x-python",
   "name": "python",
   "nbconvert_exporter": "python",
   "pygments_lexer": "ipython2",
   "version": "2.7.6"
  }
 },
 "nbformat": 4,
 "nbformat_minor": 5
}
