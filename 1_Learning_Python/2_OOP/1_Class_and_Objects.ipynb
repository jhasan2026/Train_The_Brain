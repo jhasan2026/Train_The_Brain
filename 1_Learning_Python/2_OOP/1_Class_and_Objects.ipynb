{
 "cells": [
  {
   "cell_type": "code",
   "id": "initial_id",
   "metadata": {
    "collapsed": true,
    "ExecuteTime": {
     "end_time": "2025-04-12T05:58:52.098590Z",
     "start_time": "2025-04-12T05:58:52.092071Z"
    }
   },
   "source": [
    "class Fraction:\n",
    "    # frac1 = Function(num,den)\n",
    "    def __init__(self,numerator,denominator):\n",
    "        self.numerator = numerator\n",
    "        self.denominator = denominator\n",
    "    \n",
    "    # print(frac1)\n",
    "    def __str__(self):\n",
    "        return f\"{self.numerator}/{self.denominator}\"\n",
    "    \n",
    "    # frac1 + frac2\n",
    "    def __add__(self, other):\n",
    "        num = (self.denominator * other.numerator) + (self.numerator * other.denominator)\n",
    "        den = self.denominator * other.denominator  \n",
    "        return \"{} / {}\".format(num, den)\n",
    "    \n",
    "    # frac1 - frac2\n",
    "    def __sub__(self, other):\n",
    "        num = (self.denominator * other.numerator) - (self.numerator * other.denominator)\n",
    "        den = self.denominator * other.denominator  \n",
    "        return \"{} / {}\".format(num, den)\n",
    "    \n",
    "    # frac1 * frac2\n",
    "    def __mul__(self, other):\n",
    "        num = self.numerator * other.numerator\n",
    "        den = self.denominator * other.denominator  \n",
    "        return \"{} / {}\".format(num, den)\n",
    "    \n",
    "    # frac1 / frac2\n",
    "    def __truediv__(self, other):\n",
    "        num = self.numerator * other.denominator\n",
    "        den = self.denominator * other.numerator  \n",
    "        return \"{} / {}\".format(num, den)\n",
    "    \n",
    "    # frac1 == frac2\n",
    "    def __eq__(self, other):\n",
    "        return (self.numerator == other.numerator) and (self.denominator == other.denominator) \n",
    "    \n",
    "    # frac1 != frac2\n",
    "    def __ne__(self, other):\n",
    "        return (self.numerator != other.numerator) and (self.denominator != other.denominator) \n",
    "    \n",
    "    # frac1 > frac2\n",
    "    def __gt__(self, other):\n",
    "        return self.numerator * other.denominator > other.numerator * self.denominator\n",
    "    \n",
    "    # frac1 >= frac2\n",
    "    def __ge__(self, other):\n",
    "        return self.numerator * other.denominator >= other.numerator * self.denominator\n",
    "    \n",
    "    # frac1 < frac2\n",
    "    def __lt__(self, other):\n",
    "        return self.numerator * other.denominator < other.numerator * self.denominator\n",
    "    \n",
    "    # frac1 <= frac2\n",
    "    def __le__(self, other):\n",
    "        return self.numerator * other.denominator <= other.numerator * self.denominator\n"
   ],
   "outputs": [],
   "execution_count": 55
  },
  {
   "metadata": {
    "ExecuteTime": {
     "end_time": "2025-04-12T05:58:54.134972Z",
     "start_time": "2025-04-12T05:58:54.130881Z"
    }
   },
   "cell_type": "code",
   "source": [
    "frac1 = Fraction(3,5)\n",
    "frac2 = Fraction(4,5)\n",
    "print(frac1)"
   ],
   "id": "fec2fa5fa486f761",
   "outputs": [
    {
     "name": "stdout",
     "output_type": "stream",
     "text": [
      "3/5\n"
     ]
    }
   ],
   "execution_count": 56
  },
  {
   "metadata": {
    "ExecuteTime": {
     "end_time": "2025-04-12T05:58:54.295125Z",
     "start_time": "2025-04-12T05:58:54.290122Z"
    }
   },
   "cell_type": "code",
   "source": "frac1 + frac2",
   "id": "b6e12f484f5b6440",
   "outputs": [
    {
     "data": {
      "text/plain": [
       "'35 / 25'"
      ]
     },
     "execution_count": 57,
     "metadata": {},
     "output_type": "execute_result"
    }
   ],
   "execution_count": 57
  },
  {
   "metadata": {
    "ExecuteTime": {
     "end_time": "2025-04-12T05:58:54.526463Z",
     "start_time": "2025-04-12T05:58:54.522150Z"
    }
   },
   "cell_type": "code",
   "source": "frac1 - frac2",
   "id": "227180de3879a3cd",
   "outputs": [
    {
     "data": {
      "text/plain": [
       "'5 / 25'"
      ]
     },
     "execution_count": 58,
     "metadata": {},
     "output_type": "execute_result"
    }
   ],
   "execution_count": 58
  },
  {
   "metadata": {
    "ExecuteTime": {
     "end_time": "2025-04-12T05:58:54.728296Z",
     "start_time": "2025-04-12T05:58:54.723162Z"
    }
   },
   "cell_type": "code",
   "source": "frac1 * frac2",
   "id": "afe7353faf9a14b6",
   "outputs": [
    {
     "data": {
      "text/plain": [
       "'12 / 25'"
      ]
     },
     "execution_count": 59,
     "metadata": {},
     "output_type": "execute_result"
    }
   ],
   "execution_count": 59
  },
  {
   "metadata": {
    "ExecuteTime": {
     "end_time": "2025-04-12T05:58:54.926800Z",
     "start_time": "2025-04-12T05:58:54.921772Z"
    }
   },
   "cell_type": "code",
   "source": "frac1 / frac2",
   "id": "72632bde885445e2",
   "outputs": [
    {
     "data": {
      "text/plain": [
       "'15 / 20'"
      ]
     },
     "execution_count": 60,
     "metadata": {},
     "output_type": "execute_result"
    }
   ],
   "execution_count": 60
  },
  {
   "metadata": {
    "ExecuteTime": {
     "end_time": "2025-04-12T05:58:55.158626Z",
     "start_time": "2025-04-12T05:58:55.154878Z"
    }
   },
   "cell_type": "code",
   "source": "frac1 == frac2",
   "id": "f98eccf3bd1a07ce",
   "outputs": [
    {
     "data": {
      "text/plain": [
       "False"
      ]
     },
     "execution_count": 61,
     "metadata": {},
     "output_type": "execute_result"
    }
   ],
   "execution_count": 61
  },
  {
   "metadata": {
    "ExecuteTime": {
     "end_time": "2025-04-12T05:58:55.350369Z",
     "start_time": "2025-04-12T05:58:55.346338Z"
    }
   },
   "cell_type": "code",
   "source": "frac1 != frac2",
   "id": "8bb0cbc162a9f852",
   "outputs": [
    {
     "data": {
      "text/plain": [
       "False"
      ]
     },
     "execution_count": 62,
     "metadata": {},
     "output_type": "execute_result"
    }
   ],
   "execution_count": 62
  },
  {
   "metadata": {
    "ExecuteTime": {
     "end_time": "2025-04-12T05:58:55.583213Z",
     "start_time": "2025-04-12T05:58:55.577871Z"
    }
   },
   "cell_type": "code",
   "source": "frac1 >= frac2",
   "id": "c86b2087f597c9f1",
   "outputs": [
    {
     "data": {
      "text/plain": [
       "False"
      ]
     },
     "execution_count": 63,
     "metadata": {},
     "output_type": "execute_result"
    }
   ],
   "execution_count": 63
  },
  {
   "metadata": {
    "ExecuteTime": {
     "end_time": "2025-04-12T05:58:55.814540Z",
     "start_time": "2025-04-12T05:58:55.809859Z"
    }
   },
   "cell_type": "code",
   "source": "frac1 <= frac2",
   "id": "9a2ff13ce5a113aa",
   "outputs": [
    {
     "data": {
      "text/plain": [
       "True"
      ]
     },
     "execution_count": 64,
     "metadata": {},
     "output_type": "execute_result"
    }
   ],
   "execution_count": 64
  },
  {
   "metadata": {
    "ExecuteTime": {
     "end_time": "2025-04-12T06:10:52.428875Z",
     "start_time": "2025-04-12T06:10:52.423877Z"
    }
   },
   "cell_type": "code",
   "source": [
    "class Point:\n",
    "    def __init__(self,x_cord,y_cord):\n",
    "        self.x_cord = x_cord\n",
    "        self.y_cord = y_cord\n",
    "        \n",
    "    def __str__(self):\n",
    "        return f'({self.x_cord},{self.y_cord})'\n",
    "    \n",
    "    def euclidain_distance(self,other):\n",
    "        return ((self.x_cord - other.x_cord)**2 + (self.y_cord - other.y_cord)**2)**0.5\n",
    "    \n",
    "    def distance_from_origin(self):\n",
    "        return (self.x_cord**2 + self.y_cord**2)**0.5"
   ],
   "id": "8b88559335e0909c",
   "outputs": [],
   "execution_count": 72
  },
  {
   "metadata": {
    "ExecuteTime": {
     "end_time": "2025-04-12T06:10:52.938479Z",
     "start_time": "2025-04-12T06:10:52.928937Z"
    }
   },
   "cell_type": "code",
   "source": [
    "p1 = Point(3,4)\n",
    "p2 = Point(5,6)\n",
    "print(p1.euclidain_distance(p2))"
   ],
   "id": "46a12d6a9b5bdc9a",
   "outputs": [
    {
     "name": "stdout",
     "output_type": "stream",
     "text": [
      "2.8284271247461903\n"
     ]
    }
   ],
   "execution_count": 73
  },
  {
   "metadata": {
    "ExecuteTime": {
     "end_time": "2025-04-12T06:11:21.074621Z",
     "start_time": "2025-04-12T06:11:21.068149Z"
    }
   },
   "cell_type": "code",
   "source": "p1.distance_from_origin()",
   "id": "396fbc95cd747a10",
   "outputs": [
    {
     "data": {
      "text/plain": [
       "5.0"
      ]
     },
     "execution_count": 75,
     "metadata": {},
     "output_type": "execute_result"
    }
   ],
   "execution_count": 75
  },
  {
   "metadata": {},
   "cell_type": "markdown",
   "source": "# storage",
   "id": "aae9f11e873db998"
  },
  {
   "metadata": {
    "ExecuteTime": {
     "end_time": "2025-04-12T09:31:55.155073Z",
     "start_time": "2025-04-12T09:31:55.149256Z"
    }
   },
   "cell_type": "code",
   "source": [
    "class Storage:\n",
    "    \n",
    "    # st = Storage([1,2,3])\n",
    "    def __init__(self,database):       # this database is an array just\n",
    "        self.database = database\n",
    "        \n",
    "    # len(st)\n",
    "    def __len__(self):\n",
    "        return len(self.database)\n",
    "    \n",
    "    # st[3]\n",
    "    def __getitem__(self, index):\n",
    "        return self.database[index]\n",
    "    \n",
    "    # st[3] = 100\n",
    "    def __setitem__(self, index, value):\n",
    "        self.database[index] = value\n",
    "        \n",
    "    # del st[3]\n",
    "    def __delitem__(self, index):\n",
    "        del self.database[index]\n",
    "        "
   ],
   "id": "270c9e2104ef9a7b",
   "outputs": [],
   "execution_count": 9
  },
  {
   "metadata": {
    "ExecuteTime": {
     "end_time": "2025-04-12T09:31:55.774409Z",
     "start_time": "2025-04-12T09:31:55.761006Z"
    }
   },
   "cell_type": "code",
   "source": "store = Storage([100,200,300,400])",
   "id": "646c40b0acc79d3f",
   "outputs": [],
   "execution_count": 10
  },
  {
   "metadata": {
    "ExecuteTime": {
     "end_time": "2025-04-12T09:31:56.127871Z",
     "start_time": "2025-04-12T09:31:56.118049Z"
    }
   },
   "cell_type": "code",
   "source": "len(store)",
   "id": "1d5c2c6d14a12d48",
   "outputs": [
    {
     "data": {
      "text/plain": [
       "4"
      ]
     },
     "execution_count": 11,
     "metadata": {},
     "output_type": "execute_result"
    }
   ],
   "execution_count": 11
  },
  {
   "metadata": {
    "ExecuteTime": {
     "end_time": "2025-04-12T09:31:56.386786Z",
     "start_time": "2025-04-12T09:31:56.376015Z"
    }
   },
   "cell_type": "code",
   "source": "store[2]",
   "id": "89adcda3fad21054",
   "outputs": [
    {
     "data": {
      "text/plain": [
       "300"
      ]
     },
     "execution_count": 12,
     "metadata": {},
     "output_type": "execute_result"
    }
   ],
   "execution_count": 12
  },
  {
   "metadata": {
    "ExecuteTime": {
     "end_time": "2025-04-12T09:31:56.652875Z",
     "start_time": "2025-04-12T09:31:56.648891Z"
    }
   },
   "cell_type": "code",
   "source": [
    "store[2] = 900\n",
    "print(store[2])"
   ],
   "id": "253b0bb71ff84970",
   "outputs": [
    {
     "name": "stdout",
     "output_type": "stream",
     "text": [
      "900\n"
     ]
    }
   ],
   "execution_count": 13
  },
  {
   "metadata": {
    "ExecuteTime": {
     "end_time": "2025-04-12T09:32:07.464403Z",
     "start_time": "2025-04-12T09:32:07.451559Z"
    }
   },
   "cell_type": "code",
   "source": "del store[3]",
   "id": "3b82f130ec8784e8",
   "outputs": [],
   "execution_count": 14
  },
  {
   "metadata": {
    "ExecuteTime": {
     "end_time": "2025-04-12T09:32:14.216633Z",
     "start_time": "2025-04-12T09:32:14.202278Z"
    }
   },
   "cell_type": "code",
   "source": "len(store)",
   "id": "76d84e9106beb46a",
   "outputs": [
    {
     "data": {
      "text/plain": [
       "3"
      ]
     },
     "execution_count": 15,
     "metadata": {},
     "output_type": "execute_result"
    }
   ],
   "execution_count": 15
  },
  {
   "metadata": {},
   "cell_type": "code",
   "outputs": [],
   "execution_count": null,
   "source": "",
   "id": "5c29c348fbc26a5e"
  }
 ],
 "metadata": {
  "kernelspec": {
   "display_name": "Python 3",
   "language": "python",
   "name": "python3"
  },
  "language_info": {
   "codemirror_mode": {
    "name": "ipython",
    "version": 2
   },
   "file_extension": ".py",
   "mimetype": "text/x-python",
   "name": "python",
   "nbconvert_exporter": "python",
   "pygments_lexer": "ipython2",
   "version": "2.7.6"
  }
 },
 "nbformat": 4,
 "nbformat_minor": 5
}
