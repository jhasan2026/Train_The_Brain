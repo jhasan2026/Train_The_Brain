{
 "cells": [
  {
   "metadata": {
    "ExecuteTime": {
     "end_time": "2025-04-12T06:20:19.810568Z",
     "start_time": "2025-04-12T06:20:19.805343Z"
    }
   },
   "cell_type": "code",
   "source": [
    "class Student:\n",
    "    no_of_student = 0                           # static attribute\n",
    "    def __init__(self,name,age):\n",
    "        self.__name = name\n",
    "        self.age = age\n",
    "        \n",
    "        Student.no_of_student = Student.no_of_student + 1           "
   ],
   "id": "3c30d4f046a5a521",
   "outputs": [],
   "execution_count": 9
  },
  {
   "cell_type": "code",
   "id": "initial_id",
   "metadata": {
    "collapsed": true,
    "ExecuteTime": {
     "end_time": "2025-04-12T06:20:20.102572Z",
     "start_time": "2025-04-12T06:20:20.099737Z"
    }
   },
   "source": [
    "st1 = Student(\"Jehan\",12)\n",
    "st2 = Student(\"Hasan\",25)"
   ],
   "outputs": [],
   "execution_count": 10
  },
  {
   "metadata": {
    "ExecuteTime": {
     "end_time": "2025-04-12T06:20:20.441405Z",
     "start_time": "2025-04-12T06:20:20.417141Z"
    }
   },
   "cell_type": "code",
   "source": "print(st1.name)",
   "id": "256d09e7a570fbbd",
   "outputs": [
    {
     "ename": "AttributeError",
     "evalue": "'Student' object has no attribute 'name'",
     "output_type": "error",
     "traceback": [
      "\u001B[1;31m---------------------------------------------------------------------------\u001B[0m",
      "\u001B[1;31mAttributeError\u001B[0m                            Traceback (most recent call last)",
      "Cell \u001B[1;32mIn[11], line 1\u001B[0m\n\u001B[1;32m----> 1\u001B[0m \u001B[38;5;28mprint\u001B[39m(st1\u001B[38;5;241m.\u001B[39mname)\n",
      "\u001B[1;31mAttributeError\u001B[0m: 'Student' object has no attribute 'name'"
     ]
    }
   ],
   "execution_count": 11
  },
  {
   "metadata": {
    "ExecuteTime": {
     "end_time": "2025-04-12T06:20:20.823484Z",
     "start_time": "2025-04-12T06:20:20.820008Z"
    }
   },
   "cell_type": "code",
   "source": "print(st1.age)",
   "id": "66e5bdbf2fd94bcc",
   "outputs": [
    {
     "name": "stdout",
     "output_type": "stream",
     "text": [
      "12\n"
     ]
    }
   ],
   "execution_count": 12
  },
  {
   "metadata": {
    "ExecuteTime": {
     "end_time": "2025-04-12T06:20:21.383550Z",
     "start_time": "2025-04-12T06:20:21.378483Z"
    }
   },
   "cell_type": "code",
   "source": "print(Student.no_of_student)",
   "id": "4266001b9dc446ab",
   "outputs": [
    {
     "name": "stdout",
     "output_type": "stream",
     "text": [
      "2\n"
     ]
    }
   ],
   "execution_count": 13
  },
  {
   "metadata": {},
   "cell_type": "markdown",
   "source": "# Using private and getter setter and static method",
   "id": "7954147ec84f9f90"
  },
  {
   "metadata": {
    "ExecuteTime": {
     "end_time": "2025-04-12T06:23:40.351524Z",
     "start_time": "2025-04-12T06:23:40.347808Z"
    }
   },
   "cell_type": "code",
   "source": [
    "class Student:\n",
    "    __no_of_student = 0\n",
    "    def __init__(self,name,age):\n",
    "        self.__name = name                  # private attribute\n",
    "        self.age = age\n",
    "        \n",
    "        Student.__no_of_student = Student.__no_of_student + 1\n",
    "        \n",
    "    def getName(self):\n",
    "        return self.__name\n",
    "        \n",
    "    @staticmethod\n",
    "    def getNoOfStudent():\n",
    "        return Student.__no_of_student"
   ],
   "id": "edcc76a3c0dc353b",
   "outputs": [],
   "execution_count": 19
  },
  {
   "metadata": {
    "ExecuteTime": {
     "end_time": "2025-04-12T06:23:41.134100Z",
     "start_time": "2025-04-12T06:23:41.129185Z"
    }
   },
   "cell_type": "code",
   "source": [
    "st1 = Student(\"Jehan\",12)\n",
    "st2 = Student(\"Hasan\",25)"
   ],
   "id": "19263b1043ec536e",
   "outputs": [],
   "execution_count": 20
  },
  {
   "metadata": {
    "ExecuteTime": {
     "end_time": "2025-04-12T06:23:41.500156Z",
     "start_time": "2025-04-12T06:23:41.494154Z"
    }
   },
   "cell_type": "code",
   "source": [
    "print(st1.getName())\n",
    "print(st1.getNoOfStudent())"
   ],
   "id": "a996a131d2256e27",
   "outputs": [
    {
     "name": "stdout",
     "output_type": "stream",
     "text": [
      "Jehan\n",
      "2\n"
     ]
    }
   ],
   "execution_count": 21
  },
  {
   "metadata": {},
   "cell_type": "code",
   "outputs": [],
   "execution_count": null,
   "source": "",
   "id": "b17c18e69dcb2658"
  }
 ],
 "metadata": {
  "kernelspec": {
   "display_name": "Python 3",
   "language": "python",
   "name": "python3"
  },
  "language_info": {
   "codemirror_mode": {
    "name": "ipython",
    "version": 2
   },
   "file_extension": ".py",
   "mimetype": "text/x-python",
   "name": "python",
   "nbconvert_exporter": "python",
   "pygments_lexer": "ipython2",
   "version": "2.7.6"
  }
 },
 "nbformat": 4,
 "nbformat_minor": 5
}
