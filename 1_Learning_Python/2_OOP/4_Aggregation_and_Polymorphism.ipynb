{
 "cells": [
  {
   "metadata": {},
   "cell_type": "markdown",
   "source": "# Aggregation",
   "id": "248180f6f874282"
  },
  {
   "metadata": {
    "ExecuteTime": {
     "end_time": "2025-04-12T07:10:24.404347Z",
     "start_time": "2025-04-12T07:10:24.399243Z"
    }
   },
   "cell_type": "code",
   "source": [
    "class University:\n",
    "    def __init__(self,id,cgpa,credit):\n",
    "        self.id = id\n",
    "        self.__cgpa = cgpa\n",
    "        self.credit = credit\n",
    "        \n",
    "    def edit_university(self,new_cgpa,new_credit):\n",
    "        self.__cgpa = new_cgpa\n",
    "        self.credit = new_credit\n",
    "        "
   ],
   "id": "99d6220fdbd39202",
   "outputs": [],
   "execution_count": 13
  },
  {
   "metadata": {
    "ExecuteTime": {
     "end_time": "2025-04-12T07:10:24.419861Z",
     "start_time": "2025-04-12T07:10:24.414924Z"
    }
   },
   "cell_type": "code",
   "source": [
    "class Student:\n",
    "    def __init__(self, name, age, education):\n",
    "        self.name = name\n",
    "        self.age = age\n",
    "        self.education = education\n",
    "        \n",
    "    def edit_student(self,new_age,new_cgpa,new_credit):\n",
    "        self.age = new_age\n",
    "        self.education.edit_university(new_cgpa, new_credit)"
   ],
   "id": "b693d1d830dd0f1a",
   "outputs": [],
   "execution_count": 14
  },
  {
   "metadata": {
    "ExecuteTime": {
     "end_time": "2025-04-12T07:10:24.433409Z",
     "start_time": "2025-04-12T07:10:24.430804Z"
    }
   },
   "cell_type": "code",
   "source": [
    "uni = University(\"011221186\" ,3.9, 103)\n",
    "stu = Student(\"Jehan\", 25, uni)"
   ],
   "id": "9b93606e216688ac",
   "outputs": [],
   "execution_count": 15
  },
  {
   "metadata": {
    "ExecuteTime": {
     "end_time": "2025-04-12T07:10:24.444028Z",
     "start_time": "2025-04-12T07:10:24.433409Z"
    }
   },
   "cell_type": "code",
   "source": "print(stu.education.credit)",
   "id": "ad70fba784136614",
   "outputs": [
    {
     "name": "stdout",
     "output_type": "stream",
     "text": [
      "103\n"
     ]
    }
   ],
   "execution_count": 16
  },
  {
   "metadata": {
    "ExecuteTime": {
     "end_time": "2025-04-12T07:10:38.523445Z",
     "start_time": "2025-04-12T07:10:38.509571Z"
    }
   },
   "cell_type": "code",
   "source": "print(stu.education.cgpa)",
   "id": "4f541c26c8dea7ab",
   "outputs": [
    {
     "ename": "AttributeError",
     "evalue": "'University' object has no attribute 'cgpa'",
     "output_type": "error",
     "traceback": [
      "\u001B[1;31m---------------------------------------------------------------------------\u001B[0m",
      "\u001B[1;31mAttributeError\u001B[0m                            Traceback (most recent call last)",
      "Cell \u001B[1;32mIn[18], line 1\u001B[0m\n\u001B[1;32m----> 1\u001B[0m \u001B[38;5;28mprint\u001B[39m(stu\u001B[38;5;241m.\u001B[39meducation\u001B[38;5;241m.\u001B[39mcgpa)\n",
      "\u001B[1;31mAttributeError\u001B[0m: 'University' object has no attribute 'cgpa'"
     ]
    }
   ],
   "execution_count": 18
  },
  {
   "metadata": {
    "ExecuteTime": {
     "end_time": "2025-04-12T07:10:24.448562Z",
     "start_time": "2025-04-12T07:10:24.444028Z"
    }
   },
   "cell_type": "code",
   "source": "print(stu.education._University__cgpa)",
   "id": "bfd1fc63a05d8e62",
   "outputs": [
    {
     "name": "stdout",
     "output_type": "stream",
     "text": [
      "3.9\n"
     ]
    }
   ],
   "execution_count": 17
  },
  {
   "metadata": {
    "ExecuteTime": {
     "end_time": "2025-04-12T07:11:37.148246Z",
     "start_time": "2025-04-12T07:11:37.136233Z"
    }
   },
   "cell_type": "code",
   "source": "stu.edit_student(55,3.5,137)",
   "id": "fcbac4da77871dd8",
   "outputs": [],
   "execution_count": 19
  },
  {
   "metadata": {},
   "cell_type": "markdown",
   "source": [
    "# 2. Polymorphism\n",
    "## 1. Method overloading"
   ],
   "id": "21bba0423652ab30"
  },
  {
   "metadata": {
    "ExecuteTime": {
     "end_time": "2025-04-12T07:14:21.851488Z",
     "start_time": "2025-04-12T07:14:21.840686Z"
    }
   },
   "cell_type": "code",
   "source": [
    "class Student:\n",
    "    def __init__(self,name=\"unknown\", age='0'):\n",
    "        self.name = name\n",
    "        self.age = age"
   ],
   "id": "2efc553b99cd39d2",
   "outputs": [],
   "execution_count": 21
  },
  {
   "metadata": {
    "ExecuteTime": {
     "end_time": "2025-04-12T07:14:49.856885Z",
     "start_time": "2025-04-12T07:14:49.853852Z"
    }
   },
   "cell_type": "code",
   "source": [
    "st1 = Student()\n",
    "st2 = Student(\"jehan\")\n",
    "st3 = Student(\"Hasan\",12)"
   ],
   "id": "14be56495e59f6f",
   "outputs": [],
   "execution_count": 22
  },
  {
   "metadata": {
    "ExecuteTime": {
     "end_time": "2025-04-12T07:17:39.891565Z",
     "start_time": "2025-04-12T07:17:39.886564Z"
    }
   },
   "cell_type": "code",
   "source": [
    "# using default value\n",
    "def add(a=0,b=0,c=0):\n",
    "    return a+b+c\n",
    "\n",
    "print(add(1))\n",
    "print(add(1,2))\n",
    "print(add(1,2,3))"
   ],
   "id": "c3c5529e4ae3b620",
   "outputs": [
    {
     "name": "stdout",
     "output_type": "stream",
     "text": [
      "1\n",
      "3\n",
      "6\n"
     ]
    }
   ],
   "execution_count": 27
  },
  {
   "metadata": {
    "ExecuteTime": {
     "end_time": "2025-04-12T07:17:47.399785Z",
     "start_time": "2025-04-12T07:17:47.384808Z"
    }
   },
   "cell_type": "code",
   "source": [
    "#using arg\n",
    "def add(*arg):\n",
    "    return sum(arg)"
   ],
   "id": "bdfc329e146d8a3d",
   "outputs": [],
   "execution_count": 28
  },
  {
   "metadata": {
    "ExecuteTime": {
     "end_time": "2025-04-12T07:16:22.259022Z",
     "start_time": "2025-04-12T07:16:22.255003Z"
    }
   },
   "cell_type": "code",
   "source": "add(1,2,3,4,5)",
   "id": "3a69dd69f6c8f14b",
   "outputs": [
    {
     "data": {
      "text/plain": [
       "15"
      ]
     },
     "execution_count": 26,
     "metadata": {},
     "output_type": "execute_result"
    }
   ],
   "execution_count": 26
  },
  {
   "metadata": {},
   "cell_type": "markdown",
   "source": "### 2. Method overriding ",
   "id": "df98ec334901177d"
  },
  {
   "metadata": {
    "ExecuteTime": {
     "end_time": "2025-04-12T07:59:54.191979Z",
     "start_time": "2025-04-12T07:59:54.177848Z"
    }
   },
   "cell_type": "code",
   "source": [
    "class Phone:\n",
    "    def __init__(self,price, brand, camera):\n",
    "        self.price = price\n",
    "        self.brand = brand\n",
    "        self.camera = camera\n",
    "        \n",
    "    def description(self):\n",
    "        print(\"This is phone description\")\n",
    "        \n",
    "class SmartPhone(Phone):\n",
    "    def __init__(self,price, brand, camera,os, ram):\n",
    "        super().__init__(price,brand,camera)\n",
    "        self.os = os\n",
    "        self.ram = ram   \n",
    "        \n",
    "        def description(self):\n",
    "            print(\"This is smart-phone description\")"
   ],
   "id": "64f5f2583072d397",
   "outputs": [],
   "execution_count": 32
  },
  {
   "metadata": {
    "ExecuteTime": {
     "end_time": "2025-04-12T07:59:54.646724Z",
     "start_time": "2025-04-12T07:59:54.642973Z"
    }
   },
   "cell_type": "code",
   "source": [
    "sp = SmartPhone(1200,'MI',24,\"Android\",8)\n",
    "sp.description()"
   ],
   "id": "88f8347d1e00e59",
   "outputs": [
    {
     "name": "stdout",
     "output_type": "stream",
     "text": [
      "This is phone description\n"
     ]
    }
   ],
   "execution_count": 33
  },
  {
   "metadata": {},
   "cell_type": "code",
   "outputs": [],
   "execution_count": null,
   "source": "",
   "id": "109c6afeced3a7f7"
  }
 ],
 "metadata": {
  "kernelspec": {
   "display_name": "Python 3",
   "language": "python",
   "name": "python3"
  },
  "language_info": {
   "codemirror_mode": {
    "name": "ipython",
    "version": 2
   },
   "file_extension": ".py",
   "mimetype": "text/x-python",
   "name": "python",
   "nbconvert_exporter": "python",
   "pygments_lexer": "ipython2",
   "version": "2.7.6"
  }
 },
 "nbformat": 4,
 "nbformat_minor": 5
}
