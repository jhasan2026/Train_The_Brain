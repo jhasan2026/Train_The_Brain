{
 "cells": [
  {
   "metadata": {},
   "cell_type": "markdown",
   "source": "# 1. Output ",
   "id": "39bce07a27f119f8"
  },
  {
   "metadata": {
    "ExecuteTime": {
     "end_time": "2025-04-11T14:34:10.694900Z",
     "start_time": "2025-04-11T14:34:10.678246Z"
    }
   },
   "cell_type": "code",
   "source": "print(5,\"Jehan\",sep='/')",
   "id": "9fd338d88220bd56",
   "outputs": [
    {
     "name": "stdout",
     "output_type": "stream",
     "text": [
      "5/Jehan\n"
     ]
    }
   ],
   "execution_count": 2
  },
  {
   "metadata": {
    "ExecuteTime": {
     "end_time": "2025-04-11T14:34:47.909185Z",
     "start_time": "2025-04-11T14:34:47.902975Z"
    }
   },
   "cell_type": "code",
   "source": [
    "print(5,\"Jehan\",end=' ')\n",
    "print('Hasan')"
   ],
   "id": "46ad400ebaf55837",
   "outputs": [
    {
     "name": "stdout",
     "output_type": "stream",
     "text": [
      "5 Jehan Hasan\n"
     ]
    }
   ],
   "execution_count": 3
  },
  {
   "metadata": {},
   "cell_type": "markdown",
   "source": "# 2. Datatype",
   "id": "1af6b7ddd0227c83"
  },
  {
   "metadata": {
    "ExecuteTime": {
     "end_time": "2025-04-11T14:35:20.970008Z",
     "start_time": "2025-04-11T14:35:20.965254Z"
    }
   },
   "cell_type": "code",
   "source": "print(1e309)",
   "id": "2c2d56b23f0a1416",
   "outputs": [
    {
     "name": "stdout",
     "output_type": "stream",
     "text": [
      "inf\n"
     ]
    }
   ],
   "execution_count": 5
  },
  {
   "metadata": {
    "ExecuteTime": {
     "end_time": "2025-04-11T14:35:41.786383Z",
     "start_time": "2025-04-11T14:35:41.773368Z"
    }
   },
   "cell_type": "code",
   "source": [
    "a = [1,2,3,4]\n",
    "type(a)"
   ],
   "id": "52604d68ea8a1806",
   "outputs": [
    {
     "data": {
      "text/plain": [
       "list"
      ]
     },
     "execution_count": 6,
     "metadata": {},
     "output_type": "execute_result"
    }
   ],
   "execution_count": 6
  },
  {
   "metadata": {
    "ExecuteTime": {
     "end_time": "2025-04-11T14:36:24.078606Z",
     "start_time": "2025-04-11T14:36:24.068827Z"
    }
   },
   "cell_type": "code",
   "source": [
    "b = (1,2,3,4)\n",
    "type(b)"
   ],
   "id": "62dcc80f9c27ea34",
   "outputs": [
    {
     "data": {
      "text/plain": [
       "tuple"
      ]
     },
     "execution_count": 9,
     "metadata": {},
     "output_type": "execute_result"
    }
   ],
   "execution_count": 9
  },
  {
   "metadata": {
    "ExecuteTime": {
     "end_time": "2025-04-11T14:36:31.066812Z",
     "start_time": "2025-04-11T14:36:31.062145Z"
    }
   },
   "cell_type": "code",
   "source": [
    "b = {1, 2, 3, 4}\n",
    "type(b)"
   ],
   "id": "7f2864d59498ad65",
   "outputs": [
    {
     "data": {
      "text/plain": [
       "set"
      ]
     },
     "execution_count": 10,
     "metadata": {},
     "output_type": "execute_result"
    }
   ],
   "execution_count": 10
  },
  {
   "metadata": {
    "ExecuteTime": {
     "end_time": "2025-04-11T14:37:02.408448Z",
     "start_time": "2025-04-11T14:37:02.397905Z"
    }
   },
   "cell_type": "code",
   "source": [
    "c = {1:\"Jehan\",\n",
    "     2: \"Hasan\"}\n",
    "type(c)"
   ],
   "id": "49d14f5cc774cc29",
   "outputs": [
    {
     "data": {
      "text/plain": [
       "dict"
      ]
     },
     "execution_count": 11,
     "metadata": {},
     "output_type": "execute_result"
    }
   ],
   "execution_count": 11
  },
  {
   "metadata": {},
   "cell_type": "markdown",
   "source": "# 3. User Input",
   "id": "99ff136db58923e8"
  },
  {
   "metadata": {
    "ExecuteTime": {
     "end_time": "2025-04-11T14:37:52.496663Z",
     "start_time": "2025-04-11T14:37:50.329741Z"
    }
   },
   "cell_type": "code",
   "source": [
    "name = input(\"Your name\")\n",
    "print(type(name))"
   ],
   "id": "8b2b0131084fca81",
   "outputs": [
    {
     "name": "stdout",
     "output_type": "stream",
     "text": [
      "<class 'str'>\n"
     ]
    }
   ],
   "execution_count": 12
  },
  {
   "metadata": {
    "ExecuteTime": {
     "end_time": "2025-04-11T14:38:09.617144Z",
     "start_time": "2025-04-11T14:38:08.008301Z"
    }
   },
   "cell_type": "code",
   "source": [
    "age = int(input(\"Your age\"))\n",
    "print(type(age))"
   ],
   "id": "db6cff262e1fa906",
   "outputs": [
    {
     "name": "stdout",
     "output_type": "stream",
     "text": [
      "<class 'int'>\n"
     ]
    }
   ],
   "execution_count": 13
  },
  {
   "metadata": {},
   "cell_type": "markdown",
   "source": "# 4. Literal",
   "id": "8ea4d4551898568"
  },
  {
   "metadata": {
    "ExecuteTime": {
     "end_time": "2025-04-11T14:39:40.083715Z",
     "start_time": "2025-04-11T14:39:40.072880Z"
    }
   },
   "cell_type": "code",
   "source": [
    "bin = 0b1010\n",
    "hex = 0xABCD\n",
    "oct = 0o757"
   ],
   "id": "b90b7f7bbcfbbc3a",
   "outputs": [],
   "execution_count": 14
  },
  {
   "metadata": {
    "ExecuteTime": {
     "end_time": "2025-04-11T14:40:01.326051Z",
     "start_time": "2025-04-11T14:40:01.315360Z"
    }
   },
   "cell_type": "code",
   "source": [
    "print(bin)\n",
    "print(hex)\n",
    "print(oct)\n"
   ],
   "id": "f7efb32b58a20999",
   "outputs": [
    {
     "name": "stdout",
     "output_type": "stream",
     "text": [
      "10\n",
      "43981\n",
      "495\n"
     ]
    }
   ],
   "execution_count": 16
  },
  {
   "metadata": {},
   "cell_type": "markdown",
   "source": "# 5. Arithmetic ",
   "id": "87c600da1c10d73d"
  },
  {
   "metadata": {
    "ExecuteTime": {
     "end_time": "2025-04-11T14:41:00.602330Z",
     "start_time": "2025-04-11T14:41:00.590425Z"
    }
   },
   "cell_type": "code",
   "source": [
    "print(5 + 2)\n",
    "print(5 - 2)\n",
    "print(5 * 2)\n",
    "print(5 / 2)\n",
    "print(5 // 2)   # integer division\n",
    "print(5 ** 2)\n",
    "print(5 % 2)"
   ],
   "id": "e7b7ea173b0c4d1f",
   "outputs": [
    {
     "name": "stdout",
     "output_type": "stream",
     "text": [
      "7\n",
      "3\n",
      "10\n",
      "2.5\n",
      "2\n",
      "25\n",
      "1\n"
     ]
    }
   ],
   "execution_count": 17
  },
  {
   "metadata": {},
   "cell_type": "markdown",
   "source": "# 6. Relational Operator",
   "id": "f0a62d4ea1fa070c"
  },
  {
   "metadata": {
    "ExecuteTime": {
     "end_time": "2025-04-11T14:42:08.602377Z",
     "start_time": "2025-04-11T14:42:08.593470Z"
    }
   },
   "cell_type": "code",
   "source": [
    "print(5 < 6)\n",
    "print(5 > 6)\n",
    "print(5 <= 6)\n",
    "print(5 >= 6)\n",
    "print(5 == 6)\n",
    "print(5 != 6)"
   ],
   "id": "219ec45ac89b5d68",
   "outputs": [
    {
     "name": "stdout",
     "output_type": "stream",
     "text": [
      "True\n",
      "False\n",
      "True\n",
      "False\n",
      "False\n",
      "True\n"
     ]
    }
   ],
   "execution_count": 18
  },
  {
   "metadata": {
    "ExecuteTime": {
     "end_time": "2025-04-11T14:45:30.134475Z",
     "start_time": "2025-04-11T14:45:30.115726Z"
    }
   },
   "cell_type": "code",
   "source": [
    "print(5<9 and 8>3)\n",
    "print(5>9 or 8<3)\n",
    "print(not 5>=3)"
   ],
   "id": "2b528e4b449eb9c8",
   "outputs": [
    {
     "name": "stdout",
     "output_type": "stream",
     "text": [
      "True\n",
      "False\n",
      "False\n"
     ]
    }
   ],
   "execution_count": 26
  },
  {
   "metadata": {},
   "cell_type": "markdown",
   "source": "# 7. Bitwise Operator",
   "id": "1e2de71bfbca5756"
  },
  {
   "metadata": {
    "ExecuteTime": {
     "end_time": "2025-04-11T14:44:12.150362Z",
     "start_time": "2025-04-11T14:44:12.143699Z"
    }
   },
   "cell_type": "code",
   "source": [
    "print(1 & 0)\n",
    "print(1 | 0)\n",
    "print(~0)\n",
    "print(1 ^ 0)        # X-OR"
   ],
   "id": "705b26570c05e778",
   "outputs": [
    {
     "name": "stdout",
     "output_type": "stream",
     "text": [
      "0\n",
      "1\n",
      "-1\n",
      "1\n"
     ]
    }
   ],
   "execution_count": 21
  },
  {
   "metadata": {
    "ExecuteTime": {
     "end_time": "2025-04-11T14:44:14.231775Z",
     "start_time": "2025-04-11T14:44:14.222287Z"
    }
   },
   "cell_type": "code",
   "source": [
    "print(16 >> 2)\n",
    "print(16 << 2)"
   ],
   "id": "d43662fe4d64318b",
   "outputs": [
    {
     "name": "stdout",
     "output_type": "stream",
     "text": [
      "4\n",
      "64\n"
     ]
    }
   ],
   "execution_count": 22
  },
  {
   "metadata": {},
   "cell_type": "markdown",
   "source": "# 8. Membership operator",
   "id": "5dd35090609cda17"
  },
  {
   "metadata": {
    "ExecuteTime": {
     "end_time": "2025-04-11T14:46:08.114790Z",
     "start_time": "2025-04-11T14:46:08.109680Z"
    }
   },
   "cell_type": "code",
   "source": "'J' in 'Jehan'",
   "id": "8aa2bb6270e4ec94",
   "outputs": [
    {
     "data": {
      "text/plain": [
       "True"
      ]
     },
     "execution_count": 27,
     "metadata": {},
     "output_type": "execute_result"
    }
   ],
   "execution_count": 27
  },
  {
   "metadata": {
    "ExecuteTime": {
     "end_time": "2025-04-11T14:46:18.984996Z",
     "start_time": "2025-04-11T14:46:18.971869Z"
    }
   },
   "cell_type": "code",
   "source": "1 in [4,5,6,9]",
   "id": "dc082e008a53013c",
   "outputs": [
    {
     "data": {
      "text/plain": [
       "False"
      ]
     },
     "execution_count": 28,
     "metadata": {},
     "output_type": "execute_result"
    }
   ],
   "execution_count": 28
  },
  {
   "metadata": {},
   "cell_type": "code",
   "outputs": [],
   "execution_count": null,
   "source": "",
   "id": "c50919b100f3184b"
  }
 ],
 "metadata": {
  "kernelspec": {
   "display_name": "Python 3",
   "language": "python",
   "name": "python3"
  },
  "language_info": {
   "codemirror_mode": {
    "name": "ipython",
    "version": 2
   },
   "file_extension": ".py",
   "mimetype": "text/x-python",
   "name": "python",
   "nbconvert_exporter": "python",
   "pygments_lexer": "ipython2",
   "version": "2.7.6"
  }
 },
 "nbformat": 4,
 "nbformat_minor": 5
}
