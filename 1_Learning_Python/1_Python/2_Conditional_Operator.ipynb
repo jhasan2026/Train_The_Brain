{
 "cells": [
  {
   "metadata": {},
   "cell_type": "markdown",
   "source": "# 1. Conditional",
   "id": "54e94ff6d3899c58"
  },
  {
   "metadata": {},
   "cell_type": "code",
   "outputs": [
    {
     "name": "stdout",
     "output_type": "stream",
     "text": [
      "Student\n"
     ]
    }
   ],
   "execution_count": 1,
   "source": [
    "name = \"Jehan\"\n",
    "age = 32\n",
    "\n",
    "if (name == \"Jehan\") and (age > 32):\n",
    "    print(\"Aged\")\n",
    "elif (name == \"Jehan\") and (age <= 32):\n",
    "    print(\"Student\")\n",
    "else:\n",
    "    print(\"Other\")"
   ],
   "id": "initial_id"
  },
  {
   "metadata": {},
   "cell_type": "markdown",
   "source": "# 2. Module",
   "id": "c08cc746be7535dc"
  },
  {
   "metadata": {},
   "cell_type": "markdown",
   "source": "## a. Math",
   "id": "e23a2b5616ae746d"
  },
  {
   "metadata": {
    "ExecuteTime": {
     "end_time": "2025-04-11T14:49:34.264335Z",
     "start_time": "2025-04-11T14:49:34.258151Z"
    }
   },
   "cell_type": "code",
   "source": "import math",
   "id": "b4f92a9fc8c1364",
   "outputs": [],
   "execution_count": 2
  },
  {
   "metadata": {
    "ExecuteTime": {
     "end_time": "2025-04-11T14:50:41.336870Z",
     "start_time": "2025-04-11T14:50:41.331456Z"
    }
   },
   "cell_type": "code",
   "source": [
    "print(math.sqrt(81))\n",
    "print(math.log(125,5))\n",
    "print(math.log(100))\n",
    "print(math.log10(300))\n"
   ],
   "id": "e35bd24f105de2bf",
   "outputs": [
    {
     "name": "stdout",
     "output_type": "stream",
     "text": [
      "9.0\n",
      "3.0000000000000004\n",
      "4.605170185988092\n",
      "2.4771212547196626\n"
     ]
    }
   ],
   "execution_count": 3
  },
  {
   "metadata": {},
   "cell_type": "markdown",
   "source": "## b. Datetime",
   "id": "9f4085973bec60a6"
  },
  {
   "metadata": {
    "ExecuteTime": {
     "end_time": "2025-04-11T14:51:19.567713Z",
     "start_time": "2025-04-11T14:51:19.556986Z"
    }
   },
   "cell_type": "code",
   "source": "import datetime",
   "id": "401fef5511704a42",
   "outputs": [],
   "execution_count": 4
  },
  {
   "metadata": {
    "ExecuteTime": {
     "end_time": "2025-04-11T14:52:42.273764Z",
     "start_time": "2025-04-11T14:52:42.257666Z"
    }
   },
   "cell_type": "code",
   "source": "print(datetime.datetime.now())",
   "id": "b3ac014c43f087c8",
   "outputs": [
    {
     "name": "stdout",
     "output_type": "stream",
     "text": [
      "2025-04-11 20:52:42.257666\n"
     ]
    }
   ],
   "execution_count": 11
  },
  {
   "metadata": {},
   "cell_type": "markdown",
   "source": "## c. random ",
   "id": "9c7c898dbcd790b6"
  },
  {
   "metadata": {
    "ExecuteTime": {
     "end_time": "2025-04-11T14:54:47.248279Z",
     "start_time": "2025-04-11T14:54:47.241407Z"
    }
   },
   "cell_type": "code",
   "source": [
    "import random\n",
    "\n",
    "print(random.randint(1,10))\n",
    "print(random.random())\n",
    "print(random.uniform(1,20))\n",
    "print(random.choice([1,2,5,6,9,8]))\n",
    "print(random.sample([1,2,5,6,9,8], 2))\n",
    "print(random.randrange(0,10,2))"
   ],
   "id": "b65ec629c7f34823",
   "outputs": [
    {
     "name": "stdout",
     "output_type": "stream",
     "text": [
      "1\n",
      "0.6837736553342784\n",
      "10.909869334191717\n",
      "9\n",
      "[8, 1]\n",
      "8\n"
     ]
    }
   ],
   "execution_count": 13
  },
  {
   "metadata": {},
   "cell_type": "markdown",
   "source": "# Loop",
   "id": "296f339e81fef229"
  },
  {
   "metadata": {},
   "cell_type": "markdown",
   "source": "### i) For Loop",
   "id": "42b0f6e26461234b"
  },
  {
   "metadata": {
    "ExecuteTime": {
     "end_time": "2025-04-12T03:45:11.199043Z",
     "start_time": "2025-04-12T03:45:11.193751Z"
    }
   },
   "cell_type": "code",
   "source": [
    "for i in [1,2,3,4]:\n",
    "    print(i)"
   ],
   "id": "4e15f4d062c9677e",
   "outputs": [
    {
     "name": "stdout",
     "output_type": "stream",
     "text": [
      "1\n",
      "2\n",
      "3\n",
      "4\n"
     ]
    }
   ],
   "execution_count": 1
  },
  {
   "metadata": {
    "ExecuteTime": {
     "end_time": "2025-04-12T03:45:56.829946Z",
     "start_time": "2025-04-12T03:45:56.825128Z"
    }
   },
   "cell_type": "code",
   "source": [
    "for index, value in enumerate([10,20,30,40]):\n",
    "    print(index, value)"
   ],
   "id": "14acf06951d766ba",
   "outputs": [
    {
     "name": "stdout",
     "output_type": "stream",
     "text": [
      "0 10\n",
      "1 20\n",
      "2 30\n",
      "3 40\n"
     ]
    }
   ],
   "execution_count": 4
  },
  {
   "metadata": {},
   "cell_type": "markdown",
   "source": "### ii) While",
   "id": "b6fd201f54a74a5c"
  },
  {
   "metadata": {
    "ExecuteTime": {
     "end_time": "2025-04-12T03:46:43.800358Z",
     "start_time": "2025-04-12T03:46:43.792800Z"
    }
   },
   "cell_type": "code",
   "source": [
    "x = 10\n",
    "while x>=0:\n",
    "    print(x,end=' ')\n",
    "    x -= 1"
   ],
   "id": "36032bec2bb7fd1d",
   "outputs": [
    {
     "name": "stdout",
     "output_type": "stream",
     "text": [
      "10 9 8 7 6 5 4 3 2 1 0 "
     ]
    }
   ],
   "execution_count": 5
  },
  {
   "metadata": {
    "ExecuteTime": {
     "end_time": "2025-04-12T03:47:19.960046Z",
     "start_time": "2025-04-12T03:47:19.956721Z"
    }
   },
   "cell_type": "code",
   "source": [
    "for i in range(1,5):\n",
    "    for j in [4,5,8]:\n",
    "        print(i,j)"
   ],
   "id": "ef83ee88a1ef89fa",
   "outputs": [
    {
     "name": "stdout",
     "output_type": "stream",
     "text": [
      "1 4\n",
      "1 5\n",
      "1 8\n",
      "2 4\n",
      "2 5\n",
      "2 8\n",
      "3 4\n",
      "3 5\n",
      "3 8\n",
      "4 4\n",
      "4 5\n",
      "4 8\n"
     ]
    }
   ],
   "execution_count": 6
  },
  {
   "metadata": {},
   "cell_type": "code",
   "outputs": [],
   "execution_count": null,
   "source": "",
   "id": "ebb782556fcbdcf4"
  }
 ],
 "metadata": {
  "kernelspec": {
   "display_name": "Python 3",
   "language": "python",
   "name": "python3"
  },
  "language_info": {
   "codemirror_mode": {
    "name": "ipython",
    "version": 2
   },
   "file_extension": ".py",
   "mimetype": "text/x-python",
   "name": "python",
   "nbconvert_exporter": "python",
   "pygments_lexer": "ipython2",
   "version": "2.7.6"
  }
 },
 "nbformat": 4,
 "nbformat_minor": 5
}
