{
 "cells": [
  {
   "metadata": {},
   "cell_type": "markdown",
   "source": "# 1. Creating list",
   "id": "4965ce4f956e445"
  },
  {
   "metadata": {
    "ExecuteTime": {
     "end_time": "2025-04-12T03:49:15.578346Z",
     "start_time": "2025-04-12T03:49:15.573330Z"
    }
   },
   "cell_type": "code",
   "source": [
    "name = \"Jehan\"\n",
    "\n",
    "fullname = \"\"\"\n",
    "    Jehan\n",
    "        Hasan\n",
    "\"\"\""
   ],
   "id": "a9fcbfe9acb85501",
   "outputs": [],
   "execution_count": 1
  },
  {
   "metadata": {
    "ExecuteTime": {
     "end_time": "2025-04-12T03:49:18.075064Z",
     "start_time": "2025-04-12T03:49:18.066022Z"
    }
   },
   "cell_type": "code",
   "source": "print(fullname)",
   "id": "990282dde805ecdb",
   "outputs": [
    {
     "name": "stdout",
     "output_type": "stream",
     "text": [
      "\n",
      "    Jehan\n",
      "        Hasan\n",
      "\n"
     ]
    }
   ],
   "execution_count": 2
  },
  {
   "metadata": {
    "ExecuteTime": {
     "end_time": "2025-04-12T03:49:32.827909Z",
     "start_time": "2025-04-12T03:49:32.819744Z"
    }
   },
   "cell_type": "code",
   "source": "\"It's raining\"",
   "id": "824e82a1d85a0dab",
   "outputs": [
    {
     "data": {
      "text/plain": [
       "\"It's raining\""
      ]
     },
     "execution_count": 3,
     "metadata": {},
     "output_type": "execute_result"
    }
   ],
   "execution_count": 3
  },
  {
   "metadata": {},
   "cell_type": "markdown",
   "source": "# 2. Accessing string",
   "id": "7dacb1261e553be5"
  },
  {
   "metadata": {
    "ExecuteTime": {
     "end_time": "2025-04-12T03:51:48.888576Z",
     "start_time": "2025-04-12T03:51:48.872268Z"
    }
   },
   "cell_type": "code",
   "source": [
    "x = \"abcd efgh\"\n",
    "print(x[-1])\n",
    "print(x[::-1])\n",
    "print(x[7:0:-2])"
   ],
   "id": "5ac70d68a9b64cc4",
   "outputs": [
    {
     "name": "stdout",
     "output_type": "stream",
     "text": [
      "h\n",
      "hgfe dcba\n",
      "gedb\n"
     ]
    }
   ],
   "execution_count": 8
  },
  {
   "metadata": {},
   "cell_type": "markdown",
   "source": "# 3. Opearation on sting",
   "id": "96a9ce41b2d3da06"
  },
  {
   "metadata": {
    "ExecuteTime": {
     "end_time": "2025-04-12T03:53:16.224725Z",
     "start_time": "2025-04-12T03:53:16.218401Z"
    }
   },
   "cell_type": "code",
   "source": [
    "print(\"Jehan\" + \"Hasan\")\n",
    "print(\"Jehan\"*2)"
   ],
   "id": "a19c1d2c4ded1cf8",
   "outputs": [
    {
     "name": "stdout",
     "output_type": "stream",
     "text": [
      "JehanHasan\n",
      "JehanJehan\n"
     ]
    }
   ],
   "execution_count": 10
  },
  {
   "metadata": {},
   "cell_type": "markdown",
   "source": "# 4. Sting function",
   "id": "a2bd1a91cbc4f381"
  },
  {
   "metadata": {
    "ExecuteTime": {
     "end_time": "2025-04-12T03:55:06.968942Z",
     "start_time": "2025-04-12T03:55:06.963556Z"
    }
   },
   "cell_type": "code",
   "source": [
    "print(len(\"Jehan\"))\n",
    "print(max(\"Jehan\"))\n",
    "print(min(\"Jehan\"))\n",
    "print(sorted(\"Jehan\"))\n",
    "print(sorted(\"Jehan\", reverse=True))"
   ],
   "id": "30d6341a1f1e57e7",
   "outputs": [
    {
     "name": "stdout",
     "output_type": "stream",
     "text": [
      "5\n",
      "n\n",
      "J\n",
      "['J', 'a', 'e', 'h', 'n']\n",
      "['n', 'h', 'e', 'a', 'J']\n"
     ]
    }
   ],
   "execution_count": 15
  },
  {
   "metadata": {},
   "cell_type": "code",
   "outputs": [],
   "execution_count": null,
   "source": "",
   "id": "7f74a926bd6ff3b7"
  }
 ],
 "metadata": {
  "kernelspec": {
   "display_name": "Python 3",
   "language": "python",
   "name": "python3"
  },
  "language_info": {
   "codemirror_mode": {
    "name": "ipython",
    "version": 2
   },
   "file_extension": ".py",
   "mimetype": "text/x-python",
   "name": "python",
   "nbconvert_exporter": "python",
   "pygments_lexer": "ipython2",
   "version": "2.7.6"
  }
 },
 "nbformat": 4,
 "nbformat_minor": 5
}
