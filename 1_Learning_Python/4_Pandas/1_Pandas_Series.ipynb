{
 "cells": [
  {
   "cell_type": "code",
   "id": "initial_id",
   "metadata": {
    "collapsed": true,
    "ExecuteTime": {
     "end_time": "2025-04-12T19:00:12.521998Z",
     "start_time": "2025-04-12T19:00:12.516833Z"
    }
   },
   "source": [
    "import pandas as pd\n",
    "import numpy as np"
   ],
   "outputs": [],
   "execution_count": 45
  },
  {
   "metadata": {},
   "cell_type": "markdown",
   "source": "# List to Series",
   "id": "b148bf75d211f33"
  },
  {
   "metadata": {
    "ExecuteTime": {
     "end_time": "2025-04-12T19:00:12.619125Z",
     "start_time": "2025-04-12T19:00:12.612613Z"
    }
   },
   "cell_type": "code",
   "source": [
    "ser = pd.Series([1,2,3,4,5],name='value from array')\n",
    "ser.index.name = \"Index\"\n",
    "ser"
   ],
   "id": "e6d58bea0a80d212",
   "outputs": [
    {
     "data": {
      "text/plain": [
       "Index\n",
       "0    1\n",
       "1    2\n",
       "2    3\n",
       "3    4\n",
       "4    5\n",
       "Name: value from array, dtype: int64"
      ]
     },
     "execution_count": 46,
     "metadata": {},
     "output_type": "execute_result"
    }
   ],
   "execution_count": 46
  },
  {
   "metadata": {
    "ExecuteTime": {
     "end_time": "2025-04-12T19:00:12.648516Z",
     "start_time": "2025-04-12T19:00:12.642334Z"
    }
   },
   "cell_type": "code",
   "source": [
    "marks = [12,16,30,40]\n",
    "subjects = ['Math','Physics',\"Bio\",'History']\n",
    "df = pd.Series(marks, index=subjects, name='Jehan Marks')\n",
    "df"
   ],
   "id": "a6e34def3f923bf7",
   "outputs": [
    {
     "data": {
      "text/plain": [
       "Math       12\n",
       "Physics    16\n",
       "Bio        30\n",
       "History    40\n",
       "Name: Jehan Marks, dtype: int64"
      ]
     },
     "execution_count": 47,
     "metadata": {},
     "output_type": "execute_result"
    }
   ],
   "execution_count": 47
  },
  {
   "metadata": {},
   "cell_type": "markdown",
   "source": "# Series from Dictionary",
   "id": "9249fdcca4ece765"
  },
  {
   "metadata": {
    "ExecuteTime": {
     "end_time": "2025-04-12T19:00:12.678264Z",
     "start_time": "2025-04-12T19:00:12.672386Z"
    }
   },
   "cell_type": "code",
   "source": [
    "marksDictionary = {\n",
    "    'maths':67,\n",
    "    'english':57,\n",
    "    'science':89,\n",
    "    'bangla':100\n",
    "}\n",
    "df = pd.Series(marksDictionary,name='Jehan Marks')\n",
    "df"
   ],
   "id": "1e90e77fd0626d3",
   "outputs": [
    {
     "data": {
      "text/plain": [
       "maths       67\n",
       "english     57\n",
       "science     89\n",
       "bangla     100\n",
       "Name: Jehan Marks, dtype: int64"
      ]
     },
     "execution_count": 48,
     "metadata": {},
     "output_type": "execute_result"
    }
   ],
   "execution_count": 48
  },
  {
   "metadata": {},
   "cell_type": "markdown",
   "source": "# From Dataframe",
   "id": "ad716b57b948671b"
  },
  {
   "metadata": {
    "ExecuteTime": {
     "end_time": "2025-04-12T19:00:12.718613Z",
     "start_time": "2025-04-12T19:00:12.697592Z"
    }
   },
   "cell_type": "code",
   "source": [
    "imdb_rating = pd.read_csv('../../Data/IMDF_Series_Rating.csv',index_col='primaryTitle').squeeze()\n",
    "print(type(df))\n",
    "imdb_rating"
   ],
   "id": "3ba5038e6e3bd9ee",
   "outputs": [
    {
     "name": "stdout",
     "output_type": "stream",
     "text": [
      "<class 'pandas.core.series.Series'>\n"
     ]
    },
    {
     "data": {
      "text/plain": [
       "primaryTitle\n",
       "Breaking Bad        9.5\n",
       "Band of Brothers    9.4\n",
       "Chernobyl           9.3\n",
       "Planet Earth        9.4\n",
       "Planet Earth II     9.4\n",
       "                   ... \n",
       "1883                8.7\n",
       "Top Gear            8.7\n",
       "Oz                  8.7\n",
       "The Family Man      8.7\n",
       "Dragon Ball Z       8.8\n",
       "Name: averageRating, Length: 100, dtype: float64"
      ]
     },
     "execution_count": 49,
     "metadata": {},
     "output_type": "execute_result"
    }
   ],
   "execution_count": 49
  },
  {
   "metadata": {
    "ExecuteTime": {
     "end_time": "2025-04-12T19:00:12.739224Z",
     "start_time": "2025-04-12T19:00:12.722626Z"
    }
   },
   "cell_type": "code",
   "source": [
    "imdb_year = pd.read_csv('../../Data/IMDB_Series_Year.csv',index_col='primaryTitle').squeeze()\n",
    "imdb_year"
   ],
   "id": "16dfe6efac8caac9",
   "outputs": [
    {
     "data": {
      "text/plain": [
       "primaryTitle\n",
       "Breaking Bad                           2013.0\n",
       "Band of Brothers                       2001.0\n",
       "Chernobyl                              2019.0\n",
       "Planet Earth                           2006.0\n",
       "Planet Earth II                        2016.0\n",
       "                                        ...  \n",
       "Haikyu!!                               2020.0\n",
       "Mr Inbetween                           2021.0\n",
       "Behzat Ç: An Ankara Detective Story    2019.0\n",
       "Flames                                 2023.0\n",
       "Yeh Meri Family                           NaN\n",
       "Name: year, Length: 200, dtype: float64"
      ]
     },
     "execution_count": 50,
     "metadata": {},
     "output_type": "execute_result"
    }
   ],
   "execution_count": 50
  },
  {
   "metadata": {},
   "cell_type": "markdown",
   "source": "# Series Attribute",
   "id": "b59f817feaecd0f3"
  },
  {
   "metadata": {
    "ExecuteTime": {
     "end_time": "2025-04-12T19:00:12.747751Z",
     "start_time": "2025-04-12T19:00:12.742455Z"
    }
   },
   "cell_type": "code",
   "source": "imdb_rating.size",
   "id": "fcdc833546090cb0",
   "outputs": [
    {
     "data": {
      "text/plain": [
       "100"
      ]
     },
     "execution_count": 51,
     "metadata": {},
     "output_type": "execute_result"
    }
   ],
   "execution_count": 51
  },
  {
   "metadata": {
    "ExecuteTime": {
     "end_time": "2025-04-12T19:00:12.763105Z",
     "start_time": "2025-04-12T19:00:12.759121Z"
    }
   },
   "cell_type": "code",
   "source": "imdb_rating.dtype",
   "id": "7def000f6cb53ffc",
   "outputs": [
    {
     "data": {
      "text/plain": [
       "dtype('float64')"
      ]
     },
     "execution_count": 52,
     "metadata": {},
     "output_type": "execute_result"
    }
   ],
   "execution_count": 52
  },
  {
   "metadata": {
    "ExecuteTime": {
     "end_time": "2025-04-12T19:00:12.775676Z",
     "start_time": "2025-04-12T19:00:12.771351Z"
    }
   },
   "cell_type": "code",
   "source": "imdb_rating.name",
   "id": "b174f118bbb0e24f",
   "outputs": [
    {
     "data": {
      "text/plain": [
       "'averageRating'"
      ]
     },
     "execution_count": 53,
     "metadata": {},
     "output_type": "execute_result"
    }
   ],
   "execution_count": 53
  },
  {
   "metadata": {
    "ExecuteTime": {
     "end_time": "2025-04-12T19:00:12.824457Z",
     "start_time": "2025-04-12T19:00:12.819979Z"
    }
   },
   "cell_type": "code",
   "source": "imdb_rating.is_unique",
   "id": "f933f0aa6ef8b170",
   "outputs": [
    {
     "data": {
      "text/plain": [
       "False"
      ]
     },
     "execution_count": 54,
     "metadata": {},
     "output_type": "execute_result"
    }
   ],
   "execution_count": 54
  },
  {
   "metadata": {
    "ExecuteTime": {
     "end_time": "2025-04-12T19:00:12.837072Z",
     "start_time": "2025-04-12T19:00:12.824457Z"
    }
   },
   "cell_type": "code",
   "source": "imdb_rating.index",
   "id": "497341cea6d0ca0e",
   "outputs": [
    {
     "data": {
      "text/plain": [
       "Index(['Breaking Bad', 'Band of Brothers', 'Chernobyl', 'Planet Earth',\n",
       "       'Planet Earth II', 'Game of Thrones', 'The Sopranos',\n",
       "       'Avatar: The Last Airbender', 'The Wire', 'Sherlock', 'Rick and Morty',\n",
       "       'Attack on Titan', 'Aspirants', 'Scam 1992: The Harshad Mehta Story',\n",
       "       'Cosmos: A Spacetime Odyssey', 'The Office', 'Better Call Saul',\n",
       "       'Arcane', 'Fullmetal Alchemist: Brotherhood', 'Blue Planet II',\n",
       "       'Friends', 'True Detective', 'Death Note', 'Seinfeld', 'One Piece',\n",
       "       'The Last Dance', 'Hunter x Hunter', 'Batman: The Animated Series',\n",
       "       'Leyla and Mecnun', 'TVF Pitchers', 'Our Planet', 'Cosmos', 'Bluey',\n",
       "       'Fargo', 'Ted Lasso', 'Succession', 'Firefly', 'Gravity Falls',\n",
       "       'Cowboy Bebop', 'The Twilight Zone', 'Kota Factory', 'Clarkson's Farm',\n",
       "       'The Chosen', 'Life', 'Peaky Blinders', 'Black Mirror',\n",
       "       'The Last of Us', 'House', 'Narcos', 'Dark', 'The Simpsons',\n",
       "       'South Park', 'Arrested Development', 'Severance',\n",
       "       'It's Always Sunny in Philadelphia', 'BoJack Horseman', 'Dragon Ball Z',\n",
       "       'Freaks and Geeks', 'Curb Your Enthusiasm', 'When They See Us',\n",
       "       'Dhindora', 'Fawlty Towers', 'Last Week Tonight with John Oliver',\n",
       "       'Pride and Prejudice', 'Vinland Saga', 'The West Wing',\n",
       "       'Only Fools and Horses', 'Bleach: Thousand-Year Blood War', 'Persona',\n",
       "       'The Blue Planet', 'NCR Days', 'The World at War', 'Stranger Things',\n",
       "       'Dexter', 'The Boys', 'The Mandalorian', 'House of Cards', 'Daredevil',\n",
       "       'Mindhunter', 'Parks and Recreation', 'Mad Men', 'Yellowstone',\n",
       "       'The Crown', 'Invincible', 'Downton Abbey', 'Twin Peaks', 'Fleabag',\n",
       "       'One Punch Man', 'Naruto: Shippuden', 'Rome', 'Battlestar Galactica',\n",
       "       'This Is Us', 'Six Feet Under', 'The Marvelous Mrs. Maisel',\n",
       "       'Star Trek: The Next Generation', '1883', 'Top Gear', 'Oz',\n",
       "       'The Family Man', 'Dragon Ball Z'],\n",
       "      dtype='object', name='primaryTitle')"
      ]
     },
     "execution_count": 55,
     "metadata": {},
     "output_type": "execute_result"
    }
   ],
   "execution_count": 55
  },
  {
   "metadata": {
    "ExecuteTime": {
     "end_time": "2025-04-12T19:00:12.856627Z",
     "start_time": "2025-04-12T19:00:12.850516Z"
    }
   },
   "cell_type": "code",
   "source": "imdb_rating.values",
   "id": "6f721f8f35cf4135",
   "outputs": [
    {
     "data": {
      "text/plain": [
       "array([9.5, 9.4, 9.3, 9.4, 9.4, 9.2, 9.2, 9.3, 9.3, 9.1, 9.1, 9.1, 9.2,\n",
       "       9.2, 9.2, 9. , 9. , 9. , 9.1, 9.3, 8.9, 8.9, 8.9, 8.9, 9. , 9. ,\n",
       "       9. , 9. , 9.1, 9.1, 9.2, 9.3, 9.3, 8.8, 8.8, 8.8, 8.9, 8.9, 8.9,\n",
       "       9. , 9. , 9. , 9.1, 9.1, 8.7, 8.7, 8.7, 8.7, 8.7, 8.7, 8.7, 8.7,\n",
       "       8.7, 8.7, 8.8, 8.8, 8.8, 8.8, 8.8, 8.8, 8.8, 8.8, 8.8, 8.8, 8.8,\n",
       "       8.9, 9. , 9. , 9. , 9. , 9. , 9.2, 8.6, 8.6, 8.6, 8.6, 8.6, 8.6,\n",
       "       8.6, 8.6, 8.7, 8.6, 8.6, 8.7, 8.7, 8.7, 8.7, 8.7, 8.7, 8.7, 8.7,\n",
       "       8.7, 8.7, 8.7, 8.7, 8.7, 8.7, 8.7, 8.7, 8.8])"
      ]
     },
     "execution_count": 56,
     "metadata": {},
     "output_type": "execute_result"
    }
   ],
   "execution_count": 56
  },
  {
   "metadata": {},
   "cell_type": "markdown",
   "source": "# Series Method",
   "id": "27c19a413051e6cd"
  },
  {
   "metadata": {
    "ExecuteTime": {
     "end_time": "2025-04-12T19:00:12.891503Z",
     "start_time": "2025-04-12T19:00:12.882488Z"
    }
   },
   "cell_type": "code",
   "source": "imdb_rating.head()",
   "id": "3f86145093c55a80",
   "outputs": [
    {
     "data": {
      "text/plain": [
       "primaryTitle\n",
       "Breaking Bad        9.5\n",
       "Band of Brothers    9.4\n",
       "Chernobyl           9.3\n",
       "Planet Earth        9.4\n",
       "Planet Earth II     9.4\n",
       "Name: averageRating, dtype: float64"
      ]
     },
     "execution_count": 57,
     "metadata": {},
     "output_type": "execute_result"
    }
   ],
   "execution_count": 57
  },
  {
   "metadata": {
    "ExecuteTime": {
     "end_time": "2025-04-12T19:00:12.908619Z",
     "start_time": "2025-04-12T19:00:12.902576Z"
    }
   },
   "cell_type": "code",
   "source": "imdb_rating.tail()",
   "id": "2d3b51d961d4867a",
   "outputs": [
    {
     "data": {
      "text/plain": [
       "primaryTitle\n",
       "1883              8.7\n",
       "Top Gear          8.7\n",
       "Oz                8.7\n",
       "The Family Man    8.7\n",
       "Dragon Ball Z     8.8\n",
       "Name: averageRating, dtype: float64"
      ]
     },
     "execution_count": 58,
     "metadata": {},
     "output_type": "execute_result"
    }
   ],
   "execution_count": 58
  },
  {
   "metadata": {
    "ExecuteTime": {
     "end_time": "2025-04-12T19:00:12.919621Z",
     "start_time": "2025-04-12T19:00:12.912637Z"
    }
   },
   "cell_type": "code",
   "source": "imdb_rating.sample(5)",
   "id": "2e2e9cc56335f137",
   "outputs": [
    {
     "data": {
      "text/plain": [
       "primaryTitle\n",
       "Battlestar Galactica                  8.7\n",
       "The Twilight Zone                     9.0\n",
       "Succession                            8.8\n",
       "True Detective                        8.9\n",
       "Last Week Tonight with John Oliver    8.8\n",
       "Name: averageRating, dtype: float64"
      ]
     },
     "execution_count": 59,
     "metadata": {},
     "output_type": "execute_result"
    }
   ],
   "execution_count": 59
  },
  {
   "metadata": {
    "ExecuteTime": {
     "end_time": "2025-04-12T19:00:12.967410Z",
     "start_time": "2025-04-12T19:00:12.959383Z"
    }
   },
   "cell_type": "code",
   "source": "imdb_year.value_counts()",
   "id": "beb2a96da4e719b1",
   "outputs": [
    {
     "data": {
      "text/plain": [
       "year\n",
       "2019.0    13\n",
       "2022.0    13\n",
       "2020.0    11\n",
       "2015.0     9\n",
       "2023.0     9\n",
       "2021.0     8\n",
       "2024.0     8\n",
       "2018.0     7\n",
       "2014.0     7\n",
       "2013.0     7\n",
       "2017.0     7\n",
       "2003.0     6\n",
       "2008.0     4\n",
       "2006.0     4\n",
       "2016.0     4\n",
       "2007.0     3\n",
       "2011.0     3\n",
       "2026.0     3\n",
       "1998.0     3\n",
       "1995.0     3\n",
       "1996.0     2\n",
       "2005.0     2\n",
       "2025.0     2\n",
       "1974.0     2\n",
       "2004.0     2\n",
       "2012.0     2\n",
       "2009.0     2\n",
       "2001.0     2\n",
       "2010.0     2\n",
       "2000.0     1\n",
       "1986.0     1\n",
       "1988.0     1\n",
       "1990.0     1\n",
       "1985.0     1\n",
       "1980.0     1\n",
       "1989.0     1\n",
       "1979.0     1\n",
       "1994.0     1\n",
       "1999.0     1\n",
       "1991.0     1\n",
       "1964.0     1\n",
       "1987.0     1\n",
       "Name: count, dtype: int64"
      ]
     },
     "execution_count": 60,
     "metadata": {},
     "output_type": "execute_result"
    }
   ],
   "execution_count": 60
  },
  {
   "metadata": {
    "ExecuteTime": {
     "end_time": "2025-04-12T19:00:12.980427Z",
     "start_time": "2025-04-12T19:00:12.974384Z"
    }
   },
   "cell_type": "code",
   "source": "imdb_rating.sort_values()",
   "id": "d8768cabe2a508dd",
   "outputs": [
    {
     "data": {
      "text/plain": [
       "primaryTitle\n",
       "The Mandalorian               8.6\n",
       "The Crown                     8.6\n",
       "Mindhunter                    8.6\n",
       "Daredevil                     8.6\n",
       "House of Cards                8.6\n",
       "                             ... \n",
       "Avatar: The Last Airbender    9.3\n",
       "Planet Earth II               9.4\n",
       "Planet Earth                  9.4\n",
       "Band of Brothers              9.4\n",
       "Breaking Bad                  9.5\n",
       "Name: averageRating, Length: 100, dtype: float64"
      ]
     },
     "execution_count": 61,
     "metadata": {},
     "output_type": "execute_result"
    }
   ],
   "execution_count": 61
  },
  {
   "metadata": {
    "ExecuteTime": {
     "end_time": "2025-04-12T19:00:12.994489Z",
     "start_time": "2025-04-12T19:00:12.985977Z"
    }
   },
   "cell_type": "code",
   "source": "imdb_rating.sort_values(ascending=False)",
   "id": "3f3431447c81bf",
   "outputs": [
    {
     "data": {
      "text/plain": [
       "primaryTitle\n",
       "Breaking Bad            9.5\n",
       "Planet Earth            9.4\n",
       "Planet Earth II         9.4\n",
       "Band of Brothers        9.4\n",
       "The Wire                9.3\n",
       "                       ... \n",
       "The Mandalorian         8.6\n",
       "House of Cards          8.6\n",
       "Daredevil               8.6\n",
       "Parks and Recreation    8.6\n",
       "Mindhunter              8.6\n",
       "Name: averageRating, Length: 100, dtype: float64"
      ]
     },
     "execution_count": 62,
     "metadata": {},
     "output_type": "execute_result"
    }
   ],
   "execution_count": 62
  },
  {
   "metadata": {
    "ExecuteTime": {
     "end_time": "2025-04-12T19:00:13.002006Z",
     "start_time": "2025-04-12T19:00:12.994489Z"
    }
   },
   "cell_type": "code",
   "source": "imdb_rating.sort_values()",
   "id": "9c4e4f9e9794cded",
   "outputs": [
    {
     "data": {
      "text/plain": [
       "primaryTitle\n",
       "The Mandalorian               8.6\n",
       "The Crown                     8.6\n",
       "Mindhunter                    8.6\n",
       "Daredevil                     8.6\n",
       "House of Cards                8.6\n",
       "                             ... \n",
       "Avatar: The Last Airbender    9.3\n",
       "Planet Earth II               9.4\n",
       "Planet Earth                  9.4\n",
       "Band of Brothers              9.4\n",
       "Breaking Bad                  9.5\n",
       "Name: averageRating, Length: 100, dtype: float64"
      ]
     },
     "execution_count": 63,
     "metadata": {},
     "output_type": "execute_result"
    }
   ],
   "execution_count": 63
  },
  {
   "metadata": {
    "ExecuteTime": {
     "end_time": "2025-04-12T19:00:13.032506Z",
     "start_time": "2025-04-12T19:00:13.025001Z"
    }
   },
   "cell_type": "code",
   "source": "imdb_rating.sort_values(ascending=False)",
   "id": "15d2c64aa17cad61",
   "outputs": [
    {
     "data": {
      "text/plain": [
       "primaryTitle\n",
       "Breaking Bad            9.5\n",
       "Planet Earth            9.4\n",
       "Planet Earth II         9.4\n",
       "Band of Brothers        9.4\n",
       "The Wire                9.3\n",
       "                       ... \n",
       "The Mandalorian         8.6\n",
       "House of Cards          8.6\n",
       "Daredevil               8.6\n",
       "Parks and Recreation    8.6\n",
       "Mindhunter              8.6\n",
       "Name: averageRating, Length: 100, dtype: float64"
      ]
     },
     "execution_count": 64,
     "metadata": {},
     "output_type": "execute_result"
    }
   ],
   "execution_count": 64
  },
  {
   "metadata": {},
   "cell_type": "markdown",
   "source": "# Series Math Method",
   "id": "42a85ddba1d71810"
  },
  {
   "metadata": {
    "ExecuteTime": {
     "end_time": "2025-04-12T19:00:13.043341Z",
     "start_time": "2025-04-12T19:00:13.039262Z"
    }
   },
   "cell_type": "code",
   "source": "imdb_year.count()",
   "id": "ec8d8b368c32ba95",
   "outputs": [
    {
     "data": {
      "text/plain": [
       "163"
      ]
     },
     "execution_count": 65,
     "metadata": {},
     "output_type": "execute_result"
    }
   ],
   "execution_count": 65
  },
  {
   "metadata": {
    "ExecuteTime": {
     "end_time": "2025-04-12T19:00:13.063365Z",
     "start_time": "2025-04-12T19:00:13.059302Z"
    }
   },
   "cell_type": "code",
   "source": "imdb_rating.sum()",
   "id": "ca6d607e39351182",
   "outputs": [
    {
     "data": {
      "text/plain": [
       "889.8000000000001"
      ]
     },
     "execution_count": 66,
     "metadata": {},
     "output_type": "execute_result"
    }
   ],
   "execution_count": 66
  },
  {
   "metadata": {
    "ExecuteTime": {
     "end_time": "2025-04-12T19:00:13.072829Z",
     "start_time": "2025-04-12T19:00:13.067379Z"
    }
   },
   "cell_type": "code",
   "source": "imdb_rating.mean()",
   "id": "eca06879f1eba693",
   "outputs": [
    {
     "data": {
      "text/plain": [
       "8.898000000000001"
      ]
     },
     "execution_count": 67,
     "metadata": {},
     "output_type": "execute_result"
    }
   ],
   "execution_count": 67
  },
  {
   "metadata": {
    "ExecuteTime": {
     "end_time": "2025-04-12T19:00:13.099980Z",
     "start_time": "2025-04-12T19:00:13.092214Z"
    }
   },
   "cell_type": "code",
   "source": "imdb_year.median()",
   "id": "4b2625d10b4aa9d1",
   "outputs": [
    {
     "data": {
      "text/plain": [
       "2016.0"
      ]
     },
     "execution_count": 68,
     "metadata": {},
     "output_type": "execute_result"
    }
   ],
   "execution_count": 68
  },
  {
   "metadata": {
    "ExecuteTime": {
     "end_time": "2025-04-12T19:00:13.114452Z",
     "start_time": "2025-04-12T19:00:13.110433Z"
    }
   },
   "cell_type": "code",
   "source": "imdb_rating.std()",
   "id": "59ea6651d6ef3c74",
   "outputs": [
    {
     "data": {
      "text/plain": [
       "0.23136834945885162"
      ]
     },
     "execution_count": 69,
     "metadata": {},
     "output_type": "execute_result"
    }
   ],
   "execution_count": 69
  },
  {
   "metadata": {
    "ExecuteTime": {
     "end_time": "2025-04-12T19:00:13.125777Z",
     "start_time": "2025-04-12T19:00:13.115464Z"
    }
   },
   "cell_type": "code",
   "source": "imdb_rating.var()",
   "id": "9ff3905a05dc8557",
   "outputs": [
    {
     "data": {
      "text/plain": [
       "0.053531313131313284"
      ]
     },
     "execution_count": 70,
     "metadata": {},
     "output_type": "execute_result"
    }
   ],
   "execution_count": 70
  },
  {
   "metadata": {
    "ExecuteTime": {
     "end_time": "2025-04-12T19:00:13.183123Z",
     "start_time": "2025-04-12T19:00:13.174409Z"
    }
   },
   "cell_type": "code",
   "source": "imdb_rating.describe()",
   "id": "bfdefb6608b06d7f",
   "outputs": [
    {
     "data": {
      "text/plain": [
       "count    100.000000\n",
       "mean       8.898000\n",
       "std        0.231368\n",
       "min        8.600000\n",
       "25%        8.700000\n",
       "50%        8.800000\n",
       "75%        9.025000\n",
       "max        9.500000\n",
       "Name: averageRating, dtype: float64"
      ]
     },
     "execution_count": 71,
     "metadata": {},
     "output_type": "execute_result"
    }
   ],
   "execution_count": 71
  },
  {
   "metadata": {
    "ExecuteTime": {
     "end_time": "2025-04-12T19:00:13.199687Z",
     "start_time": "2025-04-12T19:00:13.192449Z"
    }
   },
   "cell_type": "code",
   "source": "imdb_year.describe()",
   "id": "2e24bdbc2e056823",
   "outputs": [
    {
     "data": {
      "text/plain": [
       "count     163.000000\n",
       "mean     2012.527607\n",
       "std        11.720149\n",
       "min      1964.000000\n",
       "25%      2007.000000\n",
       "50%      2016.000000\n",
       "75%      2021.000000\n",
       "max      2026.000000\n",
       "Name: year, dtype: float64"
      ]
     },
     "execution_count": 72,
     "metadata": {},
     "output_type": "execute_result"
    }
   ],
   "execution_count": 72
  },
  {
   "metadata": {},
   "cell_type": "markdown",
   "source": "# Indexing",
   "id": "6741f7829de2c42f"
  },
  {
   "metadata": {
    "ExecuteTime": {
     "end_time": "2025-04-12T19:00:13.218807Z",
     "start_time": "2025-04-12T19:00:13.212582Z"
    }
   },
   "cell_type": "code",
   "source": "imdb_rating",
   "id": "34a5cff3d0040e8c",
   "outputs": [
    {
     "data": {
      "text/plain": [
       "primaryTitle\n",
       "Breaking Bad        9.5\n",
       "Band of Brothers    9.4\n",
       "Chernobyl           9.3\n",
       "Planet Earth        9.4\n",
       "Planet Earth II     9.4\n",
       "                   ... \n",
       "1883                8.7\n",
       "Top Gear            8.7\n",
       "Oz                  8.7\n",
       "The Family Man      8.7\n",
       "Dragon Ball Z       8.8\n",
       "Name: averageRating, Length: 100, dtype: float64"
      ]
     },
     "execution_count": 73,
     "metadata": {},
     "output_type": "execute_result"
    }
   ],
   "execution_count": 73
  },
  {
   "metadata": {
    "ExecuteTime": {
     "end_time": "2025-04-12T19:00:13.237929Z",
     "start_time": "2025-04-12T19:00:13.232465Z"
    }
   },
   "cell_type": "code",
   "source": "imdb_rating[1]",
   "id": "33f4b30fc15f1f64",
   "outputs": [
    {
     "name": "stderr",
     "output_type": "stream",
     "text": [
      "C:\\Users\\Jehan\\AppData\\Local\\Temp\\ipykernel_9648\\2299855782.py:1: FutureWarning: Series.__getitem__ treating keys as positions is deprecated. In a future version, integer keys will always be treated as labels (consistent with DataFrame behavior). To access a value by position, use `ser.iloc[pos]`\n",
      "  imdb_rating[1]\n"
     ]
    },
    {
     "data": {
      "text/plain": [
       "9.4"
      ]
     },
     "execution_count": 74,
     "metadata": {},
     "output_type": "execute_result"
    }
   ],
   "execution_count": 74
  },
  {
   "metadata": {
    "ExecuteTime": {
     "end_time": "2025-04-12T19:00:13.263918Z",
     "start_time": "2025-04-12T19:00:13.259081Z"
    }
   },
   "cell_type": "code",
   "source": "imdb_rating[2:5]",
   "id": "583dda22b5a1c11",
   "outputs": [
    {
     "data": {
      "text/plain": [
       "primaryTitle\n",
       "Chernobyl          9.3\n",
       "Planet Earth       9.4\n",
       "Planet Earth II    9.4\n",
       "Name: averageRating, dtype: float64"
      ]
     },
     "execution_count": 75,
     "metadata": {},
     "output_type": "execute_result"
    }
   ],
   "execution_count": 75
  },
  {
   "metadata": {
    "ExecuteTime": {
     "end_time": "2025-04-12T19:00:13.296664Z",
     "start_time": "2025-04-12T19:00:13.290826Z"
    }
   },
   "cell_type": "code",
   "source": "imdb_rating[[5,6,9]]",
   "id": "e3272e6f7d5d4710",
   "outputs": [
    {
     "name": "stderr",
     "output_type": "stream",
     "text": [
      "C:\\Users\\Jehan\\AppData\\Local\\Temp\\ipykernel_9648\\3980612574.py:1: FutureWarning: Series.__getitem__ treating keys as positions is deprecated. In a future version, integer keys will always be treated as labels (consistent with DataFrame behavior). To access a value by position, use `ser.iloc[pos]`\n",
      "  imdb_rating[[5,6,9]]\n"
     ]
    },
    {
     "data": {
      "text/plain": [
       "primaryTitle\n",
       "Game of Thrones    9.2\n",
       "The Sopranos       9.2\n",
       "Sherlock           9.1\n",
       "Name: averageRating, dtype: float64"
      ]
     },
     "execution_count": 76,
     "metadata": {},
     "output_type": "execute_result"
    }
   ],
   "execution_count": 76
  },
  {
   "metadata": {},
   "cell_type": "markdown",
   "source": "# Editing",
   "id": "fb5857f0618682a6"
  },
  {
   "metadata": {
    "ExecuteTime": {
     "end_time": "2025-04-12T19:00:13.309126Z",
     "start_time": "2025-04-12T19:00:13.302285Z"
    }
   },
   "cell_type": "code",
   "source": [
    "imdb_rating['Game of Thrones'] = 10\n",
    "imdb_rating"
   ],
   "id": "b3d2076debbb5a20",
   "outputs": [
    {
     "data": {
      "text/plain": [
       "primaryTitle\n",
       "Breaking Bad        9.5\n",
       "Band of Brothers    9.4\n",
       "Chernobyl           9.3\n",
       "Planet Earth        9.4\n",
       "Planet Earth II     9.4\n",
       "                   ... \n",
       "1883                8.7\n",
       "Top Gear            8.7\n",
       "Oz                  8.7\n",
       "The Family Man      8.7\n",
       "Dragon Ball Z       8.8\n",
       "Name: averageRating, Length: 100, dtype: float64"
      ]
     },
     "execution_count": 77,
     "metadata": {},
     "output_type": "execute_result"
    }
   ],
   "execution_count": 77
  },
  {
   "metadata": {
    "ExecuteTime": {
     "end_time": "2025-04-12T19:00:36.404520Z",
     "start_time": "2025-04-12T19:00:36.396372Z"
    }
   },
   "cell_type": "code",
   "source": [
    "imdb_rating[0] = 9.99\n",
    "imdb_rating"
   ],
   "id": "d4398131b983a1d1",
   "outputs": [
    {
     "name": "stderr",
     "output_type": "stream",
     "text": [
      "C:\\Users\\Jehan\\AppData\\Local\\Temp\\ipykernel_9648\\2459261132.py:1: FutureWarning: Series.__setitem__ treating keys as positions is deprecated. In a future version, integer keys will always be treated as labels (consistent with DataFrame behavior). To set a value by position, use `ser.iloc[pos] = value`\n",
      "  imdb_rating[0] = 9.99\n"
     ]
    },
    {
     "data": {
      "text/plain": [
       "primaryTitle\n",
       "Breaking Bad        9.99\n",
       "Band of Brothers    9.40\n",
       "Chernobyl           9.30\n",
       "Planet Earth        9.40\n",
       "Planet Earth II     9.40\n",
       "                    ... \n",
       "1883                8.70\n",
       "Top Gear            8.70\n",
       "Oz                  8.70\n",
       "The Family Man      8.70\n",
       "Dragon Ball Z       8.80\n",
       "Name: averageRating, Length: 100, dtype: float64"
      ]
     },
     "execution_count": 78,
     "metadata": {},
     "output_type": "execute_result"
    }
   ],
   "execution_count": 78
  },
  {
   "metadata": {
    "ExecuteTime": {
     "end_time": "2025-04-12T19:01:16.588145Z",
     "start_time": "2025-04-12T19:01:16.582289Z"
    }
   },
   "cell_type": "code",
   "source": [
    "imdb_rating[1:3] = 5.3\n",
    "imdb_rating"
   ],
   "id": "3f1c17bb61f06ea0",
   "outputs": [
    {
     "data": {
      "text/plain": [
       "primaryTitle\n",
       "Breaking Bad        9.99\n",
       "Band of Brothers    5.30\n",
       "Chernobyl           5.30\n",
       "Planet Earth        9.40\n",
       "Planet Earth II     9.40\n",
       "                    ... \n",
       "1883                8.70\n",
       "Top Gear            8.70\n",
       "Oz                  8.70\n",
       "The Family Man      8.70\n",
       "Dragon Ball Z       8.80\n",
       "Name: averageRating, Length: 100, dtype: float64"
      ]
     },
     "execution_count": 79,
     "metadata": {},
     "output_type": "execute_result"
    }
   ],
   "execution_count": 79
  },
  {
   "metadata": {
    "ExecuteTime": {
     "end_time": "2025-04-12T19:01:44.699819Z",
     "start_time": "2025-04-12T19:01:44.692508Z"
    }
   },
   "cell_type": "code",
   "source": [
    "imdb_rating[[6,7,8]] = 2.3\n",
    "imdb_rating"
   ],
   "id": "ed3cf41c51c5917b",
   "outputs": [
    {
     "name": "stderr",
     "output_type": "stream",
     "text": [
      "C:\\Users\\Jehan\\AppData\\Local\\Temp\\ipykernel_9648\\226090914.py:1: FutureWarning: Series.__setitem__ treating keys as positions is deprecated. In a future version, integer keys will always be treated as labels (consistent with DataFrame behavior). To set a value by position, use `ser.iloc[pos] = value`\n",
      "  imdb_rating[[6,7,8]] = 2.3\n"
     ]
    },
    {
     "data": {
      "text/plain": [
       "primaryTitle\n",
       "Breaking Bad        9.99\n",
       "Band of Brothers    5.30\n",
       "Chernobyl           5.30\n",
       "Planet Earth        9.40\n",
       "Planet Earth II     9.40\n",
       "                    ... \n",
       "1883                8.70\n",
       "Top Gear            8.70\n",
       "Oz                  8.70\n",
       "The Family Man      8.70\n",
       "Dragon Ball Z       8.80\n",
       "Name: averageRating, Length: 100, dtype: float64"
      ]
     },
     "execution_count": 80,
     "metadata": {},
     "output_type": "execute_result"
    }
   ],
   "execution_count": 80
  },
  {
   "metadata": {},
   "cell_type": "markdown",
   "source": "# covert series to list, dic",
   "id": "c567b46158f8b1c4"
  },
  {
   "metadata": {
    "ExecuteTime": {
     "end_time": "2025-04-12T19:02:48.490107Z",
     "start_time": "2025-04-12T19:02:48.482228Z"
    }
   },
   "cell_type": "code",
   "source": [
    "short_imdb_rating = imdb_rating.sample(5)\n",
    "short_imdb_rating"
   ],
   "id": "6775f02790753dc7",
   "outputs": [
    {
     "data": {
      "text/plain": [
       "primaryTitle\n",
       "One Piece               9.0\n",
       "The Boys                8.6\n",
       "Downton Abbey           8.7\n",
       "Sherlock                9.1\n",
       "Curb Your Enthusiasm    8.8\n",
       "Name: averageRating, dtype: float64"
      ]
     },
     "execution_count": 81,
     "metadata": {},
     "output_type": "execute_result"
    }
   ],
   "execution_count": 81
  },
  {
   "metadata": {
    "ExecuteTime": {
     "end_time": "2025-04-12T19:03:09.809424Z",
     "start_time": "2025-04-12T19:03:09.805411Z"
    }
   },
   "cell_type": "code",
   "source": [
    "movie_list = list(short_imdb_rating)\n",
    "movie_list"
   ],
   "id": "846870223a883c68",
   "outputs": [
    {
     "data": {
      "text/plain": [
       "[9.0, 8.6, 8.7, 9.1, 8.8]"
      ]
     },
     "execution_count": 82,
     "metadata": {},
     "output_type": "execute_result"
    }
   ],
   "execution_count": 82
  },
  {
   "metadata": {
    "ExecuteTime": {
     "end_time": "2025-04-12T19:03:37.697795Z",
     "start_time": "2025-04-12T19:03:37.685146Z"
    }
   },
   "cell_type": "code",
   "source": [
    "movie_dic = dict(short_imdb_rating)\n",
    "movie_dic"
   ],
   "id": "ffd5022da7a25205",
   "outputs": [
    {
     "data": {
      "text/plain": [
       "{'One Piece': 9.0,\n",
       " 'The Boys': 8.6,\n",
       " 'Downton Abbey': 8.7,\n",
       " 'Sherlock': 9.1,\n",
       " 'Curb Your Enthusiasm': 8.8}"
      ]
     },
     "execution_count": 83,
     "metadata": {},
     "output_type": "execute_result"
    }
   ],
   "execution_count": 83
  },
  {
   "metadata": {},
   "cell_type": "markdown",
   "source": "# membership",
   "id": "856c4d87984dc844"
  },
  {
   "metadata": {},
   "cell_type": "code",
   "outputs": [
    {
     "data": {
      "text/plain": [
       "False"
      ]
     },
     "execution_count": 84,
     "metadata": {},
     "output_type": "execute_result"
    }
   ],
   "execution_count": 84,
   "source": "'The Forrest Gump' in imdb_rating",
   "id": "ecac9212549a93dd"
  },
  {
   "metadata": {
    "ExecuteTime": {
     "end_time": "2025-04-12T19:05:14.161533Z",
     "start_time": "2025-04-12T19:05:14.157998Z"
    }
   },
   "cell_type": "code",
   "source": [
    "for movie_rate in imdb_rating:\n",
    "    print(movie_rate)"
   ],
   "id": "ddb15825fe47e5f0",
   "outputs": [
    {
     "name": "stdout",
     "output_type": "stream",
     "text": [
      "9.99\n",
      "5.3\n",
      "5.3\n",
      "9.4\n",
      "9.4\n",
      "10.0\n",
      "2.3\n",
      "2.3\n",
      "2.3\n",
      "9.1\n",
      "9.1\n",
      "9.1\n",
      "9.2\n",
      "9.2\n",
      "9.2\n",
      "9.0\n",
      "9.0\n",
      "9.0\n",
      "9.1\n",
      "9.3\n",
      "8.9\n",
      "8.9\n",
      "8.9\n",
      "8.9\n",
      "9.0\n",
      "9.0\n",
      "9.0\n",
      "9.0\n",
      "9.1\n",
      "9.1\n",
      "9.2\n",
      "9.3\n",
      "9.3\n",
      "8.8\n",
      "8.8\n",
      "8.8\n",
      "8.9\n",
      "8.9\n",
      "8.9\n",
      "9.0\n",
      "9.0\n",
      "9.0\n",
      "9.1\n",
      "9.1\n",
      "8.7\n",
      "8.7\n",
      "8.7\n",
      "8.7\n",
      "8.7\n",
      "8.7\n",
      "8.7\n",
      "8.7\n",
      "8.7\n",
      "8.7\n",
      "8.8\n",
      "8.8\n",
      "8.8\n",
      "8.8\n",
      "8.8\n",
      "8.8\n",
      "8.8\n",
      "8.8\n",
      "8.8\n",
      "8.8\n",
      "8.8\n",
      "8.9\n",
      "9.0\n",
      "9.0\n",
      "9.0\n",
      "9.0\n",
      "9.0\n",
      "9.2\n",
      "8.6\n",
      "8.6\n",
      "8.6\n",
      "8.6\n",
      "8.6\n",
      "8.6\n",
      "8.6\n",
      "8.6\n",
      "8.7\n",
      "8.6\n",
      "8.6\n",
      "8.7\n",
      "8.7\n",
      "8.7\n",
      "8.7\n",
      "8.7\n",
      "8.7\n",
      "8.7\n",
      "8.7\n",
      "8.7\n",
      "8.7\n",
      "8.7\n",
      "8.7\n",
      "8.7\n",
      "8.7\n",
      "8.7\n",
      "8.7\n",
      "8.8\n"
     ]
    }
   ],
   "execution_count": 86
  },
  {
   "metadata": {},
   "cell_type": "markdown",
   "source": "# Boolean Indexing",
   "id": "416f1bf5fca9105"
  },
  {
   "metadata": {
    "ExecuteTime": {
     "end_time": "2025-04-12T19:06:20.465314Z",
     "start_time": "2025-04-12T19:06:20.455494Z"
    }
   },
   "cell_type": "code",
   "source": "imdb_rating >= 9.3",
   "id": "16f54f7a85b0ef11",
   "outputs": [
    {
     "data": {
      "text/plain": [
       "primaryTitle\n",
       "Breaking Bad         True\n",
       "Band of Brothers    False\n",
       "Chernobyl           False\n",
       "Planet Earth         True\n",
       "Planet Earth II      True\n",
       "                    ...  \n",
       "1883                False\n",
       "Top Gear            False\n",
       "Oz                  False\n",
       "The Family Man      False\n",
       "Dragon Ball Z       False\n",
       "Name: averageRating, Length: 100, dtype: bool"
      ]
     },
     "execution_count": 90,
     "metadata": {},
     "output_type": "execute_result"
    }
   ],
   "execution_count": 90
  },
  {
   "metadata": {
    "ExecuteTime": {
     "end_time": "2025-04-12T19:06:21.048620Z",
     "start_time": "2025-04-12T19:06:21.040793Z"
    }
   },
   "cell_type": "code",
   "source": "imdb_rating[ imdb_rating >= 9.3 ]",
   "id": "cb21427316d3fe04",
   "outputs": [
    {
     "data": {
      "text/plain": [
       "primaryTitle\n",
       "Breaking Bad        9.99\n",
       "Planet Earth        9.40\n",
       "Planet Earth II     9.40\n",
       "Game of Thrones    10.00\n",
       "Blue Planet II      9.30\n",
       "Cosmos              9.30\n",
       "Bluey               9.30\n",
       "Name: averageRating, dtype: float64"
      ]
     },
     "execution_count": 91,
     "metadata": {},
     "output_type": "execute_result"
    }
   ],
   "execution_count": 91
  },
  {
   "metadata": {},
   "cell_type": "code",
   "outputs": [],
   "execution_count": null,
   "source": "",
   "id": "cdc7dba231d3fe5"
  }
 ],
 "metadata": {
  "kernelspec": {
   "display_name": "Python 3",
   "language": "python",
   "name": "python3"
  },
  "language_info": {
   "codemirror_mode": {
    "name": "ipython",
    "version": 2
   },
   "file_extension": ".py",
   "mimetype": "text/x-python",
   "name": "python",
   "nbconvert_exporter": "python",
   "pygments_lexer": "ipython2",
   "version": "2.7.6"
  }
 },
 "nbformat": 4,
 "nbformat_minor": 5
}
