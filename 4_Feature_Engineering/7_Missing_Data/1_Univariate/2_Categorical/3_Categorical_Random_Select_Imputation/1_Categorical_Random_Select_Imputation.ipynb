{
 "cells": [
  {
   "cell_type": "code",
   "id": "initial_id",
   "metadata": {
    "collapsed": true,
    "ExecuteTime": {
     "end_time": "2025-04-18T15:41:01.814881Z",
     "start_time": "2025-04-18T15:41:01.810266Z"
    }
   },
   "source": [
    "import pandas as pd\n",
    "import numpy as np\n",
    "import seaborn as sns\n",
    "import matplotlib.pyplot as plt"
   ],
   "outputs": [],
   "execution_count": 22
  },
  {
   "metadata": {
    "ExecuteTime": {
     "end_time": "2025-04-18T15:41:01.851136Z",
     "start_time": "2025-04-18T15:41:01.825974Z"
    }
   },
   "cell_type": "code",
   "source": [
    "df = pd.read_csv(\"../../../../../Data/Housing_Data.csv\",usecols=['GarageQual','FireplaceQu', 'SalePrice'])\n",
    "df"
   ],
   "id": "e0e2ff352270f2fe",
   "outputs": [
    {
     "data": {
      "text/plain": [
       "     FireplaceQu GarageQual  SalePrice\n",
       "0            NaN         TA     208500\n",
       "1             TA         TA     181500\n",
       "2             TA         TA     223500\n",
       "3             Gd         TA     140000\n",
       "4             TA         TA     250000\n",
       "...          ...        ...        ...\n",
       "1455          TA         TA     175000\n",
       "1456          TA         TA     210000\n",
       "1457          Gd         TA     266500\n",
       "1458         NaN         TA     142125\n",
       "1459         NaN         TA     147500\n",
       "\n",
       "[1460 rows x 3 columns]"
      ],
      "text/html": [
       "<div>\n",
       "<style scoped>\n",
       "    .dataframe tbody tr th:only-of-type {\n",
       "        vertical-align: middle;\n",
       "    }\n",
       "\n",
       "    .dataframe tbody tr th {\n",
       "        vertical-align: top;\n",
       "    }\n",
       "\n",
       "    .dataframe thead th {\n",
       "        text-align: right;\n",
       "    }\n",
       "</style>\n",
       "<table border=\"1\" class=\"dataframe\">\n",
       "  <thead>\n",
       "    <tr style=\"text-align: right;\">\n",
       "      <th></th>\n",
       "      <th>FireplaceQu</th>\n",
       "      <th>GarageQual</th>\n",
       "      <th>SalePrice</th>\n",
       "    </tr>\n",
       "  </thead>\n",
       "  <tbody>\n",
       "    <tr>\n",
       "      <th>0</th>\n",
       "      <td>NaN</td>\n",
       "      <td>TA</td>\n",
       "      <td>208500</td>\n",
       "    </tr>\n",
       "    <tr>\n",
       "      <th>1</th>\n",
       "      <td>TA</td>\n",
       "      <td>TA</td>\n",
       "      <td>181500</td>\n",
       "    </tr>\n",
       "    <tr>\n",
       "      <th>2</th>\n",
       "      <td>TA</td>\n",
       "      <td>TA</td>\n",
       "      <td>223500</td>\n",
       "    </tr>\n",
       "    <tr>\n",
       "      <th>3</th>\n",
       "      <td>Gd</td>\n",
       "      <td>TA</td>\n",
       "      <td>140000</td>\n",
       "    </tr>\n",
       "    <tr>\n",
       "      <th>4</th>\n",
       "      <td>TA</td>\n",
       "      <td>TA</td>\n",
       "      <td>250000</td>\n",
       "    </tr>\n",
       "    <tr>\n",
       "      <th>...</th>\n",
       "      <td>...</td>\n",
       "      <td>...</td>\n",
       "      <td>...</td>\n",
       "    </tr>\n",
       "    <tr>\n",
       "      <th>1455</th>\n",
       "      <td>TA</td>\n",
       "      <td>TA</td>\n",
       "      <td>175000</td>\n",
       "    </tr>\n",
       "    <tr>\n",
       "      <th>1456</th>\n",
       "      <td>TA</td>\n",
       "      <td>TA</td>\n",
       "      <td>210000</td>\n",
       "    </tr>\n",
       "    <tr>\n",
       "      <th>1457</th>\n",
       "      <td>Gd</td>\n",
       "      <td>TA</td>\n",
       "      <td>266500</td>\n",
       "    </tr>\n",
       "    <tr>\n",
       "      <th>1458</th>\n",
       "      <td>NaN</td>\n",
       "      <td>TA</td>\n",
       "      <td>142125</td>\n",
       "    </tr>\n",
       "    <tr>\n",
       "      <th>1459</th>\n",
       "      <td>NaN</td>\n",
       "      <td>TA</td>\n",
       "      <td>147500</td>\n",
       "    </tr>\n",
       "  </tbody>\n",
       "</table>\n",
       "<p>1460 rows × 3 columns</p>\n",
       "</div>"
      ]
     },
     "execution_count": 23,
     "metadata": {},
     "output_type": "execute_result"
    }
   ],
   "execution_count": 23
  },
  {
   "metadata": {
    "ExecuteTime": {
     "end_time": "2025-04-18T15:41:01.860877Z",
     "start_time": "2025-04-18T15:41:01.851136Z"
    }
   },
   "cell_type": "code",
   "source": "df.isnull().sum()",
   "id": "3162d50b99fe877",
   "outputs": [
    {
     "data": {
      "text/plain": [
       "FireplaceQu    690\n",
       "GarageQual      81\n",
       "SalePrice        0\n",
       "dtype: int64"
      ]
     },
     "execution_count": 24,
     "metadata": {},
     "output_type": "execute_result"
    }
   ],
   "execution_count": 24
  },
  {
   "metadata": {},
   "cell_type": "markdown",
   "source": "# Imputation",
   "id": "8d843ce450599e59"
  },
  {
   "metadata": {
    "ExecuteTime": {
     "end_time": "2025-04-18T15:41:01.871763Z",
     "start_time": "2025-04-18T15:41:01.860877Z"
    }
   },
   "cell_type": "code",
   "source": [
    "df_imp = df.copy()\n",
    "df_imp['FireplaceQu'][df_imp['FireplaceQu'].isnull()] = df_imp['FireplaceQu'].dropna().sample( df['FireplaceQu'].isnull().sum() ).values \n",
    "df_imp['GarageQual'][df_imp['GarageQual'].isnull()] = df_imp['GarageQual'].dropna().sample( df['GarageQual'].isnull().sum() ).values \n",
    "\n",
    "df_imp.isnull().sum()"
   ],
   "id": "accb3bf3ef38188d",
   "outputs": [
    {
     "name": "stderr",
     "output_type": "stream",
     "text": [
      "C:\\Users\\Jehan\\AppData\\Local\\Temp\\ipykernel_7240\\1433282590.py:2: FutureWarning: ChainedAssignmentError: behaviour will change in pandas 3.0!\n",
      "You are setting values through chained assignment. Currently this works in certain cases, but when using Copy-on-Write (which will become the default behaviour in pandas 3.0) this will never work to update the original DataFrame or Series, because the intermediate object on which we are setting values will behave as a copy.\n",
      "A typical example is when you are setting values in a column of a DataFrame, like:\n",
      "\n",
      "df[\"col\"][row_indexer] = value\n",
      "\n",
      "Use `df.loc[row_indexer, \"col\"] = values` instead, to perform the assignment in a single step and ensure this keeps updating the original `df`.\n",
      "\n",
      "See the caveats in the documentation: https://pandas.pydata.org/pandas-docs/stable/user_guide/indexing.html#returning-a-view-versus-a-copy\n",
      "\n",
      "  df_imp['FireplaceQu'][df_imp['FireplaceQu'].isnull()] = df_imp['FireplaceQu'].dropna().sample( df['FireplaceQu'].isnull().sum() ).values\n",
      "C:\\Users\\Jehan\\AppData\\Local\\Temp\\ipykernel_7240\\1433282590.py:2: SettingWithCopyWarning: \n",
      "A value is trying to be set on a copy of a slice from a DataFrame\n",
      "\n",
      "See the caveats in the documentation: https://pandas.pydata.org/pandas-docs/stable/user_guide/indexing.html#returning-a-view-versus-a-copy\n",
      "  df_imp['FireplaceQu'][df_imp['FireplaceQu'].isnull()] = df_imp['FireplaceQu'].dropna().sample( df['FireplaceQu'].isnull().sum() ).values\n",
      "C:\\Users\\Jehan\\AppData\\Local\\Temp\\ipykernel_7240\\1433282590.py:3: FutureWarning: ChainedAssignmentError: behaviour will change in pandas 3.0!\n",
      "You are setting values through chained assignment. Currently this works in certain cases, but when using Copy-on-Write (which will become the default behaviour in pandas 3.0) this will never work to update the original DataFrame or Series, because the intermediate object on which we are setting values will behave as a copy.\n",
      "A typical example is when you are setting values in a column of a DataFrame, like:\n",
      "\n",
      "df[\"col\"][row_indexer] = value\n",
      "\n",
      "Use `df.loc[row_indexer, \"col\"] = values` instead, to perform the assignment in a single step and ensure this keeps updating the original `df`.\n",
      "\n",
      "See the caveats in the documentation: https://pandas.pydata.org/pandas-docs/stable/user_guide/indexing.html#returning-a-view-versus-a-copy\n",
      "\n",
      "  df_imp['GarageQual'][df_imp['GarageQual'].isnull()] = df_imp['GarageQual'].dropna().sample( df['GarageQual'].isnull().sum() ).values\n",
      "C:\\Users\\Jehan\\AppData\\Local\\Temp\\ipykernel_7240\\1433282590.py:3: SettingWithCopyWarning: \n",
      "A value is trying to be set on a copy of a slice from a DataFrame\n",
      "\n",
      "See the caveats in the documentation: https://pandas.pydata.org/pandas-docs/stable/user_guide/indexing.html#returning-a-view-versus-a-copy\n",
      "  df_imp['GarageQual'][df_imp['GarageQual'].isnull()] = df_imp['GarageQual'].dropna().sample( df['GarageQual'].isnull().sum() ).values\n"
     ]
    },
    {
     "data": {
      "text/plain": [
       "FireplaceQu    0\n",
       "GarageQual     0\n",
       "SalePrice      0\n",
       "dtype: int64"
      ]
     },
     "execution_count": 25,
     "metadata": {},
     "output_type": "execute_result"
    }
   ],
   "execution_count": 25
  },
  {
   "metadata": {},
   "cell_type": "markdown",
   "source": "# Check Categorical Data's Ratio",
   "id": "3f79a005420b2ad5"
  },
  {
   "metadata": {
    "ExecuteTime": {
     "end_time": "2025-04-18T15:45:29.799800Z",
     "start_time": "2025-04-18T15:45:29.778712Z"
    }
   },
   "cell_type": "code",
   "source": [
    "check_df = pd.DataFrame([])\n",
    "\n",
    "check_df['FireplaceQu'] = df['FireplaceQu']\n",
    "check_df['FireplaceQu_imp'] = df['FireplaceQu']\n",
    "check_df['FireplaceQu_imp'][check_df['FireplaceQu_imp'].isnull()] = check_df['FireplaceQu_imp'].dropna().sample( check_df['FireplaceQu_imp'].isnull().sum() ).values\n",
    "\n",
    "check_df['GarageQual'] = df['GarageQual']\n",
    "check_df['GarageQual_imp'] = df['GarageQual']\n",
    "check_df['GarageQual_imp'][check_df['GarageQual_imp'].isnull()] = check_df['GarageQual_imp'].dropna().sample( check_df['GarageQual_imp'].isnull().sum() ).values\n",
    "\n",
    "check_df"
   ],
   "id": "bab1985ab1915da7",
   "outputs": [
    {
     "name": "stderr",
     "output_type": "stream",
     "text": [
      "C:\\Users\\Jehan\\AppData\\Local\\Temp\\ipykernel_7240\\3486171625.py:5: FutureWarning: ChainedAssignmentError: behaviour will change in pandas 3.0!\n",
      "You are setting values through chained assignment. Currently this works in certain cases, but when using Copy-on-Write (which will become the default behaviour in pandas 3.0) this will never work to update the original DataFrame or Series, because the intermediate object on which we are setting values will behave as a copy.\n",
      "A typical example is when you are setting values in a column of a DataFrame, like:\n",
      "\n",
      "df[\"col\"][row_indexer] = value\n",
      "\n",
      "Use `df.loc[row_indexer, \"col\"] = values` instead, to perform the assignment in a single step and ensure this keeps updating the original `df`.\n",
      "\n",
      "See the caveats in the documentation: https://pandas.pydata.org/pandas-docs/stable/user_guide/indexing.html#returning-a-view-versus-a-copy\n",
      "\n",
      "  check_df['FireplaceQu_imp'][check_df['FireplaceQu_imp'].isnull()] = check_df['FireplaceQu_imp'].dropna().sample( check_df['FireplaceQu_imp'].isnull().sum() ).values\n",
      "C:\\Users\\Jehan\\AppData\\Local\\Temp\\ipykernel_7240\\3486171625.py:9: FutureWarning: ChainedAssignmentError: behaviour will change in pandas 3.0!\n",
      "You are setting values through chained assignment. Currently this works in certain cases, but when using Copy-on-Write (which will become the default behaviour in pandas 3.0) this will never work to update the original DataFrame or Series, because the intermediate object on which we are setting values will behave as a copy.\n",
      "A typical example is when you are setting values in a column of a DataFrame, like:\n",
      "\n",
      "df[\"col\"][row_indexer] = value\n",
      "\n",
      "Use `df.loc[row_indexer, \"col\"] = values` instead, to perform the assignment in a single step and ensure this keeps updating the original `df`.\n",
      "\n",
      "See the caveats in the documentation: https://pandas.pydata.org/pandas-docs/stable/user_guide/indexing.html#returning-a-view-versus-a-copy\n",
      "\n",
      "  check_df['GarageQual_imp'][check_df['GarageQual_imp'].isnull()] = check_df['GarageQual_imp'].dropna().sample( check_df['GarageQual_imp'].isnull().sum() ).values\n"
     ]
    },
    {
     "data": {
      "text/plain": [
       "     FireplaceQu FireplaceQu_imp GarageQual GarageQual_imp\n",
       "0            NaN              TA         TA             TA\n",
       "1             TA              TA         TA             TA\n",
       "2             TA              TA         TA             TA\n",
       "3             Gd              Gd         TA             TA\n",
       "4             TA              TA         TA             TA\n",
       "...          ...             ...        ...            ...\n",
       "1455          TA              TA         TA             TA\n",
       "1456          TA              TA         TA             TA\n",
       "1457          Gd              Gd         TA             TA\n",
       "1458         NaN              TA         TA             TA\n",
       "1459         NaN              Gd         TA             TA\n",
       "\n",
       "[1460 rows x 4 columns]"
      ],
      "text/html": [
       "<div>\n",
       "<style scoped>\n",
       "    .dataframe tbody tr th:only-of-type {\n",
       "        vertical-align: middle;\n",
       "    }\n",
       "\n",
       "    .dataframe tbody tr th {\n",
       "        vertical-align: top;\n",
       "    }\n",
       "\n",
       "    .dataframe thead th {\n",
       "        text-align: right;\n",
       "    }\n",
       "</style>\n",
       "<table border=\"1\" class=\"dataframe\">\n",
       "  <thead>\n",
       "    <tr style=\"text-align: right;\">\n",
       "      <th></th>\n",
       "      <th>FireplaceQu</th>\n",
       "      <th>FireplaceQu_imp</th>\n",
       "      <th>GarageQual</th>\n",
       "      <th>GarageQual_imp</th>\n",
       "    </tr>\n",
       "  </thead>\n",
       "  <tbody>\n",
       "    <tr>\n",
       "      <th>0</th>\n",
       "      <td>NaN</td>\n",
       "      <td>TA</td>\n",
       "      <td>TA</td>\n",
       "      <td>TA</td>\n",
       "    </tr>\n",
       "    <tr>\n",
       "      <th>1</th>\n",
       "      <td>TA</td>\n",
       "      <td>TA</td>\n",
       "      <td>TA</td>\n",
       "      <td>TA</td>\n",
       "    </tr>\n",
       "    <tr>\n",
       "      <th>2</th>\n",
       "      <td>TA</td>\n",
       "      <td>TA</td>\n",
       "      <td>TA</td>\n",
       "      <td>TA</td>\n",
       "    </tr>\n",
       "    <tr>\n",
       "      <th>3</th>\n",
       "      <td>Gd</td>\n",
       "      <td>Gd</td>\n",
       "      <td>TA</td>\n",
       "      <td>TA</td>\n",
       "    </tr>\n",
       "    <tr>\n",
       "      <th>4</th>\n",
       "      <td>TA</td>\n",
       "      <td>TA</td>\n",
       "      <td>TA</td>\n",
       "      <td>TA</td>\n",
       "    </tr>\n",
       "    <tr>\n",
       "      <th>...</th>\n",
       "      <td>...</td>\n",
       "      <td>...</td>\n",
       "      <td>...</td>\n",
       "      <td>...</td>\n",
       "    </tr>\n",
       "    <tr>\n",
       "      <th>1455</th>\n",
       "      <td>TA</td>\n",
       "      <td>TA</td>\n",
       "      <td>TA</td>\n",
       "      <td>TA</td>\n",
       "    </tr>\n",
       "    <tr>\n",
       "      <th>1456</th>\n",
       "      <td>TA</td>\n",
       "      <td>TA</td>\n",
       "      <td>TA</td>\n",
       "      <td>TA</td>\n",
       "    </tr>\n",
       "    <tr>\n",
       "      <th>1457</th>\n",
       "      <td>Gd</td>\n",
       "      <td>Gd</td>\n",
       "      <td>TA</td>\n",
       "      <td>TA</td>\n",
       "    </tr>\n",
       "    <tr>\n",
       "      <th>1458</th>\n",
       "      <td>NaN</td>\n",
       "      <td>TA</td>\n",
       "      <td>TA</td>\n",
       "      <td>TA</td>\n",
       "    </tr>\n",
       "    <tr>\n",
       "      <th>1459</th>\n",
       "      <td>NaN</td>\n",
       "      <td>Gd</td>\n",
       "      <td>TA</td>\n",
       "      <td>TA</td>\n",
       "    </tr>\n",
       "  </tbody>\n",
       "</table>\n",
       "<p>1460 rows × 4 columns</p>\n",
       "</div>"
      ]
     },
     "execution_count": 33,
     "metadata": {},
     "output_type": "execute_result"
    }
   ],
   "execution_count": 33
  },
  {
   "metadata": {
    "ExecuteTime": {
     "end_time": "2025-04-18T15:47:14.899834Z",
     "start_time": "2025-04-18T15:47:14.893746Z"
    }
   },
   "cell_type": "code",
   "source": "check_df['FireplaceQu'].value_counts() / len(check_df['FireplaceQu'].dropna())",
   "id": "9b64660e6fce4bfb",
   "outputs": [
    {
     "data": {
      "text/plain": [
       "FireplaceQu\n",
       "Gd    0.493506\n",
       "TA    0.406494\n",
       "Fa    0.042857\n",
       "Ex    0.031169\n",
       "Po    0.025974\n",
       "Name: count, dtype: float64"
      ]
     },
     "execution_count": 36,
     "metadata": {},
     "output_type": "execute_result"
    }
   ],
   "execution_count": 36
  },
  {
   "metadata": {
    "ExecuteTime": {
     "end_time": "2025-04-18T15:49:40.566871Z",
     "start_time": "2025-04-18T15:49:40.549930Z"
    }
   },
   "cell_type": "code",
   "source": [
    "check_ratio = pd.concat([\n",
    "    check_df['FireplaceQu'].value_counts() / len(check_df['FireplaceQu'].dropna()),\n",
    "    check_df['FireplaceQu_imp'].value_counts() / len(check_df['FireplaceQu_imp'].dropna()),\n",
    "],axis=1)\n",
    "check_ratio.columns = ['Before Imputation ratio','After Imputation ratio']\n",
    "check_ratio"
   ],
   "id": "a862caa42de05b38",
   "outputs": [
    {
     "data": {
      "text/plain": [
       "    Before Imputation ratio  After Imputation ratio\n",
       "Gd                 0.493506                0.495205\n",
       "TA                 0.406494                0.408904\n",
       "Fa                 0.042857                0.042466\n",
       "Ex                 0.031169                0.029452\n",
       "Po                 0.025974                0.023973"
      ],
      "text/html": [
       "<div>\n",
       "<style scoped>\n",
       "    .dataframe tbody tr th:only-of-type {\n",
       "        vertical-align: middle;\n",
       "    }\n",
       "\n",
       "    .dataframe tbody tr th {\n",
       "        vertical-align: top;\n",
       "    }\n",
       "\n",
       "    .dataframe thead th {\n",
       "        text-align: right;\n",
       "    }\n",
       "</style>\n",
       "<table border=\"1\" class=\"dataframe\">\n",
       "  <thead>\n",
       "    <tr style=\"text-align: right;\">\n",
       "      <th></th>\n",
       "      <th>Before Imputation ratio</th>\n",
       "      <th>After Imputation ratio</th>\n",
       "    </tr>\n",
       "  </thead>\n",
       "  <tbody>\n",
       "    <tr>\n",
       "      <th>Gd</th>\n",
       "      <td>0.493506</td>\n",
       "      <td>0.495205</td>\n",
       "    </tr>\n",
       "    <tr>\n",
       "      <th>TA</th>\n",
       "      <td>0.406494</td>\n",
       "      <td>0.408904</td>\n",
       "    </tr>\n",
       "    <tr>\n",
       "      <th>Fa</th>\n",
       "      <td>0.042857</td>\n",
       "      <td>0.042466</td>\n",
       "    </tr>\n",
       "    <tr>\n",
       "      <th>Ex</th>\n",
       "      <td>0.031169</td>\n",
       "      <td>0.029452</td>\n",
       "    </tr>\n",
       "    <tr>\n",
       "      <th>Po</th>\n",
       "      <td>0.025974</td>\n",
       "      <td>0.023973</td>\n",
       "    </tr>\n",
       "  </tbody>\n",
       "</table>\n",
       "</div>"
      ]
     },
     "execution_count": 40,
     "metadata": {},
     "output_type": "execute_result"
    }
   ],
   "execution_count": 40
  },
  {
   "metadata": {
    "ExecuteTime": {
     "end_time": "2025-04-18T15:49:59.820208Z",
     "start_time": "2025-04-18T15:49:59.811860Z"
    }
   },
   "cell_type": "code",
   "source": [
    "check_ratio = pd.concat([\n",
    "    check_df['GarageQual'].value_counts() / len(check_df['GarageQual'].dropna()),\n",
    "    check_df['GarageQual_imp'].value_counts() / len(check_df['GarageQual_imp'].dropna()),\n",
    "],axis=1)\n",
    "check_ratio.columns = ['Before Imputation ratio','After Imputation ratio']\n",
    "check_ratio"
   ],
   "id": "b1dd415e5c2bbdb2",
   "outputs": [
    {
     "data": {
      "text/plain": [
       "    Before Imputation ratio  After Imputation ratio\n",
       "TA                 0.950689                0.949315\n",
       "Fa                 0.034808                0.034932\n",
       "Gd                 0.010152                0.010274\n",
       "Ex                 0.002175                0.002740\n",
       "Po                 0.002175                0.002740"
      ],
      "text/html": [
       "<div>\n",
       "<style scoped>\n",
       "    .dataframe tbody tr th:only-of-type {\n",
       "        vertical-align: middle;\n",
       "    }\n",
       "\n",
       "    .dataframe tbody tr th {\n",
       "        vertical-align: top;\n",
       "    }\n",
       "\n",
       "    .dataframe thead th {\n",
       "        text-align: right;\n",
       "    }\n",
       "</style>\n",
       "<table border=\"1\" class=\"dataframe\">\n",
       "  <thead>\n",
       "    <tr style=\"text-align: right;\">\n",
       "      <th></th>\n",
       "      <th>Before Imputation ratio</th>\n",
       "      <th>After Imputation ratio</th>\n",
       "    </tr>\n",
       "  </thead>\n",
       "  <tbody>\n",
       "    <tr>\n",
       "      <th>TA</th>\n",
       "      <td>0.950689</td>\n",
       "      <td>0.949315</td>\n",
       "    </tr>\n",
       "    <tr>\n",
       "      <th>Fa</th>\n",
       "      <td>0.034808</td>\n",
       "      <td>0.034932</td>\n",
       "    </tr>\n",
       "    <tr>\n",
       "      <th>Gd</th>\n",
       "      <td>0.010152</td>\n",
       "      <td>0.010274</td>\n",
       "    </tr>\n",
       "    <tr>\n",
       "      <th>Ex</th>\n",
       "      <td>0.002175</td>\n",
       "      <td>0.002740</td>\n",
       "    </tr>\n",
       "    <tr>\n",
       "      <th>Po</th>\n",
       "      <td>0.002175</td>\n",
       "      <td>0.002740</td>\n",
       "    </tr>\n",
       "  </tbody>\n",
       "</table>\n",
       "</div>"
      ]
     },
     "execution_count": 41,
     "metadata": {},
     "output_type": "execute_result"
    }
   ],
   "execution_count": 41
  },
  {
   "metadata": {},
   "cell_type": "markdown",
   "source": "# Bar plot",
   "id": "ccc5628918df3cb6"
  },
  {
   "metadata": {
    "ExecuteTime": {
     "end_time": "2025-04-18T15:58:50.858830Z",
     "start_time": "2025-04-18T15:58:50.598453Z"
    }
   },
   "cell_type": "code",
   "source": [
    "fig,axis = plt.subplots(nrows=1, ncols=2, figsize=(12,6))\n",
    "sns.histplot(data=check_df,x='FireplaceQu',ax=axis[0])\n",
    "axis[0].set_title(\"Before Imputation\")\n",
    "sns.histplot(data=check_df,x='FireplaceQu_imp',ax=axis[1])\n",
    "axis[1].set_title(\"After Imputation\")"
   ],
   "id": "fd49a98a0c0bfc69",
   "outputs": [
    {
     "data": {
      "text/plain": [
       "Text(0.5, 1.0, 'After Imputation')"
      ]
     },
     "execution_count": 50,
     "metadata": {},
     "output_type": "execute_result"
    },
    {
     "data": {
      "text/plain": [
       "<Figure size 1200x600 with 2 Axes>"
      ],
      "image/png": "[encoded data removed]"
     },
     "metadata": {},
     "output_type": "display_data"
    }
   ],
   "execution_count": 50
  },
  {
   "metadata": {
    "ExecuteTime": {
     "end_time": "2025-04-18T15:59:17.185924Z",
     "start_time": "2025-04-18T15:59:16.929312Z"
    }
   },
   "cell_type": "code",
   "source": [
    "fig,axis = plt.subplots(nrows=1, ncols=2, figsize=(12,6))\n",
    "sns.histplot(data=check_df,x='GarageQual',ax=axis[0])\n",
    "axis[0].set_title(\"Before Imputation\")\n",
    "sns.histplot(data=check_df,x='GarageQual_imp',ax=axis[1])\n",
    "axis[1].set_title(\"After Imputation\")"
   ],
   "id": "100f4dee8b2b7af2",
   "outputs": [
    {
     "data": {
      "text/plain": [
       "Text(0.5, 1.0, 'After Imputation')"
      ]
     },
     "execution_count": 51,
     "metadata": {},
     "output_type": "execute_result"
    },
    {
     "data": {
      "text/plain": [
       "<Figure size 1200x600 with 2 Axes>"
      ],
      "image/png": "[encoded data removed]"
     },
     "metadata": {},
     "output_type": "display_data"
    }
   ],
   "execution_count": 51
  },
  {
   "metadata": {},
   "cell_type": "code",
   "outputs": [],
   "execution_count": null,
   "source": "",
   "id": "dee82c45f180010c"
  }
 ],
 "metadata": {
  "kernelspec": {
   "display_name": "Python 3",
   "language": "python",
   "name": "python3"
  },
  "language_info": {
   "codemirror_mode": {
    "name": "ipython",
    "version": 2
   },
   "file_extension": ".py",
   "mimetype": "text/x-python",
   "name": "python",
   "nbconvert_exporter": "python",
   "pygments_lexer": "ipython2",
   "version": "2.7.6"
  }
 },
 "nbformat": 4,
 "nbformat_minor": 5
}
