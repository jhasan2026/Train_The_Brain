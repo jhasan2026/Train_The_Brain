{
 "cells": [
  {
   "cell_type": "code",
   "id": "initial_id",
   "metadata": {
    "collapsed": true,
    "ExecuteTime": {
     "end_time": "2025-04-17T02:52:08.292947Z",
     "start_time": "2025-04-17T02:52:08.289725Z"
    }
   },
   "source": [
    "import pandas as pd\n",
    "import numpy as np\n",
    "import seaborn as sns\n",
    "import matplotlib.pyplot as plt"
   ],
   "outputs": [],
   "execution_count": 1
  },
  {
   "metadata": {
    "ExecuteTime": {
     "end_time": "2025-04-17T02:52:10.501965Z",
     "start_time": "2025-04-17T02:52:10.452899Z"
    }
   },
   "cell_type": "code",
   "source": [
    "df = pd.read_csv(\"../../../../../Data/titanic_toy.csv\")\n",
    "df"
   ],
   "id": "16d8b3f7756a1558",
   "outputs": [
    {
     "data": {
      "text/plain": [
       "      Age     Fare  Family  Survived\n",
       "0    22.0   7.2500       1         0\n",
       "1    38.0  71.2833       1         1\n",
       "2    26.0   7.9250       0         1\n",
       "3    35.0  53.1000       1         1\n",
       "4    35.0   8.0500       0         0\n",
       "..    ...      ...     ...       ...\n",
       "886  27.0  13.0000       0         0\n",
       "887  19.0  30.0000       0         1\n",
       "888   NaN  23.4500       3         0\n",
       "889  26.0      NaN       0         1\n",
       "890  32.0   7.7500       0         0\n",
       "\n",
       "[891 rows x 4 columns]"
      ],
      "text/html": [
       "<div>\n",
       "<style scoped>\n",
       "    .dataframe tbody tr th:only-of-type {\n",
       "        vertical-align: middle;\n",
       "    }\n",
       "\n",
       "    .dataframe tbody tr th {\n",
       "        vertical-align: top;\n",
       "    }\n",
       "\n",
       "    .dataframe thead th {\n",
       "        text-align: right;\n",
       "    }\n",
       "</style>\n",
       "<table border=\"1\" class=\"dataframe\">\n",
       "  <thead>\n",
       "    <tr style=\"text-align: right;\">\n",
       "      <th></th>\n",
       "      <th>Age</th>\n",
       "      <th>Fare</th>\n",
       "      <th>Family</th>\n",
       "      <th>Survived</th>\n",
       "    </tr>\n",
       "  </thead>\n",
       "  <tbody>\n",
       "    <tr>\n",
       "      <th>0</th>\n",
       "      <td>22.0</td>\n",
       "      <td>7.2500</td>\n",
       "      <td>1</td>\n",
       "      <td>0</td>\n",
       "    </tr>\n",
       "    <tr>\n",
       "      <th>1</th>\n",
       "      <td>38.0</td>\n",
       "      <td>71.2833</td>\n",
       "      <td>1</td>\n",
       "      <td>1</td>\n",
       "    </tr>\n",
       "    <tr>\n",
       "      <th>2</th>\n",
       "      <td>26.0</td>\n",
       "      <td>7.9250</td>\n",
       "      <td>0</td>\n",
       "      <td>1</td>\n",
       "    </tr>\n",
       "    <tr>\n",
       "      <th>3</th>\n",
       "      <td>35.0</td>\n",
       "      <td>53.1000</td>\n",
       "      <td>1</td>\n",
       "      <td>1</td>\n",
       "    </tr>\n",
       "    <tr>\n",
       "      <th>4</th>\n",
       "      <td>35.0</td>\n",
       "      <td>8.0500</td>\n",
       "      <td>0</td>\n",
       "      <td>0</td>\n",
       "    </tr>\n",
       "    <tr>\n",
       "      <th>...</th>\n",
       "      <td>...</td>\n",
       "      <td>...</td>\n",
       "      <td>...</td>\n",
       "      <td>...</td>\n",
       "    </tr>\n",
       "    <tr>\n",
       "      <th>886</th>\n",
       "      <td>27.0</td>\n",
       "      <td>13.0000</td>\n",
       "      <td>0</td>\n",
       "      <td>0</td>\n",
       "    </tr>\n",
       "    <tr>\n",
       "      <th>887</th>\n",
       "      <td>19.0</td>\n",
       "      <td>30.0000</td>\n",
       "      <td>0</td>\n",
       "      <td>1</td>\n",
       "    </tr>\n",
       "    <tr>\n",
       "      <th>888</th>\n",
       "      <td>NaN</td>\n",
       "      <td>23.4500</td>\n",
       "      <td>3</td>\n",
       "      <td>0</td>\n",
       "    </tr>\n",
       "    <tr>\n",
       "      <th>889</th>\n",
       "      <td>26.0</td>\n",
       "      <td>NaN</td>\n",
       "      <td>0</td>\n",
       "      <td>1</td>\n",
       "    </tr>\n",
       "    <tr>\n",
       "      <th>890</th>\n",
       "      <td>32.0</td>\n",
       "      <td>7.7500</td>\n",
       "      <td>0</td>\n",
       "      <td>0</td>\n",
       "    </tr>\n",
       "  </tbody>\n",
       "</table>\n",
       "<p>891 rows × 4 columns</p>\n",
       "</div>"
      ]
     },
     "execution_count": 2,
     "metadata": {},
     "output_type": "execute_result"
    }
   ],
   "execution_count": 2
  },
  {
   "metadata": {
    "ExecuteTime": {
     "end_time": "2025-04-17T02:52:11.402676Z",
     "start_time": "2025-04-17T02:52:11.390670Z"
    }
   },
   "cell_type": "code",
   "source": "df.isnull().mean() * 100",
   "id": "181553ec8be41d91",
   "outputs": [
    {
     "data": {
      "text/plain": [
       "Age         19.865320\n",
       "Fare         5.050505\n",
       "Family       0.000000\n",
       "Survived     0.000000\n",
       "dtype: float64"
      ]
     },
     "execution_count": 3,
     "metadata": {},
     "output_type": "execute_result"
    }
   ],
   "execution_count": 3
  },
  {
   "metadata": {},
   "cell_type": "markdown",
   "source": "# Using Sklearn Imputation",
   "id": "5769017c15b94116"
  },
  {
   "metadata": {
    "ExecuteTime": {
     "end_time": "2025-04-17T02:52:13.892050Z",
     "start_time": "2025-04-17T02:52:13.199005Z"
    }
   },
   "cell_type": "code",
   "source": [
    "from sklearn.model_selection import train_test_split\n",
    "X_train, X_test, y_train, y_test = train_test_split(df.iloc[:,:-1],df.iloc[:,-1],test_size=0.2,random_state=2)"
   ],
   "id": "b848528e63469728",
   "outputs": [],
   "execution_count": 4
  },
  {
   "metadata": {
    "ExecuteTime": {
     "end_time": "2025-04-17T02:52:15.239175Z",
     "start_time": "2025-04-17T02:52:14.820655Z"
    }
   },
   "cell_type": "code",
   "source": [
    "from sklearn.impute import SimpleImputer\n",
    "from sklearn.compose import ColumnTransformer\n",
    "\n",
    "impute_trf = ColumnTransformer(transformers=[\n",
    "    ('age',SimpleImputer(strategy='constant', fill_value=99),['Age']),\n",
    "    ('fare',SimpleImputer(strategy='constant', fill_value=999),['Fare']),\n",
    "],remainder='passthrough')"
   ],
   "id": "b2cc4dfe88c6bdfc",
   "outputs": [],
   "execution_count": 5
  },
  {
   "metadata": {
    "ExecuteTime": {
     "end_time": "2025-04-17T02:52:17.078306Z",
     "start_time": "2025-04-17T02:52:17.064185Z"
    }
   },
   "cell_type": "code",
   "source": [
    "X_train_imp = impute_trf.fit_transform(X_train)\n",
    "X_test_imp = impute_trf.transform(X_test)"
   ],
   "id": "e1077ae8cd2ecc2a",
   "outputs": [],
   "execution_count": 6
  },
  {
   "metadata": {
    "ExecuteTime": {
     "end_time": "2025-04-17T02:52:18.291615Z",
     "start_time": "2025-04-17T02:52:18.286848Z"
    }
   },
   "cell_type": "code",
   "source": "np.isnan(X_train_imp).sum(axis=0)",
   "id": "363e8c77fef1993f",
   "outputs": [
    {
     "data": {
      "text/plain": [
       "array([0, 0, 0])"
      ]
     },
     "execution_count": 7,
     "metadata": {},
     "output_type": "execute_result"
    }
   ],
   "execution_count": 7
  },
  {
   "metadata": {},
   "cell_type": "markdown",
   "source": "# Check Variance",
   "id": "6f1c23d2b6a98585"
  },
  {
   "metadata": {
    "ExecuteTime": {
     "end_time": "2025-04-17T02:53:44.819905Z",
     "start_time": "2025-04-17T02:53:44.807096Z"
    }
   },
   "cell_type": "code",
   "source": [
    "imputed_data = pd.DataFrame([])\n",
    "imputed_data[\"Age\"] = df['Age']\n",
    "imputed_data['Age 99'] = df['Age'].fillna(99)\n",
    "imputed_data['Age minus_1'] = df['Age'].fillna(-1)\n",
    "\n",
    "\n",
    "imputed_data[\"Fare\"] = df['Fare']\n",
    "imputed_data['Fare 999'] = df['Fare'].fillna(99)\n",
    "imputed_data['Fare minus_1'] = df['Fare'].fillna(-1)\n",
    "\n",
    "imputed_data"
   ],
   "id": "1e36203a2451fe84",
   "outputs": [
    {
     "data": {
      "text/plain": [
       "      Age  Age 99  Age minus_1     Fare  Fare 999  Fare minus_1\n",
       "0    22.0    22.0         22.0   7.2500    7.2500        7.2500\n",
       "1    38.0    38.0         38.0  71.2833   71.2833       71.2833\n",
       "2    26.0    26.0         26.0   7.9250    7.9250        7.9250\n",
       "3    35.0    35.0         35.0  53.1000   53.1000       53.1000\n",
       "4    35.0    35.0         35.0   8.0500    8.0500        8.0500\n",
       "..    ...     ...          ...      ...       ...           ...\n",
       "886  27.0    27.0         27.0  13.0000   13.0000       13.0000\n",
       "887  19.0    19.0         19.0  30.0000   30.0000       30.0000\n",
       "888   NaN    99.0         -1.0  23.4500   23.4500       23.4500\n",
       "889  26.0    26.0         26.0      NaN   99.0000       -1.0000\n",
       "890  32.0    32.0         32.0   7.7500    7.7500        7.7500\n",
       "\n",
       "[891 rows x 6 columns]"
      ],
      "text/html": [
       "<div>\n",
       "<style scoped>\n",
       "    .dataframe tbody tr th:only-of-type {\n",
       "        vertical-align: middle;\n",
       "    }\n",
       "\n",
       "    .dataframe tbody tr th {\n",
       "        vertical-align: top;\n",
       "    }\n",
       "\n",
       "    .dataframe thead th {\n",
       "        text-align: right;\n",
       "    }\n",
       "</style>\n",
       "<table border=\"1\" class=\"dataframe\">\n",
       "  <thead>\n",
       "    <tr style=\"text-align: right;\">\n",
       "      <th></th>\n",
       "      <th>Age</th>\n",
       "      <th>Age 99</th>\n",
       "      <th>Age minus_1</th>\n",
       "      <th>Fare</th>\n",
       "      <th>Fare 999</th>\n",
       "      <th>Fare minus_1</th>\n",
       "    </tr>\n",
       "  </thead>\n",
       "  <tbody>\n",
       "    <tr>\n",
       "      <th>0</th>\n",
       "      <td>22.0</td>\n",
       "      <td>22.0</td>\n",
       "      <td>22.0</td>\n",
       "      <td>7.2500</td>\n",
       "      <td>7.2500</td>\n",
       "      <td>7.2500</td>\n",
       "    </tr>\n",
       "    <tr>\n",
       "      <th>1</th>\n",
       "      <td>38.0</td>\n",
       "      <td>38.0</td>\n",
       "      <td>38.0</td>\n",
       "      <td>71.2833</td>\n",
       "      <td>71.2833</td>\n",
       "      <td>71.2833</td>\n",
       "    </tr>\n",
       "    <tr>\n",
       "      <th>2</th>\n",
       "      <td>26.0</td>\n",
       "      <td>26.0</td>\n",
       "      <td>26.0</td>\n",
       "      <td>7.9250</td>\n",
       "      <td>7.9250</td>\n",
       "      <td>7.9250</td>\n",
       "    </tr>\n",
       "    <tr>\n",
       "      <th>3</th>\n",
       "      <td>35.0</td>\n",
       "      <td>35.0</td>\n",
       "      <td>35.0</td>\n",
       "      <td>53.1000</td>\n",
       "      <td>53.1000</td>\n",
       "      <td>53.1000</td>\n",
       "    </tr>\n",
       "    <tr>\n",
       "      <th>4</th>\n",
       "      <td>35.0</td>\n",
       "      <td>35.0</td>\n",
       "      <td>35.0</td>\n",
       "      <td>8.0500</td>\n",
       "      <td>8.0500</td>\n",
       "      <td>8.0500</td>\n",
       "    </tr>\n",
       "    <tr>\n",
       "      <th>...</th>\n",
       "      <td>...</td>\n",
       "      <td>...</td>\n",
       "      <td>...</td>\n",
       "      <td>...</td>\n",
       "      <td>...</td>\n",
       "      <td>...</td>\n",
       "    </tr>\n",
       "    <tr>\n",
       "      <th>886</th>\n",
       "      <td>27.0</td>\n",
       "      <td>27.0</td>\n",
       "      <td>27.0</td>\n",
       "      <td>13.0000</td>\n",
       "      <td>13.0000</td>\n",
       "      <td>13.0000</td>\n",
       "    </tr>\n",
       "    <tr>\n",
       "      <th>887</th>\n",
       "      <td>19.0</td>\n",
       "      <td>19.0</td>\n",
       "      <td>19.0</td>\n",
       "      <td>30.0000</td>\n",
       "      <td>30.0000</td>\n",
       "      <td>30.0000</td>\n",
       "    </tr>\n",
       "    <tr>\n",
       "      <th>888</th>\n",
       "      <td>NaN</td>\n",
       "      <td>99.0</td>\n",
       "      <td>-1.0</td>\n",
       "      <td>23.4500</td>\n",
       "      <td>23.4500</td>\n",
       "      <td>23.4500</td>\n",
       "    </tr>\n",
       "    <tr>\n",
       "      <th>889</th>\n",
       "      <td>26.0</td>\n",
       "      <td>26.0</td>\n",
       "      <td>26.0</td>\n",
       "      <td>NaN</td>\n",
       "      <td>99.0000</td>\n",
       "      <td>-1.0000</td>\n",
       "    </tr>\n",
       "    <tr>\n",
       "      <th>890</th>\n",
       "      <td>32.0</td>\n",
       "      <td>32.0</td>\n",
       "      <td>32.0</td>\n",
       "      <td>7.7500</td>\n",
       "      <td>7.7500</td>\n",
       "      <td>7.7500</td>\n",
       "    </tr>\n",
       "  </tbody>\n",
       "</table>\n",
       "<p>891 rows × 6 columns</p>\n",
       "</div>"
      ]
     },
     "execution_count": 8,
     "metadata": {},
     "output_type": "execute_result"
    }
   ],
   "execution_count": 8
  },
  {
   "metadata": {
    "ExecuteTime": {
     "end_time": "2025-04-17T02:55:54.231567Z",
     "start_time": "2025-04-17T02:55:54.214186Z"
    }
   },
   "cell_type": "code",
   "source": [
    "variance_df = pd.DataFrame(\n",
    "    {\n",
    "        \"Columns\":[\"Age\",\"Fare\"],\n",
    "        \"Original Variance\":[imputed_data['Age'].var(), imputed_data['Fare'].var()],\n",
    "        \"max_limit Imp Variance\":[imputed_data['Age 99'].var(), imputed_data['Fare 999'].var()],\n",
    "        \"min_limit Imp Variance\":[imputed_data['Age minus_1'].var(), imputed_data['Fare minus_1'].var()]\n",
    "    }\n",
    ")\n",
    "variance_df"
   ],
   "id": "d48b435d96f66551",
   "outputs": [
    {
     "data": {
      "text/plain": [
       "  Columns  Original Variance  max_limit Imp Variance  min_limit Imp Variance\n",
       "0     Age         211.019125              934.439778              319.247427\n",
       "1    Fare        2530.673077             2616.433115             2455.887436"
      ],
      "text/html": [
       "<div>\n",
       "<style scoped>\n",
       "    .dataframe tbody tr th:only-of-type {\n",
       "        vertical-align: middle;\n",
       "    }\n",
       "\n",
       "    .dataframe tbody tr th {\n",
       "        vertical-align: top;\n",
       "    }\n",
       "\n",
       "    .dataframe thead th {\n",
       "        text-align: right;\n",
       "    }\n",
       "</style>\n",
       "<table border=\"1\" class=\"dataframe\">\n",
       "  <thead>\n",
       "    <tr style=\"text-align: right;\">\n",
       "      <th></th>\n",
       "      <th>Columns</th>\n",
       "      <th>Original Variance</th>\n",
       "      <th>max_limit Imp Variance</th>\n",
       "      <th>min_limit Imp Variance</th>\n",
       "    </tr>\n",
       "  </thead>\n",
       "  <tbody>\n",
       "    <tr>\n",
       "      <th>0</th>\n",
       "      <td>Age</td>\n",
       "      <td>211.019125</td>\n",
       "      <td>934.439778</td>\n",
       "      <td>319.247427</td>\n",
       "    </tr>\n",
       "    <tr>\n",
       "      <th>1</th>\n",
       "      <td>Fare</td>\n",
       "      <td>2530.673077</td>\n",
       "      <td>2616.433115</td>\n",
       "      <td>2455.887436</td>\n",
       "    </tr>\n",
       "  </tbody>\n",
       "</table>\n",
       "</div>"
      ]
     },
     "execution_count": 12,
     "metadata": {},
     "output_type": "execute_result"
    }
   ],
   "execution_count": 12
  },
  {
   "metadata": {},
   "cell_type": "markdown",
   "source": "# Check Distribution",
   "id": "8a875675b93a6e92"
  },
  {
   "metadata": {
    "ExecuteTime": {
     "end_time": "2025-04-17T02:56:29.614212Z",
     "start_time": "2025-04-17T02:56:29.386214Z"
    }
   },
   "cell_type": "code",
   "source": [
    "sns.kdeplot(data=imputed_data,x='Age')\n",
    "sns.kdeplot(data=imputed_data,x='Age 99')\n",
    "sns.kdeplot(data=imputed_data,x='Age minus_1')"
   ],
   "id": "12bfcea18ee5c6bb",
   "outputs": [
    {
     "data": {
      "text/plain": [
       "<Axes: xlabel='Age', ylabel='Density'>"
      ]
     },
     "execution_count": 13,
     "metadata": {},
     "output_type": "execute_result"
    },
    {
     "data": {
      "text/plain": [
       "<Figure size 640x480 with 1 Axes>"
      ],
      "image/png": "[encoded data removed]"
     },
     "metadata": {},
     "output_type": "display_data"
    }
   ],
   "execution_count": 13
  },
  {
   "metadata": {
    "ExecuteTime": {
     "end_time": "2025-04-17T02:56:35.962550Z",
     "start_time": "2025-04-17T02:56:35.770405Z"
    }
   },
   "cell_type": "code",
   "source": [
    "sns.kdeplot(data=imputed_data,x='Fare')\n",
    "sns.kdeplot(data=imputed_data,x='Fare 999')\n",
    "sns.kdeplot(data=imputed_data,x='Fare minus_1')"
   ],
   "id": "69ac9f4a2aeee73a",
   "outputs": [
    {
     "data": {
      "text/plain": [
       "<Axes: xlabel='Fare', ylabel='Density'>"
      ]
     },
     "execution_count": 15,
     "metadata": {},
     "output_type": "execute_result"
    },
    {
     "data": {
      "text/plain": [
       "<Figure size 640x480 with 1 Axes>"
      ],
      "image/png": "[encoded data removed]"
     },
     "metadata": {},
     "output_type": "display_data"
    }
   ],
   "execution_count": 15
  },
  {
   "metadata": {},
   "cell_type": "markdown",
   "source": "# Check covariance",
   "id": "bad82a7ed28e7a69"
  },
  {
   "metadata": {
    "ExecuteTime": {
     "end_time": "2025-04-17T02:56:45.596984Z",
     "start_time": "2025-04-17T02:56:45.584559Z"
    }
   },
   "cell_type": "code",
   "source": "imputed_data.cov()",
   "id": "d7b08bb78cbb46d8",
   "outputs": [
    {
     "data": {
      "text/plain": [
       "                     Age      Age 99  Age minus_1         Fare     Fare 999  \\\n",
       "Age           211.019125  211.019125   211.019125    78.071438    75.714922   \n",
       "Age 99        211.019125  934.439778  -170.001251   -73.833768   -83.779698   \n",
       "Age minus_1   211.019125 -170.001251   319.247427   122.475966   124.640027   \n",
       "Fare           78.071438  -73.833768   122.475966  2530.673077  2530.673077   \n",
       "Fare 999       75.714922  -83.779698   124.640027  2530.673077  2616.433115   \n",
       "Fare minus_1   72.736744  -63.277655   112.115172  2530.673077  2296.119418   \n",
       "\n",
       "              Fare minus_1  \n",
       "Age              72.736744  \n",
       "Age 99          -63.277655  \n",
       "Age minus_1     112.115172  \n",
       "Fare           2530.673077  \n",
       "Fare 999       2296.119418  \n",
       "Fare minus_1   2455.887436  "
      ],
      "text/html": [
       "<div>\n",
       "<style scoped>\n",
       "    .dataframe tbody tr th:only-of-type {\n",
       "        vertical-align: middle;\n",
       "    }\n",
       "\n",
       "    .dataframe tbody tr th {\n",
       "        vertical-align: top;\n",
       "    }\n",
       "\n",
       "    .dataframe thead th {\n",
       "        text-align: right;\n",
       "    }\n",
       "</style>\n",
       "<table border=\"1\" class=\"dataframe\">\n",
       "  <thead>\n",
       "    <tr style=\"text-align: right;\">\n",
       "      <th></th>\n",
       "      <th>Age</th>\n",
       "      <th>Age 99</th>\n",
       "      <th>Age minus_1</th>\n",
       "      <th>Fare</th>\n",
       "      <th>Fare 999</th>\n",
       "      <th>Fare minus_1</th>\n",
       "    </tr>\n",
       "  </thead>\n",
       "  <tbody>\n",
       "    <tr>\n",
       "      <th>Age</th>\n",
       "      <td>211.019125</td>\n",
       "      <td>211.019125</td>\n",
       "      <td>211.019125</td>\n",
       "      <td>78.071438</td>\n",
       "      <td>75.714922</td>\n",
       "      <td>72.736744</td>\n",
       "    </tr>\n",
       "    <tr>\n",
       "      <th>Age 99</th>\n",
       "      <td>211.019125</td>\n",
       "      <td>934.439778</td>\n",
       "      <td>-170.001251</td>\n",
       "      <td>-73.833768</td>\n",
       "      <td>-83.779698</td>\n",
       "      <td>-63.277655</td>\n",
       "    </tr>\n",
       "    <tr>\n",
       "      <th>Age minus_1</th>\n",
       "      <td>211.019125</td>\n",
       "      <td>-170.001251</td>\n",
       "      <td>319.247427</td>\n",
       "      <td>122.475966</td>\n",
       "      <td>124.640027</td>\n",
       "      <td>112.115172</td>\n",
       "    </tr>\n",
       "    <tr>\n",
       "      <th>Fare</th>\n",
       "      <td>78.071438</td>\n",
       "      <td>-73.833768</td>\n",
       "      <td>122.475966</td>\n",
       "      <td>2530.673077</td>\n",
       "      <td>2530.673077</td>\n",
       "      <td>2530.673077</td>\n",
       "    </tr>\n",
       "    <tr>\n",
       "      <th>Fare 999</th>\n",
       "      <td>75.714922</td>\n",
       "      <td>-83.779698</td>\n",
       "      <td>124.640027</td>\n",
       "      <td>2530.673077</td>\n",
       "      <td>2616.433115</td>\n",
       "      <td>2296.119418</td>\n",
       "    </tr>\n",
       "    <tr>\n",
       "      <th>Fare minus_1</th>\n",
       "      <td>72.736744</td>\n",
       "      <td>-63.277655</td>\n",
       "      <td>112.115172</td>\n",
       "      <td>2530.673077</td>\n",
       "      <td>2296.119418</td>\n",
       "      <td>2455.887436</td>\n",
       "    </tr>\n",
       "  </tbody>\n",
       "</table>\n",
       "</div>"
      ]
     },
     "execution_count": 16,
     "metadata": {},
     "output_type": "execute_result"
    }
   ],
   "execution_count": 16
  },
  {
   "metadata": {
    "ExecuteTime": {
     "end_time": "2025-04-17T02:56:46.567383Z",
     "start_time": "2025-04-17T02:56:46.557132Z"
    }
   },
   "cell_type": "code",
   "source": "imputed_data.corr()",
   "id": "5248eafdfa63c941",
   "outputs": [
    {
     "data": {
      "text/plain": [
       "                   Age    Age 99  Age minus_1      Fare  Fare 999  \\\n",
       "Age           1.000000  1.000000     1.000000  0.099481  0.096198   \n",
       "Age 99        1.000000  1.000000    -0.311252 -0.047700 -0.053581   \n",
       "Age minus_1   1.000000 -0.311252     1.000000  0.135581  0.136376   \n",
       "Fare          0.099481 -0.047700     0.135581  1.000000  1.000000   \n",
       "Fare 999      0.096198 -0.053581     0.136376  1.000000  1.000000   \n",
       "Fare minus_1  0.094827 -0.041771     0.126618  1.000000  0.905806   \n",
       "\n",
       "              Fare minus_1  \n",
       "Age               0.094827  \n",
       "Age 99           -0.041771  \n",
       "Age minus_1       0.126618  \n",
       "Fare              1.000000  \n",
       "Fare 999          0.905806  \n",
       "Fare minus_1      1.000000  "
      ],
      "text/html": [
       "<div>\n",
       "<style scoped>\n",
       "    .dataframe tbody tr th:only-of-type {\n",
       "        vertical-align: middle;\n",
       "    }\n",
       "\n",
       "    .dataframe tbody tr th {\n",
       "        vertical-align: top;\n",
       "    }\n",
       "\n",
       "    .dataframe thead th {\n",
       "        text-align: right;\n",
       "    }\n",
       "</style>\n",
       "<table border=\"1\" class=\"dataframe\">\n",
       "  <thead>\n",
       "    <tr style=\"text-align: right;\">\n",
       "      <th></th>\n",
       "      <th>Age</th>\n",
       "      <th>Age 99</th>\n",
       "      <th>Age minus_1</th>\n",
       "      <th>Fare</th>\n",
       "      <th>Fare 999</th>\n",
       "      <th>Fare minus_1</th>\n",
       "    </tr>\n",
       "  </thead>\n",
       "  <tbody>\n",
       "    <tr>\n",
       "      <th>Age</th>\n",
       "      <td>1.000000</td>\n",
       "      <td>1.000000</td>\n",
       "      <td>1.000000</td>\n",
       "      <td>0.099481</td>\n",
       "      <td>0.096198</td>\n",
       "      <td>0.094827</td>\n",
       "    </tr>\n",
       "    <tr>\n",
       "      <th>Age 99</th>\n",
       "      <td>1.000000</td>\n",
       "      <td>1.000000</td>\n",
       "      <td>-0.311252</td>\n",
       "      <td>-0.047700</td>\n",
       "      <td>-0.053581</td>\n",
       "      <td>-0.041771</td>\n",
       "    </tr>\n",
       "    <tr>\n",
       "      <th>Age minus_1</th>\n",
       "      <td>1.000000</td>\n",
       "      <td>-0.311252</td>\n",
       "      <td>1.000000</td>\n",
       "      <td>0.135581</td>\n",
       "      <td>0.136376</td>\n",
       "      <td>0.126618</td>\n",
       "    </tr>\n",
       "    <tr>\n",
       "      <th>Fare</th>\n",
       "      <td>0.099481</td>\n",
       "      <td>-0.047700</td>\n",
       "      <td>0.135581</td>\n",
       "      <td>1.000000</td>\n",
       "      <td>1.000000</td>\n",
       "      <td>1.000000</td>\n",
       "    </tr>\n",
       "    <tr>\n",
       "      <th>Fare 999</th>\n",
       "      <td>0.096198</td>\n",
       "      <td>-0.053581</td>\n",
       "      <td>0.136376</td>\n",
       "      <td>1.000000</td>\n",
       "      <td>1.000000</td>\n",
       "      <td>0.905806</td>\n",
       "    </tr>\n",
       "    <tr>\n",
       "      <th>Fare minus_1</th>\n",
       "      <td>0.094827</td>\n",
       "      <td>-0.041771</td>\n",
       "      <td>0.126618</td>\n",
       "      <td>1.000000</td>\n",
       "      <td>0.905806</td>\n",
       "      <td>1.000000</td>\n",
       "    </tr>\n",
       "  </tbody>\n",
       "</table>\n",
       "</div>"
      ]
     },
     "execution_count": 17,
     "metadata": {},
     "output_type": "execute_result"
    }
   ],
   "execution_count": 17
  },
  {
   "metadata": {},
   "cell_type": "markdown",
   "source": "# Boxplot",
   "id": "e36e95e61ef2f83"
  },
  {
   "metadata": {
    "ExecuteTime": {
     "end_time": "2025-04-17T02:56:48.380586Z",
     "start_time": "2025-04-17T02:56:48.273930Z"
    }
   },
   "cell_type": "code",
   "source": "imputed_data.iloc[:,:3].boxplot()",
   "id": "82acff237b8c3b63",
   "outputs": [
    {
     "data": {
      "text/plain": [
       "<Axes: >"
      ]
     },
     "execution_count": 18,
     "metadata": {},
     "output_type": "execute_result"
    },
    {
     "data": {
      "text/plain": [
       "<Figure size 640x480 with 1 Axes>"
      ],
      "image/png": "[encoded data removed]"
     },
     "metadata": {},
     "output_type": "display_data"
    }
   ],
   "execution_count": 18
  },
  {
   "metadata": {
    "ExecuteTime": {
     "end_time": "2025-04-17T02:56:49.177408Z",
     "start_time": "2025-04-17T02:56:49.080424Z"
    }
   },
   "cell_type": "code",
   "source": "imputed_data.iloc[:,3:].boxplot()",
   "id": "ca0176185f030916",
   "outputs": [
    {
     "data": {
      "text/plain": [
       "<Axes: >"
      ]
     },
     "execution_count": 19,
     "metadata": {},
     "output_type": "execute_result"
    },
    {
     "data": {
      "text/plain": [
       "<Figure size 640x480 with 1 Axes>"
      ],
      "image/png": "[encoded data removed]"
     },
     "metadata": {},
     "output_type": "display_data"
    }
   ],
   "execution_count": 19
  },
  {
   "metadata": {},
   "cell_type": "code",
   "source": "",
   "id": "c10cca09bd0e8fa",
   "outputs": [],
   "execution_count": null
  }
 ],
 "metadata": {
  "kernelspec": {
   "display_name": "Python 3",
   "language": "python",
   "name": "python3"
  },
  "language_info": {
   "codemirror_mode": {
    "name": "ipython",
    "version": 2
   },
   "file_extension": ".py",
   "mimetype": "text/x-python",
   "name": "python",
   "nbconvert_exporter": "python",
   "pygments_lexer": "ipython2",
   "version": "2.7.6"
  }
 },
 "nbformat": 4,
 "nbformat_minor": 5
}
