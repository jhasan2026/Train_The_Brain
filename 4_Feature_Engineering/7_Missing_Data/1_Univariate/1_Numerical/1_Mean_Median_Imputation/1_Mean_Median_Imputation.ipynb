{
 "cells": [
  {
   "cell_type": "code",
   "id": "initial_id",
   "metadata": {
    "collapsed": true,
    "ExecuteTime": {
     "end_time": "2025-04-17T02:30:54.642588Z",
     "start_time": "2025-04-17T02:30:54.639639Z"
    }
   },
   "source": [
    "import pandas as pd\n",
    "import numpy as np\n",
    "import seaborn as sns\n",
    "import matplotlib.pyplot as plt"
   ],
   "outputs": [],
   "execution_count": 14
  },
  {
   "metadata": {
    "ExecuteTime": {
     "end_time": "2025-04-17T02:30:54.681115Z",
     "start_time": "2025-04-17T02:30:54.668863Z"
    }
   },
   "cell_type": "code",
   "source": [
    "df = pd.read_csv(\"../../../../../Data/titanic_toy.csv\")\n",
    "df"
   ],
   "id": "16d8b3f7756a1558",
   "outputs": [
    {
     "data": {
      "text/plain": [
       "      Age     Fare  Family  Survived\n",
       "0    22.0   7.2500       1         0\n",
       "1    38.0  71.2833       1         1\n",
       "2    26.0   7.9250       0         1\n",
       "3    35.0  53.1000       1         1\n",
       "4    35.0   8.0500       0         0\n",
       "..    ...      ...     ...       ...\n",
       "886  27.0  13.0000       0         0\n",
       "887  19.0  30.0000       0         1\n",
       "888   NaN  23.4500       3         0\n",
       "889  26.0      NaN       0         1\n",
       "890  32.0   7.7500       0         0\n",
       "\n",
       "[891 rows x 4 columns]"
      ],
      "text/html": [
       "<div>\n",
       "<style scoped>\n",
       "    .dataframe tbody tr th:only-of-type {\n",
       "        vertical-align: middle;\n",
       "    }\n",
       "\n",
       "    .dataframe tbody tr th {\n",
       "        vertical-align: top;\n",
       "    }\n",
       "\n",
       "    .dataframe thead th {\n",
       "        text-align: right;\n",
       "    }\n",
       "</style>\n",
       "<table border=\"1\" class=\"dataframe\">\n",
       "  <thead>\n",
       "    <tr style=\"text-align: right;\">\n",
       "      <th></th>\n",
       "      <th>Age</th>\n",
       "      <th>Fare</th>\n",
       "      <th>Family</th>\n",
       "      <th>Survived</th>\n",
       "    </tr>\n",
       "  </thead>\n",
       "  <tbody>\n",
       "    <tr>\n",
       "      <th>0</th>\n",
       "      <td>22.0</td>\n",
       "      <td>7.2500</td>\n",
       "      <td>1</td>\n",
       "      <td>0</td>\n",
       "    </tr>\n",
       "    <tr>\n",
       "      <th>1</th>\n",
       "      <td>38.0</td>\n",
       "      <td>71.2833</td>\n",
       "      <td>1</td>\n",
       "      <td>1</td>\n",
       "    </tr>\n",
       "    <tr>\n",
       "      <th>2</th>\n",
       "      <td>26.0</td>\n",
       "      <td>7.9250</td>\n",
       "      <td>0</td>\n",
       "      <td>1</td>\n",
       "    </tr>\n",
       "    <tr>\n",
       "      <th>3</th>\n",
       "      <td>35.0</td>\n",
       "      <td>53.1000</td>\n",
       "      <td>1</td>\n",
       "      <td>1</td>\n",
       "    </tr>\n",
       "    <tr>\n",
       "      <th>4</th>\n",
       "      <td>35.0</td>\n",
       "      <td>8.0500</td>\n",
       "      <td>0</td>\n",
       "      <td>0</td>\n",
       "    </tr>\n",
       "    <tr>\n",
       "      <th>...</th>\n",
       "      <td>...</td>\n",
       "      <td>...</td>\n",
       "      <td>...</td>\n",
       "      <td>...</td>\n",
       "    </tr>\n",
       "    <tr>\n",
       "      <th>886</th>\n",
       "      <td>27.0</td>\n",
       "      <td>13.0000</td>\n",
       "      <td>0</td>\n",
       "      <td>0</td>\n",
       "    </tr>\n",
       "    <tr>\n",
       "      <th>887</th>\n",
       "      <td>19.0</td>\n",
       "      <td>30.0000</td>\n",
       "      <td>0</td>\n",
       "      <td>1</td>\n",
       "    </tr>\n",
       "    <tr>\n",
       "      <th>888</th>\n",
       "      <td>NaN</td>\n",
       "      <td>23.4500</td>\n",
       "      <td>3</td>\n",
       "      <td>0</td>\n",
       "    </tr>\n",
       "    <tr>\n",
       "      <th>889</th>\n",
       "      <td>26.0</td>\n",
       "      <td>NaN</td>\n",
       "      <td>0</td>\n",
       "      <td>1</td>\n",
       "    </tr>\n",
       "    <tr>\n",
       "      <th>890</th>\n",
       "      <td>32.0</td>\n",
       "      <td>7.7500</td>\n",
       "      <td>0</td>\n",
       "      <td>0</td>\n",
       "    </tr>\n",
       "  </tbody>\n",
       "</table>\n",
       "<p>891 rows × 4 columns</p>\n",
       "</div>"
      ]
     },
     "execution_count": 15,
     "metadata": {},
     "output_type": "execute_result"
    }
   ],
   "execution_count": 15
  },
  {
   "metadata": {
    "ExecuteTime": {
     "end_time": "2025-04-17T02:30:54.698705Z",
     "start_time": "2025-04-17T02:30:54.692568Z"
    }
   },
   "cell_type": "code",
   "source": "df.isnull().mean() * 100",
   "id": "181553ec8be41d91",
   "outputs": [
    {
     "data": {
      "text/plain": [
       "Age         19.865320\n",
       "Fare         5.050505\n",
       "Family       0.000000\n",
       "Survived     0.000000\n",
       "dtype: float64"
      ]
     },
     "execution_count": 16,
     "metadata": {},
     "output_type": "execute_result"
    }
   ],
   "execution_count": 16
  },
  {
   "metadata": {},
   "cell_type": "markdown",
   "source": "# Using Sklearn",
   "id": "5769017c15b94116"
  },
  {
   "metadata": {
    "ExecuteTime": {
     "end_time": "2025-04-17T02:30:54.721947Z",
     "start_time": "2025-04-17T02:30:54.716728Z"
    }
   },
   "cell_type": "code",
   "source": [
    "from sklearn.model_selection import train_test_split\n",
    "X_train, X_test, y_train, y_test = train_test_split(df.iloc[:,:-1],df.iloc[:,-1],test_size=0.2,random_state=2)"
   ],
   "id": "b848528e63469728",
   "outputs": [],
   "execution_count": 17
  },
  {
   "metadata": {
    "ExecuteTime": {
     "end_time": "2025-04-17T02:30:54.726924Z",
     "start_time": "2025-04-17T02:30:54.721947Z"
    }
   },
   "cell_type": "code",
   "source": [
    "from sklearn.impute import SimpleImputer\n",
    "from sklearn.compose import ColumnTransformer\n",
    "\n",
    "impute_trf = ColumnTransformer(transformers=[\n",
    "    ('age',SimpleImputer(strategy='median'),['Age']),\n",
    "    ('fare',SimpleImputer(),['Fare']),\n",
    "],remainder='passthrough')"
   ],
   "id": "b2cc4dfe88c6bdfc",
   "outputs": [],
   "execution_count": 18
  },
  {
   "metadata": {
    "ExecuteTime": {
     "end_time": "2025-04-17T02:30:54.757252Z",
     "start_time": "2025-04-17T02:30:54.739636Z"
    }
   },
   "cell_type": "code",
   "source": [
    "X_train_imp = impute_trf.fit_transform(X_train)\n",
    "X_test_imp = impute_trf.transform(X_test)"
   ],
   "id": "e1077ae8cd2ecc2a",
   "outputs": [],
   "execution_count": 19
  },
  {
   "metadata": {
    "ExecuteTime": {
     "end_time": "2025-04-17T02:30:54.771136Z",
     "start_time": "2025-04-17T02:30:54.764268Z"
    }
   },
   "cell_type": "code",
   "source": "np.isnan(X_train_imp).sum(axis=0)",
   "id": "363e8c77fef1993f",
   "outputs": [
    {
     "data": {
      "text/plain": [
       "array([0, 0, 0])"
      ]
     },
     "execution_count": 20,
     "metadata": {},
     "output_type": "execute_result"
    }
   ],
   "execution_count": 20
  },
  {
   "metadata": {},
   "cell_type": "markdown",
   "source": "# Check Variance",
   "id": "6f1c23d2b6a98585"
  },
  {
   "metadata": {
    "ExecuteTime": {
     "end_time": "2025-04-17T02:39:12.747829Z",
     "start_time": "2025-04-17T02:39:12.728953Z"
    }
   },
   "cell_type": "code",
   "source": [
    "imputed_data = pd.DataFrame([])\n",
    "imputed_data[\"Age\"] = df['Age']\n",
    "imputed_data['Age Mean'] = df['Age'].fillna(df['Age'].mean())\n",
    "imputed_data['Age Median'] = df['Age'].fillna(df['Age'].median())\n",
    "\n",
    "\n",
    "imputed_data[\"Fare\"] = df['Fare']\n",
    "imputed_data['Fare Mean'] = df['Fare'].fillna(df['Fare'].mean())\n",
    "imputed_data['Fare Median'] = df['Fare'].fillna(df['Fare'].median())\n",
    "\n",
    "imputed_data"
   ],
   "id": "1e36203a2451fe84",
   "outputs": [
    {
     "data": {
      "text/plain": [
       "      Age   Age Mean  Age Median     Fare  Fare Mean  Fare Median\n",
       "0    22.0  22.000000        22.0   7.2500   7.250000       7.2500\n",
       "1    38.0  38.000000        38.0  71.2833  71.283300      71.2833\n",
       "2    26.0  26.000000        26.0   7.9250   7.925000       7.9250\n",
       "3    35.0  35.000000        35.0  53.1000  53.100000      53.1000\n",
       "4    35.0  35.000000        35.0   8.0500   8.050000       8.0500\n",
       "..    ...        ...         ...      ...        ...          ...\n",
       "886  27.0  27.000000        27.0  13.0000  13.000000      13.0000\n",
       "887  19.0  19.000000        19.0  30.0000  30.000000      30.0000\n",
       "888   NaN  29.699118        28.0  23.4500  23.450000      23.4500\n",
       "889  26.0  26.000000        26.0      NaN  32.279338      14.4542\n",
       "890  32.0  32.000000        32.0   7.7500   7.750000       7.7500\n",
       "\n",
       "[891 rows x 6 columns]"
      ],
      "text/html": [
       "<div>\n",
       "<style scoped>\n",
       "    .dataframe tbody tr th:only-of-type {\n",
       "        vertical-align: middle;\n",
       "    }\n",
       "\n",
       "    .dataframe tbody tr th {\n",
       "        vertical-align: top;\n",
       "    }\n",
       "\n",
       "    .dataframe thead th {\n",
       "        text-align: right;\n",
       "    }\n",
       "</style>\n",
       "<table border=\"1\" class=\"dataframe\">\n",
       "  <thead>\n",
       "    <tr style=\"text-align: right;\">\n",
       "      <th></th>\n",
       "      <th>Age</th>\n",
       "      <th>Age Mean</th>\n",
       "      <th>Age Median</th>\n",
       "      <th>Fare</th>\n",
       "      <th>Fare Mean</th>\n",
       "      <th>Fare Median</th>\n",
       "    </tr>\n",
       "  </thead>\n",
       "  <tbody>\n",
       "    <tr>\n",
       "      <th>0</th>\n",
       "      <td>22.0</td>\n",
       "      <td>22.000000</td>\n",
       "      <td>22.0</td>\n",
       "      <td>7.2500</td>\n",
       "      <td>7.250000</td>\n",
       "      <td>7.2500</td>\n",
       "    </tr>\n",
       "    <tr>\n",
       "      <th>1</th>\n",
       "      <td>38.0</td>\n",
       "      <td>38.000000</td>\n",
       "      <td>38.0</td>\n",
       "      <td>71.2833</td>\n",
       "      <td>71.283300</td>\n",
       "      <td>71.2833</td>\n",
       "    </tr>\n",
       "    <tr>\n",
       "      <th>2</th>\n",
       "      <td>26.0</td>\n",
       "      <td>26.000000</td>\n",
       "      <td>26.0</td>\n",
       "      <td>7.9250</td>\n",
       "      <td>7.925000</td>\n",
       "      <td>7.9250</td>\n",
       "    </tr>\n",
       "    <tr>\n",
       "      <th>3</th>\n",
       "      <td>35.0</td>\n",
       "      <td>35.000000</td>\n",
       "      <td>35.0</td>\n",
       "      <td>53.1000</td>\n",
       "      <td>53.100000</td>\n",
       "      <td>53.1000</td>\n",
       "    </tr>\n",
       "    <tr>\n",
       "      <th>4</th>\n",
       "      <td>35.0</td>\n",
       "      <td>35.000000</td>\n",
       "      <td>35.0</td>\n",
       "      <td>8.0500</td>\n",
       "      <td>8.050000</td>\n",
       "      <td>8.0500</td>\n",
       "    </tr>\n",
       "    <tr>\n",
       "      <th>...</th>\n",
       "      <td>...</td>\n",
       "      <td>...</td>\n",
       "      <td>...</td>\n",
       "      <td>...</td>\n",
       "      <td>...</td>\n",
       "      <td>...</td>\n",
       "    </tr>\n",
       "    <tr>\n",
       "      <th>886</th>\n",
       "      <td>27.0</td>\n",
       "      <td>27.000000</td>\n",
       "      <td>27.0</td>\n",
       "      <td>13.0000</td>\n",
       "      <td>13.000000</td>\n",
       "      <td>13.0000</td>\n",
       "    </tr>\n",
       "    <tr>\n",
       "      <th>887</th>\n",
       "      <td>19.0</td>\n",
       "      <td>19.000000</td>\n",
       "      <td>19.0</td>\n",
       "      <td>30.0000</td>\n",
       "      <td>30.000000</td>\n",
       "      <td>30.0000</td>\n",
       "    </tr>\n",
       "    <tr>\n",
       "      <th>888</th>\n",
       "      <td>NaN</td>\n",
       "      <td>29.699118</td>\n",
       "      <td>28.0</td>\n",
       "      <td>23.4500</td>\n",
       "      <td>23.450000</td>\n",
       "      <td>23.4500</td>\n",
       "    </tr>\n",
       "    <tr>\n",
       "      <th>889</th>\n",
       "      <td>26.0</td>\n",
       "      <td>26.000000</td>\n",
       "      <td>26.0</td>\n",
       "      <td>NaN</td>\n",
       "      <td>32.279338</td>\n",
       "      <td>14.4542</td>\n",
       "    </tr>\n",
       "    <tr>\n",
       "      <th>890</th>\n",
       "      <td>32.0</td>\n",
       "      <td>32.000000</td>\n",
       "      <td>32.0</td>\n",
       "      <td>7.7500</td>\n",
       "      <td>7.750000</td>\n",
       "      <td>7.7500</td>\n",
       "    </tr>\n",
       "  </tbody>\n",
       "</table>\n",
       "<p>891 rows × 6 columns</p>\n",
       "</div>"
      ]
     },
     "execution_count": 27,
     "metadata": {},
     "output_type": "execute_result"
    }
   ],
   "execution_count": 27
  },
  {
   "metadata": {
    "ExecuteTime": {
     "end_time": "2025-04-17T02:41:50.067891Z",
     "start_time": "2025-04-17T02:41:50.057748Z"
    }
   },
   "cell_type": "code",
   "source": [
    "variance_df = pd.DataFrame(\n",
    "    {\n",
    "        \"Columns\":[\"Age\",\"Fare\"],\n",
    "        \"Original Variance\":[imputed_data['Age'].var(), imputed_data['Fare'].var()],\n",
    "        \"Mean Imp Variance\":[imputed_data['Age Mean'].var(), imputed_data['Fare Mean'].var()],\n",
    "        \"Median Imp Variance\":[imputed_data['Age Median'].var(), imputed_data['Fare Median'].var()]\n",
    "    }\n",
    ")\n",
    "variance_df"
   ],
   "id": "d48b435d96f66551",
   "outputs": [
    {
     "data": {
      "text/plain": [
       "  Columns  Original Variance  Mean Imp Variance  Median Imp Variance\n",
       "0     Age         211.019125         169.052400           169.512498\n",
       "1    Fare        2530.673077        2402.717697          2417.971600"
      ],
      "text/html": [
       "<div>\n",
       "<style scoped>\n",
       "    .dataframe tbody tr th:only-of-type {\n",
       "        vertical-align: middle;\n",
       "    }\n",
       "\n",
       "    .dataframe tbody tr th {\n",
       "        vertical-align: top;\n",
       "    }\n",
       "\n",
       "    .dataframe thead th {\n",
       "        text-align: right;\n",
       "    }\n",
       "</style>\n",
       "<table border=\"1\" class=\"dataframe\">\n",
       "  <thead>\n",
       "    <tr style=\"text-align: right;\">\n",
       "      <th></th>\n",
       "      <th>Columns</th>\n",
       "      <th>Original Variance</th>\n",
       "      <th>Mean Imp Variance</th>\n",
       "      <th>Median Imp Variance</th>\n",
       "    </tr>\n",
       "  </thead>\n",
       "  <tbody>\n",
       "    <tr>\n",
       "      <th>0</th>\n",
       "      <td>Age</td>\n",
       "      <td>211.019125</td>\n",
       "      <td>169.052400</td>\n",
       "      <td>169.512498</td>\n",
       "    </tr>\n",
       "    <tr>\n",
       "      <th>1</th>\n",
       "      <td>Fare</td>\n",
       "      <td>2530.673077</td>\n",
       "      <td>2402.717697</td>\n",
       "      <td>2417.971600</td>\n",
       "    </tr>\n",
       "  </tbody>\n",
       "</table>\n",
       "</div>"
      ]
     },
     "execution_count": 30,
     "metadata": {},
     "output_type": "execute_result"
    }
   ],
   "execution_count": 30
  },
  {
   "metadata": {},
   "cell_type": "markdown",
   "source": "# Check Distribution",
   "id": "8a875675b93a6e92"
  },
  {
   "metadata": {
    "ExecuteTime": {
     "end_time": "2025-04-17T02:44:22.262557Z",
     "start_time": "2025-04-17T02:44:22.098495Z"
    }
   },
   "cell_type": "code",
   "source": [
    "sns.kdeplot(data=imputed_data,x='Age')\n",
    "sns.kdeplot(data=imputed_data,x='Age Mean')\n",
    "sns.kdeplot(data=imputed_data,x='Age Median')"
   ],
   "id": "12bfcea18ee5c6bb",
   "outputs": [
    {
     "data": {
      "text/plain": [
       "<Axes: xlabel='Age', ylabel='Density'>"
      ]
     },
     "execution_count": 34,
     "metadata": {},
     "output_type": "execute_result"
    },
    {
     "data": {
      "text/plain": [
       "<Figure size 640x480 with 1 Axes>"
      ],
      "image/png": "[encoded data removed]"
     },
     "metadata": {},
     "output_type": "display_data"
    }
   ],
   "execution_count": 34
  },
  {
   "metadata": {
    "ExecuteTime": {
     "end_time": "2025-04-17T02:44:41.186503Z",
     "start_time": "2025-04-17T02:44:40.920758Z"
    }
   },
   "cell_type": "code",
   "source": [
    "sns.kdeplot(data=imputed_data,x='Fare')\n",
    "sns.kdeplot(data=imputed_data,x='Fare Mean')\n",
    "sns.kdeplot(data=imputed_data,x='Fare Median')"
   ],
   "id": "69ac9f4a2aeee73a",
   "outputs": [
    {
     "data": {
      "text/plain": [
       "<Axes: xlabel='Fare', ylabel='Density'>"
      ]
     },
     "execution_count": 35,
     "metadata": {},
     "output_type": "execute_result"
    },
    {
     "data": {
      "text/plain": [
       "<Figure size 640x480 with 1 Axes>"
      ],
      "image/png": "[encoded data removed]"
     },
     "metadata": {},
     "output_type": "display_data"
    }
   ],
   "execution_count": 35
  },
  {
   "metadata": {},
   "cell_type": "markdown",
   "source": "# Check covariance",
   "id": "bad82a7ed28e7a69"
  },
  {
   "metadata": {
    "ExecuteTime": {
     "end_time": "2025-04-17T02:45:42.783462Z",
     "start_time": "2025-04-17T02:45:42.767072Z"
    }
   },
   "cell_type": "code",
   "source": "imputed_data.cov()",
   "id": "d7b08bb78cbb46d8",
   "outputs": [
    {
     "data": {
      "text/plain": [
       "                    Age    Age Mean  Age Median         Fare    Fare Mean  \\\n",
       "Age          211.019125  211.019125  211.019125    78.071438    73.727862   \n",
       "Age Mean     211.019125  169.052400  169.052400    62.210610    59.065130   \n",
       "Age Median   211.019125  169.052400  169.512498    65.546143    62.232012   \n",
       "Fare          78.071438   62.210610   65.546143  2530.673077  2530.673077   \n",
       "Fare Mean     73.727862   59.065130   62.232012  2530.673077  2402.717697   \n",
       "Fare Median   73.196997   58.639842   61.706696  2530.673077  2402.717697   \n",
       "\n",
       "             Fare Median  \n",
       "Age            73.196997  \n",
       "Age Mean       58.639842  \n",
       "Age Median     61.706696  \n",
       "Fare         2530.673077  \n",
       "Fare Mean    2402.717697  \n",
       "Fare Median  2417.971600  "
      ],
      "text/html": [
       "<div>\n",
       "<style scoped>\n",
       "    .dataframe tbody tr th:only-of-type {\n",
       "        vertical-align: middle;\n",
       "    }\n",
       "\n",
       "    .dataframe tbody tr th {\n",
       "        vertical-align: top;\n",
       "    }\n",
       "\n",
       "    .dataframe thead th {\n",
       "        text-align: right;\n",
       "    }\n",
       "</style>\n",
       "<table border=\"1\" class=\"dataframe\">\n",
       "  <thead>\n",
       "    <tr style=\"text-align: right;\">\n",
       "      <th></th>\n",
       "      <th>Age</th>\n",
       "      <th>Age Mean</th>\n",
       "      <th>Age Median</th>\n",
       "      <th>Fare</th>\n",
       "      <th>Fare Mean</th>\n",
       "      <th>Fare Median</th>\n",
       "    </tr>\n",
       "  </thead>\n",
       "  <tbody>\n",
       "    <tr>\n",
       "      <th>Age</th>\n",
       "      <td>211.019125</td>\n",
       "      <td>211.019125</td>\n",
       "      <td>211.019125</td>\n",
       "      <td>78.071438</td>\n",
       "      <td>73.727862</td>\n",
       "      <td>73.196997</td>\n",
       "    </tr>\n",
       "    <tr>\n",
       "      <th>Age Mean</th>\n",
       "      <td>211.019125</td>\n",
       "      <td>169.052400</td>\n",
       "      <td>169.052400</td>\n",
       "      <td>62.210610</td>\n",
       "      <td>59.065130</td>\n",
       "      <td>58.639842</td>\n",
       "    </tr>\n",
       "    <tr>\n",
       "      <th>Age Median</th>\n",
       "      <td>211.019125</td>\n",
       "      <td>169.052400</td>\n",
       "      <td>169.512498</td>\n",
       "      <td>65.546143</td>\n",
       "      <td>62.232012</td>\n",
       "      <td>61.706696</td>\n",
       "    </tr>\n",
       "    <tr>\n",
       "      <th>Fare</th>\n",
       "      <td>78.071438</td>\n",
       "      <td>62.210610</td>\n",
       "      <td>65.546143</td>\n",
       "      <td>2530.673077</td>\n",
       "      <td>2530.673077</td>\n",
       "      <td>2530.673077</td>\n",
       "    </tr>\n",
       "    <tr>\n",
       "      <th>Fare Mean</th>\n",
       "      <td>73.727862</td>\n",
       "      <td>59.065130</td>\n",
       "      <td>62.232012</td>\n",
       "      <td>2530.673077</td>\n",
       "      <td>2402.717697</td>\n",
       "      <td>2402.717697</td>\n",
       "    </tr>\n",
       "    <tr>\n",
       "      <th>Fare Median</th>\n",
       "      <td>73.196997</td>\n",
       "      <td>58.639842</td>\n",
       "      <td>61.706696</td>\n",
       "      <td>2530.673077</td>\n",
       "      <td>2402.717697</td>\n",
       "      <td>2417.971600</td>\n",
       "    </tr>\n",
       "  </tbody>\n",
       "</table>\n",
       "</div>"
      ]
     },
     "execution_count": 36,
     "metadata": {},
     "output_type": "execute_result"
    }
   ],
   "execution_count": 36
  },
  {
   "metadata": {
    "ExecuteTime": {
     "end_time": "2025-04-17T02:45:53.064184Z",
     "start_time": "2025-04-17T02:45:53.044097Z"
    }
   },
   "cell_type": "code",
   "source": "imputed_data.corr()",
   "id": "5248eafdfa63c941",
   "outputs": [
    {
     "data": {
      "text/plain": [
       "                  Age  Age Mean  Age Median      Fare  Fare Mean  Fare Median\n",
       "Age          1.000000  1.000000    1.000000  0.099481   0.097273     0.096203\n",
       "Age Mean     1.000000  1.000000    0.998642  0.094681   0.092676     0.091718\n",
       "Age Median   1.000000  0.998642    1.000000  0.099626   0.097513     0.096384\n",
       "Fare         0.099481  0.094681    0.099626  1.000000   1.000000     1.000000\n",
       "Fare Mean    0.097273  0.092676    0.097513  1.000000   1.000000     0.996841\n",
       "Fare Median  0.096203  0.091718    0.096384  1.000000   0.996841     1.000000"
      ],
      "text/html": [
       "<div>\n",
       "<style scoped>\n",
       "    .dataframe tbody tr th:only-of-type {\n",
       "        vertical-align: middle;\n",
       "    }\n",
       "\n",
       "    .dataframe tbody tr th {\n",
       "        vertical-align: top;\n",
       "    }\n",
       "\n",
       "    .dataframe thead th {\n",
       "        text-align: right;\n",
       "    }\n",
       "</style>\n",
       "<table border=\"1\" class=\"dataframe\">\n",
       "  <thead>\n",
       "    <tr style=\"text-align: right;\">\n",
       "      <th></th>\n",
       "      <th>Age</th>\n",
       "      <th>Age Mean</th>\n",
       "      <th>Age Median</th>\n",
       "      <th>Fare</th>\n",
       "      <th>Fare Mean</th>\n",
       "      <th>Fare Median</th>\n",
       "    </tr>\n",
       "  </thead>\n",
       "  <tbody>\n",
       "    <tr>\n",
       "      <th>Age</th>\n",
       "      <td>1.000000</td>\n",
       "      <td>1.000000</td>\n",
       "      <td>1.000000</td>\n",
       "      <td>0.099481</td>\n",
       "      <td>0.097273</td>\n",
       "      <td>0.096203</td>\n",
       "    </tr>\n",
       "    <tr>\n",
       "      <th>Age Mean</th>\n",
       "      <td>1.000000</td>\n",
       "      <td>1.000000</td>\n",
       "      <td>0.998642</td>\n",
       "      <td>0.094681</td>\n",
       "      <td>0.092676</td>\n",
       "      <td>0.091718</td>\n",
       "    </tr>\n",
       "    <tr>\n",
       "      <th>Age Median</th>\n",
       "      <td>1.000000</td>\n",
       "      <td>0.998642</td>\n",
       "      <td>1.000000</td>\n",
       "      <td>0.099626</td>\n",
       "      <td>0.097513</td>\n",
       "      <td>0.096384</td>\n",
       "    </tr>\n",
       "    <tr>\n",
       "      <th>Fare</th>\n",
       "      <td>0.099481</td>\n",
       "      <td>0.094681</td>\n",
       "      <td>0.099626</td>\n",
       "      <td>1.000000</td>\n",
       "      <td>1.000000</td>\n",
       "      <td>1.000000</td>\n",
       "    </tr>\n",
       "    <tr>\n",
       "      <th>Fare Mean</th>\n",
       "      <td>0.097273</td>\n",
       "      <td>0.092676</td>\n",
       "      <td>0.097513</td>\n",
       "      <td>1.000000</td>\n",
       "      <td>1.000000</td>\n",
       "      <td>0.996841</td>\n",
       "    </tr>\n",
       "    <tr>\n",
       "      <th>Fare Median</th>\n",
       "      <td>0.096203</td>\n",
       "      <td>0.091718</td>\n",
       "      <td>0.096384</td>\n",
       "      <td>1.000000</td>\n",
       "      <td>0.996841</td>\n",
       "      <td>1.000000</td>\n",
       "    </tr>\n",
       "  </tbody>\n",
       "</table>\n",
       "</div>"
      ]
     },
     "execution_count": 37,
     "metadata": {},
     "output_type": "execute_result"
    }
   ],
   "execution_count": 37
  },
  {
   "metadata": {},
   "cell_type": "markdown",
   "source": "# Boxplot",
   "id": "e36e95e61ef2f83"
  },
  {
   "metadata": {
    "ExecuteTime": {
     "end_time": "2025-04-17T02:47:07.230661Z",
     "start_time": "2025-04-17T02:47:07.023367Z"
    }
   },
   "cell_type": "code",
   "source": "imputed_data.iloc[:,:3].boxplot()",
   "id": "82acff237b8c3b63",
   "outputs": [
    {
     "data": {
      "text/plain": [
       "<Axes: >"
      ]
     },
     "execution_count": 39,
     "metadata": {},
     "output_type": "execute_result"
    },
    {
     "data": {
      "text/plain": [
       "<Figure size 640x480 with 1 Axes>"
      ],
      "image/png": "[encoded data removed]"
     },
     "metadata": {},
     "output_type": "display_data"
    }
   ],
   "execution_count": 39
  },
  {
   "metadata": {
    "ExecuteTime": {
     "end_time": "2025-04-17T02:47:19.153347Z",
     "start_time": "2025-04-17T02:47:19.056015Z"
    }
   },
   "cell_type": "code",
   "source": "imputed_data.iloc[:,3:].boxplot()",
   "id": "ca0176185f030916",
   "outputs": [
    {
     "data": {
      "text/plain": [
       "<Axes: >"
      ]
     },
     "execution_count": 40,
     "metadata": {},
     "output_type": "execute_result"
    },
    {
     "data": {
      "text/plain": [
       "<Figure size 640x480 with 1 Axes>"
      ],
      "image/png": "[encoded data removed]"
     },
     "metadata": {},
     "output_type": "display_data"
    }
   ],
   "execution_count": 40
  },
  {
   "metadata": {},
   "cell_type": "code",
   "outputs": [],
   "execution_count": null,
   "source": "",
   "id": "c10cca09bd0e8fa"
  }
 ],
 "metadata": {
  "kernelspec": {
   "display_name": "Python 3",
   "language": "python",
   "name": "python3"
  },
  "language_info": {
   "codemirror_mode": {
    "name": "ipython",
    "version": 2
   },
   "file_extension": ".py",
   "mimetype": "text/x-python",
   "name": "python",
   "nbconvert_exporter": "python",
   "pygments_lexer": "ipython2",
   "version": "2.7.6"
  }
 },
 "nbformat": 4,
 "nbformat_minor": 5
}
