{
 "cells": [
  {
   "cell_type": "code",
   "id": "initial_id",
   "metadata": {
    "collapsed": true,
    "ExecuteTime": {
     "end_time": "2025-04-16T14:36:10.088298Z",
     "start_time": "2025-04-16T14:36:10.084390Z"
    }
   },
   "source": [
    "import pandas as pd\n",
    "import numpy as np\n",
    "import seaborn as sns\n",
    "import matplotlib.pyplot as plt"
   ],
   "outputs": [],
   "execution_count": 65
  },
  {
   "metadata": {
    "ExecuteTime": {
     "end_time": "2025-04-16T14:36:10.143160Z",
     "start_time": "2025-04-16T14:36:10.131515Z"
    }
   },
   "cell_type": "code",
   "source": [
    "df = pd.read_csv(\"../../../Data/titanic_Dataset.csv\",usecols=['Age','Fare','Survived'])\n",
    "df"
   ],
   "id": "35c3ca3b1ae05606",
   "outputs": [
    {
     "data": {
      "text/plain": [
       "     Survived   Age     Fare\n",
       "0           0  22.0   7.2500\n",
       "1           1  38.0  71.2833\n",
       "2           1  26.0   7.9250\n",
       "3           1  35.0  53.1000\n",
       "4           0  35.0   8.0500\n",
       "..        ...   ...      ...\n",
       "886         0  27.0  13.0000\n",
       "887         1  19.0  30.0000\n",
       "888         0   NaN  23.4500\n",
       "889         1  26.0  30.0000\n",
       "890         0  32.0   7.7500\n",
       "\n",
       "[891 rows x 3 columns]"
      ],
      "text/html": [
       "<div>\n",
       "<style scoped>\n",
       "    .dataframe tbody tr th:only-of-type {\n",
       "        vertical-align: middle;\n",
       "    }\n",
       "\n",
       "    .dataframe tbody tr th {\n",
       "        vertical-align: top;\n",
       "    }\n",
       "\n",
       "    .dataframe thead th {\n",
       "        text-align: right;\n",
       "    }\n",
       "</style>\n",
       "<table border=\"1\" class=\"dataframe\">\n",
       "  <thead>\n",
       "    <tr style=\"text-align: right;\">\n",
       "      <th></th>\n",
       "      <th>Survived</th>\n",
       "      <th>Age</th>\n",
       "      <th>Fare</th>\n",
       "    </tr>\n",
       "  </thead>\n",
       "  <tbody>\n",
       "    <tr>\n",
       "      <th>0</th>\n",
       "      <td>0</td>\n",
       "      <td>22.0</td>\n",
       "      <td>7.2500</td>\n",
       "    </tr>\n",
       "    <tr>\n",
       "      <th>1</th>\n",
       "      <td>1</td>\n",
       "      <td>38.0</td>\n",
       "      <td>71.2833</td>\n",
       "    </tr>\n",
       "    <tr>\n",
       "      <th>2</th>\n",
       "      <td>1</td>\n",
       "      <td>26.0</td>\n",
       "      <td>7.9250</td>\n",
       "    </tr>\n",
       "    <tr>\n",
       "      <th>3</th>\n",
       "      <td>1</td>\n",
       "      <td>35.0</td>\n",
       "      <td>53.1000</td>\n",
       "    </tr>\n",
       "    <tr>\n",
       "      <th>4</th>\n",
       "      <td>0</td>\n",
       "      <td>35.0</td>\n",
       "      <td>8.0500</td>\n",
       "    </tr>\n",
       "    <tr>\n",
       "      <th>...</th>\n",
       "      <td>...</td>\n",
       "      <td>...</td>\n",
       "      <td>...</td>\n",
       "    </tr>\n",
       "    <tr>\n",
       "      <th>886</th>\n",
       "      <td>0</td>\n",
       "      <td>27.0</td>\n",
       "      <td>13.0000</td>\n",
       "    </tr>\n",
       "    <tr>\n",
       "      <th>887</th>\n",
       "      <td>1</td>\n",
       "      <td>19.0</td>\n",
       "      <td>30.0000</td>\n",
       "    </tr>\n",
       "    <tr>\n",
       "      <th>888</th>\n",
       "      <td>0</td>\n",
       "      <td>NaN</td>\n",
       "      <td>23.4500</td>\n",
       "    </tr>\n",
       "    <tr>\n",
       "      <th>889</th>\n",
       "      <td>1</td>\n",
       "      <td>26.0</td>\n",
       "      <td>30.0000</td>\n",
       "    </tr>\n",
       "    <tr>\n",
       "      <th>890</th>\n",
       "      <td>0</td>\n",
       "      <td>32.0</td>\n",
       "      <td>7.7500</td>\n",
       "    </tr>\n",
       "  </tbody>\n",
       "</table>\n",
       "<p>891 rows × 3 columns</p>\n",
       "</div>"
      ]
     },
     "execution_count": 66,
     "metadata": {},
     "output_type": "execute_result"
    }
   ],
   "execution_count": 66
  },
  {
   "metadata": {
    "ExecuteTime": {
     "end_time": "2025-04-16T14:36:10.158690Z",
     "start_time": "2025-04-16T14:36:10.153333Z"
    }
   },
   "cell_type": "code",
   "source": "df.dropna(inplace=True)",
   "id": "2f5d823c3625486d",
   "outputs": [],
   "execution_count": 67
  },
  {
   "metadata": {
    "ExecuteTime": {
     "end_time": "2025-04-16T14:36:10.183662Z",
     "start_time": "2025-04-16T14:36:10.179046Z"
    }
   },
   "cell_type": "code",
   "source": [
    "X = df.iloc[:,1:]\n",
    "y = df.iloc[:,0]"
   ],
   "id": "6d1c803974bc4946",
   "outputs": [],
   "execution_count": 68
  },
  {
   "metadata": {
    "ExecuteTime": {
     "end_time": "2025-04-16T14:36:10.216163Z",
     "start_time": "2025-04-16T14:36:10.205364Z"
    }
   },
   "cell_type": "code",
   "source": [
    "from sklearn.model_selection import train_test_split\n",
    "\n",
    "X_train, X_test, y_train, y_test = train_test_split(df.iloc[:, 1:], df.iloc[:, 0], test_size=0.2, random_state=42)\n",
    "print(X_train.shape, X_test.shape, y_train.shape, y_test.shape)\n",
    "X_train"
   ],
   "id": "acd8fd8751ef60e1",
   "outputs": [
    {
     "name": "stdout",
     "output_type": "stream",
     "text": [
      "(571, 2) (143, 2) (571,) (143,)\n"
     ]
    },
    {
     "data": {
      "text/plain": [
       "      Age      Fare\n",
       "328  31.0   20.5250\n",
       "73   26.0   14.4542\n",
       "253  30.0   16.1000\n",
       "719  33.0    7.7750\n",
       "666  25.0   13.0000\n",
       "..    ...       ...\n",
       "92   46.0   61.1750\n",
       "134  25.0   13.0000\n",
       "337  41.0  134.5000\n",
       "548  33.0   20.5250\n",
       "130  33.0    7.8958\n",
       "\n",
       "[571 rows x 2 columns]"
      ],
      "text/html": [
       "<div>\n",
       "<style scoped>\n",
       "    .dataframe tbody tr th:only-of-type {\n",
       "        vertical-align: middle;\n",
       "    }\n",
       "\n",
       "    .dataframe tbody tr th {\n",
       "        vertical-align: top;\n",
       "    }\n",
       "\n",
       "    .dataframe thead th {\n",
       "        text-align: right;\n",
       "    }\n",
       "</style>\n",
       "<table border=\"1\" class=\"dataframe\">\n",
       "  <thead>\n",
       "    <tr style=\"text-align: right;\">\n",
       "      <th></th>\n",
       "      <th>Age</th>\n",
       "      <th>Fare</th>\n",
       "    </tr>\n",
       "  </thead>\n",
       "  <tbody>\n",
       "    <tr>\n",
       "      <th>328</th>\n",
       "      <td>31.0</td>\n",
       "      <td>20.5250</td>\n",
       "    </tr>\n",
       "    <tr>\n",
       "      <th>73</th>\n",
       "      <td>26.0</td>\n",
       "      <td>14.4542</td>\n",
       "    </tr>\n",
       "    <tr>\n",
       "      <th>253</th>\n",
       "      <td>30.0</td>\n",
       "      <td>16.1000</td>\n",
       "    </tr>\n",
       "    <tr>\n",
       "      <th>719</th>\n",
       "      <td>33.0</td>\n",
       "      <td>7.7750</td>\n",
       "    </tr>\n",
       "    <tr>\n",
       "      <th>666</th>\n",
       "      <td>25.0</td>\n",
       "      <td>13.0000</td>\n",
       "    </tr>\n",
       "    <tr>\n",
       "      <th>...</th>\n",
       "      <td>...</td>\n",
       "      <td>...</td>\n",
       "    </tr>\n",
       "    <tr>\n",
       "      <th>92</th>\n",
       "      <td>46.0</td>\n",
       "      <td>61.1750</td>\n",
       "    </tr>\n",
       "    <tr>\n",
       "      <th>134</th>\n",
       "      <td>25.0</td>\n",
       "      <td>13.0000</td>\n",
       "    </tr>\n",
       "    <tr>\n",
       "      <th>337</th>\n",
       "      <td>41.0</td>\n",
       "      <td>134.5000</td>\n",
       "    </tr>\n",
       "    <tr>\n",
       "      <th>548</th>\n",
       "      <td>33.0</td>\n",
       "      <td>20.5250</td>\n",
       "    </tr>\n",
       "    <tr>\n",
       "      <th>130</th>\n",
       "      <td>33.0</td>\n",
       "      <td>7.8958</td>\n",
       "    </tr>\n",
       "  </tbody>\n",
       "</table>\n",
       "<p>571 rows × 2 columns</p>\n",
       "</div>"
      ]
     },
     "execution_count": 69,
     "metadata": {},
     "output_type": "execute_result"
    }
   ],
   "execution_count": 69
  },
  {
   "metadata": {
    "ExecuteTime": {
     "end_time": "2025-04-16T14:36:10.229232Z",
     "start_time": "2025-04-16T14:36:10.225717Z"
    }
   },
   "cell_type": "code",
   "source": [
    "from sklearn.preprocessing import KBinsDiscretizer\n",
    "from sklearn.compose import ColumnTransformer\n",
    "\n",
    "binning_encoder = ColumnTransformer(transformers=[\n",
    "    (\"age_encod\",KBinsDiscretizer(encode='ordinal', n_bins=10, strategy='uniform'), ['Age']),\n",
    "    (\"fare_encod\",KBinsDiscretizer(encode='ordinal', n_bins=10, strategy='uniform'), ['Fare']),\n",
    "])"
   ],
   "id": "4a96a42f38299bf6",
   "outputs": [],
   "execution_count": 70
  },
  {
   "metadata": {
    "ExecuteTime": {
     "end_time": "2025-04-16T14:36:10.284153Z",
     "start_time": "2025-04-16T14:36:10.272200Z"
    }
   },
   "cell_type": "code",
   "source": [
    "X_train_encod = binning_encoder.fit_transform(X_train)\n",
    "X_test_encod = binning_encoder.transform(X_test)"
   ],
   "id": "142fdf9e386d2069",
   "outputs": [],
   "execution_count": 71
  },
  {
   "metadata": {
    "ExecuteTime": {
     "end_time": "2025-04-16T14:36:10.294391Z",
     "start_time": "2025-04-16T14:36:10.286657Z"
    }
   },
   "cell_type": "code",
   "source": "X_test_encod",
   "id": "b52656d61d563894",
   "outputs": [
    {
     "data": {
      "text/plain": [
       "array([[5., 0.],\n",
       "       [0., 0.],\n",
       "       [3., 0.],\n",
       "       [2., 1.],\n",
       "       [5., 0.],\n",
       "       [0., 0.],\n",
       "       [4., 0.],\n",
       "       [6., 0.],\n",
       "       [3., 0.],\n",
       "       [2., 0.],\n",
       "       [2., 1.],\n",
       "       [4., 0.],\n",
       "       [3., 1.],\n",
       "       [4., 0.],\n",
       "       [4., 9.],\n",
       "       [2., 0.],\n",
       "       [2., 0.],\n",
       "       [1., 1.],\n",
       "       [3., 0.],\n",
       "       [6., 1.],\n",
       "       [1., 0.],\n",
       "       [6., 0.],\n",
       "       [1., 0.],\n",
       "       [4., 9.],\n",
       "       [2., 0.],\n",
       "       [2., 0.],\n",
       "       [1., 0.],\n",
       "       [3., 0.],\n",
       "       [1., 0.],\n",
       "       [4., 0.],\n",
       "       [2., 0.],\n",
       "       [1., 0.],\n",
       "       [4., 0.],\n",
       "       [4., 0.],\n",
       "       [4., 0.],\n",
       "       [4., 0.],\n",
       "       [4., 0.],\n",
       "       [6., 0.],\n",
       "       [7., 0.],\n",
       "       [6., 0.],\n",
       "       [1., 0.],\n",
       "       [2., 0.],\n",
       "       [4., 2.],\n",
       "       [6., 0.],\n",
       "       [6., 1.],\n",
       "       [3., 0.],\n",
       "       [4., 0.],\n",
       "       [2., 0.],\n",
       "       [4., 0.],\n",
       "       [5., 0.],\n",
       "       [4., 1.],\n",
       "       [2., 0.],\n",
       "       [3., 1.],\n",
       "       [3., 0.],\n",
       "       [3., 0.],\n",
       "       [7., 0.],\n",
       "       [3., 0.],\n",
       "       [0., 0.],\n",
       "       [3., 0.],\n",
       "       [7., 0.],\n",
       "       [7., 0.],\n",
       "       [3., 0.],\n",
       "       [5., 0.],\n",
       "       [2., 0.],\n",
       "       [2., 0.],\n",
       "       [5., 0.],\n",
       "       [0., 0.],\n",
       "       [2., 1.],\n",
       "       [3., 0.],\n",
       "       [4., 0.],\n",
       "       [2., 0.],\n",
       "       [7., 1.],\n",
       "       [1., 0.],\n",
       "       [2., 0.],\n",
       "       [5., 0.],\n",
       "       [2., 0.],\n",
       "       [2., 0.],\n",
       "       [2., 0.],\n",
       "       [3., 0.],\n",
       "       [1., 2.],\n",
       "       [1., 0.],\n",
       "       [3., 1.],\n",
       "       [4., 0.],\n",
       "       [2., 0.],\n",
       "       [3., 0.],\n",
       "       [2., 0.],\n",
       "       [1., 0.],\n",
       "       [5., 0.],\n",
       "       [2., 0.],\n",
       "       [2., 1.],\n",
       "       [5., 0.],\n",
       "       [4., 4.],\n",
       "       [6., 0.],\n",
       "       [3., 0.],\n",
       "       [4., 0.],\n",
       "       [3., 0.],\n",
       "       [2., 1.],\n",
       "       [3., 0.],\n",
       "       [3., 0.],\n",
       "       [4., 0.],\n",
       "       [3., 0.],\n",
       "       [2., 0.],\n",
       "       [3., 0.],\n",
       "       [0., 0.],\n",
       "       [0., 0.],\n",
       "       [4., 0.],\n",
       "       [2., 0.],\n",
       "       [4., 1.],\n",
       "       [5., 0.],\n",
       "       [4., 0.],\n",
       "       [3., 1.],\n",
       "       [2., 0.],\n",
       "       [1., 0.],\n",
       "       [6., 0.],\n",
       "       [2., 0.],\n",
       "       [3., 0.],\n",
       "       [3., 0.],\n",
       "       [1., 0.],\n",
       "       [3., 0.],\n",
       "       [5., 0.],\n",
       "       [2., 2.],\n",
       "       [1., 0.],\n",
       "       [3., 0.],\n",
       "       [2., 0.],\n",
       "       [3., 2.],\n",
       "       [3., 0.],\n",
       "       [2., 0.],\n",
       "       [2., 0.],\n",
       "       [3., 0.],\n",
       "       [5., 0.],\n",
       "       [3., 0.],\n",
       "       [3., 0.],\n",
       "       [3., 0.],\n",
       "       [4., 0.],\n",
       "       [0., 0.],\n",
       "       [2., 0.],\n",
       "       [4., 0.],\n",
       "       [4., 0.],\n",
       "       [1., 0.],\n",
       "       [0., 0.],\n",
       "       [4., 0.],\n",
       "       [2., 0.],\n",
       "       [2., 0.]])"
      ]
     },
     "execution_count": 72,
     "metadata": {},
     "output_type": "execute_result"
    }
   ],
   "execution_count": 72
  },
  {
   "metadata": {},
   "cell_type": "markdown",
   "source": "# Accuracy",
   "id": "e6d2968d480cbf14"
  },
  {
   "metadata": {
    "ExecuteTime": {
     "end_time": "2025-04-16T14:36:10.328420Z",
     "start_time": "2025-04-16T14:36:10.319987Z"
    }
   },
   "cell_type": "code",
   "source": [
    "from sklearn.linear_model import LogisticRegression\n",
    "from sklearn.metrics import accuracy_score\n",
    "lr = LogisticRegression()\n",
    "lr.fit(X_train_encod,y_train)\n",
    "y_pred = lr.predict(X_test_encod)\n",
    "accuracy_score(y_test,y_pred)"
   ],
   "id": "f28c4e63a875868e",
   "outputs": [
    {
     "data": {
      "text/plain": [
       "0.6713286713286714"
      ]
     },
     "execution_count": 73,
     "metadata": {},
     "output_type": "execute_result"
    }
   ],
   "execution_count": 73
  },
  {
   "metadata": {
    "ExecuteTime": {
     "end_time": "2025-04-16T14:36:10.436733Z",
     "start_time": "2025-04-16T14:36:10.381599Z"
    }
   },
   "cell_type": "code",
   "source": [
    "from sklearn.model_selection import cross_val_score\n",
    "\n",
    "X_trf = binning_encoder.fit_transform(X)\n",
    "print(np.mean(cross_val_score(estimator=LogisticRegression(),X=X_trf,y=y,cv=10,scoring='accuracy')))"
   ],
   "id": "b83981029f2347c6",
   "outputs": [
    {
     "name": "stdout",
     "output_type": "stream",
     "text": [
      "0.6610524256651017\n"
     ]
    }
   ],
   "execution_count": 74
  },
  {
   "metadata": {
    "ExecuteTime": {
     "end_time": "2025-04-16T14:36:10.448046Z",
     "start_time": "2025-04-16T14:36:10.439103Z"
    }
   },
   "cell_type": "code",
   "source": [
    "from sklearn.tree import DecisionTreeClassifier\n",
    "clf = DecisionTreeClassifier()\n",
    "clf.fit(X_train_encod,y_train)\n",
    "y_pred = clf.predict(X_test_encod)\n",
    "accuracy_score(y_test,y_pred)"
   ],
   "id": "b05ca8978a3eea00",
   "outputs": [
    {
     "data": {
      "text/plain": [
       "0.6783216783216783"
      ]
     },
     "execution_count": 75,
     "metadata": {},
     "output_type": "execute_result"
    }
   ],
   "execution_count": 75
  },
  {
   "metadata": {
    "ExecuteTime": {
     "end_time": "2025-04-16T14:36:10.474530Z",
     "start_time": "2025-04-16T14:36:10.449048Z"
    }
   },
   "cell_type": "code",
   "source": "print(np.mean(cross_val_score(estimator=DecisionTreeClassifier(),X=X_trf,y=y,cv=10,scoring='accuracy')))",
   "id": "75b985b0d43f597a",
   "outputs": [
    {
     "name": "stdout",
     "output_type": "stream",
     "text": [
      "0.6864632237871675\n"
     ]
    }
   ],
   "execution_count": 76
  },
  {
   "metadata": {
    "ExecuteTime": {
     "end_time": "2025-04-16T14:37:08.380730Z",
     "start_time": "2025-04-16T14:37:08.375470Z"
    }
   },
   "cell_type": "code",
   "source": [
    "def BinningApply(nbins, strategy):\n",
    "    binning_encoder = ColumnTransformer(transformers=[\n",
    "        (\"age_encod\",KBinsDiscretizer(encode='ordinal', n_bins=nbins, strategy=strategy), ['Age']),\n",
    "        (\"fare_encod\",KBinsDiscretizer(encode='ordinal', n_bins=nbins, strategy=strategy), ['Fare']),\n",
    "    ])\n",
    "    \n",
    "    X_trf = binning_encoder.fit_transform(X)\n",
    "    print(np.mean(cross_val_score(estimator=LogisticRegression(),X=X_trf,y=y,cv=10,scoring='accuracy')))\n",
    "    \n",
    "    plt.figure(figsize=(16,8))\n",
    "    plt.subplot(221)\n",
    "    plt.hist(X['Age'],color='green')\n",
    "    \n",
    "    plt.subplot(222)\n",
    "    plt.hist(X_trf[:,0],color='red')\n",
    "    \n",
    "    plt.subplot(223)\n",
    "    plt.hist(X['Fare'], color='purple')\n",
    "    \n",
    "    plt.subplot(224)\n",
    "    plt.hist(X_trf[:,1])\n",
    "    \n",
    "    "
   ],
   "id": "6ba5777d987d3354",
   "outputs": [],
   "execution_count": 83
  },
  {
   "metadata": {
    "ExecuteTime": {
     "end_time": "2025-04-16T14:37:09.533910Z",
     "start_time": "2025-04-16T14:37:09.023559Z"
    }
   },
   "cell_type": "code",
   "source": "BinningApply(10,'uniform')",
   "id": "bf4eed7bed055e2d",
   "outputs": [
    {
     "name": "stdout",
     "output_type": "stream",
     "text": [
      "0.6610524256651017\n"
     ]
    },
    {
     "data": {
      "text/plain": [
       "<Figure size 1600x800 with 4 Axes>"
      ],
      "image/png": "[encoded data removed]"
     },
     "metadata": {},
     "output_type": "display_data"
    }
   ],
   "execution_count": 84
  },
  {
   "metadata": {
    "ExecuteTime": {
     "end_time": "2025-04-16T14:37:25.031383Z",
     "start_time": "2025-04-16T14:37:24.519069Z"
    }
   },
   "cell_type": "code",
   "source": "BinningApply(10,'quantile')",
   "id": "a30d7f6a897e4cfc",
   "outputs": [
    {
     "name": "stdout",
     "output_type": "stream",
     "text": [
      "0.6710485133020343\n"
     ]
    },
    {
     "data": {
      "text/plain": [
       "<Figure size 1600x800 with 4 Axes>"
      ],
      "image/png": "[encoded data removed]"
     },
     "metadata": {},
     "output_type": "display_data"
    }
   ],
   "execution_count": 85
  },
  {
   "metadata": {
    "ExecuteTime": {
     "end_time": "2025-04-16T14:37:27.141039Z",
     "start_time": "2025-04-16T14:37:26.591520Z"
    }
   },
   "cell_type": "code",
   "source": "BinningApply(10,'kmeans')",
   "id": "c55cf1f26cee7f16",
   "outputs": [
    {
     "name": "stderr",
     "output_type": "stream",
     "text": [
      "D:\\anaconda3\\Lib\\site-packages\\sklearn\\cluster\\_kmeans.py:1429: UserWarning: KMeans is known to have a memory leak on Windows with MKL, when there are less chunks than available threads. You can avoid it by setting the environment variable OMP_NUM_THREADS=3.\n",
      "  warnings.warn(\n",
      "D:\\anaconda3\\Lib\\site-packages\\sklearn\\cluster\\_kmeans.py:1429: UserWarning: KMeans is known to have a memory leak on Windows with MKL, when there are less chunks than available threads. You can avoid it by setting the environment variable OMP_NUM_THREADS=3.\n",
      "  warnings.warn(\n"
     ]
    },
    {
     "name": "stdout",
     "output_type": "stream",
     "text": [
      "0.6653169014084508\n"
     ]
    },
    {
     "data": {
      "text/plain": [
       "<Figure size 1600x800 with 4 Axes>"
      ],
      "image/png": "[encoded data removed]"
     },
     "metadata": {},
     "output_type": "display_data"
    }
   ],
   "execution_count": 86
  },
  {
   "metadata": {
    "ExecuteTime": {
     "end_time": "2025-04-16T14:36:12.441223Z",
     "start_time": "2025-04-16T14:36:12.438815Z"
    }
   },
   "cell_type": "code",
   "source": "",
   "id": "fe4cdc85df002343",
   "outputs": [],
   "execution_count": 80
  }
 ],
 "metadata": {
  "kernelspec": {
   "display_name": "Python 3",
   "language": "python",
   "name": "python3"
  },
  "language_info": {
   "codemirror_mode": {
    "name": "ipython",
    "version": 2
   },
   "file_extension": ".py",
   "mimetype": "text/x-python",
   "name": "python",
   "nbconvert_exporter": "python",
   "pygments_lexer": "ipython2",
   "version": "2.7.6"
  }
 },
 "nbformat": 4,
 "nbformat_minor": 5
}
