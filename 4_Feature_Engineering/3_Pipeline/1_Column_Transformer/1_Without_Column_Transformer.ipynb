{
 "cells": [
  {
   "cell_type": "code",
   "id": "initial_id",
   "metadata": {
    "collapsed": true,
    "ExecuteTime": {
     "end_time": "2025-04-16T02:32:28.659618Z",
     "start_time": "2025-04-16T02:32:28.656342Z"
    }
   },
   "source": [
    "import pandas as pd\n",
    "import numpy as np\n",
    "import seaborn as sns\n",
    "import matplotlib.pyplot as plt"
   ],
   "outputs": [],
   "execution_count": 1
  },
  {
   "metadata": {
    "ExecuteTime": {
     "end_time": "2025-04-16T02:32:36.142854Z",
     "start_time": "2025-04-16T02:32:36.064910Z"
    }
   },
   "cell_type": "code",
   "source": [
    "df = pd.read_csv(\"../../../Data/covid_toy.csv\")\n",
    "df"
   ],
   "id": "47bca71bd2c82bbf",
   "outputs": [
    {
     "data": {
      "text/plain": [
       "    age  gender  fever   cough       city has_covid\n",
       "0    60    Male  103.0    Mild    Kolkata        No\n",
       "1    27    Male  100.0    Mild      Delhi       Yes\n",
       "2    42    Male  101.0    Mild      Delhi        No\n",
       "3    31  Female   98.0    Mild    Kolkata        No\n",
       "4    65  Female  101.0    Mild     Mumbai        No\n",
       "..  ...     ...    ...     ...        ...       ...\n",
       "95   12  Female  104.0    Mild  Bangalore        No\n",
       "96   51  Female  101.0  Strong    Kolkata       Yes\n",
       "97   20  Female  101.0    Mild  Bangalore        No\n",
       "98    5  Female   98.0  Strong     Mumbai        No\n",
       "99   10  Female   98.0  Strong    Kolkata       Yes\n",
       "\n",
       "[100 rows x 6 columns]"
      ],
      "text/html": [
       "<div>\n",
       "<style scoped>\n",
       "    .dataframe tbody tr th:only-of-type {\n",
       "        vertical-align: middle;\n",
       "    }\n",
       "\n",
       "    .dataframe tbody tr th {\n",
       "        vertical-align: top;\n",
       "    }\n",
       "\n",
       "    .dataframe thead th {\n",
       "        text-align: right;\n",
       "    }\n",
       "</style>\n",
       "<table border=\"1\" class=\"dataframe\">\n",
       "  <thead>\n",
       "    <tr style=\"text-align: right;\">\n",
       "      <th></th>\n",
       "      <th>age</th>\n",
       "      <th>gender</th>\n",
       "      <th>fever</th>\n",
       "      <th>cough</th>\n",
       "      <th>city</th>\n",
       "      <th>has_covid</th>\n",
       "    </tr>\n",
       "  </thead>\n",
       "  <tbody>\n",
       "    <tr>\n",
       "      <th>0</th>\n",
       "      <td>60</td>\n",
       "      <td>Male</td>\n",
       "      <td>103.0</td>\n",
       "      <td>Mild</td>\n",
       "      <td>Kolkata</td>\n",
       "      <td>No</td>\n",
       "    </tr>\n",
       "    <tr>\n",
       "      <th>1</th>\n",
       "      <td>27</td>\n",
       "      <td>Male</td>\n",
       "      <td>100.0</td>\n",
       "      <td>Mild</td>\n",
       "      <td>Delhi</td>\n",
       "      <td>Yes</td>\n",
       "    </tr>\n",
       "    <tr>\n",
       "      <th>2</th>\n",
       "      <td>42</td>\n",
       "      <td>Male</td>\n",
       "      <td>101.0</td>\n",
       "      <td>Mild</td>\n",
       "      <td>Delhi</td>\n",
       "      <td>No</td>\n",
       "    </tr>\n",
       "    <tr>\n",
       "      <th>3</th>\n",
       "      <td>31</td>\n",
       "      <td>Female</td>\n",
       "      <td>98.0</td>\n",
       "      <td>Mild</td>\n",
       "      <td>Kolkata</td>\n",
       "      <td>No</td>\n",
       "    </tr>\n",
       "    <tr>\n",
       "      <th>4</th>\n",
       "      <td>65</td>\n",
       "      <td>Female</td>\n",
       "      <td>101.0</td>\n",
       "      <td>Mild</td>\n",
       "      <td>Mumbai</td>\n",
       "      <td>No</td>\n",
       "    </tr>\n",
       "    <tr>\n",
       "      <th>...</th>\n",
       "      <td>...</td>\n",
       "      <td>...</td>\n",
       "      <td>...</td>\n",
       "      <td>...</td>\n",
       "      <td>...</td>\n",
       "      <td>...</td>\n",
       "    </tr>\n",
       "    <tr>\n",
       "      <th>95</th>\n",
       "      <td>12</td>\n",
       "      <td>Female</td>\n",
       "      <td>104.0</td>\n",
       "      <td>Mild</td>\n",
       "      <td>Bangalore</td>\n",
       "      <td>No</td>\n",
       "    </tr>\n",
       "    <tr>\n",
       "      <th>96</th>\n",
       "      <td>51</td>\n",
       "      <td>Female</td>\n",
       "      <td>101.0</td>\n",
       "      <td>Strong</td>\n",
       "      <td>Kolkata</td>\n",
       "      <td>Yes</td>\n",
       "    </tr>\n",
       "    <tr>\n",
       "      <th>97</th>\n",
       "      <td>20</td>\n",
       "      <td>Female</td>\n",
       "      <td>101.0</td>\n",
       "      <td>Mild</td>\n",
       "      <td>Bangalore</td>\n",
       "      <td>No</td>\n",
       "    </tr>\n",
       "    <tr>\n",
       "      <th>98</th>\n",
       "      <td>5</td>\n",
       "      <td>Female</td>\n",
       "      <td>98.0</td>\n",
       "      <td>Strong</td>\n",
       "      <td>Mumbai</td>\n",
       "      <td>No</td>\n",
       "    </tr>\n",
       "    <tr>\n",
       "      <th>99</th>\n",
       "      <td>10</td>\n",
       "      <td>Female</td>\n",
       "      <td>98.0</td>\n",
       "      <td>Strong</td>\n",
       "      <td>Kolkata</td>\n",
       "      <td>Yes</td>\n",
       "    </tr>\n",
       "  </tbody>\n",
       "</table>\n",
       "<p>100 rows × 6 columns</p>\n",
       "</div>"
      ]
     },
     "execution_count": 2,
     "metadata": {},
     "output_type": "execute_result"
    }
   ],
   "execution_count": 2
  },
  {
   "metadata": {
    "ExecuteTime": {
     "end_time": "2025-04-16T02:33:12.454728Z",
     "start_time": "2025-04-16T02:33:12.444436Z"
    }
   },
   "cell_type": "code",
   "source": "df.isnull().sum()",
   "id": "ca00c645a9a150db",
   "outputs": [
    {
     "data": {
      "text/plain": [
       "age           0\n",
       "gender        0\n",
       "fever        10\n",
       "cough         0\n",
       "city          0\n",
       "has_covid     0\n",
       "dtype: int64"
      ]
     },
     "execution_count": 5,
     "metadata": {},
     "output_type": "execute_result"
    }
   ],
   "execution_count": 5
  },
  {
   "metadata": {
    "ExecuteTime": {
     "end_time": "2025-04-16T02:38:59.921421Z",
     "start_time": "2025-04-16T02:38:59.910816Z"
    }
   },
   "cell_type": "code",
   "source": [
    "from sklearn.model_selection import train_test_split\n",
    "\n",
    "X_train, X_test, y_train, y_test = train_test_split(df.iloc[:, :-1], df.iloc[:, -1], test_size=0.2, random_state=42)\n",
    "print(X_train.shape, X_test.shape, y_train.shape, y_test.shape)\n",
    "X_train"
   ],
   "id": "ac6b1de4a13957a8",
   "outputs": [
    {
     "name": "stdout",
     "output_type": "stream",
     "text": [
      "(80, 5) (20, 5) (80,) (20,)\n"
     ]
    },
    {
     "data": {
      "text/plain": [
       "    age  gender  fever   cough       city\n",
       "55   81  Female  101.0    Mild     Mumbai\n",
       "88    5  Female  100.0    Mild    Kolkata\n",
       "26   19  Female  100.0    Mild    Kolkata\n",
       "42   27    Male  100.0    Mild      Delhi\n",
       "69   73  Female  103.0    Mild      Delhi\n",
       "..  ...     ...    ...     ...        ...\n",
       "60   24  Female  102.0  Strong  Bangalore\n",
       "71   75  Female  104.0  Strong      Delhi\n",
       "14   51    Male  104.0    Mild  Bangalore\n",
       "92   82  Female  102.0  Strong    Kolkata\n",
       "51   11  Female  100.0  Strong    Kolkata\n",
       "\n",
       "[80 rows x 5 columns]"
      ],
      "text/html": [
       "<div>\n",
       "<style scoped>\n",
       "    .dataframe tbody tr th:only-of-type {\n",
       "        vertical-align: middle;\n",
       "    }\n",
       "\n",
       "    .dataframe tbody tr th {\n",
       "        vertical-align: top;\n",
       "    }\n",
       "\n",
       "    .dataframe thead th {\n",
       "        text-align: right;\n",
       "    }\n",
       "</style>\n",
       "<table border=\"1\" class=\"dataframe\">\n",
       "  <thead>\n",
       "    <tr style=\"text-align: right;\">\n",
       "      <th></th>\n",
       "      <th>age</th>\n",
       "      <th>gender</th>\n",
       "      <th>fever</th>\n",
       "      <th>cough</th>\n",
       "      <th>city</th>\n",
       "    </tr>\n",
       "  </thead>\n",
       "  <tbody>\n",
       "    <tr>\n",
       "      <th>55</th>\n",
       "      <td>81</td>\n",
       "      <td>Female</td>\n",
       "      <td>101.0</td>\n",
       "      <td>Mild</td>\n",
       "      <td>Mumbai</td>\n",
       "    </tr>\n",
       "    <tr>\n",
       "      <th>88</th>\n",
       "      <td>5</td>\n",
       "      <td>Female</td>\n",
       "      <td>100.0</td>\n",
       "      <td>Mild</td>\n",
       "      <td>Kolkata</td>\n",
       "    </tr>\n",
       "    <tr>\n",
       "      <th>26</th>\n",
       "      <td>19</td>\n",
       "      <td>Female</td>\n",
       "      <td>100.0</td>\n",
       "      <td>Mild</td>\n",
       "      <td>Kolkata</td>\n",
       "    </tr>\n",
       "    <tr>\n",
       "      <th>42</th>\n",
       "      <td>27</td>\n",
       "      <td>Male</td>\n",
       "      <td>100.0</td>\n",
       "      <td>Mild</td>\n",
       "      <td>Delhi</td>\n",
       "    </tr>\n",
       "    <tr>\n",
       "      <th>69</th>\n",
       "      <td>73</td>\n",
       "      <td>Female</td>\n",
       "      <td>103.0</td>\n",
       "      <td>Mild</td>\n",
       "      <td>Delhi</td>\n",
       "    </tr>\n",
       "    <tr>\n",
       "      <th>...</th>\n",
       "      <td>...</td>\n",
       "      <td>...</td>\n",
       "      <td>...</td>\n",
       "      <td>...</td>\n",
       "      <td>...</td>\n",
       "    </tr>\n",
       "    <tr>\n",
       "      <th>60</th>\n",
       "      <td>24</td>\n",
       "      <td>Female</td>\n",
       "      <td>102.0</td>\n",
       "      <td>Strong</td>\n",
       "      <td>Bangalore</td>\n",
       "    </tr>\n",
       "    <tr>\n",
       "      <th>71</th>\n",
       "      <td>75</td>\n",
       "      <td>Female</td>\n",
       "      <td>104.0</td>\n",
       "      <td>Strong</td>\n",
       "      <td>Delhi</td>\n",
       "    </tr>\n",
       "    <tr>\n",
       "      <th>14</th>\n",
       "      <td>51</td>\n",
       "      <td>Male</td>\n",
       "      <td>104.0</td>\n",
       "      <td>Mild</td>\n",
       "      <td>Bangalore</td>\n",
       "    </tr>\n",
       "    <tr>\n",
       "      <th>92</th>\n",
       "      <td>82</td>\n",
       "      <td>Female</td>\n",
       "      <td>102.0</td>\n",
       "      <td>Strong</td>\n",
       "      <td>Kolkata</td>\n",
       "    </tr>\n",
       "    <tr>\n",
       "      <th>51</th>\n",
       "      <td>11</td>\n",
       "      <td>Female</td>\n",
       "      <td>100.0</td>\n",
       "      <td>Strong</td>\n",
       "      <td>Kolkata</td>\n",
       "    </tr>\n",
       "  </tbody>\n",
       "</table>\n",
       "<p>80 rows × 5 columns</p>\n",
       "</div>"
      ]
     },
     "execution_count": 7,
     "metadata": {},
     "output_type": "execute_result"
    }
   ],
   "execution_count": 7
  },
  {
   "metadata": {},
   "cell_type": "markdown",
   "source": "# 1. Fever -> Imputation",
   "id": "63430af12eee5e67"
  },
  {
   "metadata": {
    "ExecuteTime": {
     "end_time": "2025-04-16T02:40:29.901549Z",
     "start_time": "2025-04-16T02:40:29.889840Z"
    }
   },
   "cell_type": "code",
   "source": [
    "from sklearn.impute import SimpleImputer\n",
    "impute = SimpleImputer()\n",
    "X_train_fever = impute.fit_transform(X_train[['fever']])\n",
    "X_test_fever = impute.transform(X_test[['fever']])"
   ],
   "id": "77bbe044767c6b9c",
   "outputs": [],
   "execution_count": 9
  },
  {
   "metadata": {
    "ExecuteTime": {
     "end_time": "2025-04-16T02:42:40.395937Z",
     "start_time": "2025-04-16T02:42:40.389904Z"
    }
   },
   "cell_type": "code",
   "source": "np.isnan(X_train_fever).sum()",
   "id": "ea1427e1e342eb1",
   "outputs": [
    {
     "data": {
      "text/plain": [
       "0"
      ]
     },
     "execution_count": 15,
     "metadata": {},
     "output_type": "execute_result"
    }
   ],
   "execution_count": 15
  },
  {
   "metadata": {},
   "cell_type": "markdown",
   "source": "# 2. Age, Fever -> ScalingM",
   "id": "eaabbf570b2a0955"
  },
  {
   "metadata": {
    "ExecuteTime": {
     "end_time": "2025-04-16T02:45:51.722467Z",
     "start_time": "2025-04-16T02:45:51.713070Z"
    }
   },
   "cell_type": "code",
   "source": [
    "from sklearn.preprocessing import StandardScaler\n",
    "scaler = StandardScaler()\n",
    "X_train_fever_sca = scaler.fit_transform(X_train_fever)\n",
    "X_test_fever_sca = scaler.transform(X_test_fever)\n",
    "X_train_fever_sca"
   ],
   "id": "d42c0593ca0e0c84",
   "outputs": [
    {
     "data": {
      "text/plain": [
       "array([[ 0.        ],\n",
       "       [-0.52164053],\n",
       "       [-0.52164053],\n",
       "       [-0.52164053],\n",
       "       [ 1.04328106],\n",
       "       [ 1.04328106],\n",
       "       [ 0.52164053],\n",
       "       [ 0.        ],\n",
       "       [ 0.        ],\n",
       "       [ 0.        ],\n",
       "       [-1.56492159],\n",
       "       [ 1.56492159],\n",
       "       [ 1.04328106],\n",
       "       [ 1.56492159],\n",
       "       [-0.52164053],\n",
       "       [ 0.        ],\n",
       "       [ 1.56492159],\n",
       "       [ 0.52164053],\n",
       "       [ 0.52164053],\n",
       "       [ 1.04328106],\n",
       "       [ 1.56492159],\n",
       "       [ 0.52164053],\n",
       "       [ 0.        ],\n",
       "       [ 1.56492159],\n",
       "       [ 0.52164053],\n",
       "       [ 0.        ],\n",
       "       [-1.04328106],\n",
       "       [ 0.        ],\n",
       "       [ 1.56492159],\n",
       "       [ 0.52164053],\n",
       "       [-0.52164053],\n",
       "       [-1.56492159],\n",
       "       [-1.56492159],\n",
       "       [ 0.        ],\n",
       "       [-0.52164053],\n",
       "       [-0.52164053],\n",
       "       [ 0.        ],\n",
       "       [ 1.56492159],\n",
       "       [ 0.        ],\n",
       "       [ 1.04328106],\n",
       "       [ 0.        ],\n",
       "       [-1.56492159],\n",
       "       [-1.04328106],\n",
       "       [-1.04328106],\n",
       "       [ 0.        ],\n",
       "       [-1.04328106],\n",
       "       [ 0.        ],\n",
       "       [ 1.56492159],\n",
       "       [-1.56492159],\n",
       "       [ 0.        ],\n",
       "       [ 1.04328106],\n",
       "       [ 0.        ],\n",
       "       [-1.56492159],\n",
       "       [-1.04328106],\n",
       "       [-1.56492159],\n",
       "       [-1.04328106],\n",
       "       [ 0.52164053],\n",
       "       [ 0.        ],\n",
       "       [ 0.        ],\n",
       "       [ 1.56492159],\n",
       "       [-0.52164053],\n",
       "       [-1.56492159],\n",
       "       [-0.52164053],\n",
       "       [ 0.        ],\n",
       "       [-0.52164053],\n",
       "       [-0.52164053],\n",
       "       [-1.56492159],\n",
       "       [ 0.        ],\n",
       "       [-1.56492159],\n",
       "       [ 0.        ],\n",
       "       [ 0.        ],\n",
       "       [ 1.56492159],\n",
       "       [ 1.56492159],\n",
       "       [-1.56492159],\n",
       "       [-1.56492159],\n",
       "       [ 0.52164053],\n",
       "       [ 1.56492159],\n",
       "       [ 1.56492159],\n",
       "       [ 0.52164053],\n",
       "       [-0.52164053]])"
      ]
     },
     "execution_count": 16,
     "metadata": {},
     "output_type": "execute_result"
    }
   ],
   "execution_count": 16
  },
  {
   "metadata": {
    "ExecuteTime": {
     "end_time": "2025-04-16T02:46:01.869400Z",
     "start_time": "2025-04-16T02:46:01.858165Z"
    }
   },
   "cell_type": "code",
   "source": [
    "scaler = StandardScaler()\n",
    "X_train_age_sca = scaler.fit_transform(X_train[['age']])\n",
    "X_test_age_sca = scaler.transform(X_test[['age']])\n",
    "X_train_age_sca"
   ],
   "id": "43c1f6cb0e6e05ca",
   "outputs": [
    {
     "data": {
      "text/plain": [
       "array([[ 1.56614097],\n",
       "       [-1.55894504],\n",
       "       [-0.98327131],\n",
       "       [-0.65431488],\n",
       "       [ 1.23718454],\n",
       "       [ 1.11382589],\n",
       "       [ 0.25031528],\n",
       "       [ 0.33255438],\n",
       "       [ 0.86710857],\n",
       "       [ 1.64838007],\n",
       "       [ 0.90822812],\n",
       "       [-1.02439086],\n",
       "       [-1.10662996],\n",
       "       [-1.10662996],\n",
       "       [-0.65431488],\n",
       "       [ 1.68949962],\n",
       "       [ 0.33255438],\n",
       "       [ 1.07270633],\n",
       "       [ 1.60726052],\n",
       "       [ 1.07270633],\n",
       "       [ 0.04471751],\n",
       "       [ 1.2783041 ],\n",
       "       [-0.94215175],\n",
       "       [-1.27110817],\n",
       "       [-0.40759757],\n",
       "       [-0.03752159],\n",
       "       [ 0.90822812],\n",
       "       [-0.81879309],\n",
       "       [ 0.53815215],\n",
       "       [ 0.86710857],\n",
       "       [-1.22998862],\n",
       "       [-0.48983667],\n",
       "       [-0.1197607 ],\n",
       "       [ 0.25031528],\n",
       "       [-0.98327131],\n",
       "       [-1.31222773],\n",
       "       [-1.18886907],\n",
       "       [-0.03752159],\n",
       "       [-0.2019998 ],\n",
       "       [ 0.12695662],\n",
       "       [ 1.15494544],\n",
       "       [-1.35334728],\n",
       "       [ 0.70263036],\n",
       "       [-0.85991265],\n",
       "       [-0.98327131],\n",
       "       [ 0.90822812],\n",
       "       [-0.98327131],\n",
       "       [ 0.45591304],\n",
       "       [ 1.56614097],\n",
       "       [-0.94215175],\n",
       "       [ 0.20919572],\n",
       "       [ 1.60726052],\n",
       "       [-0.81879309],\n",
       "       [ 0.94934767],\n",
       "       [-1.55894504],\n",
       "       [ 0.25031528],\n",
       "       [-1.55894504],\n",
       "       [-0.36647801],\n",
       "       [ 1.48390186],\n",
       "       [-1.51782549],\n",
       "       [-1.35334728],\n",
       "       [ 1.07270633],\n",
       "       [ 0.49703259],\n",
       "       [-0.36647801],\n",
       "       [-0.65431488],\n",
       "       [ 0.16807617],\n",
       "       [ 1.23718454],\n",
       "       [-0.03752159],\n",
       "       [ 1.52502141],\n",
       "       [ 0.16807617],\n",
       "       [-0.2019998 ],\n",
       "       [-0.36647801],\n",
       "       [-0.73655399],\n",
       "       [-0.77767354],\n",
       "       [-1.27110817],\n",
       "       [-0.77767354],\n",
       "       [ 1.31942365],\n",
       "       [ 0.33255438],\n",
       "       [ 1.60726052],\n",
       "       [-1.31222773]])"
      ]
     },
     "execution_count": 17,
     "metadata": {},
     "output_type": "execute_result"
    }
   ],
   "execution_count": 17
  },
  {
   "metadata": {},
   "cell_type": "markdown",
   "source": "# 3. City. Gender -> OHE",
   "id": "19b480258c380836"
  },
  {
   "metadata": {
    "ExecuteTime": {
     "end_time": "2025-04-16T02:46:50.144660Z",
     "start_time": "2025-04-16T02:46:50.127568Z"
    }
   },
   "cell_type": "code",
   "source": "df['city'].value_counts()",
   "id": "3c5d9e0673cc3f3f",
   "outputs": [
    {
     "data": {
      "text/plain": [
       "city\n",
       "Kolkata      32\n",
       "Bangalore    30\n",
       "Delhi        22\n",
       "Mumbai       16\n",
       "Name: count, dtype: int64"
      ]
     },
     "execution_count": 18,
     "metadata": {},
     "output_type": "execute_result"
    }
   ],
   "execution_count": 18
  },
  {
   "metadata": {
    "ExecuteTime": {
     "end_time": "2025-04-16T02:47:03.351939Z",
     "start_time": "2025-04-16T02:47:03.345378Z"
    }
   },
   "cell_type": "code",
   "source": "df['gender'].value_counts()",
   "id": "26c08a86f7a7b896",
   "outputs": [
    {
     "data": {
      "text/plain": [
       "gender\n",
       "Female    59\n",
       "Male      41\n",
       "Name: count, dtype: int64"
      ]
     },
     "execution_count": 19,
     "metadata": {},
     "output_type": "execute_result"
    }
   ],
   "execution_count": 19
  },
  {
   "metadata": {
    "ExecuteTime": {
     "end_time": "2025-04-16T02:48:59.988078Z",
     "start_time": "2025-04-16T02:48:59.974438Z"
    }
   },
   "cell_type": "code",
   "source": [
    "from sklearn.preprocessing import OneHotEncoder\n",
    "ohe = OneHotEncoder(drop='first', sparse_output=False, dtype=np.int32)\n",
    "X_train_gender_city = ohe.fit_transform(X_train[['gender','city']])\n",
    "X_test_gender_city = ohe.transform(X_test[['gender','city']])\n",
    "X_train_gender_city"
   ],
   "id": "220c25edfd75b8a6",
   "outputs": [
    {
     "data": {
      "text/plain": [
       "array([[0, 0, 0, 1],\n",
       "       [0, 0, 1, 0],\n",
       "       [0, 0, 1, 0],\n",
       "       [1, 1, 0, 0],\n",
       "       [0, 1, 0, 0],\n",
       "       [1, 0, 1, 0],\n",
       "       [0, 1, 0, 0],\n",
       "       [0, 0, 1, 0],\n",
       "       [0, 1, 0, 0],\n",
       "       [0, 0, 1, 0],\n",
       "       [0, 0, 0, 1],\n",
       "       [0, 0, 0, 0],\n",
       "       [0, 0, 0, 0],\n",
       "       [1, 0, 1, 0],\n",
       "       [1, 0, 1, 0],\n",
       "       [0, 0, 0, 0],\n",
       "       [1, 0, 1, 0],\n",
       "       [0, 0, 0, 0],\n",
       "       [0, 0, 0, 0],\n",
       "       [0, 0, 1, 0],\n",
       "       [1, 0, 0, 1],\n",
       "       [1, 0, 0, 1],\n",
       "       [0, 0, 0, 1],\n",
       "       [0, 0, 0, 0],\n",
       "       [0, 1, 0, 0],\n",
       "       [0, 0, 0, 0],\n",
       "       [1, 1, 0, 0],\n",
       "       [1, 0, 0, 1],\n",
       "       [0, 0, 0, 0],\n",
       "       [1, 0, 0, 0],\n",
       "       [0, 0, 1, 0],\n",
       "       [0, 0, 1, 0],\n",
       "       [0, 1, 0, 0],\n",
       "       [0, 1, 0, 0],\n",
       "       [0, 0, 0, 0],\n",
       "       [1, 0, 0, 0],\n",
       "       [1, 0, 0, 0],\n",
       "       [1, 0, 0, 1],\n",
       "       [0, 0, 0, 0],\n",
       "       [1, 0, 0, 0],\n",
       "       [1, 0, 1, 0],\n",
       "       [0, 0, 1, 0],\n",
       "       [0, 0, 0, 1],\n",
       "       [0, 0, 0, 0],\n",
       "       [1, 1, 0, 0],\n",
       "       [1, 0, 0, 0],\n",
       "       [0, 0, 0, 1],\n",
       "       [0, 0, 1, 0],\n",
       "       [0, 0, 0, 1],\n",
       "       [0, 0, 0, 0],\n",
       "       [0, 0, 1, 0],\n",
       "       [1, 0, 1, 0],\n",
       "       [1, 0, 0, 1],\n",
       "       [1, 0, 0, 0],\n",
       "       [0, 0, 0, 1],\n",
       "       [0, 0, 0, 0],\n",
       "       [1, 0, 1, 0],\n",
       "       [0, 1, 0, 0],\n",
       "       [1, 0, 1, 0],\n",
       "       [0, 0, 1, 0],\n",
       "       [1, 0, 0, 0],\n",
       "       [0, 0, 0, 1],\n",
       "       [1, 0, 1, 0],\n",
       "       [0, 0, 0, 1],\n",
       "       [1, 1, 0, 0],\n",
       "       [0, 0, 0, 0],\n",
       "       [1, 0, 0, 0],\n",
       "       [1, 1, 0, 0],\n",
       "       [0, 1, 0, 0],\n",
       "       [1, 0, 0, 0],\n",
       "       [1, 1, 0, 0],\n",
       "       [0, 1, 0, 0],\n",
       "       [1, 0, 0, 0],\n",
       "       [1, 0, 1, 0],\n",
       "       [1, 0, 0, 0],\n",
       "       [0, 0, 0, 0],\n",
       "       [0, 1, 0, 0],\n",
       "       [1, 0, 0, 0],\n",
       "       [0, 0, 1, 0],\n",
       "       [0, 0, 1, 0]])"
      ]
     },
     "execution_count": 21,
     "metadata": {},
     "output_type": "execute_result"
    }
   ],
   "execution_count": 21
  },
  {
   "metadata": {},
   "cell_type": "markdown",
   "source": "# 4. cough -> Ordinal Encoding",
   "id": "ba2612a8984063b2"
  },
  {
   "metadata": {
    "ExecuteTime": {
     "end_time": "2025-04-16T02:50:05.546637Z",
     "start_time": "2025-04-16T02:50:05.535569Z"
    }
   },
   "cell_type": "code",
   "source": "X_train['cough'].value_counts()",
   "id": "b8f460229af5a15a",
   "outputs": [
    {
     "data": {
      "text/plain": [
       "cough\n",
       "Mild      48\n",
       "Strong    32\n",
       "Name: count, dtype: int64"
      ]
     },
     "execution_count": 22,
     "metadata": {},
     "output_type": "execute_result"
    }
   ],
   "execution_count": 22
  },
  {
   "metadata": {
    "ExecuteTime": {
     "end_time": "2025-04-16T02:51:44.616935Z",
     "start_time": "2025-04-16T02:51:44.609320Z"
    }
   },
   "cell_type": "code",
   "source": [
    "from sklearn.preprocessing import OrdinalEncoder\n",
    "oe = OrdinalEncoder(categories=[['Mild','Strong']])\n",
    "X_train_cough = oe.fit_transform(X_train[['cough']])\n",
    "X_test_cough = oe.transform(X_test[['cough']])\n",
    "X_train_cough"
   ],
   "id": "b6db884e8a567558",
   "outputs": [
    {
     "data": {
      "text/plain": [
       "array([[0.],\n",
       "       [0.],\n",
       "       [0.],\n",
       "       [0.],\n",
       "       [0.],\n",
       "       [1.],\n",
       "       [0.],\n",
       "       [1.],\n",
       "       [0.],\n",
       "       [0.],\n",
       "       [0.],\n",
       "       [0.],\n",
       "       [0.],\n",
       "       [0.],\n",
       "       [0.],\n",
       "       [0.],\n",
       "       [0.],\n",
       "       [0.],\n",
       "       [1.],\n",
       "       [0.],\n",
       "       [0.],\n",
       "       [0.],\n",
       "       [1.],\n",
       "       [0.],\n",
       "       [1.],\n",
       "       [1.],\n",
       "       [0.],\n",
       "       [0.],\n",
       "       [1.],\n",
       "       [0.],\n",
       "       [1.],\n",
       "       [0.],\n",
       "       [1.],\n",
       "       [0.],\n",
       "       [1.],\n",
       "       [0.],\n",
       "       [1.],\n",
       "       [0.],\n",
       "       [0.],\n",
       "       [1.],\n",
       "       [1.],\n",
       "       [1.],\n",
       "       [0.],\n",
       "       [0.],\n",
       "       [0.],\n",
       "       [0.],\n",
       "       [0.],\n",
       "       [1.],\n",
       "       [1.],\n",
       "       [0.],\n",
       "       [0.],\n",
       "       [0.],\n",
       "       [1.],\n",
       "       [1.],\n",
       "       [1.],\n",
       "       [1.],\n",
       "       [0.],\n",
       "       [1.],\n",
       "       [1.],\n",
       "       [0.],\n",
       "       [0.],\n",
       "       [1.],\n",
       "       [0.],\n",
       "       [1.],\n",
       "       [0.],\n",
       "       [1.],\n",
       "       [0.],\n",
       "       [0.],\n",
       "       [0.],\n",
       "       [1.],\n",
       "       [0.],\n",
       "       [1.],\n",
       "       [0.],\n",
       "       [0.],\n",
       "       [1.],\n",
       "       [1.],\n",
       "       [1.],\n",
       "       [0.],\n",
       "       [1.],\n",
       "       [1.]])"
      ]
     },
     "execution_count": 24,
     "metadata": {},
     "output_type": "execute_result"
    }
   ],
   "execution_count": 24
  },
  {
   "metadata": {},
   "cell_type": "markdown",
   "source": "# 5. has_covid -> Label Encoding",
   "id": "6b5030d7775addff"
  },
  {
   "metadata": {
    "ExecuteTime": {
     "end_time": "2025-04-16T02:53:01.149683Z",
     "start_time": "2025-04-16T02:53:01.143087Z"
    }
   },
   "cell_type": "code",
   "source": [
    "from sklearn.preprocessing import LabelEncoder\n",
    "le = LabelEncoder()\n",
    "y_train_encod = le.fit_transform(y_train)\n",
    "y_test_encod = le.fit_transform(y_test)"
   ],
   "id": "805256c0a75364e4",
   "outputs": [],
   "execution_count": 25
  },
  {
   "metadata": {
    "ExecuteTime": {
     "end_time": "2025-04-16T02:53:05.989498Z",
     "start_time": "2025-04-16T02:53:05.976333Z"
    }
   },
   "cell_type": "code",
   "source": "y_train_encod",
   "id": "1ad10b39ecc4c65c",
   "outputs": [
    {
     "data": {
      "text/plain": [
       "array([1, 0, 1, 1, 0, 1, 0, 1, 0, 0, 1, 0, 1, 0, 1, 1, 0, 0, 0, 1, 0, 1,\n",
       "       1, 0, 0, 1, 0, 0, 1, 1, 0, 0, 0, 1, 0, 1, 0, 0, 0, 0, 0, 1, 1, 1,\n",
       "       1, 0, 0, 0, 0, 0, 1, 1, 1, 0, 0, 0, 1, 1, 1, 1, 0, 0, 0, 1, 1, 1,\n",
       "       1, 0, 1, 0, 1, 0, 1, 1, 0, 1, 0, 0, 0, 1])"
      ]
     },
     "execution_count": 26,
     "metadata": {},
     "output_type": "execute_result"
    }
   ],
   "execution_count": 26
  },
  {
   "metadata": {},
   "cell_type": "markdown",
   "source": "# Concatenate all",
   "id": "f753638a0d61f32a"
  },
  {
   "metadata": {
    "ExecuteTime": {
     "end_time": "2025-04-16T02:55:29.617812Z",
     "start_time": "2025-04-16T02:55:29.610689Z"
    }
   },
   "cell_type": "code",
   "source": [
    "X_train_cat = np.concatenate((X_train_fever_sca, X_train_age_sca, X_train_gender_city, X_train_cough), axis=1)\n",
    "X_test_cat = np.concatenate((X_test_fever_sca, X_test_age_sca, X_test_gender_city, X_test_cough), axis=1)\n",
    "X_train_cat"
   ],
   "id": "7f70edbc8c603b5d",
   "outputs": [
    {
     "data": {
      "text/plain": [
       "array([[ 0.        ,  1.56614097,  0.        ,  0.        ,  0.        ,\n",
       "         1.        ,  0.        ],\n",
       "       [-0.52164053, -1.55894504,  0.        ,  0.        ,  1.        ,\n",
       "         0.        ,  0.        ],\n",
       "       [-0.52164053, -0.98327131,  0.        ,  0.        ,  1.        ,\n",
       "         0.        ,  0.        ],\n",
       "       [-0.52164053, -0.65431488,  1.        ,  1.        ,  0.        ,\n",
       "         0.        ,  0.        ],\n",
       "       [ 1.04328106,  1.23718454,  0.        ,  1.        ,  0.        ,\n",
       "         0.        ,  0.        ],\n",
       "       [ 1.04328106,  1.11382589,  1.        ,  0.        ,  1.        ,\n",
       "         0.        ,  1.        ],\n",
       "       [ 0.52164053,  0.25031528,  0.        ,  1.        ,  0.        ,\n",
       "         0.        ,  0.        ],\n",
       "       [ 0.        ,  0.33255438,  0.        ,  0.        ,  1.        ,\n",
       "         0.        ,  1.        ],\n",
       "       [ 0.        ,  0.86710857,  0.        ,  1.        ,  0.        ,\n",
       "         0.        ,  0.        ],\n",
       "       [ 0.        ,  1.64838007,  0.        ,  0.        ,  1.        ,\n",
       "         0.        ,  0.        ],\n",
       "       [-1.56492159,  0.90822812,  0.        ,  0.        ,  0.        ,\n",
       "         1.        ,  0.        ],\n",
       "       [ 1.56492159, -1.02439086,  0.        ,  0.        ,  0.        ,\n",
       "         0.        ,  0.        ],\n",
       "       [ 1.04328106, -1.10662996,  0.        ,  0.        ,  0.        ,\n",
       "         0.        ,  0.        ],\n",
       "       [ 1.56492159, -1.10662996,  1.        ,  0.        ,  1.        ,\n",
       "         0.        ,  0.        ],\n",
       "       [-0.52164053, -0.65431488,  1.        ,  0.        ,  1.        ,\n",
       "         0.        ,  0.        ],\n",
       "       [ 0.        ,  1.68949962,  0.        ,  0.        ,  0.        ,\n",
       "         0.        ,  0.        ],\n",
       "       [ 1.56492159,  0.33255438,  1.        ,  0.        ,  1.        ,\n",
       "         0.        ,  0.        ],\n",
       "       [ 0.52164053,  1.07270633,  0.        ,  0.        ,  0.        ,\n",
       "         0.        ,  0.        ],\n",
       "       [ 0.52164053,  1.60726052,  0.        ,  0.        ,  0.        ,\n",
       "         0.        ,  1.        ],\n",
       "       [ 1.04328106,  1.07270633,  0.        ,  0.        ,  1.        ,\n",
       "         0.        ,  0.        ],\n",
       "       [ 1.56492159,  0.04471751,  1.        ,  0.        ,  0.        ,\n",
       "         1.        ,  0.        ],\n",
       "       [ 0.52164053,  1.2783041 ,  1.        ,  0.        ,  0.        ,\n",
       "         1.        ,  0.        ],\n",
       "       [ 0.        , -0.94215175,  0.        ,  0.        ,  0.        ,\n",
       "         1.        ,  1.        ],\n",
       "       [ 1.56492159, -1.27110817,  0.        ,  0.        ,  0.        ,\n",
       "         0.        ,  0.        ],\n",
       "       [ 0.52164053, -0.40759757,  0.        ,  1.        ,  0.        ,\n",
       "         0.        ,  1.        ],\n",
       "       [ 0.        , -0.03752159,  0.        ,  0.        ,  0.        ,\n",
       "         0.        ,  1.        ],\n",
       "       [-1.04328106,  0.90822812,  1.        ,  1.        ,  0.        ,\n",
       "         0.        ,  0.        ],\n",
       "       [ 0.        , -0.81879309,  1.        ,  0.        ,  0.        ,\n",
       "         1.        ,  0.        ],\n",
       "       [ 1.56492159,  0.53815215,  0.        ,  0.        ,  0.        ,\n",
       "         0.        ,  1.        ],\n",
       "       [ 0.52164053,  0.86710857,  1.        ,  0.        ,  0.        ,\n",
       "         0.        ,  0.        ],\n",
       "       [-0.52164053, -1.22998862,  0.        ,  0.        ,  1.        ,\n",
       "         0.        ,  1.        ],\n",
       "       [-1.56492159, -0.48983667,  0.        ,  0.        ,  1.        ,\n",
       "         0.        ,  0.        ],\n",
       "       [-1.56492159, -0.1197607 ,  0.        ,  1.        ,  0.        ,\n",
       "         0.        ,  1.        ],\n",
       "       [ 0.        ,  0.25031528,  0.        ,  1.        ,  0.        ,\n",
       "         0.        ,  0.        ],\n",
       "       [-0.52164053, -0.98327131,  0.        ,  0.        ,  0.        ,\n",
       "         0.        ,  1.        ],\n",
       "       [-0.52164053, -1.31222773,  1.        ,  0.        ,  0.        ,\n",
       "         0.        ,  0.        ],\n",
       "       [ 0.        , -1.18886907,  1.        ,  0.        ,  0.        ,\n",
       "         0.        ,  1.        ],\n",
       "       [ 1.56492159, -0.03752159,  1.        ,  0.        ,  0.        ,\n",
       "         1.        ,  0.        ],\n",
       "       [ 0.        , -0.2019998 ,  0.        ,  0.        ,  0.        ,\n",
       "         0.        ,  0.        ],\n",
       "       [ 1.04328106,  0.12695662,  1.        ,  0.        ,  0.        ,\n",
       "         0.        ,  1.        ],\n",
       "       [ 0.        ,  1.15494544,  1.        ,  0.        ,  1.        ,\n",
       "         0.        ,  1.        ],\n",
       "       [-1.56492159, -1.35334728,  0.        ,  0.        ,  1.        ,\n",
       "         0.        ,  1.        ],\n",
       "       [-1.04328106,  0.70263036,  0.        ,  0.        ,  0.        ,\n",
       "         1.        ,  0.        ],\n",
       "       [-1.04328106, -0.85991265,  0.        ,  0.        ,  0.        ,\n",
       "         0.        ,  0.        ],\n",
       "       [ 0.        , -0.98327131,  1.        ,  1.        ,  0.        ,\n",
       "         0.        ,  0.        ],\n",
       "       [-1.04328106,  0.90822812,  1.        ,  0.        ,  0.        ,\n",
       "         0.        ,  0.        ],\n",
       "       [ 0.        , -0.98327131,  0.        ,  0.        ,  0.        ,\n",
       "         1.        ,  0.        ],\n",
       "       [ 1.56492159,  0.45591304,  0.        ,  0.        ,  1.        ,\n",
       "         0.        ,  1.        ],\n",
       "       [-1.56492159,  1.56614097,  0.        ,  0.        ,  0.        ,\n",
       "         1.        ,  1.        ],\n",
       "       [ 0.        , -0.94215175,  0.        ,  0.        ,  0.        ,\n",
       "         0.        ,  0.        ],\n",
       "       [ 1.04328106,  0.20919572,  0.        ,  0.        ,  1.        ,\n",
       "         0.        ,  0.        ],\n",
       "       [ 0.        ,  1.60726052,  1.        ,  0.        ,  1.        ,\n",
       "         0.        ,  0.        ],\n",
       "       [-1.56492159, -0.81879309,  1.        ,  0.        ,  0.        ,\n",
       "         1.        ,  1.        ],\n",
       "       [-1.04328106,  0.94934767,  1.        ,  0.        ,  0.        ,\n",
       "         0.        ,  1.        ],\n",
       "       [-1.56492159, -1.55894504,  0.        ,  0.        ,  0.        ,\n",
       "         1.        ,  1.        ],\n",
       "       [-1.04328106,  0.25031528,  0.        ,  0.        ,  0.        ,\n",
       "         0.        ,  1.        ],\n",
       "       [ 0.52164053, -1.55894504,  1.        ,  0.        ,  1.        ,\n",
       "         0.        ,  0.        ],\n",
       "       [ 0.        , -0.36647801,  0.        ,  1.        ,  0.        ,\n",
       "         0.        ,  1.        ],\n",
       "       [ 0.        ,  1.48390186,  1.        ,  0.        ,  1.        ,\n",
       "         0.        ,  1.        ],\n",
       "       [ 1.56492159, -1.51782549,  0.        ,  0.        ,  1.        ,\n",
       "         0.        ,  0.        ],\n",
       "       [-0.52164053, -1.35334728,  1.        ,  0.        ,  0.        ,\n",
       "         0.        ,  0.        ],\n",
       "       [-1.56492159,  1.07270633,  0.        ,  0.        ,  0.        ,\n",
       "         1.        ,  1.        ],\n",
       "       [-0.52164053,  0.49703259,  1.        ,  0.        ,  1.        ,\n",
       "         0.        ,  0.        ],\n",
       "       [ 0.        , -0.36647801,  0.        ,  0.        ,  0.        ,\n",
       "         1.        ,  1.        ],\n",
       "       [-0.52164053, -0.65431488,  1.        ,  1.        ,  0.        ,\n",
       "         0.        ,  0.        ],\n",
       "       [-0.52164053,  0.16807617,  0.        ,  0.        ,  0.        ,\n",
       "         0.        ,  1.        ],\n",
       "       [-1.56492159,  1.23718454,  1.        ,  0.        ,  0.        ,\n",
       "         0.        ,  0.        ],\n",
       "       [ 0.        , -0.03752159,  1.        ,  1.        ,  0.        ,\n",
       "         0.        ,  0.        ],\n",
       "       [-1.56492159,  1.52502141,  0.        ,  1.        ,  0.        ,\n",
       "         0.        ,  0.        ],\n",
       "       [ 0.        ,  0.16807617,  1.        ,  0.        ,  0.        ,\n",
       "         0.        ,  1.        ],\n",
       "       [ 0.        , -0.2019998 ,  1.        ,  1.        ,  0.        ,\n",
       "         0.        ,  0.        ],\n",
       "       [ 1.56492159, -0.36647801,  0.        ,  1.        ,  0.        ,\n",
       "         0.        ,  1.        ],\n",
       "       [ 1.56492159, -0.73655399,  1.        ,  0.        ,  0.        ,\n",
       "         0.        ,  0.        ],\n",
       "       [-1.56492159, -0.77767354,  1.        ,  0.        ,  1.        ,\n",
       "         0.        ,  0.        ],\n",
       "       [-1.56492159, -1.27110817,  1.        ,  0.        ,  0.        ,\n",
       "         0.        ,  1.        ],\n",
       "       [ 0.52164053, -0.77767354,  0.        ,  0.        ,  0.        ,\n",
       "         0.        ,  1.        ],\n",
       "       [ 1.56492159,  1.31942365,  0.        ,  1.        ,  0.        ,\n",
       "         0.        ,  1.        ],\n",
       "       [ 1.56492159,  0.33255438,  1.        ,  0.        ,  0.        ,\n",
       "         0.        ,  0.        ],\n",
       "       [ 0.52164053,  1.60726052,  0.        ,  0.        ,  1.        ,\n",
       "         0.        ,  1.        ],\n",
       "       [-0.52164053, -1.31222773,  0.        ,  0.        ,  1.        ,\n",
       "         0.        ,  1.        ]])"
      ]
     },
     "execution_count": 28,
     "metadata": {},
     "output_type": "execute_result"
    }
   ],
   "execution_count": 28
  },
  {
   "metadata": {},
   "cell_type": "code",
   "outputs": [],
   "execution_count": null,
   "source": "",
   "id": "b4df5513a5f9dfbd"
  }
 ],
 "metadata": {
  "kernelspec": {
   "display_name": "Python 3",
   "language": "python",
   "name": "python3"
  },
  "language_info": {
   "codemirror_mode": {
    "name": "ipython",
    "version": 2
   },
   "file_extension": ".py",
   "mimetype": "text/x-python",
   "name": "python",
   "nbconvert_exporter": "python",
   "pygments_lexer": "ipython2",
   "version": "2.7.6"
  }
 },
 "nbformat": 4,
 "nbformat_minor": 5
}
