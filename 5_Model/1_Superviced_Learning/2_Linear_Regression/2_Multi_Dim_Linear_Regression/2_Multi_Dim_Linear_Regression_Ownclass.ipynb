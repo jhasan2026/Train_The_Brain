{
 "cells": [
  {
   "cell_type": "code",
   "id": "2c7eb251ab94ed87",
   "metadata": {
    "collapsed": true,
    "ExecuteTime": {
     "end_time": "2025-05-04T10:11:30.259048Z",
     "start_time": "2025-05-04T10:11:30.144938Z"
    }
   },
   "source": [
    "import pandas as pd\n",
    "import numpy as np\n",
    "import matplotlib.pyplot as plt\n",
    "import seaborn as sns\n",
    "from sklearn.datasets import make_regression"
   ],
   "outputs": [],
   "execution_count": 1
  },
  {
   "metadata": {
    "ExecuteTime": {
     "end_time": "2025-05-04T10:11:30.509280Z",
     "start_time": "2025-05-04T10:11:30.505084Z"
    }
   },
   "cell_type": "code",
   "source": "X, y = make_regression(n_samples=100,n_features=2,n_informative=2,n_targets=1,noise=50)",
   "id": "initial_id",
   "outputs": [],
   "execution_count": 2
  },
  {
   "metadata": {
    "ExecuteTime": {
     "end_time": "2025-05-04T10:11:31.005546Z",
     "start_time": "2025-05-04T10:11:31.002368Z"
    }
   },
   "cell_type": "code",
   "source": "X = pd.DataFrame(X,columns=['col1','col2'])",
   "id": "7736dd8f2a1a0c85",
   "outputs": [],
   "execution_count": 3
  },
  {
   "metadata": {
    "ExecuteTime": {
     "end_time": "2025-05-04T10:11:31.499974Z",
     "start_time": "2025-05-04T10:11:31.480476Z"
    }
   },
   "cell_type": "code",
   "source": "X",
   "id": "64b2ddb857a30119",
   "outputs": [
    {
     "data": {
      "text/plain": [
       "        col1      col2\n",
       "0   0.126146 -0.857182\n",
       "1   1.406731  0.190607\n",
       "2   1.487030 -0.619915\n",
       "3  -0.635435  0.229802\n",
       "4  -0.171364  0.130595\n",
       "..       ...       ...\n",
       "95 -0.398137 -0.714613\n",
       "96 -1.430591  1.170308\n",
       "97 -0.703867  0.065812\n",
       "98 -1.826715 -1.161328\n",
       "99  1.715257  0.763302\n",
       "\n",
       "[100 rows x 2 columns]"
      ],
      "text/html": [
       "<div>\n",
       "<style scoped>\n",
       "    .dataframe tbody tr th:only-of-type {\n",
       "        vertical-align: middle;\n",
       "    }\n",
       "\n",
       "    .dataframe tbody tr th {\n",
       "        vertical-align: top;\n",
       "    }\n",
       "\n",
       "    .dataframe thead th {\n",
       "        text-align: right;\n",
       "    }\n",
       "</style>\n",
       "<table border=\"1\" class=\"dataframe\">\n",
       "  <thead>\n",
       "    <tr style=\"text-align: right;\">\n",
       "      <th></th>\n",
       "      <th>col1</th>\n",
       "      <th>col2</th>\n",
       "    </tr>\n",
       "  </thead>\n",
       "  <tbody>\n",
       "    <tr>\n",
       "      <th>0</th>\n",
       "      <td>0.126146</td>\n",
       "      <td>-0.857182</td>\n",
       "    </tr>\n",
       "    <tr>\n",
       "      <th>1</th>\n",
       "      <td>1.406731</td>\n",
       "      <td>0.190607</td>\n",
       "    </tr>\n",
       "    <tr>\n",
       "      <th>2</th>\n",
       "      <td>1.487030</td>\n",
       "      <td>-0.619915</td>\n",
       "    </tr>\n",
       "    <tr>\n",
       "      <th>3</th>\n",
       "      <td>-0.635435</td>\n",
       "      <td>0.229802</td>\n",
       "    </tr>\n",
       "    <tr>\n",
       "      <th>4</th>\n",
       "      <td>-0.171364</td>\n",
       "      <td>0.130595</td>\n",
       "    </tr>\n",
       "    <tr>\n",
       "      <th>...</th>\n",
       "      <td>...</td>\n",
       "      <td>...</td>\n",
       "    </tr>\n",
       "    <tr>\n",
       "      <th>95</th>\n",
       "      <td>-0.398137</td>\n",
       "      <td>-0.714613</td>\n",
       "    </tr>\n",
       "    <tr>\n",
       "      <th>96</th>\n",
       "      <td>-1.430591</td>\n",
       "      <td>1.170308</td>\n",
       "    </tr>\n",
       "    <tr>\n",
       "      <th>97</th>\n",
       "      <td>-0.703867</td>\n",
       "      <td>0.065812</td>\n",
       "    </tr>\n",
       "    <tr>\n",
       "      <th>98</th>\n",
       "      <td>-1.826715</td>\n",
       "      <td>-1.161328</td>\n",
       "    </tr>\n",
       "    <tr>\n",
       "      <th>99</th>\n",
       "      <td>1.715257</td>\n",
       "      <td>0.763302</td>\n",
       "    </tr>\n",
       "  </tbody>\n",
       "</table>\n",
       "<p>100 rows × 2 columns</p>\n",
       "</div>"
      ]
     },
     "execution_count": 4,
     "metadata": {},
     "output_type": "execute_result"
    }
   ],
   "execution_count": 4
  },
  {
   "metadata": {
    "ExecuteTime": {
     "end_time": "2025-05-04T10:11:32.153518Z",
     "start_time": "2025-05-04T10:11:32.145233Z"
    }
   },
   "cell_type": "code",
   "source": "y",
   "id": "bcfc774b0176a2ae",
   "outputs": [
    {
     "data": {
      "text/plain": [
       "array([ 2.53966595e+01,  3.22596494e+00,  9.56085678e+01,  3.65150461e+01,\n",
       "        6.65032133e+00,  1.30963013e+02,  8.63160827e+01, -6.85169681e+01,\n",
       "        7.34409389e+00, -8.35041521e+01,  1.17744455e+02, -2.86798741e+01,\n",
       "        4.29590773e+00, -1.98567567e+02, -1.82994943e+02,  6.82769173e+01,\n",
       "        4.69616096e+00,  9.75271848e+01,  2.97132174e+01, -7.71349270e+01,\n",
       "       -3.50592009e+01,  1.15418473e+02,  8.64217518e+01, -5.47846680e-02,\n",
       "        1.89921236e+02,  1.07533094e+02, -9.31415652e+01,  7.50830964e+01,\n",
       "       -9.44141924e+00,  1.94671949e+02, -1.64056726e+02,  3.44877595e+01,\n",
       "        1.64009803e+01, -1.60906441e+02,  5.04142830e+01,  7.09268253e+01,\n",
       "        2.64980468e+01,  1.03231269e+01,  5.45207825e+01, -8.26867491e+00,\n",
       "       -6.83219350e+01,  2.08393585e+01, -5.08480361e+00,  1.43360084e+02,\n",
       "       -8.86334566e+01,  4.98912284e+00,  1.71399145e+02, -2.80661637e+01,\n",
       "       -2.71826185e+02, -1.41168896e+01, -6.90402593e+01,  1.71512411e+02,\n",
       "        3.32154512e+00,  1.17423547e+02,  5.63002357e+01, -3.10326126e+01,\n",
       "        8.92968242e+00,  2.27001501e+01, -5.02785171e+01, -1.31171300e+02,\n",
       "        2.69785019e+01,  2.66437375e+01, -1.64868198e+02, -1.00206560e+02,\n",
       "        1.69236300e+01,  8.88647022e+01, -1.24507807e+02, -1.37841915e+01,\n",
       "        6.76699449e+01,  9.07304997e+01, -1.87749034e+02, -9.26157483e+01,\n",
       "        4.02110352e+01, -1.51633036e+02, -2.21559089e+00,  2.39942055e+01,\n",
       "       -1.82380068e+02,  6.22001472e+01, -5.08678332e+00, -6.30001502e+01,\n",
       "       -8.85153311e+01,  1.66963939e+02, -1.16068842e+02, -1.52862885e+01,\n",
       "        7.47926400e+01,  1.39136234e+02, -2.53521771e+02, -3.84756067e+00,\n",
       "        4.37618159e+01, -5.54633057e+01,  1.28973820e+02, -4.84976640e-01,\n",
       "        1.02135787e+01, -1.50370236e+02, -3.22186470e+01,  8.16536163e+00,\n",
       "       -5.72257697e+01,  1.28951837e+01, -1.38330098e+02,  1.12834313e+02])"
      ]
     },
     "execution_count": 5,
     "metadata": {},
     "output_type": "execute_result"
    }
   ],
   "execution_count": 5
  },
  {
   "metadata": {
    "ExecuteTime": {
     "end_time": "2025-05-04T10:11:32.944759Z",
     "start_time": "2025-05-04T10:11:32.907112Z"
    }
   },
   "cell_type": "code",
   "source": [
    "from sklearn.model_selection import train_test_split\n",
    "\n",
    "X_train, X_test, y_train, y_test = train_test_split(X, y, test_size=0.2, random_state=2)\n",
    "X_train.shape, X_test.shape, y_train.shape, y_test.shape"
   ],
   "id": "8b1a5e336468347a",
   "outputs": [
    {
     "data": {
      "text/plain": [
       "((80, 2), (20, 2), (80,), (20,))"
      ]
     },
     "execution_count": 6,
     "metadata": {},
     "output_type": "execute_result"
    }
   ],
   "execution_count": 6
  },
  {
   "metadata": {},
   "cell_type": "markdown",
   "source": "![Image](linear_regression.png)",
   "id": "b843400be90c6114"
  },
  {
   "metadata": {
    "ExecuteTime": {
     "end_time": "2025-05-04T10:11:34.192742Z",
     "start_time": "2025-05-04T10:11:34.188544Z"
    }
   },
   "cell_type": "code",
   "source": [
    "class MultiDimLinearRegression:\n",
    "    def __init__(self):\n",
    "        self.intercept = None\n",
    "        self.coef = None\n",
    "        \n",
    "    def fit(self,X_train, y_train):\n",
    "        \n",
    "        # 1. Insert 1 at first to all X_train\n",
    "        X_train = np.insert(X_train,0,1,axis=1)\n",
    "\n",
    "        # 2. Calculate Beta\n",
    "        Beta = np.linalg.inv(np.dot(X_train.T,X_train)).dot(X_train.T).dot(y_train)\n",
    "    \n",
    "        # 3. Distribute as intercept and coef\n",
    "        self.intercept = Beta[0]\n",
    "        self.coef = Beta[1:]\n",
    "        \n",
    "        \n",
    "    def predict(self,X_test):\n",
    "        return np.dot(X_test, self.coef) + self.intercept"
   ],
   "id": "3398a30e92f213bc",
   "outputs": [],
   "execution_count": 7
  },
  {
   "metadata": {
    "ExecuteTime": {
     "end_time": "2025-05-04T10:11:34.820941Z",
     "start_time": "2025-05-04T10:11:34.813383Z"
    }
   },
   "cell_type": "code",
   "source": "lr = MultiDimLinearRegression()",
   "id": "b3fdc8cf62c8e0e5",
   "outputs": [],
   "execution_count": 8
  },
  {
   "metadata": {
    "ExecuteTime": {
     "end_time": "2025-05-04T10:11:35.204738Z",
     "start_time": "2025-05-04T10:11:35.175737Z"
    }
   },
   "cell_type": "code",
   "source": "lr.fit(X_train, y_train)",
   "id": "ed21208350c2a476",
   "outputs": [],
   "execution_count": 9
  },
  {
   "metadata": {
    "ExecuteTime": {
     "end_time": "2025-05-04T10:11:35.678748Z",
     "start_time": "2025-05-04T10:11:35.663529Z"
    }
   },
   "cell_type": "code",
   "source": "lr.intercept, lr.coef",
   "id": "4cb33599093514d4",
   "outputs": [
    {
     "data": {
      "text/plain": [
       "(np.float64(5.319271372461177), array([73.89939884, 23.67857714]))"
      ]
     },
     "execution_count": 10,
     "metadata": {},
     "output_type": "execute_result"
    }
   ],
   "execution_count": 10
  },
  {
   "metadata": {
    "ExecuteTime": {
     "end_time": "2025-05-04T10:11:36.630228Z",
     "start_time": "2025-05-04T10:11:36.622871Z"
    }
   },
   "cell_type": "code",
   "source": [
    "y_pred = lr.predict(X_test)\n",
    "y_pred"
   ],
   "id": "2d1350d2d26d8ef3",
   "outputs": [
    {
     "data": {
      "text/plain": [
       "array([  43.97670043, -115.1538863 ,  -40.56563366,  146.93860993,\n",
       "         46.38353335,    8.00150781,  100.531183  ,  115.29628904,\n",
       "        -24.92176828, -207.812492  ,  150.14966705,   42.13126019,\n",
       "       -140.60077376,  -90.98926735,   -5.65544823,   42.8874757 ,\n",
       "        -36.1976151 ,  128.75227627,   23.9337311 ,  -27.79971407])"
      ]
     },
     "execution_count": 11,
     "metadata": {},
     "output_type": "execute_result"
    }
   ],
   "execution_count": 11
  },
  {
   "metadata": {
    "ExecuteTime": {
     "end_time": "2025-05-04T10:11:38.976113Z",
     "start_time": "2025-05-04T10:11:38.969022Z"
    }
   },
   "cell_type": "code",
   "source": [
    "from sklearn.metrics import r2_score\n",
    "r2_score(y_test, y_pred)"
   ],
   "id": "4f28a06343eec70b",
   "outputs": [
    {
     "data": {
      "text/plain": [
       "0.8284807884630648"
      ]
     },
     "execution_count": 12,
     "metadata": {},
     "output_type": "execute_result"
    }
   ],
   "execution_count": 12
  },
  {
   "metadata": {},
   "cell_type": "markdown",
   "source": "### For More that Two class",
   "id": "46f314ea442df57b"
  },
  {
   "metadata": {
    "ExecuteTime": {
     "end_time": "2025-05-04T10:12:04.912002Z",
     "start_time": "2025-05-04T10:12:04.901739Z"
    }
   },
   "cell_type": "code",
   "source": [
    "from sklearn.datasets import load_diabetes\n",
    "X,y = load_diabetes(return_X_y=True)\n",
    "X"
   ],
   "id": "91a75846126e2ead",
   "outputs": [
    {
     "data": {
      "text/plain": [
       "array([[ 0.03807591,  0.05068012,  0.06169621, ..., -0.00259226,\n",
       "         0.01990749, -0.01764613],\n",
       "       [-0.00188202, -0.04464164, -0.05147406, ..., -0.03949338,\n",
       "        -0.06833155, -0.09220405],\n",
       "       [ 0.08529891,  0.05068012,  0.04445121, ..., -0.00259226,\n",
       "         0.00286131, -0.02593034],\n",
       "       ...,\n",
       "       [ 0.04170844,  0.05068012, -0.01590626, ..., -0.01107952,\n",
       "        -0.04688253,  0.01549073],\n",
       "       [-0.04547248, -0.04464164,  0.03906215, ...,  0.02655962,\n",
       "         0.04452873, -0.02593034],\n",
       "       [-0.04547248, -0.04464164, -0.0730303 , ..., -0.03949338,\n",
       "        -0.00422151,  0.00306441]], shape=(442, 10))"
      ]
     },
     "execution_count": 13,
     "metadata": {},
     "output_type": "execute_result"
    }
   ],
   "execution_count": 13
  },
  {
   "metadata": {
    "ExecuteTime": {
     "end_time": "2025-05-04T10:12:05.754016Z",
     "start_time": "2025-05-04T10:12:05.744967Z"
    }
   },
   "cell_type": "code",
   "source": "y",
   "id": "20abf85735887d3",
   "outputs": [
    {
     "data": {
      "text/plain": [
       "array([151.,  75., 141., 206., 135.,  97., 138.,  63., 110., 310., 101.,\n",
       "        69., 179., 185., 118., 171., 166., 144.,  97., 168.,  68.,  49.,\n",
       "        68., 245., 184., 202., 137.,  85., 131., 283., 129.,  59., 341.,\n",
       "        87.,  65., 102., 265., 276., 252.,  90., 100.,  55.,  61.,  92.,\n",
       "       259.,  53., 190., 142.,  75., 142., 155., 225.,  59., 104., 182.,\n",
       "       128.,  52.,  37., 170., 170.,  61., 144.,  52., 128.,  71., 163.,\n",
       "       150.,  97., 160., 178.,  48., 270., 202., 111.,  85.,  42., 170.,\n",
       "       200., 252., 113., 143.,  51.,  52., 210.,  65., 141.,  55., 134.,\n",
       "        42., 111.,  98., 164.,  48.,  96.,  90., 162., 150., 279.,  92.,\n",
       "        83., 128., 102., 302., 198.,  95.,  53., 134., 144., 232.,  81.,\n",
       "       104.,  59., 246., 297., 258., 229., 275., 281., 179., 200., 200.,\n",
       "       173., 180.,  84., 121., 161.,  99., 109., 115., 268., 274., 158.,\n",
       "       107.,  83., 103., 272.,  85., 280., 336., 281., 118., 317., 235.,\n",
       "        60., 174., 259., 178., 128.,  96., 126., 288.,  88., 292.,  71.,\n",
       "       197., 186.,  25.,  84.,  96., 195.,  53., 217., 172., 131., 214.,\n",
       "        59.,  70., 220., 268., 152.,  47.,  74., 295., 101., 151., 127.,\n",
       "       237., 225.,  81., 151., 107.,  64., 138., 185., 265., 101., 137.,\n",
       "       143., 141.,  79., 292., 178.,  91., 116.,  86., 122.,  72., 129.,\n",
       "       142.,  90., 158.,  39., 196., 222., 277.,  99., 196., 202., 155.,\n",
       "        77., 191.,  70.,  73.,  49.,  65., 263., 248., 296., 214., 185.,\n",
       "        78.,  93., 252., 150.,  77., 208.,  77., 108., 160.,  53., 220.,\n",
       "       154., 259.,  90., 246., 124.,  67.,  72., 257., 262., 275., 177.,\n",
       "        71.,  47., 187., 125.,  78.,  51., 258., 215., 303., 243.,  91.,\n",
       "       150., 310., 153., 346.,  63.,  89.,  50.,  39., 103., 308., 116.,\n",
       "       145.,  74.,  45., 115., 264.,  87., 202., 127., 182., 241.,  66.,\n",
       "        94., 283.,  64., 102., 200., 265.,  94., 230., 181., 156., 233.,\n",
       "        60., 219.,  80.,  68., 332., 248.,  84., 200.,  55.,  85.,  89.,\n",
       "        31., 129.,  83., 275.,  65., 198., 236., 253., 124.,  44., 172.,\n",
       "       114., 142., 109., 180., 144., 163., 147.,  97., 220., 190., 109.,\n",
       "       191., 122., 230., 242., 248., 249., 192., 131., 237.,  78., 135.,\n",
       "       244., 199., 270., 164.,  72.,  96., 306.,  91., 214.,  95., 216.,\n",
       "       263., 178., 113., 200., 139., 139.,  88., 148.,  88., 243.,  71.,\n",
       "        77., 109., 272.,  60.,  54., 221.,  90., 311., 281., 182., 321.,\n",
       "        58., 262., 206., 233., 242., 123., 167.,  63., 197.,  71., 168.,\n",
       "       140., 217., 121., 235., 245.,  40.,  52., 104., 132.,  88.,  69.,\n",
       "       219.,  72., 201., 110.,  51., 277.,  63., 118.,  69., 273., 258.,\n",
       "        43., 198., 242., 232., 175.,  93., 168., 275., 293., 281.,  72.,\n",
       "       140., 189., 181., 209., 136., 261., 113., 131., 174., 257.,  55.,\n",
       "        84.,  42., 146., 212., 233.,  91., 111., 152., 120.,  67., 310.,\n",
       "        94., 183.,  66., 173.,  72.,  49.,  64.,  48., 178., 104., 132.,\n",
       "       220.,  57.])"
      ]
     },
     "execution_count": 14,
     "metadata": {},
     "output_type": "execute_result"
    }
   ],
   "execution_count": 14
  },
  {
   "metadata": {
    "ExecuteTime": {
     "end_time": "2025-05-04T10:13:36.421448Z",
     "start_time": "2025-05-04T10:13:36.402928Z"
    }
   },
   "cell_type": "code",
   "source": [
    "X_train, X_test, y_train, y_test = train_test_split(X, y, test_size=0.2, random_state=2)\n",
    "X_train.shape, X_test.shape, y_train.shape, y_test.shape"
   ],
   "id": "cdd1b2c09b32fbfb",
   "outputs": [
    {
     "data": {
      "text/plain": [
       "((353, 10), (89, 10), (353,), (89,))"
      ]
     },
     "execution_count": 17,
     "metadata": {},
     "output_type": "execute_result"
    }
   ],
   "execution_count": 17
  },
  {
   "metadata": {
    "ExecuteTime": {
     "end_time": "2025-05-04T10:13:36.879487Z",
     "start_time": "2025-05-04T10:13:36.864319Z"
    }
   },
   "cell_type": "code",
   "source": [
    "lr = MultiDimLinearRegression()\n",
    "lr.fit(X_train, y_train)\n",
    "y_pred = lr.predict(X_test)\n",
    "r2_score(y_test, y_pred)"
   ],
   "id": "c70a2da75b7cc08e",
   "outputs": [
    {
     "data": {
      "text/plain": [
       "0.4399338661568969"
      ]
     },
     "execution_count": 18,
     "metadata": {},
     "output_type": "execute_result"
    }
   ],
   "execution_count": 18
  },
  {
   "metadata": {},
   "cell_type": "code",
   "outputs": [],
   "execution_count": null,
   "source": "",
   "id": "d96469d7bfab1092"
  }
 ],
 "metadata": {
  "kernelspec": {
   "display_name": "Python 3",
   "language": "python",
   "name": "python3"
  },
  "language_info": {
   "codemirror_mode": {
    "name": "ipython",
    "version": 2
   },
   "file_extension": ".py",
   "mimetype": "text/x-python",
   "name": "python",
   "nbconvert_exporter": "python",
   "pygments_lexer": "ipython2",
   "version": "2.7.6"
  }
 },
 "nbformat": 4,
 "nbformat_minor": 5
}
