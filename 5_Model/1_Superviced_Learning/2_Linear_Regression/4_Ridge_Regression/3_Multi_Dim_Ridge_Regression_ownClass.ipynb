{
 "cells": [
  {
   "cell_type": "code",
   "id": "initial_id",
   "metadata": {
    "collapsed": true,
    "ExecuteTime": {
     "end_time": "2025-05-04T14:42:44.909487Z",
     "start_time": "2025-05-04T14:42:44.800784Z"
    }
   },
   "source": [
    "import pandas as pd\n",
    "import numpy as np\n",
    "import matplotlib.pyplot as plt\n",
    "import seaborn as sns\n",
    "from sklearn.datasets import load_diabetes"
   ],
   "outputs": [],
   "execution_count": 1
  },
  {
   "metadata": {
    "ExecuteTime": {
     "end_time": "2025-05-04T14:42:44.920597Z",
     "start_time": "2025-05-04T14:42:44.909487Z"
    }
   },
   "cell_type": "code",
   "source": [
    "X,y= load_diabetes(return_X_y=True)\n",
    "X"
   ],
   "id": "2a2cc5f8f62721e8",
   "outputs": [
    {
     "data": {
      "text/plain": [
       "array([[ 0.03807591,  0.05068012,  0.06169621, ..., -0.00259226,\n",
       "         0.01990749, -0.01764613],\n",
       "       [-0.00188202, -0.04464164, -0.05147406, ..., -0.03949338,\n",
       "        -0.06833155, -0.09220405],\n",
       "       [ 0.08529891,  0.05068012,  0.04445121, ..., -0.00259226,\n",
       "         0.00286131, -0.02593034],\n",
       "       ...,\n",
       "       [ 0.04170844,  0.05068012, -0.01590626, ..., -0.01107952,\n",
       "        -0.04688253,  0.01549073],\n",
       "       [-0.04547248, -0.04464164,  0.03906215, ...,  0.02655962,\n",
       "         0.04452873, -0.02593034],\n",
       "       [-0.04547248, -0.04464164, -0.0730303 , ..., -0.03949338,\n",
       "        -0.00422151,  0.00306441]], shape=(442, 10))"
      ]
     },
     "execution_count": 2,
     "metadata": {},
     "output_type": "execute_result"
    }
   ],
   "execution_count": 2
  },
  {
   "metadata": {
    "ExecuteTime": {
     "end_time": "2025-05-04T14:42:44.957321Z",
     "start_time": "2025-05-04T14:42:44.921603Z"
    }
   },
   "cell_type": "code",
   "source": [
    "from sklearn.model_selection import train_test_split\n",
    "\n",
    "X_train, X_test, y_train, y_test = train_test_split(X, y, test_size=0.2, random_state=2)\n",
    "X_train.shape, X_test.shape, y_train.shape, y_test.shape"
   ],
   "id": "1411e92749ba1aa7",
   "outputs": [
    {
     "data": {
      "text/plain": [
       "((353, 10), (89, 10), (353,), (89,))"
      ]
     },
     "execution_count": 3,
     "metadata": {},
     "output_type": "execute_result"
    }
   ],
   "execution_count": 3
  },
  {
   "metadata": {
    "ExecuteTime": {
     "end_time": "2025-05-04T14:42:44.962441Z",
     "start_time": "2025-05-04T14:42:44.957321Z"
    }
   },
   "cell_type": "code",
   "source": [
    "class RidgeRegressionMultiDim:\n",
    "    def __init__(self,alpha=0.01):\n",
    "        self.alpha = alpha\n",
    "        self.intercept = None\n",
    "        self.coef = None\n",
    "        \n",
    "    def fit(self,X_train, y_train):\n",
    "        \n",
    "        # 1. Insert 1 to all 0th position\n",
    "        X_train = np.insert(X_train,0,1,axis=1)\n",
    "            \n",
    "        # 2. Calculate Beta\n",
    "        no_of_col = X_train.shape[1]\n",
    "        I = np.identity(no_of_col)\n",
    "\n",
    "        Beta = np.linalg.inv(np.dot(X_train.T,X_train) + (self.alpha * I)).dot(X_train.T).dot(y_train)\n",
    "        \n",
    "        # 3. Distribute Beta\n",
    "        self.intercept = Beta[0]\n",
    "        self.coef = Beta[1:]\n",
    "        \n",
    "        \n",
    "        \n",
    "    def predict(self,X_test):\n",
    "        return np.dot(X_test, self.coef) + self.intercept"
   ],
   "id": "9b67d1e7eb55e74b",
   "outputs": [],
   "execution_count": 4
  },
  {
   "metadata": {
    "ExecuteTime": {
     "end_time": "2025-05-04T14:42:44.966403Z",
     "start_time": "2025-05-04T14:42:44.962441Z"
    }
   },
   "cell_type": "code",
   "source": "ridgeReg = RidgeRegressionMultiDim(alpha=0.001)",
   "id": "de60e50462e783b8",
   "outputs": [],
   "execution_count": 5
  },
  {
   "metadata": {
    "ExecuteTime": {
     "end_time": "2025-05-04T14:42:44.980576Z",
     "start_time": "2025-05-04T14:42:44.966403Z"
    }
   },
   "cell_type": "code",
   "source": "ridgeReg.fit(X_train, y_train)",
   "id": "64a50006f802d60f",
   "outputs": [],
   "execution_count": 6
  },
  {
   "metadata": {
    "ExecuteTime": {
     "end_time": "2025-05-04T14:42:44.985932Z",
     "start_time": "2025-05-04T14:42:44.980576Z"
    }
   },
   "cell_type": "code",
   "source": [
    "y_pred = ridgeReg.predict(X_test)\n",
    "y_pred"
   ],
   "id": "78fcdba9ca4b2f10",
   "outputs": [
    {
     "data": {
      "text/plain": [
       "array([153.89797616, 204.93657469, 124.83698337, 105.66545506,\n",
       "       260.141726  , 255.4082617 , 118.144477  , 119.1297584 ,\n",
       "       100.99433188, 190.30801571, 141.69498154, 172.11511136,\n",
       "       174.14547074, 134.56886222, 295.36997273,  93.41497069,\n",
       "       211.58955246, 155.93424024, 133.80787827, 120.08455947,\n",
       "       149.4304333 , 165.45715579, 150.35052973, 176.14419692,\n",
       "       132.52979683, 220.51224213, 197.2684579 ,  96.24536037,\n",
       "        50.92117729, 231.13231479, 242.23213001, 113.66918943,\n",
       "        67.38765552,  94.45556087, 201.74086269, 166.35841161,\n",
       "       159.73651095, 192.41792036, 114.3971541 , 233.67033468,\n",
       "       141.02414825, 120.9216534 , 192.25365048, 190.33204834,\n",
       "       178.78641032, 147.84781982, 163.78212581, 279.63433188,\n",
       "       100.27101692, 164.15399578, 256.03930729, 138.11397417,\n",
       "       152.37100076, 108.01953083, 194.11229778,  78.64241729,\n",
       "       118.6995266 ,  68.64605412, 154.27525423, 162.21412152,\n",
       "       167.95533021, 157.097138  ,  97.50274276, 237.90951388,\n",
       "       144.78471972, 118.30074146, 168.3697069 , 197.61742025,\n",
       "       118.49173814, 124.37625   , 222.98496052, 200.6213128 ,\n",
       "       129.22723854, 157.86810756, 153.56636942, 114.27757604,\n",
       "        71.35943827,  76.58697995, 171.85143739,  80.63629931,\n",
       "        82.06799695,  89.81454235, 185.74916422, 275.87709298,\n",
       "       207.7315753 , 144.34343834, 291.1188658 , 206.24475705,\n",
       "        94.56144322])"
      ]
     },
     "execution_count": 7,
     "metadata": {},
     "output_type": "execute_result"
    }
   ],
   "execution_count": 7
  },
  {
   "metadata": {
    "ExecuteTime": {
     "end_time": "2025-05-04T14:42:44.991457Z",
     "start_time": "2025-05-04T14:42:44.985932Z"
    }
   },
   "cell_type": "code",
   "source": [
    "from sklearn.metrics import r2_score\n",
    "r2_score(y_test, y_pred)"
   ],
   "id": "34135a06d09e3c9f",
   "outputs": [
    {
     "data": {
      "text/plain": [
       "0.4408614135611134"
      ]
     },
     "execution_count": 8,
     "metadata": {},
     "output_type": "execute_result"
    }
   ],
   "execution_count": 8
  },
  {
   "metadata": {
    "ExecuteTime": {
     "end_time": "2025-05-04T14:42:44.999310Z",
     "start_time": "2025-05-04T14:42:44.996213Z"
    }
   },
   "cell_type": "code",
   "source": "",
   "id": "5f100c91fcec9361",
   "outputs": [],
   "execution_count": 9
  }
 ],
 "metadata": {
  "kernelspec": {
   "display_name": "Python 3",
   "language": "python",
   "name": "python3"
  },
  "language_info": {
   "codemirror_mode": {
    "name": "ipython",
    "version": 2
   },
   "file_extension": ".py",
   "mimetype": "text/x-python",
   "name": "python",
   "nbconvert_exporter": "python",
   "pygments_lexer": "ipython2",
   "version": "2.7.6"
  }
 },
 "nbformat": 4,
 "nbformat_minor": 5
}
