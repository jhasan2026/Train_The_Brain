{
 "cells": [
  {
   "cell_type": "code",
   "id": "initial_id",
   "metadata": {
    "collapsed": true,
    "ExecuteTime": {
     "end_time": "2025-05-04T14:14:58.366548Z",
     "start_time": "2025-05-04T14:14:58.251288Z"
    }
   },
   "source": [
    "import pandas as pd\n",
    "import numpy as np\n",
    "import matplotlib.pyplot as plt\n",
    "import seaborn as sns\n",
    "from sklearn.datasets import load_diabetes"
   ],
   "outputs": [],
   "execution_count": 1
  },
  {
   "metadata": {
    "ExecuteTime": {
     "end_time": "2025-05-04T14:15:26.366472Z",
     "start_time": "2025-05-04T14:15:26.300588Z"
    }
   },
   "cell_type": "code",
   "source": [
    "df = pd.read_csv('../../../../Data/placement_package.csv')\n",
    "df"
   ],
   "id": "2a2cc5f8f62721e8",
   "outputs": [
    {
     "data": {
      "text/plain": [
       "     cgpa  package\n",
       "0    6.89     3.26\n",
       "1    5.12     1.98\n",
       "2    7.82     3.25\n",
       "3    7.42     3.67\n",
       "4    6.94     3.57\n",
       "..    ...      ...\n",
       "195  6.93     2.46\n",
       "196  5.89     2.57\n",
       "197  7.21     3.24\n",
       "198  7.63     3.96\n",
       "199  6.22     2.33\n",
       "\n",
       "[200 rows x 2 columns]"
      ],
      "text/html": [
       "<div>\n",
       "<style scoped>\n",
       "    .dataframe tbody tr th:only-of-type {\n",
       "        vertical-align: middle;\n",
       "    }\n",
       "\n",
       "    .dataframe tbody tr th {\n",
       "        vertical-align: top;\n",
       "    }\n",
       "\n",
       "    .dataframe thead th {\n",
       "        text-align: right;\n",
       "    }\n",
       "</style>\n",
       "<table border=\"1\" class=\"dataframe\">\n",
       "  <thead>\n",
       "    <tr style=\"text-align: right;\">\n",
       "      <th></th>\n",
       "      <th>cgpa</th>\n",
       "      <th>package</th>\n",
       "    </tr>\n",
       "  </thead>\n",
       "  <tbody>\n",
       "    <tr>\n",
       "      <th>0</th>\n",
       "      <td>6.89</td>\n",
       "      <td>3.26</td>\n",
       "    </tr>\n",
       "    <tr>\n",
       "      <th>1</th>\n",
       "      <td>5.12</td>\n",
       "      <td>1.98</td>\n",
       "    </tr>\n",
       "    <tr>\n",
       "      <th>2</th>\n",
       "      <td>7.82</td>\n",
       "      <td>3.25</td>\n",
       "    </tr>\n",
       "    <tr>\n",
       "      <th>3</th>\n",
       "      <td>7.42</td>\n",
       "      <td>3.67</td>\n",
       "    </tr>\n",
       "    <tr>\n",
       "      <th>4</th>\n",
       "      <td>6.94</td>\n",
       "      <td>3.57</td>\n",
       "    </tr>\n",
       "    <tr>\n",
       "      <th>...</th>\n",
       "      <td>...</td>\n",
       "      <td>...</td>\n",
       "    </tr>\n",
       "    <tr>\n",
       "      <th>195</th>\n",
       "      <td>6.93</td>\n",
       "      <td>2.46</td>\n",
       "    </tr>\n",
       "    <tr>\n",
       "      <th>196</th>\n",
       "      <td>5.89</td>\n",
       "      <td>2.57</td>\n",
       "    </tr>\n",
       "    <tr>\n",
       "      <th>197</th>\n",
       "      <td>7.21</td>\n",
       "      <td>3.24</td>\n",
       "    </tr>\n",
       "    <tr>\n",
       "      <th>198</th>\n",
       "      <td>7.63</td>\n",
       "      <td>3.96</td>\n",
       "    </tr>\n",
       "    <tr>\n",
       "      <th>199</th>\n",
       "      <td>6.22</td>\n",
       "      <td>2.33</td>\n",
       "    </tr>\n",
       "  </tbody>\n",
       "</table>\n",
       "<p>200 rows × 2 columns</p>\n",
       "</div>"
      ]
     },
     "execution_count": 2,
     "metadata": {},
     "output_type": "execute_result"
    }
   ],
   "execution_count": 2
  },
  {
   "metadata": {
    "ExecuteTime": {
     "end_time": "2025-05-04T14:15:27.435982Z",
     "start_time": "2025-05-04T14:15:27.390834Z"
    }
   },
   "cell_type": "code",
   "source": [
    "from sklearn.model_selection import train_test_split\n",
    "\n",
    "X_train, X_test, y_train, y_test = train_test_split(df.iloc[:, 0], df.iloc[:, 1], test_size=0.2, random_state=2)\n",
    "X_train.shape, X_test.shape, y_train.shape, y_test.shape"
   ],
   "id": "1411e92749ba1aa7",
   "outputs": [
    {
     "data": {
      "text/plain": [
       "((160,), (40,), (160,), (40,))"
      ]
     },
     "execution_count": 3,
     "metadata": {},
     "output_type": "execute_result"
    }
   ],
   "execution_count": 3
  },
  {
   "metadata": {
    "ExecuteTime": {
     "end_time": "2025-05-04T14:15:28.673717Z",
     "start_time": "2025-05-04T14:15:28.194823Z"
    }
   },
   "cell_type": "code",
   "source": "plt.scatter(X_train, y_train)",
   "id": "3c800af09fe031db",
   "outputs": [
    {
     "data": {
      "text/plain": [
       "<matplotlib.collections.PathCollection at 0x1babe78f2c0>"
      ]
     },
     "execution_count": 4,
     "metadata": {},
     "output_type": "execute_result"
    },
    {
     "data": {
      "text/plain": [
       "<Figure size 640x480 with 1 Axes>"
      ],
      "image/png": "[encoded data removed]"
     },
     "metadata": {},
     "output_type": "display_data"
    }
   ],
   "execution_count": 4
  },
  {
   "metadata": {
    "ExecuteTime": {
     "end_time": "2025-05-04T14:23:16.081968Z",
     "start_time": "2025-05-04T14:23:16.074218Z"
    }
   },
   "cell_type": "code",
   "source": [
    "class RidgeRegression:\n",
    "    def __init__(self,alpha=0.1):\n",
    "        self.alpha = alpha\n",
    "        self.m = None\n",
    "        self.b = None\n",
    "        \n",
    "    def fit(self,X_train,y_train):\n",
    "        no_of_row = X_train.shape[0]\n",
    "        \n",
    "        num = 0\n",
    "        deno = 0\n",
    "        \n",
    "        x_mean = X_train.mean()\n",
    "        y_mean = y_train.mean()\n",
    "        \n",
    "        for ithRow in range(no_of_row):\n",
    "            num += (X_train.iloc[ithRow] - x_mean) * (y_train.iloc[ithRow] - y_mean)\n",
    "            deno += (X_train.iloc[ithRow] - x_mean)**2\n",
    "            \n",
    "        self.m = num/(deno + self.alpha)\n",
    "        self.b = y_mean - (self.m * x_mean)\n",
    "        \n",
    "    def predict(self,X_test):\n",
    "        return (self.m * X_test) + self.b\n",
    "        "
   ],
   "id": "9b67d1e7eb55e74b",
   "outputs": [],
   "execution_count": 10
  },
  {
   "metadata": {
    "ExecuteTime": {
     "end_time": "2025-05-04T14:23:16.762907Z",
     "start_time": "2025-05-04T14:23:16.754878Z"
    }
   },
   "cell_type": "code",
   "source": "ridgeReg = RidgeRegression(alpha=0.001)",
   "id": "de60e50462e783b8",
   "outputs": [],
   "execution_count": 11
  },
  {
   "metadata": {
    "ExecuteTime": {
     "end_time": "2025-05-04T14:23:17.187364Z",
     "start_time": "2025-05-04T14:23:17.179728Z"
    }
   },
   "cell_type": "code",
   "source": "ridgeReg.fit(X_train, y_train)",
   "id": "64a50006f802d60f",
   "outputs": [],
   "execution_count": 12
  },
  {
   "metadata": {
    "ExecuteTime": {
     "end_time": "2025-05-04T14:23:32.263651Z",
     "start_time": "2025-05-04T14:23:32.248254Z"
    }
   },
   "cell_type": "code",
   "source": [
    "y_pred = ridgeReg.predict(X_test)\n",
    "y_pred"
   ],
   "id": "78fcdba9ca4b2f10",
   "outputs": [
    {
     "data": {
      "text/plain": [
       "112    3.891111\n",
       "29     3.093244\n",
       "182    2.384649\n",
       "199    2.574352\n",
       "193    1.653736\n",
       "85     1.776485\n",
       "10     2.072198\n",
       "54     2.931439\n",
       "115    3.762783\n",
       "35     2.937019\n",
       "12     4.091973\n",
       "92     3.511706\n",
       "13     2.970495\n",
       "126    2.401388\n",
       "174    3.188096\n",
       "2      3.467070\n",
       "44     1.943869\n",
       "3      3.243890\n",
       "113    2.976075\n",
       "14     3.416855\n",
       "23     2.557613\n",
       "25     3.165778\n",
       "6      2.858906\n",
       "134    3.121142\n",
       "165    3.684670\n",
       "173    2.870065\n",
       "45     3.494967\n",
       "65     3.344321\n",
       "48     3.919009\n",
       "122    1.960608\n",
       "178    3.651193\n",
       "64     3.210413\n",
       "9      3.740465\n",
       "57     2.786372\n",
       "78     2.780793\n",
       "71     3.271788\n",
       "128    3.528444\n",
       "176    2.613408\n",
       "131    2.658044\n",
       "53     2.713839\n",
       "Name: cgpa, dtype: float64"
      ]
     },
     "execution_count": 13,
     "metadata": {},
     "output_type": "execute_result"
    }
   ],
   "execution_count": 13
  },
  {
   "metadata": {
    "ExecuteTime": {
     "end_time": "2025-05-04T14:23:50.568193Z",
     "start_time": "2025-05-04T14:23:50.555130Z"
    }
   },
   "cell_type": "code",
   "source": [
    "from sklearn.metrics import r2_score\n",
    "r2_score(y_test, y_pred)"
   ],
   "id": "34135a06d09e3c9f",
   "outputs": [
    {
     "data": {
      "text/plain": [
       "0.7807294112384224"
      ]
     },
     "execution_count": 14,
     "metadata": {},
     "output_type": "execute_result"
    }
   ],
   "execution_count": 14
  },
  {
   "metadata": {},
   "cell_type": "code",
   "outputs": [],
   "execution_count": null,
   "source": "",
   "id": "86c510cb2e3690d5"
  }
 ],
 "metadata": {
  "kernelspec": {
   "display_name": "Python 3",
   "language": "python",
   "name": "python3"
  },
  "language_info": {
   "codemirror_mode": {
    "name": "ipython",
    "version": 2
   },
   "file_extension": ".py",
   "mimetype": "text/x-python",
   "name": "python",
   "nbconvert_exporter": "python",
   "pygments_lexer": "ipython2",
   "version": "2.7.6"
  }
 },
 "nbformat": 4,
 "nbformat_minor": 5
}
