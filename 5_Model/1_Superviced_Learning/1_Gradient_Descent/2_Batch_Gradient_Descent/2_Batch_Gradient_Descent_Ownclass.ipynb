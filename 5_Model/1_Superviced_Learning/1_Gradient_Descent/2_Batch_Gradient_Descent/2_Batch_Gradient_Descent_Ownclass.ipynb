{
 "cells": [
  {
   "cell_type": "code",
   "id": "initial_id",
   "metadata": {
    "collapsed": true,
    "ExecuteTime": {
     "end_time": "2025-05-04T06:38:37.797471Z",
     "start_time": "2025-05-04T06:38:37.634467Z"
    }
   },
   "source": [
    "import pandas as pd\n",
    "import numpy as np\n",
    "import matplotlib.pyplot as plt\n",
    "import seaborn as sns\n",
    "from sklearn.linear_model import LinearRegression\n",
    "from sklearn.datasets import load_diabetes"
   ],
   "outputs": [],
   "execution_count": 1
  },
  {
   "metadata": {
    "ExecuteTime": {
     "end_time": "2025-05-04T06:38:37.805488Z",
     "start_time": "2025-05-04T06:38:37.797471Z"
    }
   },
   "cell_type": "code",
   "source": "X, y = load_diabetes(return_X_y=True)",
   "id": "6cf634aa0f18992b",
   "outputs": [],
   "execution_count": 2
  },
  {
   "metadata": {
    "ExecuteTime": {
     "end_time": "2025-05-04T06:38:37.812507Z",
     "start_time": "2025-05-04T06:38:37.805488Z"
    }
   },
   "cell_type": "code",
   "source": "X",
   "id": "7e6cfbac4a640a8f",
   "outputs": [
    {
     "data": {
      "text/plain": [
       "array([[ 0.03807591,  0.05068012,  0.06169621, ..., -0.00259226,\n",
       "         0.01990749, -0.01764613],\n",
       "       [-0.00188202, -0.04464164, -0.05147406, ..., -0.03949338,\n",
       "        -0.06833155, -0.09220405],\n",
       "       [ 0.08529891,  0.05068012,  0.04445121, ..., -0.00259226,\n",
       "         0.00286131, -0.02593034],\n",
       "       ...,\n",
       "       [ 0.04170844,  0.05068012, -0.01590626, ..., -0.01107952,\n",
       "        -0.04688253,  0.01549073],\n",
       "       [-0.04547248, -0.04464164,  0.03906215, ...,  0.02655962,\n",
       "         0.04452873, -0.02593034],\n",
       "       [-0.04547248, -0.04464164, -0.0730303 , ..., -0.03949338,\n",
       "        -0.00422151,  0.00306441]], shape=(442, 10))"
      ]
     },
     "execution_count": 3,
     "metadata": {},
     "output_type": "execute_result"
    }
   ],
   "execution_count": 3
  },
  {
   "metadata": {
    "ExecuteTime": {
     "end_time": "2025-05-04T06:38:37.820249Z",
     "start_time": "2025-05-04T06:38:37.812507Z"
    }
   },
   "cell_type": "code",
   "source": "y",
   "id": "ea406c63d857ac43",
   "outputs": [
    {
     "data": {
      "text/plain": [
       "array([151.,  75., 141., 206., 135.,  97., 138.,  63., 110., 310., 101.,\n",
       "        69., 179., 185., 118., 171., 166., 144.,  97., 168.,  68.,  49.,\n",
       "        68., 245., 184., 202., 137.,  85., 131., 283., 129.,  59., 341.,\n",
       "        87.,  65., 102., 265., 276., 252.,  90., 100.,  55.,  61.,  92.,\n",
       "       259.,  53., 190., 142.,  75., 142., 155., 225.,  59., 104., 182.,\n",
       "       128.,  52.,  37., 170., 170.,  61., 144.,  52., 128.,  71., 163.,\n",
       "       150.,  97., 160., 178.,  48., 270., 202., 111.,  85.,  42., 170.,\n",
       "       200., 252., 113., 143.,  51.,  52., 210.,  65., 141.,  55., 134.,\n",
       "        42., 111.,  98., 164.,  48.,  96.,  90., 162., 150., 279.,  92.,\n",
       "        83., 128., 102., 302., 198.,  95.,  53., 134., 144., 232.,  81.,\n",
       "       104.,  59., 246., 297., 258., 229., 275., 281., 179., 200., 200.,\n",
       "       173., 180.,  84., 121., 161.,  99., 109., 115., 268., 274., 158.,\n",
       "       107.,  83., 103., 272.,  85., 280., 336., 281., 118., 317., 235.,\n",
       "        60., 174., 259., 178., 128.,  96., 126., 288.,  88., 292.,  71.,\n",
       "       197., 186.,  25.,  84.,  96., 195.,  53., 217., 172., 131., 214.,\n",
       "        59.,  70., 220., 268., 152.,  47.,  74., 295., 101., 151., 127.,\n",
       "       237., 225.,  81., 151., 107.,  64., 138., 185., 265., 101., 137.,\n",
       "       143., 141.,  79., 292., 178.,  91., 116.,  86., 122.,  72., 129.,\n",
       "       142.,  90., 158.,  39., 196., 222., 277.,  99., 196., 202., 155.,\n",
       "        77., 191.,  70.,  73.,  49.,  65., 263., 248., 296., 214., 185.,\n",
       "        78.,  93., 252., 150.,  77., 208.,  77., 108., 160.,  53., 220.,\n",
       "       154., 259.,  90., 246., 124.,  67.,  72., 257., 262., 275., 177.,\n",
       "        71.,  47., 187., 125.,  78.,  51., 258., 215., 303., 243.,  91.,\n",
       "       150., 310., 153., 346.,  63.,  89.,  50.,  39., 103., 308., 116.,\n",
       "       145.,  74.,  45., 115., 264.,  87., 202., 127., 182., 241.,  66.,\n",
       "        94., 283.,  64., 102., 200., 265.,  94., 230., 181., 156., 233.,\n",
       "        60., 219.,  80.,  68., 332., 248.,  84., 200.,  55.,  85.,  89.,\n",
       "        31., 129.,  83., 275.,  65., 198., 236., 253., 124.,  44., 172.,\n",
       "       114., 142., 109., 180., 144., 163., 147.,  97., 220., 190., 109.,\n",
       "       191., 122., 230., 242., 248., 249., 192., 131., 237.,  78., 135.,\n",
       "       244., 199., 270., 164.,  72.,  96., 306.,  91., 214.,  95., 216.,\n",
       "       263., 178., 113., 200., 139., 139.,  88., 148.,  88., 243.,  71.,\n",
       "        77., 109., 272.,  60.,  54., 221.,  90., 311., 281., 182., 321.,\n",
       "        58., 262., 206., 233., 242., 123., 167.,  63., 197.,  71., 168.,\n",
       "       140., 217., 121., 235., 245.,  40.,  52., 104., 132.,  88.,  69.,\n",
       "       219.,  72., 201., 110.,  51., 277.,  63., 118.,  69., 273., 258.,\n",
       "        43., 198., 242., 232., 175.,  93., 168., 275., 293., 281.,  72.,\n",
       "       140., 189., 181., 209., 136., 261., 113., 131., 174., 257.,  55.,\n",
       "        84.,  42., 146., 212., 233.,  91., 111., 152., 120.,  67., 310.,\n",
       "        94., 183.,  66., 173.,  72.,  49.,  64.,  48., 178., 104., 132.,\n",
       "       220.,  57.])"
      ]
     },
     "execution_count": 4,
     "metadata": {},
     "output_type": "execute_result"
    }
   ],
   "execution_count": 4
  },
  {
   "metadata": {
    "ExecuteTime": {
     "end_time": "2025-05-04T06:38:37.826089Z",
     "start_time": "2025-05-04T06:38:37.820249Z"
    }
   },
   "cell_type": "code",
   "source": [
    "from sklearn.model_selection import train_test_split\n",
    "X_train, X_test, y_train, y_test = train_test_split(X,y,test_size=0.2,random_state=2)\n",
    "X_train.shape, X_test.shape, y_train.shape, y_test.shape"
   ],
   "id": "eb1ea8b377ebfa1b",
   "outputs": [
    {
     "data": {
      "text/plain": [
       "((353, 10), (89, 10), (353,), (89,))"
      ]
     },
     "execution_count": 5,
     "metadata": {},
     "output_type": "execute_result"
    }
   ],
   "execution_count": 5
  },
  {
   "metadata": {
    "ExecuteTime": {
     "end_time": "2025-05-04T06:38:50.622239Z",
     "start_time": "2025-05-04T06:38:50.615089Z"
    }
   },
   "cell_type": "code",
   "source": [
    "class BatchGradientDescent:\n",
    "    def __init__(self,learning_rate=0.1,epochs=100):\n",
    "        self.learning_rate =learning_rate\n",
    "        self.epochs =epochs\n",
    "        self.coef =None\n",
    "        self.intercept =None\n",
    "        \n",
    "    def fit(self,X_train,y_train):\n",
    "        no_of_row = X_train.shape[0]\n",
    "        no_of_col = X_train.shape[1]\n",
    "        \n",
    "        # 1. Initialize Intercept and Coef\n",
    "        self.intercept = 0\n",
    "        self.coef = np.ones(no_of_col)\n",
    "        \n",
    "        for epoch in range(self.epochs):\n",
    "            \n",
    "            y_hat = self.intercept + np.dot(X_train,self.coef)        # 0 + (row,col) dot (col,)  ---> (row,)\n",
    "            \n",
    "            # 2. Calculate Gradient\n",
    "            dL_by_dB0 =  (-2 * np.sum(y_train - y_hat) )/ no_of_row\n",
    "            dL_by_dB1 = (-2 * np.dot(y_train - y_hat, X_train)) / no_of_row    # (row,) * (row * col)  ---> (col,)\n",
    "            \n",
    "            # 3. Update Intercept and Coef\n",
    "            \n",
    "            self.intercept -= (self.learning_rate * dL_by_dB0)\n",
    "            self.coef -= (self.learning_rate * dL_by_dB1)\n",
    "            \n",
    "    def preditct(self,X_test):\n",
    "        return np.dot(X_test, self.coef) + self.intercept\n",
    "        "
   ],
   "id": "eb9300ded5980eeb",
   "outputs": [],
   "execution_count": 11
  },
  {
   "metadata": {
    "ExecuteTime": {
     "end_time": "2025-05-04T06:38:51.016020Z",
     "start_time": "2025-05-04T06:38:51.006393Z"
    }
   },
   "cell_type": "code",
   "source": "bGd = BatchGradientDescent(learning_rate=0.5,epochs=1000)",
   "id": "82fd74f97228b641",
   "outputs": [],
   "execution_count": 12
  },
  {
   "metadata": {
    "ExecuteTime": {
     "end_time": "2025-05-04T06:38:51.652789Z",
     "start_time": "2025-05-04T06:38:51.634113Z"
    }
   },
   "cell_type": "code",
   "source": "bGd.fit(X_train, y_train)",
   "id": "de0b70449b2efd1a",
   "outputs": [],
   "execution_count": 13
  },
  {
   "metadata": {
    "ExecuteTime": {
     "end_time": "2025-05-04T06:38:52.494055Z",
     "start_time": "2025-05-04T06:38:52.487988Z"
    }
   },
   "cell_type": "code",
   "source": "bGd.intercept, bGd.coef",
   "id": "b312284564c0c091",
   "outputs": [
    {
     "data": {
      "text/plain": [
       "(np.float64(152.01351687661833),\n",
       " array([  14.38990585, -173.7235727 ,  491.54898524,  323.91524824,\n",
       "         -39.32648042, -116.01061213, -194.04077415,  103.38135565,\n",
       "         451.63448787,   97.57218278]))"
      ]
     },
     "execution_count": 14,
     "metadata": {},
     "output_type": "execute_result"
    }
   ],
   "execution_count": 14
  },
  {
   "metadata": {
    "ExecuteTime": {
     "end_time": "2025-05-04T06:39:04.020594Z",
     "start_time": "2025-05-04T06:39:04.008593Z"
    }
   },
   "cell_type": "code",
   "source": "y_pred = bGd.preditct(X_test)",
   "id": "a7ec8100d85081a6",
   "outputs": [],
   "execution_count": 15
  },
  {
   "metadata": {
    "ExecuteTime": {
     "end_time": "2025-05-04T06:39:06.602323Z",
     "start_time": "2025-05-04T06:39:06.595496Z"
    }
   },
   "cell_type": "code",
   "source": "y_pred",
   "id": "b5d157116a04c57",
   "outputs": [
    {
     "data": {
      "text/plain": [
       "array([152.26392304, 198.96222354, 127.66111541, 104.59596478,\n",
       "       265.23062371, 252.09467525, 112.76592254, 115.72549839,\n",
       "        96.37765691, 187.64845451, 144.9482918 , 172.110596  ,\n",
       "       178.81497695, 136.51444368, 292.15564227,  87.25795061,\n",
       "       202.18473262, 149.11155912, 132.30895031, 128.70828962,\n",
       "       148.38757935, 171.81318343, 150.93593445, 174.47559507,\n",
       "       127.76388814, 221.82234243, 199.96855698, 101.54518353,\n",
       "        54.85644772, 237.61948938, 244.2801351 , 112.91877003,\n",
       "        68.12192242,  96.00468527, 204.32975531, 163.99882781,\n",
       "       160.95172334, 191.90398957, 113.33794145, 238.46002509,\n",
       "       141.40211434, 120.45598718, 188.12639096, 186.46474321,\n",
       "       174.98259299, 143.24561624, 168.80798895, 299.18508813,\n",
       "       105.40854525, 169.51466009, 254.37509674, 142.60026818,\n",
       "       151.7158263 , 122.70403085, 191.52875115,  94.27792144,\n",
       "       129.03875584,  75.96073902, 157.91752518, 156.36603694,\n",
       "       163.20324594, 160.93274887, 102.3002858 , 227.7604113 ,\n",
       "       146.38764326, 130.09088849, 161.03126295, 192.83334912,\n",
       "       122.94795619, 126.85846035, 217.79918548, 199.2052686 ,\n",
       "       123.42023802, 154.19075213, 146.2669768 , 112.40128412,\n",
       "        80.42448582,  77.96472134, 169.32977609,  81.10892485,\n",
       "        97.26108764,  97.98086796, 179.31830771, 275.58154656,\n",
       "       206.20895128, 146.76562108, 282.5643577 , 202.33755312,\n",
       "        98.43145491])"
      ]
     },
     "execution_count": 16,
     "metadata": {},
     "output_type": "execute_result"
    }
   ],
   "execution_count": 16
  },
  {
   "metadata": {
    "ExecuteTime": {
     "end_time": "2025-05-04T06:39:26.872026Z",
     "start_time": "2025-05-04T06:39:26.857860Z"
    }
   },
   "cell_type": "code",
   "source": [
    "from sklearn.metrics import r2_score\n",
    "r2_score(y_test, y_pred)"
   ],
   "id": "84f2e4bb86177e64",
   "outputs": [
    {
     "data": {
      "text/plain": [
       "0.4534503034722803"
      ]
     },
     "execution_count": 17,
     "metadata": {},
     "output_type": "execute_result"
    }
   ],
   "execution_count": 17
  },
  {
   "metadata": {},
   "cell_type": "code",
   "outputs": [],
   "execution_count": null,
   "source": "",
   "id": "7b1bce5fbe71ba41"
  }
 ],
 "metadata": {
  "kernelspec": {
   "display_name": "Python 3",
   "language": "python",
   "name": "python3"
  },
  "language_info": {
   "codemirror_mode": {
    "name": "ipython",
    "version": 2
   },
   "file_extension": ".py",
   "mimetype": "text/x-python",
   "name": "python",
   "nbconvert_exporter": "python",
   "pygments_lexer": "ipython2",
   "version": "2.7.6"
  }
 },
 "nbformat": 4,
 "nbformat_minor": 5
}
