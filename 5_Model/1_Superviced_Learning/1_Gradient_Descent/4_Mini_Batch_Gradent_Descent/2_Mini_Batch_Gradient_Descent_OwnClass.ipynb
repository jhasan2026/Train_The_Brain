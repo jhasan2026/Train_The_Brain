{
 "cells": [
  {
   "cell_type": "code",
   "id": "f1076c3eb216e4b3",
   "metadata": {
    "collapsed": true,
    "ExecuteTime": {
     "end_time": "2025-05-04T07:01:44.916288Z",
     "start_time": "2025-05-04T07:01:44.748825Z"
    }
   },
   "source": [
    "import pandas as pd\n",
    "import numpy as np\n",
    "import matplotlib.pyplot as plt\n",
    "import seaborn as sns\n",
    "from sklearn.linear_model import LinearRegression\n",
    "from sklearn.datasets import load_diabetes"
   ],
   "outputs": [],
   "execution_count": 1
  },
  {
   "metadata": {
    "ExecuteTime": {
     "end_time": "2025-05-04T07:01:44.924706Z",
     "start_time": "2025-05-04T07:01:44.916288Z"
    }
   },
   "cell_type": "code",
   "source": "X, y = load_diabetes(return_X_y=True)",
   "id": "1e4196d847d92a0b",
   "outputs": [],
   "execution_count": 2
  },
  {
   "metadata": {
    "ExecuteTime": {
     "end_time": "2025-05-04T07:01:44.930943Z",
     "start_time": "2025-05-04T07:01:44.924706Z"
    }
   },
   "cell_type": "code",
   "source": "X",
   "id": "b7d75df1dafb2a52",
   "outputs": [
    {
     "data": {
      "text/plain": [
       "array([[ 0.03807591,  0.05068012,  0.06169621, ..., -0.00259226,\n",
       "         0.01990749, -0.01764613],\n",
       "       [-0.00188202, -0.04464164, -0.05147406, ..., -0.03949338,\n",
       "        -0.06833155, -0.09220405],\n",
       "       [ 0.08529891,  0.05068012,  0.04445121, ..., -0.00259226,\n",
       "         0.00286131, -0.02593034],\n",
       "       ...,\n",
       "       [ 0.04170844,  0.05068012, -0.01590626, ..., -0.01107952,\n",
       "        -0.04688253,  0.01549073],\n",
       "       [-0.04547248, -0.04464164,  0.03906215, ...,  0.02655962,\n",
       "         0.04452873, -0.02593034],\n",
       "       [-0.04547248, -0.04464164, -0.0730303 , ..., -0.03949338,\n",
       "        -0.00422151,  0.00306441]], shape=(442, 10))"
      ]
     },
     "execution_count": 3,
     "metadata": {},
     "output_type": "execute_result"
    }
   ],
   "execution_count": 3
  },
  {
   "metadata": {
    "ExecuteTime": {
     "end_time": "2025-05-04T07:01:44.938594Z",
     "start_time": "2025-05-04T07:01:44.930943Z"
    }
   },
   "cell_type": "code",
   "source": "y",
   "id": "3aaecffacd65ff0b",
   "outputs": [
    {
     "data": {
      "text/plain": [
       "array([151.,  75., 141., 206., 135.,  97., 138.,  63., 110., 310., 101.,\n",
       "        69., 179., 185., 118., 171., 166., 144.,  97., 168.,  68.,  49.,\n",
       "        68., 245., 184., 202., 137.,  85., 131., 283., 129.,  59., 341.,\n",
       "        87.,  65., 102., 265., 276., 252.,  90., 100.,  55.,  61.,  92.,\n",
       "       259.,  53., 190., 142.,  75., 142., 155., 225.,  59., 104., 182.,\n",
       "       128.,  52.,  37., 170., 170.,  61., 144.,  52., 128.,  71., 163.,\n",
       "       150.,  97., 160., 178.,  48., 270., 202., 111.,  85.,  42., 170.,\n",
       "       200., 252., 113., 143.,  51.,  52., 210.,  65., 141.,  55., 134.,\n",
       "        42., 111.,  98., 164.,  48.,  96.,  90., 162., 150., 279.,  92.,\n",
       "        83., 128., 102., 302., 198.,  95.,  53., 134., 144., 232.,  81.,\n",
       "       104.,  59., 246., 297., 258., 229., 275., 281., 179., 200., 200.,\n",
       "       173., 180.,  84., 121., 161.,  99., 109., 115., 268., 274., 158.,\n",
       "       107.,  83., 103., 272.,  85., 280., 336., 281., 118., 317., 235.,\n",
       "        60., 174., 259., 178., 128.,  96., 126., 288.,  88., 292.,  71.,\n",
       "       197., 186.,  25.,  84.,  96., 195.,  53., 217., 172., 131., 214.,\n",
       "        59.,  70., 220., 268., 152.,  47.,  74., 295., 101., 151., 127.,\n",
       "       237., 225.,  81., 151., 107.,  64., 138., 185., 265., 101., 137.,\n",
       "       143., 141.,  79., 292., 178.,  91., 116.,  86., 122.,  72., 129.,\n",
       "       142.,  90., 158.,  39., 196., 222., 277.,  99., 196., 202., 155.,\n",
       "        77., 191.,  70.,  73.,  49.,  65., 263., 248., 296., 214., 185.,\n",
       "        78.,  93., 252., 150.,  77., 208.,  77., 108., 160.,  53., 220.,\n",
       "       154., 259.,  90., 246., 124.,  67.,  72., 257., 262., 275., 177.,\n",
       "        71.,  47., 187., 125.,  78.,  51., 258., 215., 303., 243.,  91.,\n",
       "       150., 310., 153., 346.,  63.,  89.,  50.,  39., 103., 308., 116.,\n",
       "       145.,  74.,  45., 115., 264.,  87., 202., 127., 182., 241.,  66.,\n",
       "        94., 283.,  64., 102., 200., 265.,  94., 230., 181., 156., 233.,\n",
       "        60., 219.,  80.,  68., 332., 248.,  84., 200.,  55.,  85.,  89.,\n",
       "        31., 129.,  83., 275.,  65., 198., 236., 253., 124.,  44., 172.,\n",
       "       114., 142., 109., 180., 144., 163., 147.,  97., 220., 190., 109.,\n",
       "       191., 122., 230., 242., 248., 249., 192., 131., 237.,  78., 135.,\n",
       "       244., 199., 270., 164.,  72.,  96., 306.,  91., 214.,  95., 216.,\n",
       "       263., 178., 113., 200., 139., 139.,  88., 148.,  88., 243.,  71.,\n",
       "        77., 109., 272.,  60.,  54., 221.,  90., 311., 281., 182., 321.,\n",
       "        58., 262., 206., 233., 242., 123., 167.,  63., 197.,  71., 168.,\n",
       "       140., 217., 121., 235., 245.,  40.,  52., 104., 132.,  88.,  69.,\n",
       "       219.,  72., 201., 110.,  51., 277.,  63., 118.,  69., 273., 258.,\n",
       "        43., 198., 242., 232., 175.,  93., 168., 275., 293., 281.,  72.,\n",
       "       140., 189., 181., 209., 136., 261., 113., 131., 174., 257.,  55.,\n",
       "        84.,  42., 146., 212., 233.,  91., 111., 152., 120.,  67., 310.,\n",
       "        94., 183.,  66., 173.,  72.,  49.,  64.,  48., 178., 104., 132.,\n",
       "       220.,  57.])"
      ]
     },
     "execution_count": 4,
     "metadata": {},
     "output_type": "execute_result"
    }
   ],
   "execution_count": 4
  },
  {
   "metadata": {
    "ExecuteTime": {
     "end_time": "2025-05-04T07:01:44.944142Z",
     "start_time": "2025-05-04T07:01:44.938594Z"
    }
   },
   "cell_type": "code",
   "source": [
    "from sklearn.model_selection import train_test_split\n",
    "\n",
    "X_train, X_test, y_train, y_test = train_test_split(X, y, test_size=0.2, random_state=2)\n",
    "X_train.shape, X_test.shape, y_train.shape, y_test.shape"
   ],
   "id": "initial_id",
   "outputs": [
    {
     "data": {
      "text/plain": [
       "((353, 10), (89, 10), (353,), (89,))"
      ]
     },
     "execution_count": 5,
     "metadata": {},
     "output_type": "execute_result"
    }
   ],
   "execution_count": 5
  },
  {
   "metadata": {
    "ExecuteTime": {
     "end_time": "2025-05-04T07:01:44.949691Z",
     "start_time": "2025-05-04T07:01:44.944142Z"
    }
   },
   "cell_type": "code",
   "source": [
    "class StochasticGradientDescent:\n",
    "    def __init__(self,learning_rate=0.01,epochs=100):\n",
    "        self.learning_rate = learning_rate\n",
    "        self.epochs = epochs\n",
    "        self.intercept = None\n",
    "        self.coef = None\n",
    "        \n",
    "    def fit(self,X_train, y_train):\n",
    "        no_of_row = X_train.shape[0]\n",
    "        no_of_col = X_train.shape[1]\n",
    "        \n",
    "        # 1. Initialize Intercept and Coef\n",
    "        self.intercept = 0\n",
    "        self.coef = np.ones(no_of_col)\n",
    "        \n",
    "        for epoch in range(self.epochs):\n",
    "            for ithRow in range(no_of_row):\n",
    "                \n",
    "                y_hat = np.dot(self.coef , X_train[ithRow]) + self.intercept\n",
    "                \n",
    "                # 2. Calculate Gradient\n",
    "                dL_by_dB0 = -2 * (y_train[ithRow] - y_hat)\n",
    "                dL_by_dB1 = -2 * np.dot((y_train[ithRow] - y_hat), X_train[ithRow])\n",
    "                \n",
    "                # 3. Update Intercept and Coef\n",
    "                self.intercept -= (self.learning_rate * dL_by_dB0)\n",
    "                self.coef -= (self.learning_rate * dL_by_dB1)\n",
    "                \n",
    "    def preditct(self,y_train):\n",
    "        return np.dot(y_train, self.coef) + self.intercept"
   ],
   "id": "53062c3ae003158b",
   "outputs": [],
   "execution_count": 6
  },
  {
   "metadata": {
    "ExecuteTime": {
     "end_time": "2025-05-04T07:01:44.954039Z",
     "start_time": "2025-05-04T07:01:44.949691Z"
    }
   },
   "cell_type": "code",
   "source": "sgd = StochasticGradientDescent(learning_rate=0.01,epochs=100)",
   "id": "cc57cf563c541a48",
   "outputs": [],
   "execution_count": 7
  },
  {
   "metadata": {
    "ExecuteTime": {
     "end_time": "2025-05-04T07:01:45.130163Z",
     "start_time": "2025-05-04T07:01:44.956567Z"
    }
   },
   "cell_type": "code",
   "source": "sgd.fit(X_train, y_train)",
   "id": "14bfab641740e7a8",
   "outputs": [],
   "execution_count": 8
  },
  {
   "metadata": {
    "ExecuteTime": {
     "end_time": "2025-05-04T07:02:11.494522Z",
     "start_time": "2025-05-04T07:02:11.490547Z"
    }
   },
   "cell_type": "code",
   "source": [
    "y_pred = sgd.preditct(X_test)\n",
    "y_pred"
   ],
   "id": "cbd1e253b0e9bb45",
   "outputs": [
    {
     "data": {
      "text/plain": [
       "array([157.42131344, 200.6228484 , 135.36459276, 109.75251978,\n",
       "       263.72325589, 252.29690527, 115.29418752, 119.04111068,\n",
       "        99.26138155, 190.83365266, 153.70953558, 177.05531317,\n",
       "       185.1121757 , 144.27800613, 285.38228228,  92.4159353 ,\n",
       "       200.90274921, 150.40791891, 138.44382717, 136.47481423,\n",
       "       147.67783159, 180.62075955, 159.47343484, 179.79961109,\n",
       "       131.59504185, 225.32755726, 203.77716498, 111.14214088,\n",
       "        60.16402305, 243.14123073, 245.52864957, 118.78455251,\n",
       "        72.96744045, 103.8034718 , 207.11551716, 168.22981617,\n",
       "       167.44594125, 197.3666809 , 117.8810594 , 242.19883715,\n",
       "       143.71602638, 126.5973731 , 190.22807147, 190.63495831,\n",
       "       177.93522013, 147.27043479, 175.21759006, 297.51259437,\n",
       "       113.23443195, 179.30787804, 254.3421932 , 142.75766014,\n",
       "       153.43625368, 135.29054599, 195.57613871, 104.27933838,\n",
       "       141.51012971,  82.90844603, 163.1284834 , 156.13165397,\n",
       "       167.78713846, 168.27229661, 108.90154726, 225.62104659,\n",
       "       153.40996569, 142.05820407, 161.91867922, 194.96210308,\n",
       "       127.11987716, 135.67258962, 217.76044523, 200.22666841,\n",
       "       126.03337395, 157.58245939, 148.81568744, 116.20465542,\n",
       "        85.62123338,  84.42161435, 173.72248228,  86.9824972 ,\n",
       "       101.53630607, 105.04995383, 178.67824499, 274.90740461,\n",
       "       208.89354549, 148.34740089, 277.99993903, 201.76148616,\n",
       "       107.2444193 ])"
      ]
     },
     "execution_count": 9,
     "metadata": {},
     "output_type": "execute_result"
    }
   ],
   "execution_count": 9
  },
  {
   "metadata": {
    "ExecuteTime": {
     "end_time": "2025-05-04T07:02:38.261370Z",
     "start_time": "2025-05-04T07:02:38.243991Z"
    }
   },
   "cell_type": "code",
   "source": [
    "from sklearn.metrics import r2_score\n",
    "r2_score(y_test, y_pred)"
   ],
   "id": "f4bfeeeafd03ad97",
   "outputs": [
    {
     "data": {
      "text/plain": [
       "0.4505235983992866"
      ]
     },
     "execution_count": 10,
     "metadata": {},
     "output_type": "execute_result"
    }
   ],
   "execution_count": 10
  },
  {
   "metadata": {},
   "cell_type": "code",
   "outputs": [],
   "execution_count": null,
   "source": "",
   "id": "a7ee0a87115e8fef"
  }
 ],
 "metadata": {
  "kernelspec": {
   "display_name": "Python 3",
   "language": "python",
   "name": "python3"
  },
  "language_info": {
   "codemirror_mode": {
    "name": "ipython",
    "version": 2
   },
   "file_extension": ".py",
   "mimetype": "text/x-python",
   "name": "python",
   "nbconvert_exporter": "python",
   "pygments_lexer": "ipython2",
   "version": "2.7.6"
  }
 },
 "nbformat": 4,
 "nbformat_minor": 5
}
